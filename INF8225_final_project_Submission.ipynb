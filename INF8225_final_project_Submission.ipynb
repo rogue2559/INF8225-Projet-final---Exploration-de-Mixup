{
  "nbformat": 4,
  "nbformat_minor": 0,
  "metadata": {
    "colab": {
      "name": "INF8225_final_project_Submission.ipynb",
      "provenance": [],
      "collapsed_sections": [
        "90TlTR29eHFa",
        "9VxHWKabDALV",
        "HKIO19Y0eOSf",
        "hmeMs-r-eQrN",
        "5lN5sPLnCFVk",
        "k9NvYOPw6jEh",
        "agO68aqUQm3G",
        "i_cFVxgUYj48",
        "ClEGJWIIUn6y",
        "T6D09PuQBXQB",
        "5fGKRUncB_iC",
        "j0i9Sc5kxaIn",
        "RJSw0_GzxpJJ",
        "suE3_Do6xpy3",
        "u-yrYjLWagkw",
        "skUyoTqsbaFy",
        "d-sZns7s-V7j",
        "Yr0pSmonwUyK",
        "lanl5P_swfns"
      ],
      "machine_shape": "hm",
      "toc_visible": true
    },
    "kernelspec": {
      "name": "python3",
      "display_name": "Python 3"
    },
    "language_info": {
      "name": "python"
    },
    "accelerator": "GPU",
    "widgets": {
      "application/vnd.jupyter.widget-state+json": {
        "97db05c0f79546d791c82842e069c04d": {
          "model_module": "@jupyter-widgets/controls",
          "model_name": "VBoxModel",
          "model_module_version": "1.5.0",
          "state": {
            "_dom_classes": [],
            "_model_module": "@jupyter-widgets/controls",
            "_model_module_version": "1.5.0",
            "_model_name": "VBoxModel",
            "_view_count": null,
            "_view_module": "@jupyter-widgets/controls",
            "_view_module_version": "1.5.0",
            "_view_name": "VBoxView",
            "box_style": "",
            "children": [
              "IPY_MODEL_521e91d2c2934eadb78c08dde3547a65",
              "IPY_MODEL_b28e3371c49e4233959d8dc14dcf57b0"
            ],
            "layout": "IPY_MODEL_0f1ef268debd4084a9e36588c4278c17"
          }
        },
        "521e91d2c2934eadb78c08dde3547a65": {
          "model_module": "@jupyter-widgets/controls",
          "model_name": "LabelModel",
          "model_module_version": "1.5.0",
          "state": {
            "_dom_classes": [],
            "_model_module": "@jupyter-widgets/controls",
            "_model_module_version": "1.5.0",
            "_model_name": "LabelModel",
            "_view_count": null,
            "_view_module": "@jupyter-widgets/controls",
            "_view_module_version": "1.5.0",
            "_view_name": "LabelView",
            "description": "",
            "description_tooltip": null,
            "layout": "IPY_MODEL_a15baede4a2b4bfdbfa62d882a34cc7a",
            "placeholder": "​",
            "style": "IPY_MODEL_705cad22e1c2457fa9cb8ba012af8060",
            "value": "0.009 MB of 0.009 MB uploaded (0.000 MB deduped)\r"
          }
        },
        "b28e3371c49e4233959d8dc14dcf57b0": {
          "model_module": "@jupyter-widgets/controls",
          "model_name": "FloatProgressModel",
          "model_module_version": "1.5.0",
          "state": {
            "_dom_classes": [],
            "_model_module": "@jupyter-widgets/controls",
            "_model_module_version": "1.5.0",
            "_model_name": "FloatProgressModel",
            "_view_count": null,
            "_view_module": "@jupyter-widgets/controls",
            "_view_module_version": "1.5.0",
            "_view_name": "ProgressView",
            "bar_style": "",
            "description": "",
            "description_tooltip": null,
            "layout": "IPY_MODEL_f5025d0ab6464f46bab3081be8949f42",
            "max": 1,
            "min": 0,
            "orientation": "horizontal",
            "style": "IPY_MODEL_99f003a033574534b943d1c00a0ab07e",
            "value": 1
          }
        },
        "0f1ef268debd4084a9e36588c4278c17": {
          "model_module": "@jupyter-widgets/base",
          "model_name": "LayoutModel",
          "model_module_version": "1.2.0",
          "state": {
            "_model_module": "@jupyter-widgets/base",
            "_model_module_version": "1.2.0",
            "_model_name": "LayoutModel",
            "_view_count": null,
            "_view_module": "@jupyter-widgets/base",
            "_view_module_version": "1.2.0",
            "_view_name": "LayoutView",
            "align_content": null,
            "align_items": null,
            "align_self": null,
            "border": null,
            "bottom": null,
            "display": null,
            "flex": null,
            "flex_flow": null,
            "grid_area": null,
            "grid_auto_columns": null,
            "grid_auto_flow": null,
            "grid_auto_rows": null,
            "grid_column": null,
            "grid_gap": null,
            "grid_row": null,
            "grid_template_areas": null,
            "grid_template_columns": null,
            "grid_template_rows": null,
            "height": null,
            "justify_content": null,
            "justify_items": null,
            "left": null,
            "margin": null,
            "max_height": null,
            "max_width": null,
            "min_height": null,
            "min_width": null,
            "object_fit": null,
            "object_position": null,
            "order": null,
            "overflow": null,
            "overflow_x": null,
            "overflow_y": null,
            "padding": null,
            "right": null,
            "top": null,
            "visibility": null,
            "width": null
          }
        },
        "a15baede4a2b4bfdbfa62d882a34cc7a": {
          "model_module": "@jupyter-widgets/base",
          "model_name": "LayoutModel",
          "model_module_version": "1.2.0",
          "state": {
            "_model_module": "@jupyter-widgets/base",
            "_model_module_version": "1.2.0",
            "_model_name": "LayoutModel",
            "_view_count": null,
            "_view_module": "@jupyter-widgets/base",
            "_view_module_version": "1.2.0",
            "_view_name": "LayoutView",
            "align_content": null,
            "align_items": null,
            "align_self": null,
            "border": null,
            "bottom": null,
            "display": null,
            "flex": null,
            "flex_flow": null,
            "grid_area": null,
            "grid_auto_columns": null,
            "grid_auto_flow": null,
            "grid_auto_rows": null,
            "grid_column": null,
            "grid_gap": null,
            "grid_row": null,
            "grid_template_areas": null,
            "grid_template_columns": null,
            "grid_template_rows": null,
            "height": null,
            "justify_content": null,
            "justify_items": null,
            "left": null,
            "margin": null,
            "max_height": null,
            "max_width": null,
            "min_height": null,
            "min_width": null,
            "object_fit": null,
            "object_position": null,
            "order": null,
            "overflow": null,
            "overflow_x": null,
            "overflow_y": null,
            "padding": null,
            "right": null,
            "top": null,
            "visibility": null,
            "width": null
          }
        },
        "705cad22e1c2457fa9cb8ba012af8060": {
          "model_module": "@jupyter-widgets/controls",
          "model_name": "DescriptionStyleModel",
          "model_module_version": "1.5.0",
          "state": {
            "_model_module": "@jupyter-widgets/controls",
            "_model_module_version": "1.5.0",
            "_model_name": "DescriptionStyleModel",
            "_view_count": null,
            "_view_module": "@jupyter-widgets/base",
            "_view_module_version": "1.2.0",
            "_view_name": "StyleView",
            "description_width": ""
          }
        },
        "f5025d0ab6464f46bab3081be8949f42": {
          "model_module": "@jupyter-widgets/base",
          "model_name": "LayoutModel",
          "model_module_version": "1.2.0",
          "state": {
            "_model_module": "@jupyter-widgets/base",
            "_model_module_version": "1.2.0",
            "_model_name": "LayoutModel",
            "_view_count": null,
            "_view_module": "@jupyter-widgets/base",
            "_view_module_version": "1.2.0",
            "_view_name": "LayoutView",
            "align_content": null,
            "align_items": null,
            "align_self": null,
            "border": null,
            "bottom": null,
            "display": null,
            "flex": null,
            "flex_flow": null,
            "grid_area": null,
            "grid_auto_columns": null,
            "grid_auto_flow": null,
            "grid_auto_rows": null,
            "grid_column": null,
            "grid_gap": null,
            "grid_row": null,
            "grid_template_areas": null,
            "grid_template_columns": null,
            "grid_template_rows": null,
            "height": null,
            "justify_content": null,
            "justify_items": null,
            "left": null,
            "margin": null,
            "max_height": null,
            "max_width": null,
            "min_height": null,
            "min_width": null,
            "object_fit": null,
            "object_position": null,
            "order": null,
            "overflow": null,
            "overflow_x": null,
            "overflow_y": null,
            "padding": null,
            "right": null,
            "top": null,
            "visibility": null,
            "width": null
          }
        },
        "99f003a033574534b943d1c00a0ab07e": {
          "model_module": "@jupyter-widgets/controls",
          "model_name": "ProgressStyleModel",
          "model_module_version": "1.5.0",
          "state": {
            "_model_module": "@jupyter-widgets/controls",
            "_model_module_version": "1.5.0",
            "_model_name": "ProgressStyleModel",
            "_view_count": null,
            "_view_module": "@jupyter-widgets/base",
            "_view_module_version": "1.2.0",
            "_view_name": "StyleView",
            "bar_color": null,
            "description_width": ""
          }
        }
      }
    }
  },
  "cells": [
    {
      "cell_type": "markdown",
      "source": [
        "# Preparation"
      ],
      "metadata": {
        "id": "90TlTR29eHFa"
      }
    },
    {
      "cell_type": "markdown",
      "source": [
        "## Import of libraries"
      ],
      "metadata": {
        "id": "9VxHWKabDALV"
      }
    },
    {
      "cell_type": "code",
      "execution_count": 32,
      "metadata": {
        "id": "ktIrfXG57Yqb"
      },
      "outputs": [],
      "source": [
        "!pip install torchinfo > /dev/null\n",
        "!pip install wandb > /dev/null\n",
        "\n",
        "import torch\n",
        "import torch.nn as nn\n",
        "import torch.optim as optim\n",
        "from torch import Tensor\n",
        "from torch.nn import functional as F\n",
        "from torch.optim.lr_scheduler import CosineAnnealingLR, StepLR\n",
        "import torch.utils.checkpoint as cp\n",
        "from torch.utils.data import DataLoader\n",
        "from torch.jit.annotations import List\n",
        "\n",
        "import torchvision\n",
        "from torchvision import datasets, models, transforms\n",
        "from torchvision.transforms import ToTensor, Normalize\n",
        "from torchvision.transforms import Resize\n",
        "from torchvision.transforms.functional_pil import resize\n",
        "from torchvision.transforms import Grayscale\n",
        "from torchvision.models.resnet import ResNet, BasicBlock\n",
        "from torchvision.models.densenet import DenseNet\n",
        "\n",
        "import math\n",
        "import time\n",
        "import os\n",
        "import copy\n",
        "import re\n",
        "\n",
        "import matplotlib.pyplot as plt\n",
        "import numpy as np\n",
        "from collections import OrderedDict\n",
        "\n",
        "from tqdm import tqdm\n",
        "\n",
        "from torchinfo import summary\n",
        "import wandb\n",
        "\n",
        "from PIL import Image, ImageOps, ImageEnhance"
      ]
    },
    {
      "cell_type": "markdown",
      "source": [
        "## Device check"
      ],
      "metadata": {
        "id": "HKIO19Y0eOSf"
      }
    },
    {
      "cell_type": "code",
      "source": [
        "# Detect if we have a GPU available\n",
        "!nvidia-smi"
      ],
      "metadata": {
        "colab": {
          "base_uri": "https://localhost:8080/"
        },
        "id": "oR0GdL05V1oK",
        "outputId": "568b19bb-9049-4256-9afd-3c784a5e3833"
      },
      "execution_count": 33,
      "outputs": [
        {
          "output_type": "stream",
          "name": "stdout",
          "text": [
            "Sat Apr 30 23:18:57 2022       \n",
            "+-----------------------------------------------------------------------------+\n",
            "| NVIDIA-SMI 460.32.03    Driver Version: 460.32.03    CUDA Version: 11.2     |\n",
            "|-------------------------------+----------------------+----------------------+\n",
            "| GPU  Name        Persistence-M| Bus-Id        Disp.A | Volatile Uncorr. ECC |\n",
            "| Fan  Temp  Perf  Pwr:Usage/Cap|         Memory-Usage | GPU-Util  Compute M. |\n",
            "|                               |                      |               MIG M. |\n",
            "|===============================+======================+======================|\n",
            "|   0  Tesla P100-PCIE...  Off  | 00000000:00:04.0 Off |                    0 |\n",
            "| N/A   36C    P0    32W / 250W |   1775MiB / 16280MiB |      0%      Default |\n",
            "|                               |                      |                  N/A |\n",
            "+-------------------------------+----------------------+----------------------+\n",
            "                                                                               \n",
            "+-----------------------------------------------------------------------------+\n",
            "| Processes:                                                                  |\n",
            "|  GPU   GI   CI        PID   Type   Process name                  GPU Memory |\n",
            "|        ID   ID                                                   Usage      |\n",
            "|=============================================================================|\n",
            "+-----------------------------------------------------------------------------+\n"
          ]
        }
      ]
    },
    {
      "cell_type": "markdown",
      "source": [
        "## Drive"
      ],
      "metadata": {
        "id": "hmeMs-r-eQrN"
      }
    },
    {
      "cell_type": "code",
      "source": [
        "from google.colab import drive\n",
        "drive.mount('/content/gdrive')\n",
        "'''\n",
        "Update the FILE PATH before running the code!!!!!!!!!!!!!!!!!!!!!!!!!!!\n",
        "'''\n",
        "\n",
        "PATH_data = \"/content/gdrive/MyDrive/INF8225/Projet_final/Dataset//\"\n",
        "PATH_model_baseline = \"/content/gdrive/MyDrive/INF8225/Projet_final/Model/Baseline//\"\n",
        "PATH_model_MixUp = \"/content/gdrive/MyDrive/INF8225/Projet_final/Model/MixUp//\"\n",
        "PATH_model_ManifoldMixUp = \"/content/gdrive/MyDrive/INF8225/Projet_final/Model/ManifoldMixUp//\"\n",
        "PATH_model_CutMix = \"/content/gdrive/MyDrive/INF8225/Projet_final/Model/CutMix//\"\n",
        "PATH_model_AugMix = \"/content/gdrive/MyDrive/INF8225/Projet_final/Model/AugMix//\""
      ],
      "metadata": {
        "colab": {
          "base_uri": "https://localhost:8080/"
        },
        "id": "PT6qrUyi0JMV",
        "outputId": "11d21cbc-697a-457d-d62b-38f1cb8fb8de"
      },
      "execution_count": 34,
      "outputs": [
        {
          "output_type": "stream",
          "name": "stdout",
          "text": [
            "Drive already mounted at /content/gdrive; to attempt to forcibly remount, call drive.mount(\"/content/gdrive\", force_remount=True).\n"
          ]
        }
      ]
    },
    {
      "cell_type": "markdown",
      "source": [
        "## Wandb login"
      ],
      "metadata": {
        "id": "HWxxKibq7ejl"
      }
    },
    {
      "cell_type": "code",
      "source": [
        "# Checking GPU and logging to wandb\n",
        "!wandb login"
      ],
      "metadata": {
        "colab": {
          "base_uri": "https://localhost:8080/"
        },
        "id": "PIbnqk8HYcD8",
        "outputId": "8b3a4fd7-e545-4c14-dcc5-ea57531c31f5"
      },
      "execution_count": 35,
      "outputs": [
        {
          "output_type": "stream",
          "name": "stdout",
          "text": [
            "\u001b[34m\u001b[1mwandb\u001b[0m: Currently logged in as: \u001b[33minf8225_ym_at\u001b[0m (use `wandb login --relogin` to force relogin)\n"
          ]
        }
      ]
    },
    {
      "cell_type": "markdown",
      "source": [
        "## Fix seeds"
      ],
      "metadata": {
        "id": "kX1iVzr30hDo"
      }
    },
    {
      "cell_type": "code",
      "source": [
        "seed = 1\n",
        "torch.manual_seed(seed)\n",
        "torch.cuda.manual_seed_all(seed)\n",
        "torch.backends.cudnn.deterministic = True\n",
        "torch.backends.cudnn.benchmark = False"
      ],
      "metadata": {
        "id": "AcERXFlh0jLW"
      },
      "execution_count": 36,
      "outputs": []
    },
    {
      "cell_type": "markdown",
      "source": [
        "# Data visualization"
      ],
      "metadata": {
        "id": "5lN5sPLnCFVk"
      }
    },
    {
      "cell_type": "code",
      "source": [
        "# DataSet\n",
        "# mnist\n",
        "mnist_trainset = datasets.MNIST(root='./data/MNIST', train=True, download=True, transform=ToTensor())\n",
        "mnist_testset = datasets.MNIST(root='./data/MNIST', train=False, download=True, transform=ToTensor())\n",
        "\n",
        "# CIFAR-10\n",
        "CIFAR10_trainset = datasets.CIFAR10(root='./data/CIFAR', train=True, download=True, transform=ToTensor())\n",
        "CIFAR10_testset = datasets.CIFAR10(root='./data/CIFAR', train=False, download=True, transform=ToTensor())\n",
        "\n",
        "# CIFAR-100\n",
        "CIFAR100_trainset = datasets.CIFAR100(root='./data/CIFAR', train=True, download=True, transform=ToTensor())\n",
        "CIFAR100_testset = datasets.CIFAR100(root='./data/CIFAR', train=False, download=True, transform=ToTensor())\n",
        "\n",
        "print('MNIST:     train - ' + str(len(mnist_trainset)) + ' test - '+ str(len(mnist_testset)))\n",
        "print('CIFAR-10:  train - ' + str(len(CIFAR10_trainset)) + ' test - '+ str(len(CIFAR10_testset)))\n",
        "print('CIFAR-100: train - ' + str(len(CIFAR100_trainset)) + ' test - '+ str(len(CIFAR100_testset)))"
      ],
      "metadata": {
        "id": "ILO4g8hur-IP",
        "colab": {
          "base_uri": "https://localhost:8080/"
        },
        "outputId": "2ce398b8-2ba0-4e9f-886a-b53230b08834"
      },
      "execution_count": 37,
      "outputs": [
        {
          "output_type": "stream",
          "name": "stdout",
          "text": [
            "Files already downloaded and verified\n",
            "Files already downloaded and verified\n",
            "Files already downloaded and verified\n",
            "Files already downloaded and verified\n",
            "MNIST:     train - 60000 test - 10000\n",
            "CIFAR-10:  train - 50000 test - 10000\n",
            "CIFAR-100: train - 50000 test - 10000\n"
          ]
        }
      ]
    },
    {
      "cell_type": "code",
      "source": [
        "def imshow(dataset):\n",
        "  print(\"size: \" + str(dataset[0][0].shape))\n",
        "  plt.figure()\n",
        "  f,axs = plt.subplots(1,10,figsize=(25,25))\n",
        "  if dataset in [mnist_trainset,mnist_testset]:\n",
        "    for i in range(10):\n",
        "      axs[i].imshow(dataset[i][0][0],cmap = 'gray')\n",
        "      axs[i].set_title(\"label: \" + str(dataset[i][1]))\n",
        "  else:\n",
        "    for i in range(10):\n",
        "      axs[i].imshow((np.transpose(dataset[i][0],(1,2,0))))\n",
        "      axs[i].set_title(\"label: \" + str(dataset[i][1]))\n",
        "  plt.setp([a.get_xticklabels() for a in axs[:]], visible=False) # hide x ticks\n",
        "  plt.setp([a.get_yticklabels() for a in axs[:]], visible=False) # hide y ticks\n",
        "  plt.show()\n",
        "  \n",
        "\n",
        "imshow(mnist_trainset)\n",
        "imshow(CIFAR10_trainset)\n",
        "imshow(CIFAR100_trainset)"
      ],
      "metadata": {
        "colab": {
          "base_uri": "https://localhost:8080/",
          "height": 0
        },
        "id": "wcgLSAHrKj-u",
        "outputId": "9fc2947e-b1fb-48f5-a533-68d19faef378"
      },
      "execution_count": 38,
      "outputs": [
        {
          "output_type": "stream",
          "name": "stdout",
          "text": [
            "size: torch.Size([1, 28, 28])\n"
          ]
        },
        {
          "output_type": "display_data",
          "data": {
            "text/plain": [
              "<Figure size 432x288 with 0 Axes>"
            ]
          },
          "metadata": {}
        },
        {
          "output_type": "display_data",
          "data": {
            "text/plain": [
              "<Figure size 1800x1800 with 10 Axes>"
            ],
            "image/png": "[encoded data removed]"
          },
          "metadata": {}
        },
        {
          "output_type": "stream",
          "name": "stdout",
          "text": [
            "size: torch.Size([3, 32, 32])\n"
          ]
        },
        {
          "output_type": "display_data",
          "data": {
            "text/plain": [
              "<Figure size 432x288 with 0 Axes>"
            ]
          },
          "metadata": {}
        },
        {
          "output_type": "display_data",
          "data": {
            "text/plain": [
              "<Figure size 1800x1800 with 10 Axes>"
            ],
            "image/png": "[encoded data removed]"
          },
          "metadata": {}
        },
        {
          "output_type": "stream",
          "name": "stdout",
          "text": [
            "size: torch.Size([3, 32, 32])\n"
          ]
        },
        {
          "output_type": "display_data",
          "data": {
            "text/plain": [
              "<Figure size 432x288 with 0 Axes>"
            ]
          },
          "metadata": {}
        },
        {
          "output_type": "display_data",
          "data": {
            "text/plain": [
              "<Figure size 1800x1800 with 10 Axes>"
            ],
            "image/png": "[encoded data removed]"
          },
          "metadata": {}
        }
      ]
    },
    {
      "cell_type": "markdown",
      "source": [
        "# Normalization : Compute mean & std"
      ],
      "metadata": {
        "id": "k9NvYOPw6jEh"
      }
    },
    {
      "cell_type": "code",
      "source": [
        "# # DataLoader\n",
        "# batch_size = 1\n",
        "\n",
        "# mnist_trainloader = DataLoader(mnist_trainset, batch_size=batch_size, shuffle=True)\n",
        "# mnist_testloader = DataLoader(mnist_testset, batch_size=batch_size)\n",
        "# CIFAR10_trainloader = DataLoader(CIFAR10_trainset, batch_size=batch_size, shuffle=True)\n",
        "# CIFAR10_testloader = DataLoader(CIFAR10_testset, batch_size=batch_size)\n",
        "# CIFAR100_trainloader = DataLoader(CIFAR100_trainset, batch_size=batch_size, shuffle=True)\n",
        "# CIFAR100_testloader = DataLoader(CIFAR100_testset, batch_size=batch_size)"
      ],
      "metadata": {
        "id": "cs8YpDA3B-1C"
      },
      "execution_count": 39,
      "outputs": []
    },
    {
      "cell_type": "code",
      "source": [
        "# # Normalization: Compute mean & std\n",
        "# mean = torch.zeros(1)\n",
        "# std = torch.zeros(1)\n",
        "# print('==> Computing mean and std for mnist..')\n",
        "# for inputs, _labels in tqdm(mnist_trainloader):\n",
        "#     for i in range(1):\n",
        "#         mean[i] += inputs[:,i,:,:].mean()\n",
        "#         std[i] += inputs[:,i,:,:].std()\n",
        "# mean.div_(len(mnist_trainset))\n",
        "# std.div_(len(mnist_trainset))\n",
        "# print('/n')\n",
        "# print(mean, std)\n",
        "\n",
        "# # MNIST mean: 0.1307, std: 0.3015\n",
        "# mean = torch.zeros(3)\n",
        "# std = torch.zeros(3)\n",
        "# print('==> Computing mean and std for CIFAR-10..')\n",
        "# for inputs, _labels in tqdm(CIFAR10_trainloader):\n",
        "#     for i in range(3):\n",
        "#         mean[i] += inputs[:,i,:,:].mean()\n",
        "#         std[i] += inputs[:,i,:,:].std()\n",
        "# mean.div_(len(CIFAR10_trainset))\n",
        "# std.div_(len(CIFAR10_trainset))\n",
        "# print('/n')\n",
        "# print(mean, std)\n",
        "\n",
        "# # CIFAR-10 mean: ([0.4914, 0.4822, 0.4465]) std: ([0.2023, 0.1994, 0.2010])\n",
        "# mean = torch.zeros(3)\n",
        "# std = torch.zeros(3)\n",
        "# print('==> Computing mean and std for CIFAR-100..')\n",
        "# for inputs, _labels in tqdm(CIFAR100_trainloader):\n",
        "#     for i in range(3):\n",
        "#         mean[i] += inputs[:,i,:,:].mean()\n",
        "#         std[i] += inputs[:,i,:,:].std()\n",
        "# mean.div_(len(CIFAR100_trainset))\n",
        "# std.div_(len(CIFAR100_trainset))\n",
        "# print('/n')\n",
        "# print(mean, std)"
      ],
      "metadata": {
        "id": "L1D1pBAiIe-o"
      },
      "execution_count": 40,
      "outputs": []
    },
    {
      "cell_type": "markdown",
      "source": [
        "# ResNet18"
      ],
      "metadata": {
        "id": "agO68aqUQm3G"
      }
    },
    {
      "cell_type": "code",
      "source": [
        "class BasicBlock(nn.Module):\n",
        "    expansion = 1\n",
        "\n",
        "    def __init__(self, in_planes, planes, stride=1):\n",
        "        super(BasicBlock, self).__init__()\n",
        "        self.conv1 = nn.Conv2d(\n",
        "            in_planes, planes, kernel_size=3, stride=stride, padding=1, bias=False)\n",
        "        self.bn1 = nn.BatchNorm2d(planes)\n",
        "        self.conv2 = nn.Conv2d(planes, planes, kernel_size=3,\n",
        "                               stride=1, padding=1, bias=False)\n",
        "        self.bn2 = nn.BatchNorm2d(planes)\n",
        "\n",
        "        self.shortcut = nn.Sequential()\n",
        "        if stride != 1 or in_planes != self.expansion*planes:\n",
        "            self.shortcut = nn.Sequential(\n",
        "                nn.Conv2d(in_planes, self.expansion*planes,\n",
        "                          kernel_size=1, stride=stride, bias=False),\n",
        "                nn.BatchNorm2d(self.expansion*planes)\n",
        "            )\n",
        "\n",
        "    def forward(self, x):\n",
        "        out = F.relu(self.bn1(self.conv1(x)))\n",
        "        out = self.bn2(self.conv2(out))\n",
        "        out += self.shortcut(x)\n",
        "        out = F.relu(out)\n",
        "        return out\n",
        "\n",
        "\n",
        "class Bottleneck(nn.Module):\n",
        "    expansion = 4\n",
        "\n",
        "    def __init__(self, in_planes, planes, stride=1):\n",
        "        super(Bottleneck, self).__init__()\n",
        "        self.conv1 = nn.Conv2d(in_planes, planes, kernel_size=1, bias=False)\n",
        "        self.bn1 = nn.BatchNorm2d(planes)\n",
        "        self.conv2 = nn.Conv2d(planes, planes, kernel_size=3,\n",
        "                               stride=stride, padding=1, bias=False)\n",
        "        self.bn2 = nn.BatchNorm2d(planes)\n",
        "        self.conv3 = nn.Conv2d(planes, self.expansion *\n",
        "                               planes, kernel_size=1, bias=False)\n",
        "        self.bn3 = nn.BatchNorm2d(self.expansion*planes)\n",
        "\n",
        "        self.shortcut = nn.Sequential()\n",
        "        if stride != 1 or in_planes != self.expansion*planes:\n",
        "            self.shortcut = nn.Sequential(\n",
        "                nn.Conv2d(in_planes, self.expansion*planes,\n",
        "                          kernel_size=1, stride=stride, bias=False),\n",
        "                nn.BatchNorm2d(self.expansion*planes)\n",
        "            )\n",
        "\n",
        "    def forward(self, x):\n",
        "        out = F.relu(self.bn1(self.conv1(x)))\n",
        "        out = F.relu(self.bn2(self.conv2(out)))\n",
        "        out = self.bn3(self.conv3(out))\n",
        "        out += self.shortcut(x)\n",
        "        out = F.relu(out)\n",
        "        return out\n",
        "\n",
        "\n",
        "class ResNet(nn.Module):\n",
        "    def __init__(self, block, num_blocks, num_classes=10):\n",
        "        super(ResNet, self).__init__()\n",
        "        self.in_planes = 64\n",
        "\n",
        "        self.conv1 = nn.Conv2d(3, 64, kernel_size=3,\n",
        "                               stride=1, padding=1, bias=False)\n",
        "        self.bn1 = nn.BatchNorm2d(64)\n",
        "        self.layer1 = self._make_layer(block, 64, num_blocks[0], stride=1)\n",
        "        self.layer2 = self._make_layer(block, 128, num_blocks[1], stride=2)\n",
        "        self.layer3 = self._make_layer(block, 256, num_blocks[2], stride=2)\n",
        "        self.layer4 = self._make_layer(block, 512, num_blocks[3], stride=2)\n",
        "        self.num_classes = num_classes\n",
        "        self.linear = nn.Linear(512*block.expansion, self.num_classes)\n",
        "\n",
        "    def _make_layer(self, block, planes, num_blocks, stride):\n",
        "        strides = [stride] + [1]*(num_blocks-1)\n",
        "        layers = []\n",
        "        for stride in strides:\n",
        "            layers.append(block(self.in_planes, planes, stride))\n",
        "            self.in_planes = planes * block.expansion\n",
        "        return nn.Sequential(*layers)\n",
        "\n",
        "    def forward(self, x):\n",
        "        out = F.relu(self.bn1(self.conv1(x)))\n",
        "        out = self.layer1(out)\n",
        "        out = self.layer2(out)\n",
        "        out = self.layer3(out)\n",
        "        out = self.layer4(out)\n",
        "        out = F.avg_pool2d(out, 4)\n",
        "        out = out.view(out.size(0), -1)\n",
        "        out = self.linear(out)\n",
        "        return out\n",
        "\n",
        "\n",
        "def ResNet18(num_classes):\n",
        "    return ResNet(BasicBlock, [2, 2, 2, 2], num_classes)"
      ],
      "metadata": {
        "id": "CqeZuCD-QsfJ"
      },
      "execution_count": 41,
      "outputs": []
    },
    {
      "cell_type": "markdown",
      "source": [
        "# DenseNet121"
      ],
      "metadata": {
        "id": "i_cFVxgUYj48"
      }
    },
    {
      "cell_type": "code",
      "source": [
        "'''DenseNet in PyTorch.'''\n",
        "\n",
        "class Bottleneck(nn.Module):\n",
        "    def __init__(self, in_planes, growth_rate):\n",
        "        super(Bottleneck, self).__init__()\n",
        "        self.bn1 = nn.BatchNorm2d(in_planes)\n",
        "        self.conv1 = nn.Conv2d(in_planes, 4*growth_rate, kernel_size=1, bias=False)\n",
        "        self.bn2 = nn.BatchNorm2d(4*growth_rate)\n",
        "        self.conv2 = nn.Conv2d(4*growth_rate, growth_rate, kernel_size=3, padding=1, bias=False)\n",
        "\n",
        "    def forward(self, x):\n",
        "        out = self.conv1(F.relu(self.bn1(x)))\n",
        "        out = self.conv2(F.relu(self.bn2(out)))\n",
        "        out = torch.cat([out,x], 1)\n",
        "        return out\n",
        "\n",
        "\n",
        "class Transition(nn.Module):\n",
        "    def __init__(self, in_planes, out_planes):\n",
        "        super(Transition, self).__init__()\n",
        "        self.bn = nn.BatchNorm2d(in_planes)\n",
        "        self.conv = nn.Conv2d(in_planes, out_planes, kernel_size=1, bias=False)\n",
        "\n",
        "    def forward(self, x):\n",
        "        out = self.conv(F.relu(self.bn(x)))\n",
        "        out = F.avg_pool2d(out, 2)\n",
        "        return out\n",
        "\n",
        "\n",
        "class DenseNet(nn.Module):\n",
        "    def __init__(self, block, nblocks, growth_rate=12, reduction=0.5, num_classes=10):\n",
        "        super(DenseNet, self).__init__()\n",
        "        self.growth_rate = growth_rate\n",
        "        self.num_classes = num_classes\n",
        "\n",
        "        num_planes = 2*growth_rate\n",
        "        self.conv1 = nn.Conv2d(3, num_planes, kernel_size=3, padding=1, bias=False)\n",
        "\n",
        "        self.dense1 = self._make_dense_layers(block, num_planes, nblocks[0])\n",
        "        num_planes += nblocks[0]*growth_rate\n",
        "        out_planes = int(math.floor(num_planes*reduction))\n",
        "        self.trans1 = Transition(num_planes, out_planes)\n",
        "        num_planes = out_planes\n",
        "\n",
        "        self.dense2 = self._make_dense_layers(block, num_planes, nblocks[1])\n",
        "        num_planes += nblocks[1]*growth_rate\n",
        "        out_planes = int(math.floor(num_planes*reduction))\n",
        "        self.trans2 = Transition(num_planes, out_planes)\n",
        "        num_planes = out_planes\n",
        "\n",
        "        self.dense3 = self._make_dense_layers(block, num_planes, nblocks[2])\n",
        "        num_planes += nblocks[2]*growth_rate\n",
        "        out_planes = int(math.floor(num_planes*reduction))\n",
        "        self.trans3 = Transition(num_planes, out_planes)\n",
        "        num_planes = out_planes\n",
        "\n",
        "        self.dense4 = self._make_dense_layers(block, num_planes, nblocks[3])\n",
        "        num_planes += nblocks[3]*growth_rate\n",
        "\n",
        "        self.bn = nn.BatchNorm2d(num_planes)\n",
        "        self.linear = nn.Linear(num_planes, self.num_classes)\n",
        "\n",
        "    def _make_dense_layers(self, block, in_planes, nblock):\n",
        "        layers = []\n",
        "        for i in range(nblock):\n",
        "            layers.append(block(in_planes, self.growth_rate))\n",
        "            in_planes += self.growth_rate\n",
        "        return nn.Sequential(*layers)\n",
        "\n",
        "    def forward(self, x, lam = None, target = None, num_classes = None):\n",
        "\n",
        "        out = self.conv1(x)\n",
        "        out = self.trans1(self.dense1(out))\n",
        "\n",
        "        out = self.trans2(self.dense2(out))\n",
        "\n",
        "        out = self.trans3(self.dense3(out))\n",
        "\n",
        "        out = self.dense4(out)\n",
        "        out = F.avg_pool2d(F.relu(self.bn(out)), 4)\n",
        "        out = out.view(out.size(0), -1)\n",
        "        out = self.linear(out)\n",
        "\n",
        "        return out\n",
        "\n",
        "def DenseNet121(num_classes):\n",
        "    return DenseNet(Bottleneck, [6,12,24,16], growth_rate=32, num_classes = num_classes)"
      ],
      "metadata": {
        "id": "QR3Sc07nYmNg"
      },
      "execution_count": 42,
      "outputs": []
    },
    {
      "cell_type": "markdown",
      "source": [
        "# Basic parameters - Config"
      ],
      "metadata": {
        "id": "ClEGJWIIUn6y"
      }
    },
    {
      "cell_type": "code",
      "source": [
        "batch_size = 128\n",
        "epochs = 10000 #10000\n",
        "lr = 0.001\n",
        "\n",
        "config = {\n",
        "    'model_name' : 'resnet',\n",
        "    'dataset_name' : 'CIFAR10', # mnist CIFAR10 CIFAR100\n",
        "    'batch_size' : 128,\n",
        "    'lr': 1e-1,\n",
        "    'weight_decay': 1e-4,\n",
        "    'IMAGE_SIZE' : 32, # 28 or 32\n",
        "    'epochs' : 200, #10000\n",
        "    'num_classes' : 10, # mnist: 10, cifar-10: 10, cifar-100: 100\n",
        "    'feature_extract' : False,\n",
        "    # 'seed': 0,\n",
        "    'log_every': 50,\n",
        "    'mixup_alpha' : 1,\n",
        "    'augmentations': True,\n",
        "    'device': torch.device(\"cuda:0\" if torch.cuda.is_available() else \"cpu\"),\n",
        "    'DAmethod': 'Baseline' # Baseline MixUp ManifoldMixUp CutMix AugMix\n",
        "\n",
        "}\n",
        "\n",
        "device = config['device']"
      ],
      "metadata": {
        "id": "viy2dYuPUfwi"
      },
      "execution_count": 43,
      "outputs": []
    },
    {
      "cell_type": "markdown",
      "source": [
        "# Training process - Mixup, CutMix, AugMix"
      ],
      "metadata": {
        "id": "Ryql734ZWmP1"
      }
    },
    {
      "cell_type": "code",
      "source": [
        "def adjust_learning_rate(optimizer, epoch):\n",
        "    \"\"\"decrease the learning rate at 100 and 150 epoch\"\"\"\n",
        "    lr = config['lr']\n",
        "    if epoch >= 100:\n",
        "        lr /= 10\n",
        "    if epoch >= 150:\n",
        "        lr /= 10\n",
        "    for param_group in optimizer.param_groups:\n",
        "        param_group['lr'] = lr\n",
        "\n",
        "def train_model(model, trainloader, testloader, criterion, optimizer, scheduler, DAmethod, datasetname, num_epochs=25, jsd_loss = False):\n",
        "\n",
        "  if DAmethod == \"Baseline\":\n",
        "    savepath = PATH_model_baseline\n",
        "  elif DAmethod == \"MixUp\":\n",
        "    savepath = PATH_model_MixUp\n",
        "  elif DAmethod == \"ManifoldMixUp\":\n",
        "    savepath = PATH_model_ManifoldMixUp\n",
        "  elif DAmethod == \"CutMix\":\n",
        "    savepath = PATH_model_CutMix  \n",
        "  elif DAmethod == \"AugMix\":\n",
        "    savepath = PATH_model_AugMix\n",
        "\n",
        "  since = time.time()\n",
        "  val_acc_history = []\n",
        "\n",
        "  best_model_wts = copy.deepcopy(model.state_dict())\n",
        "  best_acc = 0.0\n",
        "\n",
        "  earlystopping = 0.\n",
        "  loss_ema = 0.\n",
        "\n",
        "  device = config['device']\n",
        "\n",
        "  for epoch in range(num_epochs):\n",
        "\n",
        "    if earlystopping < 2000:\n",
        "\n",
        "      print('Epoch {}/{}'.format(epoch+1, num_epochs))\n",
        "      print('-' * 10)\n",
        "      # Each epoch has a training and validation phase\n",
        "      for phase in ['train', 'valid']:\n",
        "        if phase == 'train':\n",
        "          model.train()  # Set model to training mode\n",
        "\n",
        "          running_loss = 0.0\n",
        "          running_corrects = 0\n",
        "\n",
        "          for batch_idx,(inputs, labels) in tqdm(enumerate(trainloader)): # for i, (inputs, labels) in enumerate(trainloader):\n",
        "            optimizer.zero_grad()\n",
        "\n",
        "            if jsd_loss:\n",
        "              inputs_all = torch.cat(inputs,0).to(device)\n",
        "              labels = labels.to(device)\n",
        "              outputs_all = model(inputs_all)\n",
        "              outputs_clean,outputs_aug1,outputs_aug2 = torch.split(\n",
        "                  outputs_all, inputs[0].size(0)\n",
        "              )\n",
        "              _, preds = torch.max(outputs_clean, 1)\n",
        "\n",
        "              loss = F.cross_entropy(outputs_clean,labels)\n",
        "\n",
        "              p_clean = F.softmax(outputs_clean,dim=1)\n",
        "              p_aug1 = F.softmax(outputs_aug1,dim=1)\n",
        "              p_aug2 = F.softmax(outputs_aug2,dim=1)\n",
        "\n",
        "              p_mixture = torch.clamp((p_clean+p_aug1+p_aug2)/3.,1e-7,1).log()\n",
        "\n",
        "              loss += 12 * (F.kl_div(p_mixture, p_clean, reduction = 'batchmean') +\n",
        "                       F.kl_div(p_mixture, p_aug1, reduction = 'batchmean') +\n",
        "                       F.kl_div(p_mixture, p_aug2, reduction = 'batchmean')) / 3.\n",
        "\n",
        "            elif DAmethod == 'MixUp':\n",
        "              inputs = inputs.to(device)\n",
        "              labels = labels.to(device) \n",
        "              inputs, labels, second_labels, lam = mixup(inputs, labels, config['mixup_alpha'])\n",
        "              outputs = model(inputs)\n",
        "              loss = mixup_criterion(criterion, outputs, labels, second_labels, lam)\n",
        "              _, preds = torch.max(outputs, 1)\n",
        "              \n",
        "            elif DAmethod == 'CutMix':\n",
        "              inputs = inputs.to(device)\n",
        "              labels = labels.to(device) \n",
        "              inputs, labels, second_labels, lam = cutmix(inputs, labels, config['mixup_alpha'])\n",
        "              outputs = model(inputs)\n",
        "              loss = mixup_criterion(criterion, outputs, labels, second_labels, lam)\n",
        "              _, preds = torch.max(outputs, 1)\n",
        "\n",
        "            else:\n",
        "              inputs = inputs.to(device)\n",
        "              labels = labels.to(device) \n",
        "              outputs = model(inputs)\n",
        "              loss = criterion(outputs, labels)\n",
        "              _, preds = torch.max(outputs, 1)\n",
        "            \n",
        "            loss.backward()\n",
        "            optimizer.step()\n",
        "            \n",
        "\n",
        "            if batch_idx % config['log_every'] == 0:\n",
        "              if jsd_loss:\n",
        "                train_logs = {\n",
        "                    f'Train - jsd_loss': loss_ema\n",
        "                }\n",
        "                wandb.log(train_logs)\n",
        "              else:\n",
        "                train_logs = {\n",
        "                    f'Train - loss': loss.item()\n",
        "                }\n",
        "                wandb.log(train_logs)\n",
        "\n",
        "\n",
        "            if jsd_loss:\n",
        "              loss_ema = loss_ema * 0.9 + float(loss) * 0.1\n",
        "              running_loss += loss_ema * inputs[0].size(0)\n",
        "            else:\n",
        "              running_loss += loss.item() * inputs.size(0)\n",
        "\n",
        "            running_corrects += torch.sum(preds == labels.data)\n",
        "\n",
        "          epoch_loss = running_loss / len(trainloader.dataset)\n",
        "          epoch_acc = running_corrects.double() / len(trainloader.dataset)\n",
        "          print('{} Loss: {:.4f} Acc: {:.4f}'.format(phase, epoch_loss, epoch_acc))\n",
        "          wandb.log({'Train - acc': epoch_acc})\n",
        "        else:\n",
        "          model.eval()   # Set model to evaluate mode\n",
        "\n",
        "          running_loss = 0.0\n",
        "          running_corrects = 0\n",
        "\n",
        "          for inputs, labels in testloader:\n",
        "            inputs = inputs.to(device)\n",
        "            labels = labels.to(device)\n",
        "            optimizer.zero_grad()\n",
        "            with torch.set_grad_enabled(False):\n",
        "              outputs = model(inputs)\n",
        "              loss = criterion(outputs, labels)\n",
        "\n",
        "              _, preds = torch.max(outputs, 1)\n",
        "              running_loss += loss.item() * inputs.size(0)\n",
        "              running_corrects += torch.sum(preds == labels.data)\n",
        "            epoch_loss = running_loss / len(testloader.dataset)\n",
        "            epoch_acc = running_corrects.double() / len(testloader.dataset)\n",
        "          wandb.log({'Valid - loss': epoch_loss})\n",
        "          wandb.log({'Valid - acc': epoch_acc})\n",
        "\n",
        "          print('{} Loss: {:.4f} Acc: {:.4f}'.format(phase, epoch_loss, epoch_acc))\n",
        "\n",
        "          if epoch_acc > best_acc:\n",
        "            best_acc = epoch_acc\n",
        "            best_model_wts = copy.deepcopy(model.state_dict())\n",
        "\n",
        "            checkpoint = {\n",
        "                'epoch': epoch,\n",
        "                'trainloader': trainloader,\n",
        "                'testloader': testloader,\n",
        "                'model': model,\n",
        "                'state_dict': model.state_dict(),\n",
        "                'best_acc': best_acc,\n",
        "                'optimizer': optimizer.state_dict(),\n",
        "                'scheduler': scheduler.state_dict(),\n",
        "                }\n",
        "            earlystopping = 0\n",
        "\n",
        "            checkpoint_path = savepath + '{}_{}_checkpoint.pth.tar'.format(datasetname,DAmethod)\n",
        "            print(\"Saving model...\")\n",
        "            torch.save(checkpoint, checkpoint_path)\n",
        "          else:\n",
        "            earlystopping += 1\n",
        "\n",
        "          print('-' * 30 + '\\n')\n",
        "          val_acc_history.append(epoch_acc)\n",
        "    # for earlystopping\n",
        "    # else:\n",
        "    #   best_path = savepath + '{}_{}_best_model_{}.pth.tar'.format(datasetname, DAmethod, best_acc)\n",
        "    #   torch.save(checkpoint, best_path)\n",
        "    #   print(\"Best model saved.\")\n",
        "    #   break\n",
        "    if scheduler:\n",
        "      scheduler.step()\n",
        "    else:    \n",
        "      adjust_learning_rate(optimizer, epoch)\n",
        "\n",
        "  # for 200 epochs\n",
        "  best_path = savepath + '{}_{}_best_model_{}.pth.tar'.format(datasetname, DAmethod, best_acc)\n",
        "  torch.save(checkpoint, best_path)\n",
        "  print(\"Best model saved.\")\n",
        "      \n",
        "  time_elapsed = time.time() - since\n",
        "  print('Training complete in {:.0f}m {:.0f}s'.format(time_elapsed // 60, time_elapsed % 60))\n",
        "  print('Best val Acc: {:4f}'.format(best_acc))\n",
        "  # load best model weights\n",
        "  model.load_state_dict(best_model_wts)\n",
        "  return model, val_acc_history\n",
        "\n",
        "def initialize_model(model_name, dataset_name, feature_extract=False, use_pretrained=False):\n",
        "    # Initialize these variables which will be set in this if statement. Each of these\n",
        "    #   variables is model specific.\n",
        "    model_ft = None\n",
        "    input_size = 0\n",
        "\n",
        "    if dataset_name == \"mnist\":\n",
        "      input_size = 28\n",
        "      num_classes = 10\n",
        "    elif dataset_name ==\"cifar10\":\n",
        "      input_size = 32\n",
        "      num_classes = 10\n",
        "    else:\n",
        "      input_size = 32\n",
        "      num_classes = 100\n",
        "\n",
        "    if model_name == \"resnet\":\n",
        "        \"\"\" \n",
        "        Resnet18\n",
        "        \"\"\"\n",
        "        model_ft = ResNet18(num_classes)\n",
        "\n",
        "    elif model_name == \"densenet\":\n",
        "        \"\"\" \n",
        "        Densenet\n",
        "        \"\"\"\n",
        "        model_ft = DenseNet121(num_classes)\n",
        "\n",
        "\n",
        "    return model_ft, input_size"
      ],
      "metadata": {
        "id": "TrbjATSx4PZo"
      },
      "execution_count": 44,
      "outputs": []
    },
    {
      "cell_type": "markdown",
      "source": [
        "# Preprocessing"
      ],
      "metadata": {
        "id": "T6D09PuQBXQB"
      }
    },
    {
      "cell_type": "code",
      "source": [
        "# DataSet\n",
        "# mnist\n",
        "mnist_trainset = datasets.MNIST(root='./data/MNIST', train=True, download=True)\n",
        "mnist_trainset.transform = transforms.Compose([\n",
        "               Grayscale(num_output_channels=3),\n",
        "               ToTensor(),\n",
        "               Normalize([0.1307],[0.3015]),\n",
        "    ])\n",
        "mnist_testset = datasets.MNIST(root='./data/MNIST', train=False, download=True)\n",
        "mnist_testset.transform = transforms.Compose([\n",
        "               Grayscale(num_output_channels=3),\n",
        "               ToTensor(),\n",
        "               Normalize([0.1307],[0.3015]),\n",
        "    ])\n",
        "\n",
        "# CIFAR-10\n",
        "CIFAR10_trainset = datasets.CIFAR10(root='./data/CIFAR', train=True, download=True)\n",
        "CIFAR10_trainset.transform = transforms.Compose([\n",
        "               transforms.RandomHorizontalFlip(),\n",
        "               transforms.RandomCrop(32, padding=4),\n",
        "               ToTensor(),\n",
        "               Normalize([0.4914, 0.4822, 0.4465],[0.2023, 0.1994, 0.2010]),\n",
        "    ])\n",
        "CIFAR10_testset = datasets.CIFAR10(root='./data/CIFAR', train=False, download=True)\n",
        "CIFAR10_testset.transform = transforms.Compose([\n",
        "               ToTensor(),\n",
        "               Normalize([0.4914, 0.4822, 0.4465],[0.2023, 0.1994, 0.2010]),\n",
        "    ])\n",
        "\n",
        "# CIFAR-100\n",
        "CIFAR100_trainset = datasets.CIFAR100(root='./data/CIFAR', train=True, download=True)\n",
        "CIFAR100_trainset.transform = transforms.Compose([\n",
        "               transforms.RandomHorizontalFlip(),\n",
        "               transforms.RandomCrop(32, padding=4),\n",
        "               ToTensor(),\n",
        "               Normalize([0.5017, 0.4866, 0.4409],[0.2009, 0.1984, 0.2023]),\n",
        "    ])\n",
        "CIFAR100_testset = datasets.CIFAR100(root='./data/CIFAR', train=False, download=True)\n",
        "CIFAR100_testset.transform = transforms.Compose([\n",
        "               ToTensor(),\n",
        "               Normalize([0.5017, 0.4866, 0.4409],[0.2009, 0.1984, 0.2023]),\n",
        "    ])\n"
      ],
      "metadata": {
        "id": "KrRMvoVXbhvT",
        "colab": {
          "base_uri": "https://localhost:8080/"
        },
        "outputId": "f740c6a6-9b23-496d-92eb-02815b7356c9"
      },
      "execution_count": 45,
      "outputs": [
        {
          "output_type": "stream",
          "name": "stdout",
          "text": [
            "Files already downloaded and verified\n",
            "Files already downloaded and verified\n",
            "Files already downloaded and verified\n",
            "Files already downloaded and verified\n"
          ]
        }
      ]
    },
    {
      "cell_type": "markdown",
      "source": [
        "# Dataloader"
      ],
      "metadata": {
        "id": "5fGKRUncB_iC"
      }
    },
    {
      "cell_type": "code",
      "source": [
        "mnist_trainloader = DataLoader(mnist_trainset, batch_size=config['batch_size'], shuffle=True)\n",
        "mnist_testloader = DataLoader(mnist_testset, batch_size=config['batch_size'])\n",
        "CIFAR10_trainloader = DataLoader(CIFAR10_trainset, batch_size=config['batch_size'], shuffle=True)\n",
        "CIFAR10_testloader = DataLoader(CIFAR10_testset, batch_size=config['batch_size'])\n",
        "CIFAR100_trainloader = DataLoader(CIFAR100_trainset, batch_size=config['batch_size'], shuffle=True)\n",
        "CIFAR100_testloader = DataLoader(CIFAR100_testset, batch_size=config['batch_size'])"
      ],
      "metadata": {
        "id": "6YTfzTJnfHug"
      },
      "execution_count": 46,
      "outputs": []
    },
    {
      "cell_type": "code",
      "source": [
        "imshow(mnist_trainloader.dataset)\n",
        "imshow(CIFAR10_trainloader.dataset)\n",
        "imshow(CIFAR100_trainloader.dataset)"
      ],
      "metadata": {
        "colab": {
          "base_uri": "https://localhost:8080/",
          "height": 0
        },
        "id": "OgaG2hJTt9AE",
        "outputId": "645fc249-daf4-42c0-ca4a-ad1fa02cd68e"
      },
      "execution_count": 47,
      "outputs": [
        {
          "output_type": "stream",
          "name": "stdout",
          "text": [
            "size: torch.Size([3, 28, 28])\n"
          ]
        },
        {
          "output_type": "display_data",
          "data": {
            "text/plain": [
              "<Figure size 432x288 with 0 Axes>"
            ]
          },
          "metadata": {}
        },
        {
          "output_type": "display_data",
          "data": {
            "text/plain": [
              "<Figure size 1800x1800 with 10 Axes>"
            ],
            "image/png": "[encoded data removed]"
          },
          "metadata": {}
        },
        {
          "output_type": "stream",
          "name": "stderr",
          "text": [
            "Clipping input data to the valid range for imshow with RGB data ([0..1] for floats or [0..255] for integers).\n",
            "Clipping input data to the valid range for imshow with RGB data ([0..1] for floats or [0..255] for integers).\n",
            "Clipping input data to the valid range for imshow with RGB data ([0..1] for floats or [0..255] for integers).\n",
            "Clipping input data to the valid range for imshow with RGB data ([0..1] for floats or [0..255] for integers).\n",
            "Clipping input data to the valid range for imshow with RGB data ([0..1] for floats or [0..255] for integers).\n",
            "Clipping input data to the valid range for imshow with RGB data ([0..1] for floats or [0..255] for integers).\n",
            "Clipping input data to the valid range for imshow with RGB data ([0..1] for floats or [0..255] for integers).\n",
            "Clipping input data to the valid range for imshow with RGB data ([0..1] for floats or [0..255] for integers).\n",
            "Clipping input data to the valid range for imshow with RGB data ([0..1] for floats or [0..255] for integers).\n",
            "Clipping input data to the valid range for imshow with RGB data ([0..1] for floats or [0..255] for integers).\n"
          ]
        },
        {
          "output_type": "stream",
          "name": "stdout",
          "text": [
            "size: torch.Size([3, 32, 32])\n"
          ]
        },
        {
          "output_type": "display_data",
          "data": {
            "text/plain": [
              "<Figure size 432x288 with 0 Axes>"
            ]
          },
          "metadata": {}
        },
        {
          "output_type": "display_data",
          "data": {
            "text/plain": [
              "<Figure size 1800x1800 with 10 Axes>"
            ],
            "image/png": "[encoded data removed]"
          },
          "metadata": {}
        },
        {
          "output_type": "stream",
          "name": "stderr",
          "text": [
            "Clipping input data to the valid range for imshow with RGB data ([0..1] for floats or [0..255] for integers).\n",
            "Clipping input data to the valid range for imshow with RGB data ([0..1] for floats or [0..255] for integers).\n",
            "Clipping input data to the valid range for imshow with RGB data ([0..1] for floats or [0..255] for integers).\n",
            "Clipping input data to the valid range for imshow with RGB data ([0..1] for floats or [0..255] for integers).\n",
            "Clipping input data to the valid range for imshow with RGB data ([0..1] for floats or [0..255] for integers).\n",
            "Clipping input data to the valid range for imshow with RGB data ([0..1] for floats or [0..255] for integers).\n",
            "Clipping input data to the valid range for imshow with RGB data ([0..1] for floats or [0..255] for integers).\n",
            "Clipping input data to the valid range for imshow with RGB data ([0..1] for floats or [0..255] for integers).\n",
            "Clipping input data to the valid range for imshow with RGB data ([0..1] for floats or [0..255] for integers).\n",
            "Clipping input data to the valid range for imshow with RGB data ([0..1] for floats or [0..255] for integers).\n"
          ]
        },
        {
          "output_type": "stream",
          "name": "stdout",
          "text": [
            "size: torch.Size([3, 32, 32])\n"
          ]
        },
        {
          "output_type": "display_data",
          "data": {
            "text/plain": [
              "<Figure size 432x288 with 0 Axes>"
            ]
          },
          "metadata": {}
        },
        {
          "output_type": "display_data",
          "data": {
            "text/plain": [
              "<Figure size 1800x1800 with 10 Axes>"
            ],
            "image/png": "[encoded data removed]"
          },
          "metadata": {}
        }
      ]
    },
    {
      "cell_type": "markdown",
      "source": [
        "# Baseline"
      ],
      "metadata": {
        "id": "IuPSqUSwum0H"
      }
    },
    {
      "cell_type": "markdown",
      "source": [
        "## Model training"
      ],
      "metadata": {
        "id": "mQDjt84kUZzM"
      }
    },
    {
      "cell_type": "markdown",
      "source": [
        "### ResNet18"
      ],
      "metadata": {
        "id": "CWI1fuEjMR94"
      }
    },
    {
      "cell_type": "markdown",
      "source": [
        "#### mnist"
      ],
      "metadata": {
        "id": "j0i9Sc5kxaIn"
      }
    },
    {
      "cell_type": "code",
      "source": [
        "config['model_name'] = 'resnet'\n",
        "config['dataset_name'] = 'mnist' # mnist cifar10 cifar100"
      ],
      "metadata": {
        "id": "wJJDMftYxW2N"
      },
      "execution_count": 48,
      "outputs": []
    },
    {
      "cell_type": "code",
      "source": [
        "# Initialize the model for this run\n",
        "model_ft, input_size = initialize_model(config['model_name'], config['dataset_name'])\n",
        "\n",
        "# Print the model we just instantiated\n",
        "# summary(model_ft)\n",
        "\n",
        "# Observe that all parameters are being optimized\n",
        "optimizer_ft = optim.SGD(model_ft.parameters(), lr=config['lr'], momentum=0.9, weight_decay = 0.0005, nesterov = True)\n",
        "scheduler_ft = CosineAnnealingLR(optimizer_ft, T_max = 60, eta_min = 1e-6 )\n",
        "\n",
        "# Setup the loss fxn\n",
        "criterion = nn.CrossEntropyLoss()\n",
        "\n",
        "# Train and evaluate\n",
        "\n",
        "model_ft = model_ft.to(device)\n",
        "\n",
        "!wandb online  # online / offline to activate or deactivate WandB logging\n",
        "\n",
        "with wandb.init(\n",
        "        config=config,\n",
        "        project='INF8225 - Projet final',  # Title of your project\n",
        "        entity = 'inf8225_ym_at', \n",
        "        group= 'resnet18_mnist_Baseline',  # In what group of runs do you want this run to be in?\n",
        "        save_code=True,\n",
        "    ):\n",
        "  model_ft, hist = train_model(model_ft, mnist_trainloader, mnist_testloader, criterion, optimizer_ft, scheduler_ft, num_epochs=config['epochs'], DAmethod= \"Baseline\", datasetname = config['dataset_name'])"
      ],
      "metadata": {
        "id": "IB6uShfjUiL_"
      },
      "execution_count": null,
      "outputs": []
    },
    {
      "cell_type": "markdown",
      "source": [
        "#### cifar10"
      ],
      "metadata": {
        "id": "RJSw0_GzxpJJ"
      }
    },
    {
      "cell_type": "code",
      "source": [
        "config['model_name'] = 'resnet'\n",
        "config['dataset_name'] = 'cifar10' # mnist cifar10 cifar100\n"
      ],
      "metadata": {
        "id": "VYYFD2VvxpJJ"
      },
      "execution_count": 50,
      "outputs": []
    },
    {
      "cell_type": "code",
      "source": [
        "# Initialize the model for this run\n",
        "model_ft, input_size = initialize_model(config['model_name'], config['dataset_name'])\n",
        "\n",
        "# Print the model we just instantiated\n",
        "# summary(model_ft)\n",
        "\n",
        "# Observe that all parameters are being optimized\n",
        "optimizer_ft = optim.SGD(model_ft.parameters(), lr=config['lr'], momentum=0.9, weight_decay = 0.0005, nesterov = True)\n",
        "scheduler_ft = CosineAnnealingLR(optimizer_ft, T_max = 60, eta_min = 1e-6)\n",
        "\n",
        "# Setup the loss fxn\n",
        "criterion = nn.CrossEntropyLoss()\n",
        "\n",
        "# Train and evaluate\n",
        "\n",
        "model_ft = model_ft.to(device)\n",
        "\n",
        "with wandb.init(\n",
        "        config=config,\n",
        "        project='INF8225 - Projet final',  # Title of your project\n",
        "        entity = 'inf8225_ym_at', \n",
        "        group= 'resnet18_cifar10_Baseline',  # In what group of runs do you want this run to be in?\n",
        "        save_code=True,\n",
        "    ):\n",
        "  model_ft, hist = train_model(model_ft, CIFAR10_trainloader, CIFAR10_testloader, criterion, optimizer_ft, scheduler_ft, num_epochs=config['epochs'], DAmethod = 'Baseline', datasetname = config['dataset_name'])"
      ],
      "metadata": {
        "id": "W5FPdSmYxpJJ"
      },
      "execution_count": null,
      "outputs": []
    },
    {
      "cell_type": "markdown",
      "source": [
        "#### cifar100"
      ],
      "metadata": {
        "id": "suE3_Do6xpy3"
      }
    },
    {
      "cell_type": "code",
      "source": [
        "config['model_name'] = 'resnet'\n",
        "config['dataset_name'] = 'cifar100' # mnist cifar10 cifar100"
      ],
      "metadata": {
        "id": "B1hzr_4sxpy4"
      },
      "execution_count": 52,
      "outputs": []
    },
    {
      "cell_type": "code",
      "source": [
        "# Initialize the model for this run\n",
        "model_ft, input_size = initialize_model(config['model_name'], config['dataset_name'])\n",
        "\n",
        "# Print the model we just instantiated\n",
        "# summary(model_ft)\n",
        "\n",
        "# Observe that all parameters are being optimized\n",
        "optimizer_ft = optim.SGD(model_ft.parameters(), lr=config['lr'], momentum=0.9, weight_decay = 0.0005, nesterov = True)\n",
        "scheduler_ft = CosineAnnealingLR(optimizer_ft, T_max = 60, eta_min = 1e-6 )\n",
        "\n",
        "# Setup the loss fxn\n",
        "criterion = nn.CrossEntropyLoss()\n",
        "\n",
        "# Train and evaluate\n",
        "\n",
        "model_ft = model_ft.to(device)\n",
        "\n",
        "with wandb.init(\n",
        "        config=config,\n",
        "        project='INF8225 - Projet final',  # Title of your project\n",
        "        entity = 'inf8225_ym_at', \n",
        "        group= 'resnet18_cifar100_Baseline',  # In what group of runs do you want this run to be in?\n",
        "        save_code=True,\n",
        "    ):\n",
        "  model_ft, hist = train_model(model_ft, CIFAR100_trainloader, CIFAR100_testloader, criterion, optimizer_ft, scheduler_ft, num_epochs=config['epochs'], DAmethod = 'Baseline', datasetname = config['dataset_name'])"
      ],
      "metadata": {
        "id": "_ak7dxkaxpy4"
      },
      "execution_count": null,
      "outputs": []
    },
    {
      "cell_type": "markdown",
      "source": [
        "### DenseNet121"
      ],
      "metadata": {
        "id": "dhuyl7aIagkv"
      }
    },
    {
      "cell_type": "markdown",
      "source": [
        "#### cifar10"
      ],
      "metadata": {
        "id": "u-yrYjLWagkw"
      }
    },
    {
      "cell_type": "code",
      "source": [
        "config['model_name'] = 'densenet'\n",
        "config['dataset_name'] = 'cifar10' # mnist cifar10 cifar100\n"
      ],
      "metadata": {
        "id": "DPr2g2gMagkw"
      },
      "execution_count": 58,
      "outputs": []
    },
    {
      "cell_type": "code",
      "source": [
        "# Initialize the model for this run\n",
        "model_ft, input_size = initialize_model(config['model_name'], config['dataset_name'])\n",
        "\n",
        "# Print the model we just instantiated\n",
        "# summary(model_ft)\n",
        "\n",
        "# Observe that all parameters are being optimized\n",
        "optimizer_ft = optim.SGD(model_ft.parameters(), lr=config['lr'], momentum=0.9, weight_decay = 0.0005, nesterov = True)\n",
        "scheduler_ft = CosineAnnealingLR(optimizer_ft, T_max = 60, eta_min = 1e-6)\n",
        "\n",
        "# Setup the loss fxn\n",
        "criterion = nn.CrossEntropyLoss()\n",
        "\n",
        "# Train and evaluate\n",
        "\n",
        "model_ft = model_ft.to(device)\n",
        "\n",
        "with wandb.init(\n",
        "        config=config,\n",
        "        project='INF8225 - Projet final',  # Title of your project\n",
        "        entity = 'inf8225_ym_at', \n",
        "        group= 'densenet121_cifar10_Baseline',  # In what group of runs do you want this run to be in?\n",
        "        save_code=True,\n",
        "    ):\n",
        "  model_ft, hist = train_model(model_ft, CIFAR10_trainloader, CIFAR10_testloader, criterion, optimizer_ft, scheduler_ft, num_epochs=config['epochs'], DAmethod = 'Baseline', datasetname = config['dataset_name'])"
      ],
      "metadata": {
        "id": "34YfstOZagkw"
      },
      "execution_count": null,
      "outputs": []
    },
    {
      "cell_type": "markdown",
      "source": [
        "#### cifar100"
      ],
      "metadata": {
        "id": "Hp3y-ktKagkw"
      }
    },
    {
      "cell_type": "code",
      "source": [
        "config['model_name'] = 'densenet'\n",
        "config['dataset_name'] = 'cifar100' # mnist cifar10 cifar100\n"
      ],
      "metadata": {
        "id": "2PumWgK9agkw"
      },
      "execution_count": 60,
      "outputs": []
    },
    {
      "cell_type": "code",
      "source": [
        "# Initialize the model for this run\n",
        "model_ft, input_size = initialize_model(config['model_name'], config['dataset_name'])\n",
        "\n",
        "# Print the model we just instantiated\n",
        "# summary(model_ft)\n",
        "\n",
        "# Observe that all parameters are being optimized\n",
        "optimizer_ft = optim.SGD(model_ft.parameters(), lr=config['lr'], momentum=0.9, weight_decay = 0.0005, nesterov = True)\n",
        "scheduler_ft = CosineAnnealingLR(optimizer_ft, T_max = 60, eta_min = 1e-6 )\n",
        "\n",
        "# Setup the loss fxn\n",
        "criterion = nn.CrossEntropyLoss()\n",
        "\n",
        "# Train and evaluate\n",
        "model_ft = model_ft.to(device)\n",
        "\n",
        "with wandb.init(\n",
        "        config=config,\n",
        "        project='INF8225 - Projet final',  # Title of your project\n",
        "        entity = 'inf8225_ym_at', \n",
        "        group= 'densenet121_cifar100_Baseline',  # In what group of runs do you want this run to be in?\n",
        "        save_code=True,\n",
        "    ):\n",
        "  model_ft, hist = train_model(model_ft, CIFAR100_trainloader, CIFAR100_testloader, criterion, optimizer_ft, scheduler_ft, num_epochs=config['epochs'], DAmethod = 'Baseline', datasetname = config['dataset_name'])"
      ],
      "metadata": {
        "colab": {
          "base_uri": "https://localhost:8080/",
          "height": 1000,
          "referenced_widgets": [
            "835abb3e085c4e75b0ab93cc8b4a6dc6",
            "4ebaad00dc3e42c5a9d4f923bb61da3e",
            "c9b2c4e36ef1472f967d1d8e70f08bee",
            "0760cd305aca42d0a453e2ff41ca78eb",
            "230cc3b6895747d486bf4caf3a344ac5",
            "1eeb048e60ba4af3bf871832b358429a",
            "edacd5b808e44bebb1f5b6453382d084",
            "bfaaad6ac7c841889815efe7be6bcec6"
          ]
        },
        "outputId": "11107678-bbf7-405c-c3c6-e8e98fea08ab",
        "id": "O_8XJzLeagkx"
      },
      "execution_count": null,
      "outputs": [
        {
          "metadata": {
            "tags": null
          },
          "name": "stderr",
          "output_type": "stream",
          "text": [
            "\u001b[34m\u001b[1mwandb\u001b[0m: Currently logged in as: \u001b[33minf8225_ym_at\u001b[0m (use `wandb login --relogin` to force relogin)\n"
          ]
        },
        {
          "data": {
            "text/html": [
              "Tracking run with wandb version 0.12.15"
            ],
            "text/plain": [
              "<IPython.core.display.HTML object>"
            ]
          },
          "metadata": {},
          "output_type": "display_data"
        },
        {
          "data": {
            "text/html": [
              "Run data is saved locally in <code>/content/wandb/run-20220427_221109-gnjlxeff</code>"
            ],
            "text/plain": [
              "<IPython.core.display.HTML object>"
            ]
          },
          "metadata": {},
          "output_type": "display_data"
        },
        {
          "data": {
            "text/html": [
              "Syncing run <strong><a href=\"https://wandb.ai/inf8225_ym_at/INF8225%20-%20Projet%20final/runs/gnjlxeff\" target=\"_blank\">rare-durian-131</a></strong> to <a href=\"https://wandb.ai/inf8225_ym_at/INF8225%20-%20Projet%20final\" target=\"_blank\">Weights & Biases</a> (<a href=\"https://wandb.me/run\" target=\"_blank\">docs</a>)<br/>"
            ],
            "text/plain": [
              "<IPython.core.display.HTML object>"
            ]
          },
          "metadata": {},
          "output_type": "display_data"
        },
        {
          "metadata": {
            "tags": null
          },
          "name": "stdout",
          "output_type": "stream",
          "text": [
            "Epoch 1/200\n",
            "----------\n"
          ]
        },
        {
          "metadata": {
            "tags": null
          },
          "name": "stderr",
          "output_type": "stream",
          "text": [
            "391it [02:04,  3.15it/s]\n"
          ]
        },
        {
          "metadata": {
            "tags": null
          },
          "name": "stdout",
          "output_type": "stream",
          "text": [
            "train Loss: 3.8027 Acc: 0.1110\n",
            "valid Loss: 3.3873 Acc: 0.1753\n",
            "Saving model...\n",
            "------------------------------\n",
            "\n",
            "Epoch 2/200\n",
            "----------\n"
          ]
        },
        {
          "metadata": {
            "tags": null
          },
          "name": "stderr",
          "output_type": "stream",
          "text": [
            "391it [02:04,  3.15it/s]\n"
          ]
        },
        {
          "metadata": {
            "tags": null
          },
          "name": "stdout",
          "output_type": "stream",
          "text": [
            "train Loss: 3.0025 Acc: 0.2446\n",
            "valid Loss: 2.6761 Acc: 0.3081\n",
            "Saving model...\n",
            "------------------------------\n",
            "\n",
            "Epoch 3/200\n",
            "----------\n"
          ]
        },
        {
          "metadata": {
            "tags": null
          },
          "name": "stderr",
          "output_type": "stream",
          "text": [
            "391it [02:03,  3.16it/s]\n"
          ]
        },
        {
          "metadata": {
            "tags": null
          },
          "name": "stdout",
          "output_type": "stream",
          "text": [
            "train Loss: 2.3505 Acc: 0.3740\n",
            "valid Loss: 2.3683 Acc: 0.3751\n",
            "Saving model...\n",
            "------------------------------\n",
            "\n",
            "Epoch 4/200\n",
            "----------\n"
          ]
        },
        {
          "metadata": {
            "tags": null
          },
          "name": "stderr",
          "output_type": "stream",
          "text": [
            "391it [02:04,  3.15it/s]\n"
          ]
        },
        {
          "metadata": {
            "tags": null
          },
          "name": "stdout",
          "output_type": "stream",
          "text": [
            "train Loss: 1.9878 Acc: 0.4540\n",
            "valid Loss: 2.3584 Acc: 0.3995\n",
            "Saving model...\n",
            "------------------------------\n",
            "\n",
            "Epoch 5/200\n",
            "----------\n"
          ]
        },
        {
          "metadata": {
            "tags": null
          },
          "name": "stderr",
          "output_type": "stream",
          "text": [
            "391it [02:04,  3.15it/s]\n"
          ]
        },
        {
          "metadata": {
            "tags": null
          },
          "name": "stdout",
          "output_type": "stream",
          "text": [
            "train Loss: 1.7779 Acc: 0.5042\n",
            "valid Loss: 1.9008 Acc: 0.4789\n",
            "Saving model...\n",
            "------------------------------\n",
            "\n",
            "Epoch 6/200\n",
            "----------\n"
          ]
        },
        {
          "metadata": {
            "tags": null
          },
          "name": "stderr",
          "output_type": "stream",
          "text": [
            "391it [02:04,  3.15it/s]\n"
          ]
        },
        {
          "metadata": {
            "tags": null
          },
          "name": "stdout",
          "output_type": "stream",
          "text": [
            "train Loss: 1.6372 Acc: 0.5386\n",
            "valid Loss: 1.8464 Acc: 0.4965\n",
            "Saving model...\n",
            "------------------------------\n",
            "\n",
            "Epoch 7/200\n",
            "----------\n"
          ]
        },
        {
          "metadata": {
            "tags": null
          },
          "name": "stderr",
          "output_type": "stream",
          "text": [
            "391it [02:03,  3.16it/s]\n"
          ]
        },
        {
          "metadata": {
            "tags": null
          },
          "name": "stdout",
          "output_type": "stream",
          "text": [
            "train Loss: 1.5251 Acc: 0.5702\n",
            "valid Loss: 1.9612 Acc: 0.4728\n",
            "------------------------------\n",
            "\n",
            "Epoch 8/200\n",
            "----------\n"
          ]
        },
        {
          "metadata": {
            "tags": null
          },
          "name": "stderr",
          "output_type": "stream",
          "text": [
            "391it [02:03,  3.16it/s]\n"
          ]
        },
        {
          "metadata": {
            "tags": null
          },
          "name": "stdout",
          "output_type": "stream",
          "text": [
            "train Loss: 1.4367 Acc: 0.5886\n",
            "valid Loss: 1.7505 Acc: 0.5215\n",
            "Saving model...\n",
            "------------------------------\n",
            "\n",
            "Epoch 9/200\n",
            "----------\n"
          ]
        },
        {
          "metadata": {
            "tags": null
          },
          "name": "stderr",
          "output_type": "stream",
          "text": [
            "391it [02:03,  3.15it/s]\n"
          ]
        },
        {
          "metadata": {
            "tags": null
          },
          "name": "stdout",
          "output_type": "stream",
          "text": [
            "train Loss: 1.3663 Acc: 0.6062\n",
            "valid Loss: 1.6959 Acc: 0.5359\n",
            "Saving model...\n",
            "------------------------------\n",
            "\n",
            "Epoch 10/200\n",
            "----------\n"
          ]
        },
        {
          "metadata": {
            "tags": null
          },
          "name": "stderr",
          "output_type": "stream",
          "text": [
            "391it [02:03,  3.16it/s]\n"
          ]
        },
        {
          "metadata": {
            "tags": null
          },
          "name": "stdout",
          "output_type": "stream",
          "text": [
            "train Loss: 1.3067 Acc: 0.6223\n",
            "valid Loss: 1.5375 Acc: 0.5742\n",
            "Saving model...\n",
            "------------------------------\n",
            "\n",
            "Epoch 11/200\n",
            "----------\n"
          ]
        },
        {
          "metadata": {
            "tags": null
          },
          "name": "stderr",
          "output_type": "stream",
          "text": [
            "391it [02:03,  3.16it/s]\n"
          ]
        },
        {
          "metadata": {
            "tags": null
          },
          "name": "stdout",
          "output_type": "stream",
          "text": [
            "train Loss: 1.2501 Acc: 0.6379\n",
            "valid Loss: 1.7467 Acc: 0.5424\n",
            "------------------------------\n",
            "\n",
            "Epoch 12/200\n",
            "----------\n"
          ]
        },
        {
          "metadata": {
            "tags": null
          },
          "name": "stderr",
          "output_type": "stream",
          "text": [
            "391it [02:03,  3.17it/s]\n"
          ]
        },
        {
          "metadata": {
            "tags": null
          },
          "name": "stdout",
          "output_type": "stream",
          "text": [
            "train Loss: 1.2140 Acc: 0.6479\n",
            "valid Loss: 1.5313 Acc: 0.5753\n",
            "Saving model...\n",
            "------------------------------\n",
            "\n",
            "Epoch 13/200\n",
            "----------\n"
          ]
        },
        {
          "metadata": {
            "tags": null
          },
          "name": "stderr",
          "output_type": "stream",
          "text": [
            "391it [02:03,  3.16it/s]\n"
          ]
        },
        {
          "metadata": {
            "tags": null
          },
          "name": "stdout",
          "output_type": "stream",
          "text": [
            "train Loss: 1.1639 Acc: 0.6581\n",
            "valid Loss: 1.5385 Acc: 0.5819\n",
            "Saving model...\n",
            "------------------------------\n",
            "\n",
            "Epoch 14/200\n",
            "----------\n"
          ]
        },
        {
          "metadata": {
            "tags": null
          },
          "name": "stderr",
          "output_type": "stream",
          "text": [
            "391it [02:03,  3.15it/s]\n"
          ]
        },
        {
          "metadata": {
            "tags": null
          },
          "name": "stdout",
          "output_type": "stream",
          "text": [
            "train Loss: 1.1361 Acc: 0.6683\n",
            "valid Loss: 1.5389 Acc: 0.5755\n",
            "------------------------------\n",
            "\n",
            "Epoch 15/200\n",
            "----------\n"
          ]
        },
        {
          "metadata": {
            "tags": null
          },
          "name": "stderr",
          "output_type": "stream",
          "text": [
            "391it [02:03,  3.16it/s]\n"
          ]
        },
        {
          "metadata": {
            "tags": null
          },
          "name": "stdout",
          "output_type": "stream",
          "text": [
            "train Loss: 1.1043 Acc: 0.6747\n",
            "valid Loss: 1.6377 Acc: 0.5612\n",
            "------------------------------\n",
            "\n",
            "Epoch 16/200\n",
            "----------\n"
          ]
        },
        {
          "metadata": {
            "tags": null
          },
          "name": "stderr",
          "output_type": "stream",
          "text": [
            "391it [02:03,  3.17it/s]\n"
          ]
        },
        {
          "metadata": {
            "tags": null
          },
          "name": "stdout",
          "output_type": "stream",
          "text": [
            "train Loss: 1.0809 Acc: 0.6830\n",
            "valid Loss: 1.5182 Acc: 0.5896\n",
            "Saving model...\n",
            "------------------------------\n",
            "\n",
            "Epoch 17/200\n",
            "----------\n"
          ]
        },
        {
          "metadata": {
            "tags": null
          },
          "name": "stderr",
          "output_type": "stream",
          "text": [
            "391it [02:03,  3.17it/s]\n"
          ]
        },
        {
          "metadata": {
            "tags": null
          },
          "name": "stdout",
          "output_type": "stream",
          "text": [
            "train Loss: 1.0443 Acc: 0.6922\n",
            "valid Loss: 1.5057 Acc: 0.5979\n",
            "Saving model...\n",
            "------------------------------\n",
            "\n",
            "Epoch 18/200\n",
            "----------\n"
          ]
        },
        {
          "metadata": {
            "tags": null
          },
          "name": "stderr",
          "output_type": "stream",
          "text": [
            "391it [02:03,  3.17it/s]\n"
          ]
        },
        {
          "metadata": {
            "tags": null
          },
          "name": "stdout",
          "output_type": "stream",
          "text": [
            "train Loss: 1.0148 Acc: 0.6999\n",
            "valid Loss: 1.4991 Acc: 0.5927\n",
            "------------------------------\n",
            "\n",
            "Epoch 19/200\n",
            "----------\n"
          ]
        },
        {
          "metadata": {
            "tags": null
          },
          "name": "stderr",
          "output_type": "stream",
          "text": [
            "391it [02:03,  3.18it/s]\n"
          ]
        },
        {
          "metadata": {
            "tags": null
          },
          "name": "stdout",
          "output_type": "stream",
          "text": [
            "train Loss: 0.9794 Acc: 0.7098\n",
            "valid Loss: 1.5171 Acc: 0.5916\n",
            "------------------------------\n",
            "\n",
            "Epoch 20/200\n",
            "----------\n"
          ]
        },
        {
          "metadata": {
            "tags": null
          },
          "name": "stderr",
          "output_type": "stream",
          "text": [
            "391it [02:03,  3.18it/s]\n"
          ]
        },
        {
          "metadata": {
            "tags": null
          },
          "name": "stdout",
          "output_type": "stream",
          "text": [
            "train Loss: 0.9563 Acc: 0.7140\n",
            "valid Loss: 1.3812 Acc: 0.6210\n",
            "Saving model...\n",
            "------------------------------\n",
            "\n",
            "Epoch 21/200\n",
            "----------\n"
          ]
        },
        {
          "metadata": {
            "tags": null
          },
          "name": "stderr",
          "output_type": "stream",
          "text": [
            "391it [02:03,  3.17it/s]\n"
          ]
        },
        {
          "metadata": {
            "tags": null
          },
          "name": "stdout",
          "output_type": "stream",
          "text": [
            "train Loss: 0.9291 Acc: 0.7224\n",
            "valid Loss: 1.3812 Acc: 0.6208\n",
            "------------------------------\n",
            "\n",
            "Epoch 22/200\n",
            "----------\n"
          ]
        },
        {
          "metadata": {
            "tags": null
          },
          "name": "stderr",
          "output_type": "stream",
          "text": [
            "391it [02:03,  3.18it/s]\n"
          ]
        },
        {
          "metadata": {
            "tags": null
          },
          "name": "stdout",
          "output_type": "stream",
          "text": [
            "train Loss: 0.9053 Acc: 0.7284\n",
            "valid Loss: 1.3443 Acc: 0.6265\n",
            "Saving model...\n",
            "------------------------------\n",
            "\n",
            "Epoch 23/200\n",
            "----------\n"
          ]
        },
        {
          "metadata": {
            "tags": null
          },
          "name": "stderr",
          "output_type": "stream",
          "text": [
            "391it [02:03,  3.17it/s]\n"
          ]
        },
        {
          "metadata": {
            "tags": null
          },
          "name": "stdout",
          "output_type": "stream",
          "text": [
            "train Loss: 0.8707 Acc: 0.7396\n",
            "valid Loss: 1.4310 Acc: 0.6097\n",
            "------------------------------\n",
            "\n",
            "Epoch 24/200\n",
            "----------\n"
          ]
        },
        {
          "metadata": {
            "tags": null
          },
          "name": "stderr",
          "output_type": "stream",
          "text": [
            "391it [02:03,  3.17it/s]\n"
          ]
        },
        {
          "metadata": {
            "tags": null
          },
          "name": "stdout",
          "output_type": "stream",
          "text": [
            "train Loss: 0.8469 Acc: 0.7460\n",
            "valid Loss: 1.3455 Acc: 0.6377\n",
            "Saving model...\n",
            "------------------------------\n",
            "\n",
            "Epoch 25/200\n",
            "----------\n"
          ]
        },
        {
          "metadata": {
            "tags": null
          },
          "name": "stderr",
          "output_type": "stream",
          "text": [
            "391it [02:03,  3.17it/s]\n"
          ]
        },
        {
          "metadata": {
            "tags": null
          },
          "name": "stdout",
          "output_type": "stream",
          "text": [
            "train Loss: 0.8185 Acc: 0.7554\n",
            "valid Loss: 1.4022 Acc: 0.6243\n",
            "------------------------------\n",
            "\n",
            "Epoch 26/200\n",
            "----------\n"
          ]
        },
        {
          "metadata": {
            "tags": null
          },
          "name": "stderr",
          "output_type": "stream",
          "text": [
            "391it [02:03,  3.18it/s]\n"
          ]
        },
        {
          "metadata": {
            "tags": null
          },
          "name": "stdout",
          "output_type": "stream",
          "text": [
            "train Loss: 0.7839 Acc: 0.7649\n",
            "valid Loss: 1.4451 Acc: 0.6189\n",
            "------------------------------\n",
            "\n",
            "Epoch 27/200\n",
            "----------\n"
          ]
        },
        {
          "metadata": {
            "tags": null
          },
          "name": "stderr",
          "output_type": "stream",
          "text": [
            "391it [02:03,  3.18it/s]\n"
          ]
        },
        {
          "metadata": {
            "tags": null
          },
          "name": "stdout",
          "output_type": "stream",
          "text": [
            "train Loss: 0.7630 Acc: 0.7686\n",
            "valid Loss: 1.2905 Acc: 0.6528\n",
            "Saving model...\n",
            "------------------------------\n",
            "\n",
            "Epoch 28/200\n",
            "----------\n"
          ]
        },
        {
          "metadata": {
            "tags": null
          },
          "name": "stderr",
          "output_type": "stream",
          "text": [
            "391it [02:03,  3.16it/s]\n"
          ]
        },
        {
          "metadata": {
            "tags": null
          },
          "name": "stdout",
          "output_type": "stream",
          "text": [
            "train Loss: 0.7264 Acc: 0.7788\n",
            "valid Loss: 1.3257 Acc: 0.6431\n",
            "------------------------------\n",
            "\n",
            "Epoch 29/200\n",
            "----------\n"
          ]
        },
        {
          "metadata": {
            "tags": null
          },
          "name": "stderr",
          "output_type": "stream",
          "text": [
            "391it [02:03,  3.18it/s]\n"
          ]
        },
        {
          "metadata": {
            "tags": null
          },
          "name": "stdout",
          "output_type": "stream",
          "text": [
            "train Loss: 0.7046 Acc: 0.7851\n",
            "valid Loss: 1.3037 Acc: 0.6474\n",
            "------------------------------\n",
            "\n",
            "Epoch 30/200\n",
            "----------\n"
          ]
        },
        {
          "metadata": {
            "tags": null
          },
          "name": "stderr",
          "output_type": "stream",
          "text": [
            "391it [02:03,  3.17it/s]\n"
          ]
        },
        {
          "metadata": {
            "tags": null
          },
          "name": "stdout",
          "output_type": "stream",
          "text": [
            "train Loss: 0.6625 Acc: 0.7981\n",
            "valid Loss: 1.2260 Acc: 0.6675\n",
            "Saving model...\n",
            "------------------------------\n",
            "\n",
            "Epoch 31/200\n",
            "----------\n"
          ]
        },
        {
          "metadata": {
            "tags": null
          },
          "name": "stderr",
          "output_type": "stream",
          "text": [
            "391it [02:03,  3.17it/s]\n"
          ]
        },
        {
          "metadata": {
            "tags": null
          },
          "name": "stdout",
          "output_type": "stream",
          "text": [
            "train Loss: 0.6425 Acc: 0.8034\n",
            "valid Loss: 1.2429 Acc: 0.6699\n",
            "Saving model...\n",
            "------------------------------\n",
            "\n",
            "Epoch 32/200\n",
            "----------\n"
          ]
        },
        {
          "metadata": {
            "tags": null
          },
          "name": "stderr",
          "output_type": "stream",
          "text": [
            "391it [02:03,  3.16it/s]\n"
          ]
        },
        {
          "metadata": {
            "tags": null
          },
          "name": "stdout",
          "output_type": "stream",
          "text": [
            "train Loss: 0.5991 Acc: 0.8142\n",
            "valid Loss: 1.2957 Acc: 0.6629\n",
            "------------------------------\n",
            "\n",
            "Epoch 33/200\n",
            "----------\n"
          ]
        },
        {
          "metadata": {
            "tags": null
          },
          "name": "stderr",
          "output_type": "stream",
          "text": [
            "391it [02:03,  3.17it/s]\n"
          ]
        },
        {
          "metadata": {
            "tags": null
          },
          "name": "stdout",
          "output_type": "stream",
          "text": [
            "train Loss: 0.5639 Acc: 0.8257\n",
            "valid Loss: 1.2166 Acc: 0.6696\n",
            "------------------------------\n",
            "\n",
            "Epoch 34/200\n",
            "----------\n"
          ]
        },
        {
          "metadata": {
            "tags": null
          },
          "name": "stderr",
          "output_type": "stream",
          "text": [
            "391it [02:03,  3.17it/s]\n"
          ]
        },
        {
          "metadata": {
            "tags": null
          },
          "name": "stdout",
          "output_type": "stream",
          "text": [
            "train Loss: 0.5312 Acc: 0.8347\n",
            "valid Loss: 1.1585 Acc: 0.6860\n",
            "Saving model...\n",
            "------------------------------\n",
            "\n",
            "Epoch 35/200\n",
            "----------\n"
          ]
        },
        {
          "metadata": {
            "tags": null
          },
          "name": "stderr",
          "output_type": "stream",
          "text": [
            "391it [02:03,  3.17it/s]\n"
          ]
        },
        {
          "metadata": {
            "tags": null
          },
          "name": "stdout",
          "output_type": "stream",
          "text": [
            "train Loss: 0.4988 Acc: 0.8452\n",
            "valid Loss: 1.1958 Acc: 0.6813\n",
            "------------------------------\n",
            "\n",
            "Epoch 36/200\n",
            "----------\n"
          ]
        },
        {
          "metadata": {
            "tags": null
          },
          "name": "stderr",
          "output_type": "stream",
          "text": [
            "391it [02:03,  3.17it/s]\n"
          ]
        },
        {
          "metadata": {
            "tags": null
          },
          "name": "stdout",
          "output_type": "stream",
          "text": [
            "train Loss: 0.4627 Acc: 0.8557\n",
            "valid Loss: 1.1289 Acc: 0.7039\n",
            "Saving model...\n",
            "------------------------------\n",
            "\n",
            "Epoch 37/200\n",
            "----------\n"
          ]
        },
        {
          "metadata": {
            "tags": null
          },
          "name": "stderr",
          "output_type": "stream",
          "text": [
            "391it [02:03,  3.16it/s]\n"
          ]
        },
        {
          "metadata": {
            "tags": null
          },
          "name": "stdout",
          "output_type": "stream",
          "text": [
            "train Loss: 0.4214 Acc: 0.8685\n",
            "valid Loss: 1.2255 Acc: 0.6823\n",
            "------------------------------\n",
            "\n",
            "Epoch 38/200\n",
            "----------\n"
          ]
        },
        {
          "metadata": {
            "tags": null
          },
          "name": "stderr",
          "output_type": "stream",
          "text": [
            "391it [02:03,  3.17it/s]\n"
          ]
        },
        {
          "metadata": {
            "tags": null
          },
          "name": "stdout",
          "output_type": "stream",
          "text": [
            "train Loss: 0.3842 Acc: 0.8812\n",
            "valid Loss: 1.1207 Acc: 0.6989\n",
            "------------------------------\n",
            "\n",
            "Epoch 39/200\n",
            "----------\n"
          ]
        },
        {
          "metadata": {
            "tags": null
          },
          "name": "stderr",
          "output_type": "stream",
          "text": [
            "391it [02:03,  3.17it/s]\n"
          ]
        },
        {
          "metadata": {
            "tags": null
          },
          "name": "stdout",
          "output_type": "stream",
          "text": [
            "train Loss: 0.3447 Acc: 0.8932\n",
            "valid Loss: 1.1252 Acc: 0.7011\n",
            "------------------------------\n",
            "\n",
            "Epoch 40/200\n",
            "----------\n"
          ]
        },
        {
          "metadata": {
            "tags": null
          },
          "name": "stderr",
          "output_type": "stream",
          "text": [
            "391it [02:03,  3.17it/s]\n"
          ]
        },
        {
          "metadata": {
            "tags": null
          },
          "name": "stdout",
          "output_type": "stream",
          "text": [
            "train Loss: 0.2983 Acc: 0.9080\n",
            "valid Loss: 1.0698 Acc: 0.7174\n",
            "Saving model...\n",
            "------------------------------\n",
            "\n",
            "Epoch 41/200\n",
            "----------\n"
          ]
        },
        {
          "metadata": {
            "tags": null
          },
          "name": "stderr",
          "output_type": "stream",
          "text": [
            "391it [02:03,  3.16it/s]\n"
          ]
        },
        {
          "metadata": {
            "tags": null
          },
          "name": "stdout",
          "output_type": "stream",
          "text": [
            "train Loss: 0.2666 Acc: 0.9204\n",
            "valid Loss: 1.1394 Acc: 0.7079\n",
            "------------------------------\n",
            "\n",
            "Epoch 42/200\n",
            "----------\n"
          ]
        },
        {
          "metadata": {
            "tags": null
          },
          "name": "stderr",
          "output_type": "stream",
          "text": [
            "391it [02:03,  3.17it/s]\n"
          ]
        },
        {
          "metadata": {
            "tags": null
          },
          "name": "stdout",
          "output_type": "stream",
          "text": [
            "train Loss: 0.2194 Acc: 0.9358\n",
            "valid Loss: 1.1377 Acc: 0.7150\n",
            "------------------------------\n",
            "\n",
            "Epoch 43/200\n",
            "----------\n"
          ]
        },
        {
          "metadata": {
            "tags": null
          },
          "name": "stderr",
          "output_type": "stream",
          "text": [
            "391it [02:03,  3.17it/s]\n"
          ]
        },
        {
          "metadata": {
            "tags": null
          },
          "name": "stdout",
          "output_type": "stream",
          "text": [
            "train Loss: 0.1863 Acc: 0.9457\n",
            "valid Loss: 1.0555 Acc: 0.7362\n",
            "Saving model...\n",
            "------------------------------\n",
            "\n",
            "Epoch 44/200\n",
            "----------\n"
          ]
        },
        {
          "metadata": {
            "tags": null
          },
          "name": "stderr",
          "output_type": "stream",
          "text": [
            "391it [02:03,  3.16it/s]\n"
          ]
        },
        {
          "metadata": {
            "tags": null
          },
          "name": "stdout",
          "output_type": "stream",
          "text": [
            "train Loss: 0.1528 Acc: 0.9576\n",
            "valid Loss: 1.0189 Acc: 0.7439\n",
            "Saving model...\n",
            "------------------------------\n",
            "\n",
            "Epoch 45/200\n",
            "----------\n"
          ]
        },
        {
          "metadata": {
            "tags": null
          },
          "name": "stderr",
          "output_type": "stream",
          "text": [
            "391it [02:03,  3.16it/s]\n"
          ]
        },
        {
          "metadata": {
            "tags": null
          },
          "name": "stdout",
          "output_type": "stream",
          "text": [
            "train Loss: 0.1121 Acc: 0.9713\n",
            "valid Loss: 0.9851 Acc: 0.7567\n",
            "Saving model...\n",
            "------------------------------\n",
            "\n",
            "Epoch 46/200\n",
            "----------\n"
          ]
        },
        {
          "metadata": {
            "tags": null
          },
          "name": "stderr",
          "output_type": "stream",
          "text": [
            "391it [02:03,  3.16it/s]\n"
          ]
        },
        {
          "metadata": {
            "tags": null
          },
          "name": "stdout",
          "output_type": "stream",
          "text": [
            "train Loss: 0.0843 Acc: 0.9800\n",
            "valid Loss: 0.9795 Acc: 0.7539\n",
            "------------------------------\n",
            "\n",
            "Epoch 47/200\n",
            "----------\n"
          ]
        },
        {
          "metadata": {
            "tags": null
          },
          "name": "stderr",
          "output_type": "stream",
          "text": [
            "391it [02:03,  3.17it/s]\n"
          ]
        },
        {
          "metadata": {
            "tags": null
          },
          "name": "stdout",
          "output_type": "stream",
          "text": [
            "train Loss: 0.0630 Acc: 0.9862\n",
            "valid Loss: 0.9748 Acc: 0.7638\n",
            "Saving model...\n",
            "------------------------------\n",
            "\n",
            "Epoch 48/200\n",
            "----------\n"
          ]
        },
        {
          "metadata": {
            "tags": null
          },
          "name": "stderr",
          "output_type": "stream",
          "text": [
            "391it [02:03,  3.16it/s]\n"
          ]
        },
        {
          "metadata": {
            "tags": null
          },
          "name": "stdout",
          "output_type": "stream",
          "text": [
            "train Loss: 0.0477 Acc: 0.9907\n",
            "valid Loss: 0.9321 Acc: 0.7700\n",
            "Saving model...\n",
            "------------------------------\n",
            "\n",
            "Epoch 49/200\n",
            "----------\n"
          ]
        },
        {
          "metadata": {
            "tags": null
          },
          "name": "stderr",
          "output_type": "stream",
          "text": [
            "391it [02:03,  3.17it/s]\n"
          ]
        },
        {
          "metadata": {
            "tags": null
          },
          "name": "stdout",
          "output_type": "stream",
          "text": [
            "train Loss: 0.0348 Acc: 0.9941\n",
            "valid Loss: 0.9229 Acc: 0.7751\n",
            "Saving model...\n",
            "------------------------------\n",
            "\n",
            "Epoch 50/200\n",
            "----------\n"
          ]
        },
        {
          "metadata": {
            "tags": null
          },
          "name": "stderr",
          "output_type": "stream",
          "text": [
            "391it [02:03,  3.16it/s]\n"
          ]
        },
        {
          "metadata": {
            "tags": null
          },
          "name": "stdout",
          "output_type": "stream",
          "text": [
            "train Loss: 0.0271 Acc: 0.9966\n",
            "valid Loss: 0.9059 Acc: 0.7802\n",
            "Saving model...\n",
            "------------------------------\n",
            "\n",
            "Epoch 51/200\n",
            "----------\n"
          ]
        },
        {
          "metadata": {
            "tags": null
          },
          "name": "stderr",
          "output_type": "stream",
          "text": [
            "391it [02:03,  3.16it/s]\n"
          ]
        },
        {
          "metadata": {
            "tags": null
          },
          "name": "stdout",
          "output_type": "stream",
          "text": [
            "train Loss: 0.0206 Acc: 0.9975\n",
            "valid Loss: 0.8823 Acc: 0.7849\n",
            "Saving model...\n",
            "------------------------------\n",
            "\n",
            "Epoch 52/200\n",
            "----------\n"
          ]
        },
        {
          "metadata": {
            "tags": null
          },
          "name": "stderr",
          "output_type": "stream",
          "text": [
            "391it [02:03,  3.16it/s]\n"
          ]
        },
        {
          "metadata": {
            "tags": null
          },
          "name": "stdout",
          "output_type": "stream",
          "text": [
            "train Loss: 0.0174 Acc: 0.9983\n",
            "valid Loss: 0.8772 Acc: 0.7854\n",
            "Saving model...\n",
            "------------------------------\n",
            "\n",
            "Epoch 53/200\n",
            "----------\n"
          ]
        },
        {
          "metadata": {
            "tags": null
          },
          "name": "stderr",
          "output_type": "stream",
          "text": [
            "391it [02:03,  3.16it/s]\n"
          ]
        },
        {
          "metadata": {
            "tags": null
          },
          "name": "stdout",
          "output_type": "stream",
          "text": [
            "train Loss: 0.0148 Acc: 0.9988\n",
            "valid Loss: 0.8757 Acc: 0.7852\n",
            "------------------------------\n",
            "\n",
            "Epoch 54/200\n",
            "----------\n"
          ]
        },
        {
          "metadata": {
            "tags": null
          },
          "name": "stderr",
          "output_type": "stream",
          "text": [
            "391it [02:03,  3.17it/s]\n"
          ]
        },
        {
          "metadata": {
            "tags": null
          },
          "name": "stdout",
          "output_type": "stream",
          "text": [
            "train Loss: 0.0132 Acc: 0.9990\n",
            "valid Loss: 0.8710 Acc: 0.7867\n",
            "Saving model...\n",
            "------------------------------\n",
            "\n",
            "Epoch 55/200\n",
            "----------\n"
          ]
        },
        {
          "metadata": {
            "tags": null
          },
          "name": "stderr",
          "output_type": "stream",
          "text": [
            "391it [02:03,  3.17it/s]\n"
          ]
        },
        {
          "metadata": {
            "tags": null
          },
          "name": "stdout",
          "output_type": "stream",
          "text": [
            "train Loss: 0.0129 Acc: 0.9989\n",
            "valid Loss: 0.8733 Acc: 0.7860\n",
            "------------------------------\n",
            "\n",
            "Epoch 56/200\n",
            "----------\n"
          ]
        },
        {
          "metadata": {
            "tags": null
          },
          "name": "stderr",
          "output_type": "stream",
          "text": [
            "391it [02:03,  3.17it/s]\n"
          ]
        },
        {
          "metadata": {
            "tags": null
          },
          "name": "stdout",
          "output_type": "stream",
          "text": [
            "train Loss: 0.0118 Acc: 0.9992\n",
            "valid Loss: 0.8702 Acc: 0.7876\n",
            "Saving model...\n",
            "------------------------------\n",
            "\n",
            "Epoch 57/200\n",
            "----------\n"
          ]
        },
        {
          "metadata": {
            "tags": null
          },
          "name": "stderr",
          "output_type": "stream",
          "text": [
            "391it [02:03,  3.16it/s]\n"
          ]
        },
        {
          "metadata": {
            "tags": null
          },
          "name": "stdout",
          "output_type": "stream",
          "text": [
            "train Loss: 0.0112 Acc: 0.9994\n",
            "valid Loss: 0.8679 Acc: 0.7890\n",
            "Saving model...\n",
            "------------------------------\n",
            "\n",
            "Epoch 58/200\n",
            "----------\n"
          ]
        },
        {
          "metadata": {
            "tags": null
          },
          "name": "stderr",
          "output_type": "stream",
          "text": [
            "391it [02:03,  3.16it/s]\n"
          ]
        },
        {
          "metadata": {
            "tags": null
          },
          "name": "stdout",
          "output_type": "stream",
          "text": [
            "train Loss: 0.0110 Acc: 0.9993\n",
            "valid Loss: 0.8665 Acc: 0.7879\n",
            "------------------------------\n",
            "\n",
            "Epoch 59/200\n",
            "----------\n"
          ]
        },
        {
          "metadata": {
            "tags": null
          },
          "name": "stderr",
          "output_type": "stream",
          "text": [
            "391it [02:03,  3.17it/s]\n"
          ]
        },
        {
          "metadata": {
            "tags": null
          },
          "name": "stdout",
          "output_type": "stream",
          "text": [
            "train Loss: 0.0104 Acc: 0.9997\n",
            "valid Loss: 0.8718 Acc: 0.7878\n",
            "------------------------------\n",
            "\n",
            "Epoch 60/200\n",
            "----------\n"
          ]
        },
        {
          "metadata": {
            "tags": null
          },
          "name": "stderr",
          "output_type": "stream",
          "text": [
            "391it [02:03,  3.17it/s]\n"
          ]
        },
        {
          "metadata": {
            "tags": null
          },
          "name": "stdout",
          "output_type": "stream",
          "text": [
            "train Loss: 0.0106 Acc: 0.9994\n",
            "valid Loss: 0.8643 Acc: 0.7879\n",
            "------------------------------\n",
            "\n",
            "Epoch 61/200\n",
            "----------\n"
          ]
        },
        {
          "metadata": {
            "tags": null
          },
          "name": "stderr",
          "output_type": "stream",
          "text": [
            "391it [02:03,  3.17it/s]\n"
          ]
        },
        {
          "metadata": {
            "tags": null
          },
          "name": "stdout",
          "output_type": "stream",
          "text": [
            "train Loss: 0.0103 Acc: 0.9994\n",
            "valid Loss: 0.8689 Acc: 0.7872\n",
            "------------------------------\n",
            "\n",
            "Epoch 62/200\n",
            "----------\n"
          ]
        },
        {
          "metadata": {
            "tags": null
          },
          "name": "stderr",
          "output_type": "stream",
          "text": [
            "391it [02:03,  3.17it/s]\n"
          ]
        },
        {
          "metadata": {
            "tags": null
          },
          "name": "stdout",
          "output_type": "stream",
          "text": [
            "train Loss: 0.0108 Acc: 0.9993\n",
            "valid Loss: 0.8689 Acc: 0.7887\n",
            "------------------------------\n",
            "\n",
            "Epoch 63/200\n",
            "----------\n"
          ]
        },
        {
          "metadata": {
            "tags": null
          },
          "name": "stderr",
          "output_type": "stream",
          "text": [
            "391it [02:03,  3.17it/s]\n"
          ]
        },
        {
          "metadata": {
            "tags": null
          },
          "name": "stdout",
          "output_type": "stream",
          "text": [
            "train Loss: 0.0105 Acc: 0.9995\n",
            "valid Loss: 0.8685 Acc: 0.7880\n",
            "------------------------------\n",
            "\n",
            "Epoch 64/200\n",
            "----------\n"
          ]
        },
        {
          "metadata": {
            "tags": null
          },
          "name": "stderr",
          "output_type": "stream",
          "text": [
            "391it [02:03,  3.17it/s]\n"
          ]
        },
        {
          "metadata": {
            "tags": null
          },
          "name": "stdout",
          "output_type": "stream",
          "text": [
            "train Loss: 0.0107 Acc: 0.9995\n",
            "valid Loss: 0.8705 Acc: 0.7858\n",
            "------------------------------\n",
            "\n",
            "Epoch 65/200\n",
            "----------\n"
          ]
        },
        {
          "metadata": {
            "tags": null
          },
          "name": "stderr",
          "output_type": "stream",
          "text": [
            "391it [02:03,  3.17it/s]\n"
          ]
        },
        {
          "metadata": {
            "tags": null
          },
          "name": "stdout",
          "output_type": "stream",
          "text": [
            "train Loss: 0.0103 Acc: 0.9993\n",
            "valid Loss: 0.8702 Acc: 0.7880\n",
            "------------------------------\n",
            "\n",
            "Epoch 66/200\n",
            "----------\n"
          ]
        },
        {
          "metadata": {
            "tags": null
          },
          "name": "stderr",
          "output_type": "stream",
          "text": [
            "391it [02:03,  3.17it/s]\n"
          ]
        },
        {
          "metadata": {
            "tags": null
          },
          "name": "stdout",
          "output_type": "stream",
          "text": [
            "train Loss: 0.0106 Acc: 0.9993\n",
            "valid Loss: 0.8705 Acc: 0.7874\n",
            "------------------------------\n",
            "\n",
            "Epoch 67/200\n",
            "----------\n"
          ]
        },
        {
          "metadata": {
            "tags": null
          },
          "name": "stderr",
          "output_type": "stream",
          "text": [
            "391it [02:03,  3.17it/s]\n"
          ]
        },
        {
          "metadata": {
            "tags": null
          },
          "name": "stdout",
          "output_type": "stream",
          "text": [
            "train Loss: 0.0111 Acc: 0.9992\n",
            "valid Loss: 0.8713 Acc: 0.7886\n",
            "------------------------------\n",
            "\n",
            "Epoch 68/200\n",
            "----------\n"
          ]
        },
        {
          "metadata": {
            "tags": null
          },
          "name": "stderr",
          "output_type": "stream",
          "text": [
            "391it [02:03,  3.17it/s]\n"
          ]
        },
        {
          "metadata": {
            "tags": null
          },
          "name": "stdout",
          "output_type": "stream",
          "text": [
            "train Loss: 0.0111 Acc: 0.9993\n",
            "valid Loss: 0.8779 Acc: 0.7886\n",
            "------------------------------\n",
            "\n",
            "Epoch 69/200\n",
            "----------\n"
          ]
        },
        {
          "metadata": {
            "tags": null
          },
          "name": "stderr",
          "output_type": "stream",
          "text": [
            "391it [02:03,  3.17it/s]\n"
          ]
        },
        {
          "metadata": {
            "tags": null
          },
          "name": "stdout",
          "output_type": "stream",
          "text": [
            "train Loss: 0.0118 Acc: 0.9991\n",
            "valid Loss: 0.8703 Acc: 0.7875\n",
            "------------------------------\n",
            "\n",
            "Epoch 70/200\n",
            "----------\n"
          ]
        },
        {
          "metadata": {
            "tags": null
          },
          "name": "stderr",
          "output_type": "stream",
          "text": [
            "391it [02:03,  3.17it/s]\n"
          ]
        },
        {
          "metadata": {
            "tags": null
          },
          "name": "stdout",
          "output_type": "stream",
          "text": [
            "train Loss: 0.0128 Acc: 0.9990\n",
            "valid Loss: 0.8912 Acc: 0.7871\n",
            "------------------------------\n",
            "\n",
            "Epoch 71/200\n",
            "----------\n"
          ]
        },
        {
          "metadata": {
            "tags": null
          },
          "name": "stderr",
          "output_type": "stream",
          "text": [
            "391it [02:03,  3.17it/s]\n"
          ]
        },
        {
          "metadata": {
            "tags": null
          },
          "name": "stdout",
          "output_type": "stream",
          "text": [
            "train Loss: 0.0146 Acc: 0.9986\n",
            "valid Loss: 0.8973 Acc: 0.7848\n",
            "------------------------------\n",
            "\n",
            "Epoch 72/200\n",
            "----------\n"
          ]
        },
        {
          "metadata": {
            "tags": null
          },
          "name": "stderr",
          "output_type": "stream",
          "text": [
            "391it [02:03,  3.18it/s]\n"
          ]
        },
        {
          "metadata": {
            "tags": null
          },
          "name": "stdout",
          "output_type": "stream",
          "text": [
            "train Loss: 0.0173 Acc: 0.9981\n",
            "valid Loss: 0.9197 Acc: 0.7773\n",
            "------------------------------\n",
            "\n",
            "Epoch 73/200\n",
            "----------\n"
          ]
        },
        {
          "metadata": {
            "tags": null
          },
          "name": "stderr",
          "output_type": "stream",
          "text": [
            "391it [02:02,  3.18it/s]\n"
          ]
        },
        {
          "metadata": {
            "tags": null
          },
          "name": "stdout",
          "output_type": "stream",
          "text": [
            "train Loss: 0.0295 Acc: 0.9960\n",
            "valid Loss: 0.9384 Acc: 0.7721\n",
            "------------------------------\n",
            "\n",
            "Epoch 74/200\n",
            "----------\n"
          ]
        },
        {
          "metadata": {
            "tags": null
          },
          "name": "stderr",
          "output_type": "stream",
          "text": [
            "391it [02:03,  3.17it/s]\n"
          ]
        },
        {
          "metadata": {
            "tags": null
          },
          "name": "stdout",
          "output_type": "stream",
          "text": [
            "train Loss: 0.0792 Acc: 0.9819\n",
            "valid Loss: 1.0921 Acc: 0.7294\n",
            "------------------------------\n",
            "\n",
            "Epoch 75/200\n",
            "----------\n"
          ]
        },
        {
          "metadata": {
            "tags": null
          },
          "name": "stderr",
          "output_type": "stream",
          "text": [
            "391it [02:03,  3.18it/s]\n"
          ]
        },
        {
          "metadata": {
            "tags": null
          },
          "name": "stdout",
          "output_type": "stream",
          "text": [
            "train Loss: 0.1807 Acc: 0.9502\n",
            "valid Loss: 1.1171 Acc: 0.7179\n",
            "------------------------------\n",
            "\n",
            "Epoch 76/200\n",
            "----------\n"
          ]
        },
        {
          "metadata": {
            "tags": null
          },
          "name": "stderr",
          "output_type": "stream",
          "text": [
            "391it [02:03,  3.17it/s]\n"
          ]
        },
        {
          "metadata": {
            "tags": null
          },
          "name": "stdout",
          "output_type": "stream",
          "text": [
            "train Loss: 0.2625 Acc: 0.9238\n",
            "valid Loss: 1.1909 Acc: 0.6925\n",
            "------------------------------\n",
            "\n",
            "Epoch 77/200\n",
            "----------\n"
          ]
        },
        {
          "metadata": {
            "tags": null
          },
          "name": "stderr",
          "output_type": "stream",
          "text": [
            "391it [02:03,  3.17it/s]\n"
          ]
        },
        {
          "metadata": {
            "tags": null
          },
          "name": "stdout",
          "output_type": "stream",
          "text": [
            "train Loss: 0.3215 Acc: 0.9036\n",
            "valid Loss: 1.2249 Acc: 0.6951\n",
            "------------------------------\n",
            "\n",
            "Epoch 78/200\n",
            "----------\n"
          ]
        },
        {
          "metadata": {
            "tags": null
          },
          "name": "stderr",
          "output_type": "stream",
          "text": [
            "391it [02:03,  3.17it/s]\n"
          ]
        },
        {
          "metadata": {
            "tags": null
          },
          "name": "stdout",
          "output_type": "stream",
          "text": [
            "train Loss: 0.3679 Acc: 0.8882\n",
            "valid Loss: 1.2276 Acc: 0.6809\n",
            "------------------------------\n",
            "\n",
            "Epoch 79/200\n",
            "----------\n"
          ]
        },
        {
          "metadata": {
            "tags": null
          },
          "name": "stderr",
          "output_type": "stream",
          "text": [
            "391it [02:03,  3.17it/s]\n"
          ]
        },
        {
          "metadata": {
            "tags": null
          },
          "name": "stdout",
          "output_type": "stream",
          "text": [
            "train Loss: 0.4016 Acc: 0.8774\n",
            "valid Loss: 1.2257 Acc: 0.6824\n",
            "------------------------------\n",
            "\n",
            "Epoch 80/200\n",
            "----------\n"
          ]
        },
        {
          "metadata": {
            "tags": null
          },
          "name": "stderr",
          "output_type": "stream",
          "text": [
            "391it [02:03,  3.17it/s]\n"
          ]
        },
        {
          "metadata": {
            "tags": null
          },
          "name": "stdout",
          "output_type": "stream",
          "text": [
            "train Loss: 0.4162 Acc: 0.8704\n",
            "valid Loss: 1.3356 Acc: 0.6620\n",
            "------------------------------\n",
            "\n",
            "Epoch 81/200\n",
            "----------\n"
          ]
        },
        {
          "metadata": {
            "tags": null
          },
          "name": "stderr",
          "output_type": "stream",
          "text": [
            "391it [02:03,  3.17it/s]\n"
          ]
        },
        {
          "metadata": {
            "tags": null
          },
          "name": "stdout",
          "output_type": "stream",
          "text": [
            "train Loss: 0.4447 Acc: 0.8613\n",
            "valid Loss: 1.2827 Acc: 0.6713\n",
            "------------------------------\n",
            "\n",
            "Epoch 82/200\n",
            "----------\n"
          ]
        },
        {
          "metadata": {
            "tags": null
          },
          "name": "stderr",
          "output_type": "stream",
          "text": [
            "391it [02:04,  3.14it/s]\n"
          ]
        },
        {
          "metadata": {
            "tags": null
          },
          "name": "stdout",
          "output_type": "stream",
          "text": [
            "train Loss: 0.4659 Acc: 0.8551\n",
            "valid Loss: 1.3585 Acc: 0.6639\n",
            "------------------------------\n",
            "\n",
            "Epoch 83/200\n",
            "----------\n"
          ]
        },
        {
          "metadata": {
            "tags": null
          },
          "name": "stderr",
          "output_type": "stream",
          "text": [
            "391it [02:04,  3.14it/s]\n"
          ]
        },
        {
          "metadata": {
            "tags": null
          },
          "name": "stdout",
          "output_type": "stream",
          "text": [
            "train Loss: 0.4562 Acc: 0.8573\n",
            "valid Loss: 1.2610 Acc: 0.6763\n",
            "------------------------------\n",
            "\n",
            "Epoch 84/200\n",
            "----------\n"
          ]
        },
        {
          "metadata": {
            "tags": null
          },
          "name": "stderr",
          "output_type": "stream",
          "text": [
            "391it [02:04,  3.14it/s]\n"
          ]
        },
        {
          "metadata": {
            "tags": null
          },
          "name": "stdout",
          "output_type": "stream",
          "text": [
            "train Loss: 0.4686 Acc: 0.8532\n",
            "valid Loss: 1.2879 Acc: 0.6751\n",
            "------------------------------\n",
            "\n",
            "Epoch 85/200\n",
            "----------\n"
          ]
        },
        {
          "metadata": {
            "tags": null
          },
          "name": "stderr",
          "output_type": "stream",
          "text": [
            "391it [02:04,  3.14it/s]\n"
          ]
        },
        {
          "metadata": {
            "tags": null
          },
          "name": "stdout",
          "output_type": "stream",
          "text": [
            "train Loss: 0.4936 Acc: 0.8470\n",
            "valid Loss: 1.3619 Acc: 0.6683\n",
            "------------------------------\n",
            "\n",
            "Epoch 86/200\n",
            "----------\n"
          ]
        },
        {
          "metadata": {
            "tags": null
          },
          "name": "stderr",
          "output_type": "stream",
          "text": [
            "391it [02:04,  3.14it/s]\n"
          ]
        },
        {
          "metadata": {
            "tags": null
          },
          "name": "stdout",
          "output_type": "stream",
          "text": [
            "train Loss: 0.5030 Acc: 0.8429\n",
            "valid Loss: 1.2800 Acc: 0.6667\n",
            "------------------------------\n",
            "\n",
            "Epoch 87/200\n",
            "----------\n"
          ]
        },
        {
          "metadata": {
            "tags": null
          },
          "name": "stderr",
          "output_type": "stream",
          "text": [
            "391it [02:04,  3.14it/s]\n"
          ]
        },
        {
          "metadata": {
            "tags": null
          },
          "name": "stdout",
          "output_type": "stream",
          "text": [
            "train Loss: 0.5207 Acc: 0.8365\n",
            "valid Loss: 1.4398 Acc: 0.6420\n",
            "------------------------------\n",
            "\n",
            "Epoch 88/200\n",
            "----------\n"
          ]
        },
        {
          "metadata": {
            "tags": null
          },
          "name": "stderr",
          "output_type": "stream",
          "text": [
            "391it [02:04,  3.14it/s]\n"
          ]
        },
        {
          "metadata": {
            "tags": null
          },
          "name": "stdout",
          "output_type": "stream",
          "text": [
            "train Loss: 0.5361 Acc: 0.8330\n",
            "valid Loss: 1.3094 Acc: 0.6641\n",
            "------------------------------\n",
            "\n",
            "Epoch 89/200\n",
            "----------\n"
          ]
        },
        {
          "metadata": {
            "tags": null
          },
          "name": "stderr",
          "output_type": "stream",
          "text": [
            "391it [02:04,  3.14it/s]\n"
          ]
        },
        {
          "metadata": {
            "tags": null
          },
          "name": "stdout",
          "output_type": "stream",
          "text": [
            "train Loss: 0.5486 Acc: 0.8291\n",
            "valid Loss: 1.3890 Acc: 0.6451\n",
            "------------------------------\n",
            "\n",
            "Epoch 90/200\n",
            "----------\n"
          ]
        },
        {
          "metadata": {
            "tags": null
          },
          "name": "stderr",
          "output_type": "stream",
          "text": [
            "391it [02:04,  3.14it/s]\n"
          ]
        },
        {
          "metadata": {
            "tags": null
          },
          "name": "stdout",
          "output_type": "stream",
          "text": [
            "train Loss: 0.5555 Acc: 0.8299\n",
            "valid Loss: 1.2256 Acc: 0.6791\n",
            "------------------------------\n",
            "\n",
            "Epoch 91/200\n",
            "----------\n"
          ]
        },
        {
          "metadata": {
            "tags": null
          },
          "name": "stderr",
          "output_type": "stream",
          "text": [
            "391it [02:04,  3.14it/s]\n"
          ]
        },
        {
          "metadata": {
            "tags": null
          },
          "name": "stdout",
          "output_type": "stream",
          "text": [
            "train Loss: 0.5665 Acc: 0.8253\n",
            "valid Loss: 1.3550 Acc: 0.6533\n",
            "------------------------------\n",
            "\n",
            "Epoch 92/200\n",
            "----------\n"
          ]
        },
        {
          "metadata": {
            "tags": null
          },
          "name": "stderr",
          "output_type": "stream",
          "text": [
            "391it [02:04,  3.14it/s]\n"
          ]
        },
        {
          "metadata": {
            "tags": null
          },
          "name": "stdout",
          "output_type": "stream",
          "text": [
            "train Loss: 0.5913 Acc: 0.8169\n",
            "valid Loss: 1.3162 Acc: 0.6592\n",
            "------------------------------\n",
            "\n",
            "Epoch 93/200\n",
            "----------\n"
          ]
        },
        {
          "metadata": {
            "tags": null
          },
          "name": "stderr",
          "output_type": "stream",
          "text": [
            "391it [02:04,  3.14it/s]\n"
          ]
        },
        {
          "metadata": {
            "tags": null
          },
          "name": "stdout",
          "output_type": "stream",
          "text": [
            "train Loss: 0.5973 Acc: 0.8153\n",
            "valid Loss: 1.3614 Acc: 0.6415\n",
            "------------------------------\n",
            "\n",
            "Epoch 94/200\n",
            "----------\n"
          ]
        },
        {
          "metadata": {
            "tags": null
          },
          "name": "stderr",
          "output_type": "stream",
          "text": [
            "391it [02:04,  3.14it/s]\n"
          ]
        },
        {
          "metadata": {
            "tags": null
          },
          "name": "stdout",
          "output_type": "stream",
          "text": [
            "train Loss: 0.6287 Acc: 0.8068\n",
            "valid Loss: 1.3308 Acc: 0.6545\n",
            "------------------------------\n",
            "\n",
            "Epoch 95/200\n",
            "----------\n"
          ]
        },
        {
          "metadata": {
            "tags": null
          },
          "name": "stderr",
          "output_type": "stream",
          "text": [
            "391it [02:04,  3.14it/s]\n"
          ]
        },
        {
          "metadata": {
            "tags": null
          },
          "name": "stdout",
          "output_type": "stream",
          "text": [
            "train Loss: 0.6310 Acc: 0.8068\n",
            "valid Loss: 1.3494 Acc: 0.6451\n",
            "------------------------------\n",
            "\n",
            "Epoch 96/200\n",
            "----------\n"
          ]
        },
        {
          "metadata": {
            "tags": null
          },
          "name": "stderr",
          "output_type": "stream",
          "text": [
            "391it [02:04,  3.14it/s]\n"
          ]
        },
        {
          "metadata": {
            "tags": null
          },
          "name": "stdout",
          "output_type": "stream",
          "text": [
            "train Loss: 0.6511 Acc: 0.8000\n",
            "valid Loss: 1.4716 Acc: 0.6264\n",
            "------------------------------\n",
            "\n",
            "Epoch 97/200\n",
            "----------\n"
          ]
        },
        {
          "metadata": {
            "tags": null
          },
          "name": "stderr",
          "output_type": "stream",
          "text": [
            "391it [02:04,  3.14it/s]\n"
          ]
        },
        {
          "metadata": {
            "tags": null
          },
          "name": "stdout",
          "output_type": "stream",
          "text": [
            "train Loss: 0.6593 Acc: 0.7968\n",
            "valid Loss: 1.4166 Acc: 0.6307\n",
            "------------------------------\n",
            "\n",
            "Epoch 98/200\n",
            "----------\n"
          ]
        },
        {
          "metadata": {
            "tags": null
          },
          "name": "stderr",
          "output_type": "stream",
          "text": [
            "391it [02:04,  3.14it/s]\n"
          ]
        },
        {
          "metadata": {
            "tags": null
          },
          "name": "stdout",
          "output_type": "stream",
          "text": [
            "train Loss: 0.6755 Acc: 0.7933\n",
            "valid Loss: 1.3636 Acc: 0.6420\n",
            "------------------------------\n",
            "\n",
            "Epoch 99/200\n",
            "----------\n"
          ]
        },
        {
          "metadata": {
            "tags": null
          },
          "name": "stderr",
          "output_type": "stream",
          "text": [
            "391it [02:04,  3.14it/s]\n"
          ]
        },
        {
          "metadata": {
            "tags": null
          },
          "name": "stdout",
          "output_type": "stream",
          "text": [
            "train Loss: 0.6883 Acc: 0.7895\n",
            "valid Loss: 1.3799 Acc: 0.6427\n",
            "------------------------------\n",
            "\n",
            "Epoch 100/200\n",
            "----------\n"
          ]
        },
        {
          "metadata": {
            "tags": null
          },
          "name": "stderr",
          "output_type": "stream",
          "text": [
            "391it [02:04,  3.14it/s]\n"
          ]
        },
        {
          "metadata": {
            "tags": null
          },
          "name": "stdout",
          "output_type": "stream",
          "text": [
            "train Loss: 0.7026 Acc: 0.7862\n",
            "valid Loss: 1.3661 Acc: 0.6427\n",
            "------------------------------\n",
            "\n",
            "Epoch 101/200\n",
            "----------\n"
          ]
        },
        {
          "metadata": {
            "tags": null
          },
          "name": "stderr",
          "output_type": "stream",
          "text": [
            "391it [02:04,  3.14it/s]\n"
          ]
        },
        {
          "metadata": {
            "tags": null
          },
          "name": "stdout",
          "output_type": "stream",
          "text": [
            "train Loss: 0.7254 Acc: 0.7796\n",
            "valid Loss: 1.3593 Acc: 0.6360\n",
            "------------------------------\n",
            "\n",
            "Epoch 102/200\n",
            "----------\n"
          ]
        },
        {
          "metadata": {
            "tags": null
          },
          "name": "stderr",
          "output_type": "stream",
          "text": [
            "391it [02:04,  3.14it/s]\n"
          ]
        },
        {
          "metadata": {
            "tags": null
          },
          "name": "stdout",
          "output_type": "stream",
          "text": [
            "train Loss: 0.7285 Acc: 0.7777\n",
            "valid Loss: 1.4193 Acc: 0.6353\n",
            "------------------------------\n",
            "\n",
            "Epoch 103/200\n",
            "----------\n"
          ]
        },
        {
          "metadata": {
            "tags": null
          },
          "name": "stderr",
          "output_type": "stream",
          "text": [
            "391it [02:04,  3.14it/s]\n"
          ]
        },
        {
          "metadata": {
            "tags": null
          },
          "name": "stdout",
          "output_type": "stream",
          "text": [
            "train Loss: 0.7427 Acc: 0.7760\n",
            "valid Loss: 1.5677 Acc: 0.6108\n",
            "------------------------------\n",
            "\n",
            "Epoch 104/200\n",
            "----------\n"
          ]
        },
        {
          "metadata": {
            "tags": null
          },
          "name": "stderr",
          "output_type": "stream",
          "text": [
            "391it [02:04,  3.14it/s]\n"
          ]
        },
        {
          "metadata": {
            "tags": null
          },
          "name": "stdout",
          "output_type": "stream",
          "text": [
            "train Loss: 0.7647 Acc: 0.7689\n",
            "valid Loss: 1.6291 Acc: 0.5841\n",
            "------------------------------\n",
            "\n",
            "Epoch 105/200\n",
            "----------\n"
          ]
        },
        {
          "metadata": {
            "tags": null
          },
          "name": "stderr",
          "output_type": "stream",
          "text": [
            "391it [02:04,  3.14it/s]\n"
          ]
        },
        {
          "metadata": {
            "tags": null
          },
          "name": "stdout",
          "output_type": "stream",
          "text": [
            "train Loss: 0.7674 Acc: 0.7700\n",
            "valid Loss: 1.4049 Acc: 0.6261\n",
            "------------------------------\n",
            "\n",
            "Epoch 106/200\n",
            "----------\n"
          ]
        },
        {
          "metadata": {
            "tags": null
          },
          "name": "stderr",
          "output_type": "stream",
          "text": [
            "391it [02:04,  3.13it/s]\n"
          ]
        },
        {
          "metadata": {
            "tags": null
          },
          "name": "stdout",
          "output_type": "stream",
          "text": [
            "train Loss: 0.7795 Acc: 0.7633\n",
            "valid Loss: 1.4403 Acc: 0.6224\n",
            "------------------------------\n",
            "\n",
            "Epoch 107/200\n",
            "----------\n"
          ]
        },
        {
          "metadata": {
            "tags": null
          },
          "name": "stderr",
          "output_type": "stream",
          "text": [
            "391it [02:04,  3.13it/s]\n"
          ]
        },
        {
          "metadata": {
            "tags": null
          },
          "name": "stdout",
          "output_type": "stream",
          "text": [
            "train Loss: 0.7867 Acc: 0.7630\n",
            "valid Loss: 1.5725 Acc: 0.5973\n",
            "------------------------------\n",
            "\n",
            "Epoch 108/200\n",
            "----------\n"
          ]
        },
        {
          "metadata": {
            "tags": null
          },
          "name": "stderr",
          "output_type": "stream",
          "text": [
            "391it [02:04,  3.14it/s]\n"
          ]
        },
        {
          "metadata": {
            "tags": null
          },
          "name": "stdout",
          "output_type": "stream",
          "text": [
            "train Loss: 0.7961 Acc: 0.7616\n",
            "valid Loss: 1.2816 Acc: 0.6492\n",
            "------------------------------\n",
            "\n",
            "Epoch 109/200\n",
            "----------\n"
          ]
        },
        {
          "metadata": {
            "tags": null
          },
          "name": "stderr",
          "output_type": "stream",
          "text": [
            "391it [02:04,  3.14it/s]\n"
          ]
        },
        {
          "metadata": {
            "tags": null
          },
          "name": "stdout",
          "output_type": "stream",
          "text": [
            "train Loss: 0.7999 Acc: 0.7600\n",
            "valid Loss: 1.3705 Acc: 0.6366\n",
            "------------------------------\n",
            "\n",
            "Epoch 110/200\n",
            "----------\n"
          ]
        },
        {
          "metadata": {
            "tags": null
          },
          "name": "stderr",
          "output_type": "stream",
          "text": [
            "391it [02:05,  3.13it/s]\n"
          ]
        },
        {
          "metadata": {
            "tags": null
          },
          "name": "stdout",
          "output_type": "stream",
          "text": [
            "train Loss: 0.8167 Acc: 0.7546\n",
            "valid Loss: 1.5240 Acc: 0.6154\n",
            "------------------------------\n",
            "\n",
            "Epoch 111/200\n",
            "----------\n"
          ]
        },
        {
          "metadata": {
            "tags": null
          },
          "name": "stderr",
          "output_type": "stream",
          "text": [
            "391it [02:05,  3.12it/s]\n"
          ]
        },
        {
          "metadata": {
            "tags": null
          },
          "name": "stdout",
          "output_type": "stream",
          "text": [
            "train Loss: 0.8332 Acc: 0.7495\n",
            "valid Loss: 1.5539 Acc: 0.6074\n",
            "------------------------------\n",
            "\n",
            "Epoch 112/200\n",
            "----------\n"
          ]
        },
        {
          "metadata": {
            "tags": null
          },
          "name": "stderr",
          "output_type": "stream",
          "text": [
            "391it [02:04,  3.13it/s]\n"
          ]
        },
        {
          "metadata": {
            "tags": null
          },
          "name": "stdout",
          "output_type": "stream",
          "text": [
            "train Loss: 0.8323 Acc: 0.7510\n",
            "valid Loss: 1.3535 Acc: 0.6378\n",
            "------------------------------\n",
            "\n",
            "Epoch 113/200\n",
            "----------\n"
          ]
        },
        {
          "metadata": {
            "tags": null
          },
          "name": "stderr",
          "output_type": "stream",
          "text": [
            "391it [02:04,  3.13it/s]\n"
          ]
        },
        {
          "metadata": {
            "tags": null
          },
          "name": "stdout",
          "output_type": "stream",
          "text": [
            "train Loss: 0.8390 Acc: 0.7477\n",
            "valid Loss: 1.4359 Acc: 0.6205\n",
            "------------------------------\n",
            "\n",
            "Epoch 114/200\n",
            "----------\n"
          ]
        },
        {
          "metadata": {
            "tags": null
          },
          "name": "stderr",
          "output_type": "stream",
          "text": [
            "391it [02:04,  3.13it/s]\n"
          ]
        },
        {
          "metadata": {
            "tags": null
          },
          "name": "stdout",
          "output_type": "stream",
          "text": [
            "train Loss: 0.8490 Acc: 0.7464\n",
            "valid Loss: 1.4631 Acc: 0.6184\n",
            "------------------------------\n",
            "\n",
            "Epoch 115/200\n",
            "----------\n"
          ]
        },
        {
          "metadata": {
            "tags": null
          },
          "name": "stderr",
          "output_type": "stream",
          "text": [
            "391it [02:04,  3.13it/s]\n"
          ]
        },
        {
          "metadata": {
            "tags": null
          },
          "name": "stdout",
          "output_type": "stream",
          "text": [
            "train Loss: 0.8519 Acc: 0.7448\n",
            "valid Loss: 1.5594 Acc: 0.6008\n",
            "------------------------------\n",
            "\n",
            "Epoch 116/200\n",
            "----------\n"
          ]
        },
        {
          "metadata": {
            "tags": null
          },
          "name": "stderr",
          "output_type": "stream",
          "text": [
            "391it [02:05,  3.12it/s]\n"
          ]
        },
        {
          "metadata": {
            "tags": null
          },
          "name": "stdout",
          "output_type": "stream",
          "text": [
            "train Loss: 0.8492 Acc: 0.7459\n",
            "valid Loss: 1.4849 Acc: 0.6071\n",
            "------------------------------\n",
            "\n",
            "Epoch 117/200\n",
            "----------\n"
          ]
        },
        {
          "metadata": {
            "tags": null
          },
          "name": "stderr",
          "output_type": "stream",
          "text": [
            "391it [02:05,  3.11it/s]\n"
          ]
        },
        {
          "metadata": {
            "tags": null
          },
          "name": "stdout",
          "output_type": "stream",
          "text": [
            "train Loss: 0.8599 Acc: 0.7408\n",
            "valid Loss: 1.7308 Acc: 0.5606\n",
            "------------------------------\n",
            "\n",
            "Epoch 118/200\n",
            "----------\n"
          ]
        },
        {
          "metadata": {
            "tags": null
          },
          "name": "stderr",
          "output_type": "stream",
          "text": [
            "391it [02:05,  3.11it/s]\n"
          ]
        },
        {
          "metadata": {
            "tags": null
          },
          "name": "stdout",
          "output_type": "stream",
          "text": [
            "train Loss: 0.8600 Acc: 0.7440\n",
            "valid Loss: 1.4710 Acc: 0.6130\n",
            "------------------------------\n",
            "\n",
            "Epoch 119/200\n",
            "----------\n"
          ]
        },
        {
          "metadata": {
            "tags": null
          },
          "name": "stderr",
          "output_type": "stream",
          "text": [
            "391it [02:05,  3.11it/s]\n"
          ]
        },
        {
          "metadata": {
            "tags": null
          },
          "name": "stdout",
          "output_type": "stream",
          "text": [
            "train Loss: 0.8623 Acc: 0.7410\n",
            "valid Loss: 1.3230 Acc: 0.6389\n",
            "------------------------------\n",
            "\n",
            "Epoch 120/200\n",
            "----------\n"
          ]
        },
        {
          "metadata": {
            "tags": null
          },
          "name": "stderr",
          "output_type": "stream",
          "text": [
            "391it [02:05,  3.11it/s]\n"
          ]
        },
        {
          "metadata": {
            "tags": null
          },
          "name": "stdout",
          "output_type": "stream",
          "text": [
            "train Loss: 0.8560 Acc: 0.7434\n",
            "valid Loss: 1.5057 Acc: 0.6028\n",
            "------------------------------\n",
            "\n",
            "Epoch 121/200\n",
            "----------\n"
          ]
        },
        {
          "metadata": {
            "tags": null
          },
          "name": "stderr",
          "output_type": "stream",
          "text": [
            "391it [02:05,  3.11it/s]\n"
          ]
        },
        {
          "metadata": {
            "tags": null
          },
          "name": "stdout",
          "output_type": "stream",
          "text": [
            "train Loss: 0.8729 Acc: 0.7388\n",
            "valid Loss: 1.4654 Acc: 0.6154\n",
            "------------------------------\n",
            "\n",
            "Epoch 122/200\n",
            "----------\n"
          ]
        },
        {
          "metadata": {
            "tags": null
          },
          "name": "stderr",
          "output_type": "stream",
          "text": [
            "391it [02:05,  3.11it/s]\n"
          ]
        },
        {
          "metadata": {
            "tags": null
          },
          "name": "stdout",
          "output_type": "stream",
          "text": [
            "train Loss: 0.8636 Acc: 0.7389\n",
            "valid Loss: 1.4574 Acc: 0.6090\n",
            "------------------------------\n",
            "\n",
            "Epoch 123/200\n",
            "----------\n"
          ]
        },
        {
          "metadata": {
            "tags": null
          },
          "name": "stderr",
          "output_type": "stream",
          "text": [
            "391it [02:05,  3.12it/s]\n"
          ]
        },
        {
          "metadata": {
            "tags": null
          },
          "name": "stdout",
          "output_type": "stream",
          "text": [
            "train Loss: 0.8603 Acc: 0.7426\n",
            "valid Loss: 1.3678 Acc: 0.6365\n",
            "------------------------------\n",
            "\n",
            "Epoch 124/200\n",
            "----------\n"
          ]
        },
        {
          "metadata": {
            "tags": null
          },
          "name": "stderr",
          "output_type": "stream",
          "text": [
            "391it [02:05,  3.12it/s]\n"
          ]
        },
        {
          "metadata": {
            "tags": null
          },
          "name": "stdout",
          "output_type": "stream",
          "text": [
            "train Loss: 0.8639 Acc: 0.7416\n",
            "valid Loss: 1.6522 Acc: 0.5815\n",
            "------------------------------\n",
            "\n",
            "Epoch 125/200\n",
            "----------\n"
          ]
        },
        {
          "metadata": {
            "tags": null
          },
          "name": "stderr",
          "output_type": "stream",
          "text": [
            "391it [02:05,  3.12it/s]\n"
          ]
        },
        {
          "metadata": {
            "tags": null
          },
          "name": "stdout",
          "output_type": "stream",
          "text": [
            "train Loss: 0.8531 Acc: 0.7434\n",
            "valid Loss: 1.4681 Acc: 0.6149\n",
            "------------------------------\n",
            "\n",
            "Epoch 126/200\n",
            "----------\n"
          ]
        },
        {
          "metadata": {
            "tags": null
          },
          "name": "stderr",
          "output_type": "stream",
          "text": [
            "391it [02:05,  3.12it/s]\n"
          ]
        },
        {
          "metadata": {
            "tags": null
          },
          "name": "stdout",
          "output_type": "stream",
          "text": [
            "train Loss: 0.8577 Acc: 0.7438\n",
            "valid Loss: 1.4936 Acc: 0.6057\n",
            "------------------------------\n",
            "\n",
            "Epoch 127/200\n",
            "----------\n"
          ]
        },
        {
          "metadata": {
            "tags": null
          },
          "name": "stderr",
          "output_type": "stream",
          "text": [
            "391it [02:05,  3.11it/s]\n"
          ]
        },
        {
          "metadata": {
            "tags": null
          },
          "name": "stdout",
          "output_type": "stream",
          "text": [
            "train Loss: 0.8473 Acc: 0.7460\n",
            "valid Loss: 1.3264 Acc: 0.6373\n",
            "------------------------------\n",
            "\n",
            "Epoch 128/200\n",
            "----------\n"
          ]
        },
        {
          "metadata": {
            "tags": null
          },
          "name": "stderr",
          "output_type": "stream",
          "text": [
            "391it [02:05,  3.12it/s]\n"
          ]
        },
        {
          "metadata": {
            "tags": null
          },
          "name": "stdout",
          "output_type": "stream",
          "text": [
            "train Loss: 0.8546 Acc: 0.7422\n",
            "valid Loss: 1.3053 Acc: 0.6497\n",
            "------------------------------\n",
            "\n",
            "Epoch 129/200\n",
            "----------\n"
          ]
        },
        {
          "metadata": {
            "tags": null
          },
          "name": "stderr",
          "output_type": "stream",
          "text": [
            "391it [02:05,  3.12it/s]\n"
          ]
        },
        {
          "metadata": {
            "tags": null
          },
          "name": "stdout",
          "output_type": "stream",
          "text": [
            "train Loss: 0.8366 Acc: 0.7498\n",
            "valid Loss: 1.5381 Acc: 0.5894\n",
            "------------------------------\n",
            "\n",
            "Epoch 130/200\n",
            "----------\n"
          ]
        },
        {
          "metadata": {
            "tags": null
          },
          "name": "stderr",
          "output_type": "stream",
          "text": [
            "391it [02:05,  3.12it/s]\n"
          ]
        },
        {
          "metadata": {
            "tags": null
          },
          "name": "stdout",
          "output_type": "stream",
          "text": [
            "train Loss: 0.8274 Acc: 0.7516\n",
            "valid Loss: 1.5852 Acc: 0.5966\n",
            "------------------------------\n",
            "\n",
            "Epoch 131/200\n",
            "----------\n"
          ]
        },
        {
          "metadata": {
            "tags": null
          },
          "name": "stderr",
          "output_type": "stream",
          "text": [
            "391it [02:05,  3.12it/s]\n"
          ]
        },
        {
          "metadata": {
            "tags": null
          },
          "name": "stdout",
          "output_type": "stream",
          "text": [
            "train Loss: 0.8182 Acc: 0.7551\n",
            "valid Loss: 1.4343 Acc: 0.6309\n",
            "------------------------------\n",
            "\n",
            "Epoch 132/200\n",
            "----------\n"
          ]
        },
        {
          "metadata": {
            "tags": null
          },
          "name": "stderr",
          "output_type": "stream",
          "text": [
            "391it [02:05,  3.11it/s]\n"
          ]
        },
        {
          "metadata": {
            "tags": null
          },
          "name": "stdout",
          "output_type": "stream",
          "text": [
            "train Loss: 0.8087 Acc: 0.7575\n",
            "valid Loss: 1.3327 Acc: 0.6385\n",
            "------------------------------\n",
            "\n",
            "Epoch 133/200\n",
            "----------\n"
          ]
        },
        {
          "metadata": {
            "tags": null
          },
          "name": "stderr",
          "output_type": "stream",
          "text": [
            "391it [02:05,  3.11it/s]\n"
          ]
        },
        {
          "metadata": {
            "tags": null
          },
          "name": "stdout",
          "output_type": "stream",
          "text": [
            "train Loss: 0.8031 Acc: 0.7570\n",
            "valid Loss: 1.4157 Acc: 0.6243\n",
            "------------------------------\n",
            "\n",
            "Epoch 134/200\n",
            "----------\n"
          ]
        },
        {
          "metadata": {
            "tags": null
          },
          "name": "stderr",
          "output_type": "stream",
          "text": [
            "391it [02:05,  3.11it/s]\n"
          ]
        },
        {
          "metadata": {
            "tags": null
          },
          "name": "stdout",
          "output_type": "stream",
          "text": [
            "train Loss: 0.7919 Acc: 0.7643\n",
            "valid Loss: 1.4134 Acc: 0.6304\n",
            "------------------------------\n",
            "\n",
            "Epoch 135/200\n",
            "----------\n"
          ]
        },
        {
          "metadata": {
            "tags": null
          },
          "name": "stderr",
          "output_type": "stream",
          "text": [
            "391it [02:05,  3.12it/s]\n"
          ]
        },
        {
          "metadata": {
            "tags": null
          },
          "name": "stdout",
          "output_type": "stream",
          "text": [
            "train Loss: 0.7807 Acc: 0.7659\n",
            "valid Loss: 1.5485 Acc: 0.6076\n",
            "------------------------------\n",
            "\n",
            "Epoch 136/200\n",
            "----------\n"
          ]
        },
        {
          "metadata": {
            "tags": null
          },
          "name": "stderr",
          "output_type": "stream",
          "text": [
            "391it [02:05,  3.11it/s]\n"
          ]
        },
        {
          "metadata": {
            "tags": null
          },
          "name": "stdout",
          "output_type": "stream",
          "text": [
            "train Loss: 0.7730 Acc: 0.7663\n",
            "valid Loss: 1.4383 Acc: 0.6136\n",
            "------------------------------\n",
            "\n",
            "Epoch 137/200\n",
            "----------\n"
          ]
        },
        {
          "metadata": {
            "tags": null
          },
          "name": "stderr",
          "output_type": "stream",
          "text": [
            "391it [02:05,  3.11it/s]\n"
          ]
        },
        {
          "metadata": {
            "tags": null
          },
          "name": "stdout",
          "output_type": "stream",
          "text": [
            "train Loss: 0.7538 Acc: 0.7721\n",
            "valid Loss: 1.3223 Acc: 0.6413\n",
            "------------------------------\n",
            "\n",
            "Epoch 138/200\n",
            "----------\n"
          ]
        },
        {
          "metadata": {
            "tags": null
          },
          "name": "stderr",
          "output_type": "stream",
          "text": [
            "391it [02:05,  3.11it/s]\n"
          ]
        },
        {
          "metadata": {
            "tags": null
          },
          "name": "stdout",
          "output_type": "stream",
          "text": [
            "train Loss: 0.7458 Acc: 0.7735\n",
            "valid Loss: 1.7154 Acc: 0.5760\n",
            "------------------------------\n",
            "\n",
            "Epoch 139/200\n",
            "----------\n"
          ]
        },
        {
          "metadata": {
            "tags": null
          },
          "name": "stderr",
          "output_type": "stream",
          "text": [
            "391it [02:05,  3.11it/s]\n"
          ]
        },
        {
          "metadata": {
            "tags": null
          },
          "name": "stdout",
          "output_type": "stream",
          "text": [
            "train Loss: 0.7246 Acc: 0.7789\n",
            "valid Loss: 1.7216 Acc: 0.5734\n",
            "------------------------------\n",
            "\n",
            "Epoch 140/200\n",
            "----------\n"
          ]
        },
        {
          "metadata": {
            "tags": null
          },
          "name": "stderr",
          "output_type": "stream",
          "text": [
            "391it [02:05,  3.12it/s]\n"
          ]
        },
        {
          "metadata": {
            "tags": null
          },
          "name": "stdout",
          "output_type": "stream",
          "text": [
            "train Loss: 0.7151 Acc: 0.7841\n",
            "valid Loss: 1.2336 Acc: 0.6687\n",
            "------------------------------\n",
            "\n",
            "Epoch 141/200\n",
            "----------\n"
          ]
        },
        {
          "metadata": {
            "tags": null
          },
          "name": "stderr",
          "output_type": "stream",
          "text": [
            "391it [02:05,  3.11it/s]\n"
          ]
        },
        {
          "metadata": {
            "tags": null
          },
          "name": "stdout",
          "output_type": "stream",
          "text": [
            "train Loss: 0.7002 Acc: 0.7883\n",
            "valid Loss: 1.4275 Acc: 0.6276\n",
            "------------------------------\n",
            "\n",
            "Epoch 142/200\n",
            "----------\n"
          ]
        },
        {
          "metadata": {
            "tags": null
          },
          "name": "stderr",
          "output_type": "stream",
          "text": [
            "391it [02:05,  3.12it/s]\n"
          ]
        },
        {
          "metadata": {
            "tags": null
          },
          "name": "stdout",
          "output_type": "stream",
          "text": [
            "train Loss: 0.6766 Acc: 0.7935\n",
            "valid Loss: 1.2993 Acc: 0.6532\n",
            "------------------------------\n",
            "\n",
            "Epoch 143/200\n",
            "----------\n"
          ]
        },
        {
          "metadata": {
            "tags": null
          },
          "name": "stderr",
          "output_type": "stream",
          "text": [
            "391it [02:05,  3.11it/s]\n"
          ]
        },
        {
          "metadata": {
            "tags": null
          },
          "name": "stdout",
          "output_type": "stream",
          "text": [
            "train Loss: 0.6496 Acc: 0.8015\n",
            "valid Loss: 1.1974 Acc: 0.6749\n",
            "------------------------------\n",
            "\n",
            "Epoch 144/200\n",
            "----------\n"
          ]
        },
        {
          "metadata": {
            "tags": null
          },
          "name": "stderr",
          "output_type": "stream",
          "text": [
            "391it [02:05,  3.11it/s]\n"
          ]
        },
        {
          "metadata": {
            "tags": null
          },
          "name": "stdout",
          "output_type": "stream",
          "text": [
            "train Loss: 0.6375 Acc: 0.8057\n",
            "valid Loss: 1.2822 Acc: 0.6576\n",
            "------------------------------\n",
            "\n",
            "Epoch 145/200\n",
            "----------\n"
          ]
        },
        {
          "metadata": {
            "tags": null
          },
          "name": "stderr",
          "output_type": "stream",
          "text": [
            "391it [02:05,  3.12it/s]\n"
          ]
        },
        {
          "metadata": {
            "tags": null
          },
          "name": "stdout",
          "output_type": "stream",
          "text": [
            "train Loss: 0.6208 Acc: 0.8106\n",
            "valid Loss: 1.3369 Acc: 0.6451\n",
            "------------------------------\n",
            "\n",
            "Epoch 146/200\n",
            "----------\n"
          ]
        },
        {
          "metadata": {
            "tags": null
          },
          "name": "stderr",
          "output_type": "stream",
          "text": [
            "391it [02:05,  3.12it/s]\n"
          ]
        },
        {
          "metadata": {
            "tags": null
          },
          "name": "stdout",
          "output_type": "stream",
          "text": [
            "train Loss: 0.5997 Acc: 0.8153\n",
            "valid Loss: 1.2310 Acc: 0.6681\n",
            "------------------------------\n",
            "\n",
            "Epoch 147/200\n",
            "----------\n"
          ]
        },
        {
          "metadata": {
            "tags": null
          },
          "name": "stderr",
          "output_type": "stream",
          "text": [
            "391it [02:05,  3.11it/s]\n"
          ]
        },
        {
          "metadata": {
            "tags": null
          },
          "name": "stdout",
          "output_type": "stream",
          "text": [
            "train Loss: 0.5680 Acc: 0.8255\n",
            "valid Loss: 1.3534 Acc: 0.6617\n",
            "------------------------------\n",
            "\n",
            "Epoch 148/200\n",
            "----------\n"
          ]
        },
        {
          "metadata": {
            "tags": null
          },
          "name": "stderr",
          "output_type": "stream",
          "text": [
            "391it [02:05,  3.11it/s]\n"
          ]
        },
        {
          "metadata": {
            "tags": null
          },
          "name": "stdout",
          "output_type": "stream",
          "text": [
            "train Loss: 0.5492 Acc: 0.8314\n",
            "valid Loss: 1.1815 Acc: 0.6809\n",
            "------------------------------\n",
            "\n",
            "Epoch 149/200\n",
            "----------\n"
          ]
        },
        {
          "metadata": {
            "tags": null
          },
          "name": "stderr",
          "output_type": "stream",
          "text": [
            "391it [02:05,  3.11it/s]\n"
          ]
        },
        {
          "metadata": {
            "tags": null
          },
          "name": "stdout",
          "output_type": "stream",
          "text": [
            "train Loss: 0.5202 Acc: 0.8385\n",
            "valid Loss: 1.2833 Acc: 0.6603\n",
            "------------------------------\n",
            "\n",
            "Epoch 150/200\n",
            "----------\n"
          ]
        },
        {
          "metadata": {
            "tags": null
          },
          "name": "stderr",
          "output_type": "stream",
          "text": [
            "391it [02:05,  3.11it/s]\n"
          ]
        },
        {
          "metadata": {
            "tags": null
          },
          "name": "stdout",
          "output_type": "stream",
          "text": [
            "train Loss: 0.5053 Acc: 0.8438\n",
            "valid Loss: 1.2445 Acc: 0.6826\n",
            "------------------------------\n",
            "\n",
            "Epoch 151/200\n",
            "----------\n"
          ]
        },
        {
          "metadata": {
            "tags": null
          },
          "name": "stderr",
          "output_type": "stream",
          "text": [
            "391it [02:05,  3.12it/s]\n"
          ]
        },
        {
          "metadata": {
            "tags": null
          },
          "name": "stdout",
          "output_type": "stream",
          "text": [
            "train Loss: 0.4752 Acc: 0.8525\n",
            "valid Loss: 1.2011 Acc: 0.6871\n",
            "------------------------------\n",
            "\n",
            "Epoch 152/200\n",
            "----------\n"
          ]
        },
        {
          "metadata": {
            "tags": null
          },
          "name": "stderr",
          "output_type": "stream",
          "text": [
            "391it [02:05,  3.11it/s]\n"
          ]
        },
        {
          "metadata": {
            "tags": null
          },
          "name": "stdout",
          "output_type": "stream",
          "text": [
            "train Loss: 0.4450 Acc: 0.8606\n",
            "valid Loss: 1.2332 Acc: 0.6785\n",
            "------------------------------\n",
            "\n",
            "Epoch 153/200\n",
            "----------\n"
          ]
        },
        {
          "metadata": {
            "tags": null
          },
          "name": "stderr",
          "output_type": "stream",
          "text": [
            "391it [02:05,  3.11it/s]\n"
          ]
        },
        {
          "metadata": {
            "tags": null
          },
          "name": "stdout",
          "output_type": "stream",
          "text": [
            "train Loss: 0.4151 Acc: 0.8710\n",
            "valid Loss: 1.1821 Acc: 0.6870\n",
            "------------------------------\n",
            "\n",
            "Epoch 154/200\n",
            "----------\n"
          ]
        },
        {
          "metadata": {
            "tags": null
          },
          "name": "stderr",
          "output_type": "stream",
          "text": [
            "391it [02:05,  3.12it/s]\n"
          ]
        },
        {
          "metadata": {
            "tags": null
          },
          "name": "stdout",
          "output_type": "stream",
          "text": [
            "train Loss: 0.3880 Acc: 0.8787\n",
            "valid Loss: 1.1735 Acc: 0.6919\n",
            "------------------------------\n",
            "\n",
            "Epoch 155/200\n",
            "----------\n"
          ]
        },
        {
          "metadata": {
            "tags": null
          },
          "name": "stderr",
          "output_type": "stream",
          "text": [
            "391it [02:05,  3.11it/s]\n"
          ]
        },
        {
          "metadata": {
            "tags": null
          },
          "name": "stdout",
          "output_type": "stream",
          "text": [
            "train Loss: 0.3491 Acc: 0.8922\n",
            "valid Loss: 1.1501 Acc: 0.6983\n",
            "------------------------------\n",
            "\n",
            "Epoch 156/200\n",
            "----------\n"
          ]
        },
        {
          "metadata": {
            "tags": null
          },
          "name": "stderr",
          "output_type": "stream",
          "text": [
            "391it [02:05,  3.12it/s]\n"
          ]
        },
        {
          "metadata": {
            "tags": null
          },
          "name": "stdout",
          "output_type": "stream",
          "text": [
            "train Loss: 0.3264 Acc: 0.8999\n",
            "valid Loss: 1.1791 Acc: 0.7015\n",
            "------------------------------\n",
            "\n",
            "Epoch 157/200\n",
            "----------\n"
          ]
        },
        {
          "metadata": {
            "tags": null
          },
          "name": "stderr",
          "output_type": "stream",
          "text": [
            "391it [02:05,  3.11it/s]\n"
          ]
        },
        {
          "metadata": {
            "tags": null
          },
          "name": "stdout",
          "output_type": "stream",
          "text": [
            "train Loss: 0.2980 Acc: 0.9081\n",
            "valid Loss: 1.1250 Acc: 0.7152\n",
            "------------------------------\n",
            "\n",
            "Epoch 158/200\n",
            "----------\n"
          ]
        },
        {
          "metadata": {
            "tags": null
          },
          "name": "stderr",
          "output_type": "stream",
          "text": [
            "391it [02:05,  3.11it/s]\n"
          ]
        },
        {
          "metadata": {
            "tags": null
          },
          "name": "stdout",
          "output_type": "stream",
          "text": [
            "train Loss: 0.2585 Acc: 0.9225\n",
            "valid Loss: 1.0749 Acc: 0.7233\n",
            "------------------------------\n",
            "\n",
            "Epoch 159/200\n",
            "----------\n"
          ]
        },
        {
          "metadata": {
            "tags": null
          },
          "name": "stderr",
          "output_type": "stream",
          "text": [
            "391it [02:05,  3.12it/s]\n"
          ]
        },
        {
          "metadata": {
            "tags": null
          },
          "name": "stdout",
          "output_type": "stream",
          "text": [
            "train Loss: 0.2282 Acc: 0.9322\n",
            "valid Loss: 1.0750 Acc: 0.7251\n",
            "------------------------------\n",
            "\n",
            "Epoch 160/200\n",
            "----------\n"
          ]
        },
        {
          "metadata": {
            "tags": null
          },
          "name": "stderr",
          "output_type": "stream",
          "text": [
            "391it [02:05,  3.12it/s]\n"
          ]
        },
        {
          "metadata": {
            "tags": null
          },
          "name": "stdout",
          "output_type": "stream",
          "text": [
            "train Loss: 0.1998 Acc: 0.9398\n",
            "valid Loss: 1.0129 Acc: 0.7403\n",
            "------------------------------\n",
            "\n",
            "Epoch 161/200\n",
            "----------\n"
          ]
        },
        {
          "metadata": {
            "tags": null
          },
          "name": "stderr",
          "output_type": "stream",
          "text": [
            "391it [02:05,  3.11it/s]\n"
          ]
        },
        {
          "metadata": {
            "tags": null
          },
          "name": "stdout",
          "output_type": "stream",
          "text": [
            "train Loss: 0.1650 Acc: 0.9518\n",
            "valid Loss: 0.9846 Acc: 0.7466\n",
            "------------------------------\n",
            "\n",
            "Epoch 162/200\n",
            "----------\n"
          ]
        },
        {
          "metadata": {
            "tags": null
          },
          "name": "stderr",
          "output_type": "stream",
          "text": [
            "391it [02:05,  3.11it/s]\n"
          ]
        },
        {
          "metadata": {
            "tags": null
          },
          "name": "stdout",
          "output_type": "stream",
          "text": [
            "train Loss: 0.1355 Acc: 0.9623\n",
            "valid Loss: 0.9652 Acc: 0.7451\n",
            "------------------------------\n",
            "\n",
            "Epoch 163/200\n",
            "----------\n"
          ]
        },
        {
          "metadata": {
            "tags": null
          },
          "name": "stderr",
          "output_type": "stream",
          "text": [
            "391it [02:05,  3.11it/s]\n"
          ]
        },
        {
          "metadata": {
            "tags": null
          },
          "name": "stdout",
          "output_type": "stream",
          "text": [
            "train Loss: 0.1054 Acc: 0.9727\n",
            "valid Loss: 0.9501 Acc: 0.7603\n",
            "------------------------------\n",
            "\n",
            "Epoch 164/200\n",
            "----------\n"
          ]
        },
        {
          "metadata": {
            "tags": null
          },
          "name": "stderr",
          "output_type": "stream",
          "text": [
            "391it [02:05,  3.11it/s]\n"
          ]
        },
        {
          "metadata": {
            "tags": null
          },
          "name": "stdout",
          "output_type": "stream",
          "text": [
            "train Loss: 0.0855 Acc: 0.9793\n",
            "valid Loss: 0.8991 Acc: 0.7719\n",
            "------------------------------\n",
            "\n",
            "Epoch 165/200\n",
            "----------\n"
          ]
        },
        {
          "metadata": {
            "tags": null
          },
          "name": "stderr",
          "output_type": "stream",
          "text": [
            "391it [02:05,  3.12it/s]\n"
          ]
        },
        {
          "metadata": {
            "tags": null
          },
          "name": "stdout",
          "output_type": "stream",
          "text": [
            "train Loss: 0.0635 Acc: 0.9863\n",
            "valid Loss: 0.8837 Acc: 0.7763\n",
            "------------------------------\n",
            "\n",
            "Epoch 166/200\n",
            "----------\n"
          ]
        },
        {
          "metadata": {
            "tags": null
          },
          "name": "stderr",
          "output_type": "stream",
          "text": [
            "391it [02:05,  3.12it/s]\n"
          ]
        },
        {
          "metadata": {
            "tags": null
          },
          "name": "stdout",
          "output_type": "stream",
          "text": [
            "train Loss: 0.0480 Acc: 0.9906\n",
            "valid Loss: 0.8663 Acc: 0.7784\n",
            "------------------------------\n",
            "\n",
            "Epoch 167/200\n",
            "----------\n"
          ]
        },
        {
          "metadata": {
            "tags": null
          },
          "name": "stderr",
          "output_type": "stream",
          "text": [
            "391it [02:05,  3.11it/s]\n"
          ]
        },
        {
          "metadata": {
            "tags": null
          },
          "name": "stdout",
          "output_type": "stream",
          "text": [
            "train Loss: 0.0354 Acc: 0.9945\n",
            "valid Loss: 0.8417 Acc: 0.7867\n",
            "------------------------------\n",
            "\n",
            "Epoch 168/200\n",
            "----------\n"
          ]
        },
        {
          "metadata": {
            "tags": null
          },
          "name": "stderr",
          "output_type": "stream",
          "text": [
            "391it [02:05,  3.11it/s]\n"
          ]
        },
        {
          "metadata": {
            "tags": null
          },
          "name": "stdout",
          "output_type": "stream",
          "text": [
            "train Loss: 0.0256 Acc: 0.9967\n",
            "valid Loss: 0.8362 Acc: 0.7906\n",
            "Saving model...\n",
            "------------------------------\n",
            "\n",
            "Epoch 169/200\n",
            "----------\n"
          ]
        },
        {
          "metadata": {
            "tags": null
          },
          "name": "stderr",
          "output_type": "stream",
          "text": [
            "391it [02:06,  3.09it/s]\n"
          ]
        },
        {
          "metadata": {
            "tags": null
          },
          "name": "stdout",
          "output_type": "stream",
          "text": [
            "train Loss: 0.0206 Acc: 0.9978\n",
            "valid Loss: 0.8175 Acc: 0.7949\n",
            "Saving model...\n",
            "------------------------------\n",
            "\n",
            "Epoch 170/200\n",
            "----------\n"
          ]
        },
        {
          "metadata": {
            "tags": null
          },
          "name": "stderr",
          "output_type": "stream",
          "text": [
            "391it [02:06,  3.09it/s]\n"
          ]
        },
        {
          "metadata": {
            "tags": null
          },
          "name": "stdout",
          "output_type": "stream",
          "text": [
            "train Loss: 0.0177 Acc: 0.9984\n",
            "valid Loss: 0.8031 Acc: 0.7921\n",
            "------------------------------\n",
            "\n",
            "Epoch 171/200\n",
            "----------\n"
          ]
        },
        {
          "metadata": {
            "tags": null
          },
          "name": "stderr",
          "output_type": "stream",
          "text": [
            "391it [02:06,  3.10it/s]\n"
          ]
        },
        {
          "metadata": {
            "tags": null
          },
          "name": "stdout",
          "output_type": "stream",
          "text": [
            "train Loss: 0.0154 Acc: 0.9988\n",
            "valid Loss: 0.7964 Acc: 0.7936\n",
            "------------------------------\n",
            "\n",
            "Epoch 172/200\n",
            "----------\n"
          ]
        },
        {
          "metadata": {
            "tags": null
          },
          "name": "stderr",
          "output_type": "stream",
          "text": [
            "391it [02:06,  3.10it/s]\n"
          ]
        },
        {
          "metadata": {
            "tags": null
          },
          "name": "stdout",
          "output_type": "stream",
          "text": [
            "train Loss: 0.0139 Acc: 0.9989\n",
            "valid Loss: 0.7959 Acc: 0.7966\n",
            "Saving model...\n",
            "------------------------------\n",
            "\n",
            "Epoch 173/200\n",
            "----------\n"
          ]
        },
        {
          "metadata": {
            "tags": null
          },
          "name": "stderr",
          "output_type": "stream",
          "text": [
            "391it [02:06,  3.09it/s]\n"
          ]
        },
        {
          "metadata": {
            "tags": null
          },
          "name": "stdout",
          "output_type": "stream",
          "text": [
            "train Loss: 0.0123 Acc: 0.9994\n",
            "valid Loss: 0.7924 Acc: 0.7989\n",
            "Saving model...\n",
            "------------------------------\n",
            "\n",
            "Epoch 174/200\n",
            "----------\n"
          ]
        },
        {
          "metadata": {
            "tags": null
          },
          "name": "stderr",
          "output_type": "stream",
          "text": [
            "391it [02:06,  3.09it/s]\n"
          ]
        },
        {
          "metadata": {
            "tags": null
          },
          "name": "stdout",
          "output_type": "stream",
          "text": [
            "train Loss: 0.0120 Acc: 0.9992\n",
            "valid Loss: 0.7890 Acc: 0.7972\n",
            "------------------------------\n",
            "\n",
            "Epoch 175/200\n",
            "----------\n"
          ]
        },
        {
          "metadata": {
            "tags": null
          },
          "name": "stderr",
          "output_type": "stream",
          "text": [
            "391it [02:07,  3.06it/s]\n"
          ]
        },
        {
          "metadata": {
            "tags": null
          },
          "name": "stdout",
          "output_type": "stream",
          "text": [
            "train Loss: 0.0114 Acc: 0.9993\n",
            "valid Loss: 0.7919 Acc: 0.7962\n",
            "------------------------------\n",
            "\n",
            "Epoch 176/200\n",
            "----------\n"
          ]
        },
        {
          "metadata": {
            "tags": null
          },
          "name": "stderr",
          "output_type": "stream",
          "text": [
            "391it [02:07,  3.06it/s]\n"
          ]
        },
        {
          "metadata": {
            "tags": null
          },
          "name": "stdout",
          "output_type": "stream",
          "text": [
            "train Loss: 0.0111 Acc: 0.9996\n",
            "valid Loss: 0.7873 Acc: 0.7972\n",
            "------------------------------\n",
            "\n",
            "Epoch 177/200\n",
            "----------\n"
          ]
        },
        {
          "metadata": {
            "tags": null
          },
          "name": "stderr",
          "output_type": "stream",
          "text": [
            "391it [02:07,  3.06it/s]\n"
          ]
        },
        {
          "metadata": {
            "tags": null
          },
          "name": "stdout",
          "output_type": "stream",
          "text": [
            "train Loss: 0.0105 Acc: 0.9996\n",
            "valid Loss: 0.7854 Acc: 0.7988\n",
            "------------------------------\n",
            "\n",
            "Epoch 178/200\n",
            "----------\n"
          ]
        },
        {
          "metadata": {
            "tags": null
          },
          "name": "stderr",
          "output_type": "stream",
          "text": [
            "391it [02:07,  3.07it/s]\n"
          ]
        },
        {
          "metadata": {
            "tags": null
          },
          "name": "stdout",
          "output_type": "stream",
          "text": [
            "train Loss: 0.0102 Acc: 0.9996\n",
            "valid Loss: 0.7855 Acc: 0.7993\n",
            "Saving model...\n",
            "------------------------------\n",
            "\n",
            "Epoch 179/200\n",
            "----------\n"
          ]
        },
        {
          "metadata": {
            "tags": null
          },
          "name": "stderr",
          "output_type": "stream",
          "text": [
            "391it [02:07,  3.06it/s]\n"
          ]
        },
        {
          "metadata": {
            "tags": null
          },
          "name": "stdout",
          "output_type": "stream",
          "text": [
            "train Loss: 0.0103 Acc: 0.9996\n",
            "valid Loss: 0.7853 Acc: 0.7978\n",
            "------------------------------\n",
            "\n",
            "Epoch 180/200\n",
            "----------\n"
          ]
        },
        {
          "metadata": {
            "tags": null
          },
          "name": "stderr",
          "output_type": "stream",
          "text": [
            "391it [02:06,  3.10it/s]\n"
          ]
        },
        {
          "metadata": {
            "tags": null
          },
          "name": "stdout",
          "output_type": "stream",
          "text": [
            "train Loss: 0.0102 Acc: 0.9996\n",
            "valid Loss: 0.7853 Acc: 0.7989\n",
            "------------------------------\n",
            "\n",
            "Epoch 181/200\n",
            "----------\n"
          ]
        },
        {
          "metadata": {
            "tags": null
          },
          "name": "stderr",
          "output_type": "stream",
          "text": [
            "391it [02:06,  3.10it/s]\n"
          ]
        },
        {
          "metadata": {
            "tags": null
          },
          "name": "stdout",
          "output_type": "stream",
          "text": [
            "train Loss: 0.0102 Acc: 0.9997\n",
            "valid Loss: 0.7869 Acc: 0.7988\n",
            "------------------------------\n",
            "\n",
            "Epoch 182/200\n",
            "----------\n"
          ]
        },
        {
          "metadata": {
            "tags": null
          },
          "name": "stderr",
          "output_type": "stream",
          "text": [
            "391it [02:06,  3.10it/s]\n"
          ]
        },
        {
          "metadata": {
            "tags": null
          },
          "name": "stdout",
          "output_type": "stream",
          "text": [
            "train Loss: 0.0104 Acc: 0.9995\n",
            "valid Loss: 0.7861 Acc: 0.7990\n",
            "------------------------------\n",
            "\n",
            "Epoch 183/200\n",
            "----------\n"
          ]
        },
        {
          "metadata": {
            "tags": null
          },
          "name": "stderr",
          "output_type": "stream",
          "text": [
            "391it [02:06,  3.10it/s]\n"
          ]
        },
        {
          "metadata": {
            "tags": null
          },
          "name": "stdout",
          "output_type": "stream",
          "text": [
            "train Loss: 0.0100 Acc: 0.9997\n",
            "valid Loss: 0.7837 Acc: 0.7972\n",
            "------------------------------\n",
            "\n",
            "Epoch 184/200\n",
            "----------\n"
          ]
        },
        {
          "metadata": {
            "tags": null
          },
          "name": "stderr",
          "output_type": "stream",
          "text": [
            "391it [02:06,  3.09it/s]\n"
          ]
        },
        {
          "metadata": {
            "tags": null
          },
          "name": "stdout",
          "output_type": "stream",
          "text": [
            "train Loss: 0.0103 Acc: 0.9995\n",
            "valid Loss: 0.7874 Acc: 0.7975\n",
            "------------------------------\n",
            "\n",
            "Epoch 185/200\n",
            "----------\n"
          ]
        },
        {
          "metadata": {
            "tags": null
          },
          "name": "stderr",
          "output_type": "stream",
          "text": [
            "391it [02:06,  3.09it/s]\n"
          ]
        },
        {
          "metadata": {
            "tags": null
          },
          "name": "stdout",
          "output_type": "stream",
          "text": [
            "train Loss: 0.0099 Acc: 0.9995\n",
            "valid Loss: 0.7851 Acc: 0.7983\n",
            "------------------------------\n",
            "\n",
            "Epoch 186/200\n",
            "----------\n"
          ]
        },
        {
          "metadata": {
            "tags": null
          },
          "name": "stderr",
          "output_type": "stream",
          "text": [
            "391it [02:06,  3.09it/s]\n"
          ]
        },
        {
          "metadata": {
            "tags": null
          },
          "name": "stdout",
          "output_type": "stream",
          "text": [
            "train Loss: 0.0103 Acc: 0.9995\n",
            "valid Loss: 0.7835 Acc: 0.7976\n",
            "------------------------------\n",
            "\n",
            "Epoch 187/200\n",
            "----------\n"
          ]
        },
        {
          "metadata": {
            "tags": null
          },
          "name": "stderr",
          "output_type": "stream",
          "text": [
            "391it [02:06,  3.09it/s]\n"
          ]
        },
        {
          "metadata": {
            "tags": null
          },
          "name": "stdout",
          "output_type": "stream",
          "text": [
            "train Loss: 0.0101 Acc: 0.9995\n",
            "valid Loss: 0.7880 Acc: 0.7990\n",
            "------------------------------\n",
            "\n",
            "Epoch 188/200\n",
            "----------\n"
          ]
        },
        {
          "metadata": {
            "tags": null
          },
          "name": "stderr",
          "output_type": "stream",
          "text": [
            "391it [02:06,  3.10it/s]\n"
          ]
        },
        {
          "metadata": {
            "tags": null
          },
          "name": "stdout",
          "output_type": "stream",
          "text": [
            "train Loss: 0.0107 Acc: 0.9994\n",
            "valid Loss: 0.7890 Acc: 0.7973\n",
            "------------------------------\n",
            "\n",
            "Epoch 189/200\n",
            "----------\n"
          ]
        },
        {
          "metadata": {
            "tags": null
          },
          "name": "stderr",
          "output_type": "stream",
          "text": [
            "391it [02:06,  3.10it/s]\n"
          ]
        },
        {
          "metadata": {
            "tags": null
          },
          "name": "stdout",
          "output_type": "stream",
          "text": [
            "train Loss: 0.0113 Acc: 0.9993\n",
            "valid Loss: 0.7894 Acc: 0.7974\n",
            "------------------------------\n",
            "\n",
            "Epoch 190/200\n",
            "----------\n"
          ]
        },
        {
          "metadata": {
            "tags": null
          },
          "name": "stderr",
          "output_type": "stream",
          "text": [
            "391it [02:06,  3.10it/s]\n"
          ]
        },
        {
          "metadata": {
            "tags": null
          },
          "name": "stdout",
          "output_type": "stream",
          "text": [
            "train Loss: 0.0114 Acc: 0.9995\n",
            "valid Loss: 0.7864 Acc: 0.7974\n",
            "------------------------------\n",
            "\n",
            "Epoch 191/200\n",
            "----------\n"
          ]
        },
        {
          "metadata": {
            "tags": null
          },
          "name": "stderr",
          "output_type": "stream",
          "text": [
            "391it [02:06,  3.10it/s]\n"
          ]
        },
        {
          "metadata": {
            "tags": null
          },
          "name": "stdout",
          "output_type": "stream",
          "text": [
            "train Loss: 0.0126 Acc: 0.9993\n",
            "valid Loss: 0.7978 Acc: 0.7967\n",
            "------------------------------\n",
            "\n",
            "Epoch 192/200\n",
            "----------\n"
          ]
        },
        {
          "metadata": {
            "tags": null
          },
          "name": "stderr",
          "output_type": "stream",
          "text": [
            "391it [02:06,  3.10it/s]\n"
          ]
        },
        {
          "metadata": {
            "tags": null
          },
          "name": "stdout",
          "output_type": "stream",
          "text": [
            "train Loss: 0.0130 Acc: 0.9994\n",
            "valid Loss: 0.8032 Acc: 0.7954\n",
            "------------------------------\n",
            "\n",
            "Epoch 193/200\n",
            "----------\n"
          ]
        },
        {
          "metadata": {
            "tags": null
          },
          "name": "stderr",
          "output_type": "stream",
          "text": [
            "391it [02:06,  3.10it/s]\n"
          ]
        },
        {
          "metadata": {
            "tags": null
          },
          "name": "stdout",
          "output_type": "stream",
          "text": [
            "train Loss: 0.0158 Acc: 0.9989\n",
            "valid Loss: 0.8306 Acc: 0.7904\n",
            "------------------------------\n",
            "\n",
            "Epoch 194/200\n",
            "----------\n"
          ]
        },
        {
          "metadata": {
            "tags": null
          },
          "name": "stderr",
          "output_type": "stream",
          "text": [
            "391it [02:06,  3.10it/s]\n"
          ]
        },
        {
          "metadata": {
            "tags": null
          },
          "name": "stdout",
          "output_type": "stream",
          "text": [
            "train Loss: 0.0271 Acc: 0.9968\n",
            "valid Loss: 0.8607 Acc: 0.7801\n",
            "------------------------------\n",
            "\n",
            "Epoch 195/200\n",
            "----------\n"
          ]
        },
        {
          "metadata": {
            "tags": null
          },
          "name": "stderr",
          "output_type": "stream",
          "text": [
            "391it [02:06,  3.10it/s]\n"
          ]
        },
        {
          "metadata": {
            "tags": null
          },
          "name": "stdout",
          "output_type": "stream",
          "text": [
            "train Loss: 0.0615 Acc: 0.9882\n",
            "valid Loss: 1.0132 Acc: 0.7392\n",
            "------------------------------\n",
            "\n",
            "Epoch 196/200\n",
            "----------\n"
          ]
        },
        {
          "metadata": {
            "tags": null
          },
          "name": "stderr",
          "output_type": "stream",
          "text": [
            "391it [02:06,  3.09it/s]\n"
          ]
        },
        {
          "metadata": {
            "tags": null
          },
          "name": "stdout",
          "output_type": "stream",
          "text": [
            "train Loss: 0.1853 Acc: 0.9520\n",
            "valid Loss: 1.1622 Acc: 0.7057\n",
            "------------------------------\n",
            "\n",
            "Epoch 197/200\n",
            "----------\n"
          ]
        },
        {
          "metadata": {
            "tags": null
          },
          "name": "stderr",
          "output_type": "stream",
          "text": [
            "391it [02:06,  3.10it/s]\n"
          ]
        },
        {
          "metadata": {
            "tags": null
          },
          "name": "stdout",
          "output_type": "stream",
          "text": [
            "train Loss: 0.3103 Acc: 0.9100\n",
            "valid Loss: 1.1305 Acc: 0.6979\n",
            "------------------------------\n",
            "\n",
            "Epoch 198/200\n",
            "----------\n"
          ]
        },
        {
          "metadata": {
            "tags": null
          },
          "name": "stderr",
          "output_type": "stream",
          "text": [
            "391it [02:06,  3.09it/s]\n"
          ]
        },
        {
          "metadata": {
            "tags": null
          },
          "name": "stdout",
          "output_type": "stream",
          "text": [
            "train Loss: 0.3492 Acc: 0.8964\n",
            "valid Loss: 1.2974 Acc: 0.6770\n",
            "------------------------------\n",
            "\n",
            "Epoch 199/200\n",
            "----------\n"
          ]
        },
        {
          "output_type": "stream",
          "name": "stderr",
          "text": [
            "391it [02:06,  3.10it/s]\n"
          ]
        },
        {
          "output_type": "stream",
          "name": "stdout",
          "text": [
            "train Loss: 0.3837 Acc: 0.8841\n",
            "valid Loss: 1.2836 Acc: 0.6810\n",
            "------------------------------\n",
            "\n",
            "Epoch 200/200\n",
            "----------\n"
          ]
        },
        {
          "output_type": "stream",
          "name": "stderr",
          "text": [
            "391it [02:06,  3.09it/s]\n"
          ]
        },
        {
          "output_type": "stream",
          "name": "stdout",
          "text": [
            "train Loss: 0.3901 Acc: 0.8798\n",
            "valid Loss: 1.1988 Acc: 0.6906\n",
            "------------------------------\n",
            "\n",
            "Best model saved.\n",
            "Training complete in 445m 59s\n",
            "Best val Acc: 0.799300\n"
          ]
        },
        {
          "output_type": "display_data",
          "data": {
            "text/plain": [
              "<IPython.core.display.HTML object>"
            ],
            "text/html": [
              "Waiting for W&B process to finish... <strong style=\"color:green\">(success).</strong>"
            ]
          },
          "metadata": {}
        },
        {
          "output_type": "display_data",
          "data": {
            "text/plain": [
              "VBox(children=(Label(value='0.001 MB of 0.001 MB uploaded (0.000 MB deduped)\\r'), FloatProgress(value=1.0, max…"
            ],
            "application/vnd.jupyter.widget-view+json": {
              "version_major": 2,
              "version_minor": 0,
              "model_id": "835abb3e085c4e75b0ab93cc8b4a6dc6"
            }
          },
          "metadata": {}
        },
        {
          "output_type": "display_data",
          "data": {
            "text/plain": [
              "<IPython.core.display.HTML object>"
            ],
            "text/html": [
              "<style>\n",
              "    table.wandb td:nth-child(1) { padding: 0 10px; text-align: right }\n",
              "    .wandb-row { display: flex; flex-direction: row; flex-wrap: wrap; width: 100% }\n",
              "    .wandb-col { display: flex; flex-direction: column; flex-basis: 100%; flex: 1; padding: 10px; }\n",
              "    </style>\n",
              "<div class=\"wandb-row\"><div class=\"wandb-col\"><h3>Run history:</h3><br/><table class=\"wandb\"><tr><td>Train - acc</td><td>▁▄▅▅▅▆▆▇▇██████▇▇▆▆▆▆▆▆▆▆▆▆▆▆▆▇▇███████▇</td></tr><tr><td>Train - loss</td><td>█▅▄▄▄▃▃▃▂▁▁▁▁▁▁▂▂▃▃▃▃▃▃▄▃▃▃▃▃▃▂▂▁▁▁▁▁▁▁▂</td></tr><tr><td>Valid - acc</td><td>▁▄▅▅▆▅▆▇▇▇█████▆▆▆▆▆▆▆▆▅▅▆▆▅▆▆▆▇███████▆</td></tr><tr><td>Valid - loss</td><td>█▅▄▄▃▃▃▂▂▂▁▁▁▁▁▃▃▃▃▃▃▃▃▄▃▃▃▄▃▂▂▂▁▁▁▁▁▁▁▃</td></tr></table><br/></div><div class=\"wandb-col\"><h3>Run summary:</h3><br/><table class=\"wandb\"><tr><td>Train - acc</td><td>0.87976</td></tr><tr><td>Train - loss</td><td>0.3816</td></tr><tr><td>Valid - acc</td><td>0.6906</td></tr><tr><td>Valid - loss</td><td>1.19875</td></tr></table><br/></div></div>"
            ]
          },
          "metadata": {}
        },
        {
          "output_type": "display_data",
          "data": {
            "text/plain": [
              "<IPython.core.display.HTML object>"
            ],
            "text/html": [
              "Synced <strong style=\"color:#cdcd00\">rare-durian-131</strong>: <a href=\"https://wandb.ai/inf8225_ym_at/INF8225%20-%20Projet%20final/runs/gnjlxeff\" target=\"_blank\">https://wandb.ai/inf8225_ym_at/INF8225%20-%20Projet%20final/runs/gnjlxeff</a><br/>Synced 5 W&B file(s), 0 media file(s), 0 artifact file(s) and 1 other file(s)"
            ]
          },
          "metadata": {}
        },
        {
          "output_type": "display_data",
          "data": {
            "text/plain": [
              "<IPython.core.display.HTML object>"
            ],
            "text/html": [
              "Find logs at: <code>./wandb/run-20220427_221109-gnjlxeff/logs</code>"
            ]
          },
          "metadata": {}
        }
      ]
    },
    {
      "cell_type": "markdown",
      "source": [
        "#Mixup"
      ],
      "metadata": {
        "id": "EKH8wPJdTjmz"
      }
    },
    {
      "cell_type": "markdown",
      "metadata": {
        "id": "mne3BEt4bDnO"
      },
      "source": [
        "#### Mixup + Viz"
      ]
    },
    {
      "cell_type": "code",
      "source": [
        "mnist_trainloader_small = DataLoader(mnist_trainset, batch_size=4, shuffle=True)\n",
        "cif10_trainloader_small = DataLoader(CIFAR10_trainset, batch_size=4, shuffle=True)\n",
        "cif100_trainloader_small = DataLoader(CIFAR100_trainset, batch_size=4, shuffle=True)\n",
        "\n",
        "def mixup(inputs, labels, alpha):\n",
        "  batch_size = inputs.size(0)\n",
        "  shuffled_batch = torch.randperm(batch_size).to(config['device'])\n",
        "\n",
        "  second_inputs = inputs[shuffled_batch]\n",
        "  second_labels = labels[shuffled_batch]\n",
        "  \n",
        "  lam = np.random.beta(alpha, alpha)\n",
        "\n",
        "  mixup_inputs = inputs * lam + second_inputs * (1 - lam)\n",
        "\n",
        "  # labels mixup will be computed in the loss function\n",
        "  return mixup_inputs, labels, second_labels, lam\n",
        "\n",
        "def mixup_criterion(criterion, output, original_labels, shuffled_labels, lam):\n",
        "    return lam * criterion(output, original_labels) + (1 - lam) * criterion(output, shuffled_labels)\n",
        "\n"
      ],
      "metadata": {
        "id": "TCicgthLbRY3"
      },
      "execution_count": 61,
      "outputs": []
    },
    {
      "cell_type": "code",
      "source": [
        "# Test MixUp\n",
        "config['dataset_name'] = 'CIFAR10'\n",
        "print(\"Mixup for\", config['dataset_name'])\n",
        "if config['dataset_name'] == 'mnist':\n",
        "  batch_img, batch_labels = next(iter(mnist_trainloader_small))\n",
        "elif config['dataset_name'] == 'CIFAR10':\n",
        "  batch_img, batch_labels = next(iter(cif10_trainloader_small))\n",
        "elif config['dataset_name'] == 'CIFAR100':\n",
        "  batch_img, batch_labels = next(iter(cif100_trainloader_small))\n",
        "\n",
        "print(batch_img.shape, batch_labels.shape)\n",
        "batch_img_mixup, y_a, y_b, lam = mixup(batch_img, batch_labels, config['mixup_alpha'])\n",
        "print(\"Mixup with lambda\", lam)\n",
        "\n",
        "grid_img  = torchvision.utils.make_grid(batch_img)\n",
        "grid_img_mixup  = torchvision.utils.make_grid(batch_img_mixup)\n",
        "\n",
        "\n",
        "plt.figure()\n",
        "f, axarr = plt.subplots(2,1) \n",
        "axarr[0].imshow(grid_img.permute(1, 2, 0))\n",
        "axarr[1].imshow(grid_img_mixup.permute(1, 2, 0))"
      ],
      "metadata": {
        "colab": {
          "base_uri": "https://localhost:8080/",
          "height": 382
        },
        "id": "SArJnhybHxsZ",
        "outputId": "b9edf7f3-01c8-4bc8-b809-5ac473f0a426"
      },
      "execution_count": 64,
      "outputs": [
        {
          "output_type": "stream",
          "name": "stderr",
          "text": [
            "Clipping input data to the valid range for imshow with RGB data ([0..1] for floats or [0..255] for integers).\n",
            "Clipping input data to the valid range for imshow with RGB data ([0..1] for floats or [0..255] for integers).\n"
          ]
        },
        {
          "output_type": "stream",
          "name": "stdout",
          "text": [
            "Mixup for CIFAR10\n",
            "torch.Size([4, 3, 32, 32]) torch.Size([4])\n",
            "Mixup with lambda 0.2229261866454918\n"
          ]
        },
        {
          "output_type": "execute_result",
          "data": {
            "text/plain": [
              "<matplotlib.image.AxesImage at 0x7feee509b550>"
            ]
          },
          "metadata": {},
          "execution_count": 64
        },
        {
          "output_type": "display_data",
          "data": {
            "text/plain": [
              "<Figure size 432x288 with 0 Axes>"
            ]
          },
          "metadata": {}
        },
        {
          "output_type": "display_data",
          "data": {
            "text/plain": [
              "<Figure size 432x288 with 2 Axes>"
            ],
            "image/png": "[encoded data removed]"
          },
          "metadata": {
            "needs_background": "light"
          }
        }
      ]
    },
    {
      "cell_type": "markdown",
      "source": [
        "#### Train"
      ],
      "metadata": {
        "id": "skUyoTqsbaFy"
      }
    },
    {
      "cell_type": "code",
      "source": [
        "model_ft, input_size = initialize_model(config['model_name'], config['dataset_name'] )\n",
        "\n",
        "# Observe that all parameters are being optimized\n",
        "optimizer_ft = optim.SGD(model_ft.parameters(), lr=config['lr'], momentum=0.9, weight_decay = config['weight_decay'], nesterov = True)\n",
        "\n",
        "# Linear learning rate schedule\n",
        "scheduler_ft = None\n",
        "# Cosine learning rate\n",
        "# scheduler_ft = optim.lr_scheduler.CosineAnnealingLR(optimizer_ft, T_max = 60, eta_min = 1e-6 )\n",
        "\n",
        "# Setup the loss fxn\n",
        "criterion = nn.CrossEntropyLoss()\n",
        "\n",
        "# Train and evaluate\n",
        "model_ft = model_ft.to(device)\n",
        "\n",
        "# train_model(model, trainloader, testloader, criterion, optimizer, DAmethod, datasetname, num_epochs=25, jsd_loss = False):\n",
        "with wandb.init(config=config, project='INF8225 - Projet final',  entity = 'inf8225_ym_at', save_code=True, group= 'densenet_mixup'):\n",
        "  print(\"Start training\", config['dataset_name'], \"Model\", config['model_name'] )\n",
        "\n",
        "  if config['dataset_name'] == 'mnist':\n",
        "    model_ft, hist = train_model(model_ft, mnist_trainloader, mnist_testloader, criterion, optimizer_ft, DAmethod=config['DAmethod'], datasetname=config['dataset_name'], num_epochs=config['epochs'], scheduler=scheduler_ft)\n",
        "\n",
        "  elif config['dataset_name'] == 'CIFAR10':\n",
        "    model_ft, hist = train_model(model_ft, CIFAR10_trainloader, CIFAR10_testloader, criterion, optimizer_ft, DAmethod=config['DAmethod'], datasetname=config['dataset_name'], num_epochs=config['epochs'], scheduler=scheduler_ft)\n",
        "\n",
        "  elif config['dataset_name'] == 'CIFAR100':\n",
        "    model_ft, hist = train_model(model_ft, CIFAR100_trainloader, CIFAR100_testloader, criterion, optimizer_ft, DAmethod=config['DAmethod'], datasetname=config['dataset_name'], num_epochs=config['epochs'], scheduler=scheduler_ft)\n",
        "\n"
      ],
      "metadata": {
        "id": "IRouoaX9bZsc",
        "colab": {
          "base_uri": "https://localhost:8080/",
          "height": 587
        },
        "outputId": "660a98f1-6c17-4bcb-a806-e602740ab7cf"
      },
      "execution_count": null,
      "outputs": [
        {
          "output_type": "display_data",
          "data": {
            "text/plain": [
              "<IPython.core.display.HTML object>"
            ],
            "text/html": [
              "Tracking run with wandb version 0.12.15"
            ]
          },
          "metadata": {}
        },
        {
          "output_type": "display_data",
          "data": {
            "text/plain": [
              "<IPython.core.display.HTML object>"
            ],
            "text/html": [
              "Run data is saved locally in <code>/content/wandb/run-20220430_205918-39982zng</code>"
            ]
          },
          "metadata": {}
        },
        {
          "output_type": "display_data",
          "data": {
            "text/plain": [
              "<IPython.core.display.HTML object>"
            ],
            "text/html": [
              "Syncing run <strong><a href=\"https://wandb.ai/inf8225_ym_at/INF8225%20-%20Projet%20final/runs/39982zng\" target=\"_blank\">efficient-energy-152</a></strong> to <a href=\"https://wandb.ai/inf8225_ym_at/INF8225%20-%20Projet%20final\" target=\"_blank\">Weights & Biases</a> (<a href=\"https://wandb.me/run\" target=\"_blank\">docs</a>)<br/>"
            ]
          },
          "metadata": {}
        },
        {
          "output_type": "stream",
          "name": "stdout",
          "text": [
            "Start training CIFAR10 Model resnet\n",
            "Epoch 1/200\n",
            "----------\n"
          ]
        },
        {
          "output_type": "stream",
          "name": "stderr",
          "text": [
            "26it [00:05,  4.89it/s]\n"
          ]
        },
        {
          "output_type": "error",
          "ename": "KeyboardInterrupt",
          "evalue": "ignored",
          "traceback": [
            "\u001b[0;31m---------------------------------------------------------------------------\u001b[0m",
            "\u001b[0;31mKeyboardInterrupt\u001b[0m                         Traceback (most recent call last)",
            "\u001b[0;32m<ipython-input-68-5d9b7feb0846>\u001b[0m in \u001b[0;36m<module>\u001b[0;34m()\u001b[0m\n\u001b[1;32m     24\u001b[0m   \u001b[0;32melif\u001b[0m \u001b[0mconfig\u001b[0m\u001b[0;34m[\u001b[0m\u001b[0;34m'dataset_name'\u001b[0m\u001b[0;34m]\u001b[0m \u001b[0;34m==\u001b[0m \u001b[0;34m'CIFAR10'\u001b[0m\u001b[0;34m:\u001b[0m\u001b[0;34m\u001b[0m\u001b[0;34m\u001b[0m\u001b[0m\n\u001b[0;32m---> 25\u001b[0;31m     \u001b[0mmodel_ft\u001b[0m\u001b[0;34m,\u001b[0m \u001b[0mhist\u001b[0m \u001b[0;34m=\u001b[0m \u001b[0mtrain_model\u001b[0m\u001b[0;34m(\u001b[0m\u001b[0mmodel_ft\u001b[0m\u001b[0;34m,\u001b[0m \u001b[0mCIFAR10_trainloader\u001b[0m\u001b[0;34m,\u001b[0m \u001b[0mCIFAR10_testloader\u001b[0m\u001b[0;34m,\u001b[0m \u001b[0mcriterion\u001b[0m\u001b[0;34m,\u001b[0m \u001b[0moptimizer_ft\u001b[0m\u001b[0;34m,\u001b[0m \u001b[0mDAmethod\u001b[0m\u001b[0;34m=\u001b[0m\u001b[0mconfig\u001b[0m\u001b[0;34m[\u001b[0m\u001b[0;34m'DAmethod'\u001b[0m\u001b[0;34m]\u001b[0m\u001b[0;34m,\u001b[0m \u001b[0mdatasetname\u001b[0m\u001b[0;34m=\u001b[0m\u001b[0mconfig\u001b[0m\u001b[0;34m[\u001b[0m\u001b[0;34m'dataset_name'\u001b[0m\u001b[0;34m]\u001b[0m\u001b[0;34m,\u001b[0m \u001b[0mnum_epochs\u001b[0m\u001b[0;34m=\u001b[0m\u001b[0mconfig\u001b[0m\u001b[0;34m[\u001b[0m\u001b[0;34m'epochs'\u001b[0m\u001b[0;34m]\u001b[0m\u001b[0;34m,\u001b[0m \u001b[0mscheduler\u001b[0m\u001b[0;34m=\u001b[0m\u001b[0mscheduler_ft\u001b[0m\u001b[0;34m)\u001b[0m\u001b[0;34m\u001b[0m\u001b[0;34m\u001b[0m\u001b[0m\n\u001b[0m\u001b[1;32m     26\u001b[0m \u001b[0;34m\u001b[0m\u001b[0m\n",
            "\u001b[0;32m<ipython-input-65-8379583fb9ce>\u001b[0m in \u001b[0;36mtrain_model\u001b[0;34m(model, trainloader, testloader, criterion, optimizer, DAmethod, datasetname, num_epochs, jsd_loss, scheduler)\u001b[0m\n\u001b[1;32m    116\u001b[0m             \u001b[0;32melse\u001b[0m\u001b[0;34m:\u001b[0m\u001b[0;34m\u001b[0m\u001b[0;34m\u001b[0m\u001b[0m\n\u001b[0;32m--> 117\u001b[0;31m               \u001b[0mrunning_loss\u001b[0m \u001b[0;34m+=\u001b[0m \u001b[0mloss\u001b[0m\u001b[0;34m.\u001b[0m\u001b[0mitem\u001b[0m\u001b[0;34m(\u001b[0m\u001b[0;34m)\u001b[0m \u001b[0;34m*\u001b[0m \u001b[0minputs\u001b[0m\u001b[0;34m.\u001b[0m\u001b[0msize\u001b[0m\u001b[0;34m(\u001b[0m\u001b[0;36m0\u001b[0m\u001b[0;34m)\u001b[0m\u001b[0;34m\u001b[0m\u001b[0;34m\u001b[0m\u001b[0m\n\u001b[0m\u001b[1;32m    118\u001b[0m \u001b[0;34m\u001b[0m\u001b[0m\n",
            "\u001b[0;31mKeyboardInterrupt\u001b[0m: ",
            "\nDuring handling of the above exception, another exception occurred:\n",
            "\u001b[0;31mKeyboardInterrupt\u001b[0m                         Traceback (most recent call last)",
            "\u001b[0;32m<ipython-input-68-5d9b7feb0846>\u001b[0m in \u001b[0;36m<module>\u001b[0;34m()\u001b[0m\n\u001b[1;32m     26\u001b[0m \u001b[0;34m\u001b[0m\u001b[0m\n\u001b[1;32m     27\u001b[0m   \u001b[0;32melif\u001b[0m \u001b[0mconfig\u001b[0m\u001b[0;34m[\u001b[0m\u001b[0;34m'dataset_name'\u001b[0m\u001b[0;34m]\u001b[0m \u001b[0;34m==\u001b[0m \u001b[0;34m'CIFAR100'\u001b[0m\u001b[0;34m:\u001b[0m\u001b[0;34m\u001b[0m\u001b[0;34m\u001b[0m\u001b[0m\n\u001b[0;32m---> 28\u001b[0;31m     \u001b[0mmodel_ft\u001b[0m\u001b[0;34m,\u001b[0m \u001b[0mhist\u001b[0m \u001b[0;34m=\u001b[0m \u001b[0mtrain_model\u001b[0m\u001b[0;34m(\u001b[0m\u001b[0mmodel_ft\u001b[0m\u001b[0;34m,\u001b[0m \u001b[0mCIFAR100_trainloader\u001b[0m\u001b[0;34m,\u001b[0m \u001b[0mCIFAR100_testloader\u001b[0m\u001b[0;34m,\u001b[0m \u001b[0mcriterion\u001b[0m\u001b[0;34m,\u001b[0m \u001b[0moptimizer_ft\u001b[0m\u001b[0;34m,\u001b[0m \u001b[0mDAmethod\u001b[0m\u001b[0;34m=\u001b[0m\u001b[0mconfig\u001b[0m\u001b[0;34m[\u001b[0m\u001b[0;34m'DAmethod'\u001b[0m\u001b[0;34m]\u001b[0m\u001b[0;34m,\u001b[0m \u001b[0mdatasetname\u001b[0m\u001b[0;34m=\u001b[0m\u001b[0mconfig\u001b[0m\u001b[0;34m[\u001b[0m\u001b[0;34m'dataset_name'\u001b[0m\u001b[0;34m]\u001b[0m\u001b[0;34m,\u001b[0m \u001b[0mnum_epochs\u001b[0m\u001b[0;34m=\u001b[0m\u001b[0mconfig\u001b[0m\u001b[0;34m[\u001b[0m\u001b[0;34m'epochs'\u001b[0m\u001b[0;34m]\u001b[0m\u001b[0;34m,\u001b[0m \u001b[0mscheduler\u001b[0m\u001b[0;34m=\u001b[0m\u001b[0mscheduler_ft\u001b[0m\u001b[0;34m)\u001b[0m\u001b[0;34m\u001b[0m\u001b[0;34m\u001b[0m\u001b[0m\n\u001b[0m\u001b[1;32m     29\u001b[0m \u001b[0;34m\u001b[0m\u001b[0m\n",
            "\u001b[0;32m/usr/local/lib/python3.7/dist-packages/wandb/sdk/wandb_run.py\u001b[0m in \u001b[0;36m__exit__\u001b[0;34m(self, exc_type, exc_val, exc_tb)\u001b[0m\n\u001b[1;32m   2683\u001b[0m     ) -> bool:\n\u001b[1;32m   2684\u001b[0m         \u001b[0mexit_code\u001b[0m \u001b[0;34m=\u001b[0m \u001b[0;36m0\u001b[0m \u001b[0;32mif\u001b[0m \u001b[0mexc_type\u001b[0m \u001b[0;32mis\u001b[0m \u001b[0;32mNone\u001b[0m \u001b[0;32melse\u001b[0m \u001b[0;36m1\u001b[0m\u001b[0;34m\u001b[0m\u001b[0;34m\u001b[0m\u001b[0m\n\u001b[0;32m-> 2685\u001b[0;31m         \u001b[0mself\u001b[0m\u001b[0;34m.\u001b[0m\u001b[0m_finish\u001b[0m\u001b[0;34m(\u001b[0m\u001b[0mexit_code\u001b[0m\u001b[0;34m)\u001b[0m\u001b[0;34m\u001b[0m\u001b[0;34m\u001b[0m\u001b[0m\n\u001b[0m\u001b[1;32m   2686\u001b[0m         \u001b[0;32mreturn\u001b[0m \u001b[0mexc_type\u001b[0m \u001b[0;32mis\u001b[0m \u001b[0;32mNone\u001b[0m\u001b[0;34m\u001b[0m\u001b[0;34m\u001b[0m\u001b[0m\n\u001b[1;32m   2687\u001b[0m \u001b[0;34m\u001b[0m\u001b[0m\n",
            "\u001b[0;32m/usr/local/lib/python3.7/dist-packages/wandb/sdk/wandb_run.py\u001b[0m in \u001b[0;36m_finish\u001b[0;34m(self, exit_code, quiet)\u001b[0m\n\u001b[1;32m   1687\u001b[0m         \u001b[0;32mfor\u001b[0m \u001b[0mhook\u001b[0m \u001b[0;32min\u001b[0m \u001b[0mself\u001b[0m\u001b[0;34m.\u001b[0m\u001b[0m_teardown_hooks\u001b[0m\u001b[0;34m:\u001b[0m\u001b[0;34m\u001b[0m\u001b[0;34m\u001b[0m\u001b[0m\n\u001b[1;32m   1688\u001b[0m             \u001b[0;32mif\u001b[0m \u001b[0mhook\u001b[0m\u001b[0;34m.\u001b[0m\u001b[0mstage\u001b[0m \u001b[0;34m==\u001b[0m \u001b[0mTeardownStage\u001b[0m\u001b[0;34m.\u001b[0m\u001b[0mEARLY\u001b[0m\u001b[0;34m:\u001b[0m\u001b[0;34m\u001b[0m\u001b[0;34m\u001b[0m\u001b[0m\n\u001b[0;32m-> 1689\u001b[0;31m                 \u001b[0mhook\u001b[0m\u001b[0;34m.\u001b[0m\u001b[0mcall\u001b[0m\u001b[0;34m(\u001b[0m\u001b[0;34m)\u001b[0m\u001b[0;34m\u001b[0m\u001b[0;34m\u001b[0m\u001b[0m\n\u001b[0m\u001b[1;32m   1690\u001b[0m \u001b[0;34m\u001b[0m\u001b[0m\n\u001b[1;32m   1691\u001b[0m         \u001b[0mself\u001b[0m\u001b[0;34m.\u001b[0m\u001b[0m_atexit_cleanup\u001b[0m\u001b[0;34m(\u001b[0m\u001b[0mexit_code\u001b[0m\u001b[0;34m=\u001b[0m\u001b[0mexit_code\u001b[0m\u001b[0;34m)\u001b[0m\u001b[0;34m\u001b[0m\u001b[0;34m\u001b[0m\u001b[0m\n",
            "\u001b[0;32m/usr/local/lib/python3.7/dist-packages/wandb/sdk/wandb_init.py\u001b[0m in \u001b[0;36m_jupyter_teardown\u001b[0;34m(self)\u001b[0m\n\u001b[1;32m    364\u001b[0m         \u001b[0mipython\u001b[0m \u001b[0;34m=\u001b[0m \u001b[0mself\u001b[0m\u001b[0;34m.\u001b[0m\u001b[0mnotebook\u001b[0m\u001b[0;34m.\u001b[0m\u001b[0mshell\u001b[0m\u001b[0;34m\u001b[0m\u001b[0;34m\u001b[0m\u001b[0m\n\u001b[1;32m    365\u001b[0m         \u001b[0mself\u001b[0m\u001b[0;34m.\u001b[0m\u001b[0mnotebook\u001b[0m\u001b[0;34m.\u001b[0m\u001b[0msave_history\u001b[0m\u001b[0;34m(\u001b[0m\u001b[0;34m)\u001b[0m\u001b[0;34m\u001b[0m\u001b[0;34m\u001b[0m\u001b[0m\n\u001b[0;32m--> 366\u001b[0;31m         \u001b[0;32mif\u001b[0m \u001b[0mself\u001b[0m\u001b[0;34m.\u001b[0m\u001b[0mnotebook\u001b[0m\u001b[0;34m.\u001b[0m\u001b[0msave_ipynb\u001b[0m\u001b[0;34m(\u001b[0m\u001b[0;34m)\u001b[0m\u001b[0;34m:\u001b[0m\u001b[0;34m\u001b[0m\u001b[0;34m\u001b[0m\u001b[0m\n\u001b[0m\u001b[1;32m    367\u001b[0m             \u001b[0mres\u001b[0m \u001b[0;34m=\u001b[0m \u001b[0mself\u001b[0m\u001b[0;34m.\u001b[0m\u001b[0mrun\u001b[0m\u001b[0;34m.\u001b[0m\u001b[0mlog_code\u001b[0m\u001b[0;34m(\u001b[0m\u001b[0mroot\u001b[0m\u001b[0;34m=\u001b[0m\u001b[0;32mNone\u001b[0m\u001b[0;34m)\u001b[0m\u001b[0;34m\u001b[0m\u001b[0;34m\u001b[0m\u001b[0m\n\u001b[1;32m    368\u001b[0m             \u001b[0mlogger\u001b[0m\u001b[0;34m.\u001b[0m\u001b[0minfo\u001b[0m\u001b[0;34m(\u001b[0m\u001b[0;34m\"saved code and history: %s\"\u001b[0m\u001b[0;34m,\u001b[0m \u001b[0mres\u001b[0m\u001b[0;34m)\u001b[0m\u001b[0;34m\u001b[0m\u001b[0;34m\u001b[0m\u001b[0m\n",
            "\u001b[0;32m/usr/local/lib/python3.7/dist-packages/wandb/jupyter.py\u001b[0m in \u001b[0;36msave_ipynb\u001b[0;34m(self)\u001b[0m\n\u001b[1;32m    390\u001b[0m \u001b[0;34m\u001b[0m\u001b[0m\n\u001b[1;32m    391\u001b[0m         \u001b[0;31m# TODO: likely only save if the code has changed\u001b[0m\u001b[0;34m\u001b[0m\u001b[0;34m\u001b[0m\u001b[0;34m\u001b[0m\u001b[0m\n\u001b[0;32m--> 392\u001b[0;31m         \u001b[0mcolab_ipynb\u001b[0m \u001b[0;34m=\u001b[0m \u001b[0mattempt_colab_load_ipynb\u001b[0m\u001b[0;34m(\u001b[0m\u001b[0;34m)\u001b[0m\u001b[0;34m\u001b[0m\u001b[0;34m\u001b[0m\u001b[0m\n\u001b[0m\u001b[1;32m    393\u001b[0m         \u001b[0;32mif\u001b[0m \u001b[0mcolab_ipynb\u001b[0m\u001b[0;34m:\u001b[0m\u001b[0;34m\u001b[0m\u001b[0;34m\u001b[0m\u001b[0m\n\u001b[1;32m    394\u001b[0m             \u001b[0mnb_name\u001b[0m \u001b[0;34m=\u001b[0m \u001b[0mcolab_ipynb\u001b[0m\u001b[0;34m[\u001b[0m\u001b[0;34m\"metadata\"\u001b[0m\u001b[0;34m]\u001b[0m\u001b[0;34m[\u001b[0m\u001b[0;34m\"colab\"\u001b[0m\u001b[0;34m]\u001b[0m\u001b[0;34m[\u001b[0m\u001b[0;34m\"name\"\u001b[0m\u001b[0;34m]\u001b[0m\u001b[0;34m\u001b[0m\u001b[0;34m\u001b[0m\u001b[0m\n",
            "\u001b[0;32m/usr/local/lib/python3.7/dist-packages/wandb/jupyter.py\u001b[0m in \u001b[0;36mattempt_colab_load_ipynb\u001b[0;34m()\u001b[0m\n\u001b[1;32m    265\u001b[0m     \u001b[0;32mif\u001b[0m \u001b[0mcolab\u001b[0m\u001b[0;34m:\u001b[0m\u001b[0;34m\u001b[0m\u001b[0;34m\u001b[0m\u001b[0m\n\u001b[1;32m    266\u001b[0m         \u001b[0;31m# This isn't thread safe, never call in a thread\u001b[0m\u001b[0;34m\u001b[0m\u001b[0;34m\u001b[0m\u001b[0;34m\u001b[0m\u001b[0m\n\u001b[0;32m--> 267\u001b[0;31m         \u001b[0mresponse\u001b[0m \u001b[0;34m=\u001b[0m \u001b[0mcolab\u001b[0m\u001b[0;34m.\u001b[0m\u001b[0m_message\u001b[0m\u001b[0;34m.\u001b[0m\u001b[0mblocking_request\u001b[0m\u001b[0;34m(\u001b[0m\u001b[0;34m\"get_ipynb\"\u001b[0m\u001b[0;34m,\u001b[0m \u001b[0mtimeout_sec\u001b[0m\u001b[0;34m=\u001b[0m\u001b[0;36m5\u001b[0m\u001b[0;34m)\u001b[0m\u001b[0;34m\u001b[0m\u001b[0;34m\u001b[0m\u001b[0m\n\u001b[0m\u001b[1;32m    268\u001b[0m         \u001b[0;32mif\u001b[0m \u001b[0mresponse\u001b[0m\u001b[0;34m:\u001b[0m\u001b[0;34m\u001b[0m\u001b[0;34m\u001b[0m\u001b[0m\n\u001b[1;32m    269\u001b[0m             \u001b[0;32mreturn\u001b[0m \u001b[0mresponse\u001b[0m\u001b[0;34m[\u001b[0m\u001b[0;34m\"ipynb\"\u001b[0m\u001b[0;34m]\u001b[0m\u001b[0;34m\u001b[0m\u001b[0;34m\u001b[0m\u001b[0m\n",
            "\u001b[0;32m/usr/local/lib/python3.7/dist-packages/google/colab/_message.py\u001b[0m in \u001b[0;36mblocking_request\u001b[0;34m(request_type, request, timeout_sec, parent)\u001b[0m\n\u001b[1;32m    173\u001b[0m   request_id = send_request(\n\u001b[1;32m    174\u001b[0m       request_type, request, parent=parent, expect_reply=True)\n\u001b[0;32m--> 175\u001b[0;31m   \u001b[0;32mreturn\u001b[0m \u001b[0mread_reply_from_input\u001b[0m\u001b[0;34m(\u001b[0m\u001b[0mrequest_id\u001b[0m\u001b[0;34m,\u001b[0m \u001b[0mtimeout_sec\u001b[0m\u001b[0;34m)\u001b[0m\u001b[0;34m\u001b[0m\u001b[0;34m\u001b[0m\u001b[0m\n\u001b[0m",
            "\u001b[0;32m/usr/local/lib/python3.7/dist-packages/google/colab/_message.py\u001b[0m in \u001b[0;36mread_reply_from_input\u001b[0;34m(message_id, timeout_sec)\u001b[0m\n\u001b[1;32m     99\u001b[0m     \u001b[0mreply\u001b[0m \u001b[0;34m=\u001b[0m \u001b[0m_read_next_input_message\u001b[0m\u001b[0;34m(\u001b[0m\u001b[0;34m)\u001b[0m\u001b[0;34m\u001b[0m\u001b[0;34m\u001b[0m\u001b[0m\n\u001b[1;32m    100\u001b[0m     \u001b[0;32mif\u001b[0m \u001b[0mreply\u001b[0m \u001b[0;34m==\u001b[0m \u001b[0m_NOT_READY\u001b[0m \u001b[0;32mor\u001b[0m \u001b[0;32mnot\u001b[0m \u001b[0misinstance\u001b[0m\u001b[0;34m(\u001b[0m\u001b[0mreply\u001b[0m\u001b[0;34m,\u001b[0m \u001b[0mdict\u001b[0m\u001b[0;34m)\u001b[0m\u001b[0;34m:\u001b[0m\u001b[0;34m\u001b[0m\u001b[0;34m\u001b[0m\u001b[0m\n\u001b[0;32m--> 101\u001b[0;31m       \u001b[0mtime\u001b[0m\u001b[0;34m.\u001b[0m\u001b[0msleep\u001b[0m\u001b[0;34m(\u001b[0m\u001b[0;36m0.025\u001b[0m\u001b[0;34m)\u001b[0m\u001b[0;34m\u001b[0m\u001b[0;34m\u001b[0m\u001b[0m\n\u001b[0m\u001b[1;32m    102\u001b[0m       \u001b[0;32mcontinue\u001b[0m\u001b[0;34m\u001b[0m\u001b[0;34m\u001b[0m\u001b[0m\n\u001b[1;32m    103\u001b[0m     if (reply.get('type') == 'colab_reply' and\n",
            "\u001b[0;31mKeyboardInterrupt\u001b[0m: "
          ]
        }
      ]
    },
    {
      "cell_type": "markdown",
      "source": [
        "#CutMix"
      ],
      "metadata": {
        "id": "XVxpvMnYTk17"
      }
    },
    {
      "cell_type": "markdown",
      "source": [
        "##CutMix Function"
      ],
      "metadata": {
        "id": "l5aH2I9ef_-f"
      }
    },
    {
      "cell_type": "code",
      "source": [
        "def cutmix(inputs, labels, alpha):\n",
        "  batch_size = inputs.size(0)\n",
        "  shuffled_batch = torch.randperm(batch_size).to(config['device'])\n",
        "  second_inputs = inputs[shuffled_batch]\n",
        "  second_labels = labels[shuffled_batch]\n",
        "  \n",
        "  lam = np.random.beta(alpha, alpha)\n",
        "  \n",
        "  mixup_inputs = torch.clone(inputs)\n",
        "  W = mixup_inputs.size(2)\n",
        "  H = mixup_inputs.size(3)\n",
        "  for i in range(batch_size):\n",
        "    height = int(W*np.sqrt(1-lam)) \n",
        "    width = int(H*np.sqrt(1-lam))\n",
        "    rx = np.random.randint(0,W-width)\n",
        "    ry = np.random.randint(0,H-height)\n",
        "\n",
        "    mixup_inputs[i,:,ry:ry + height,rx:rx + width] = second_inputs[i,:,ry:ry + height,rx:rx + width]\n",
        "    #mixup_inputs[i,:,:height,:width] = second_inputs[i,:,:height,:width]\n",
        "\n",
        "  # labels mixup will be computed in the loss function\n",
        "  return mixup_inputs, labels, second_labels, lam"
      ],
      "metadata": {
        "id": "YvBsabvAf3ws"
      },
      "execution_count": 65,
      "outputs": []
    },
    {
      "cell_type": "code",
      "source": [
        "def mixup_criterion(criterion, output, original_labels, shuffled_labels, lam):\n",
        "    return lam * criterion(output, original_labels) + (1 - lam) * criterion(output, shuffled_labels)"
      ],
      "metadata": {
        "id": "es6xzMc9f3hA"
      },
      "execution_count": 66,
      "outputs": []
    },
    {
      "cell_type": "markdown",
      "source": [
        "## Train"
      ],
      "metadata": {
        "id": "71GuuS6ogB6n"
      }
    },
    {
      "cell_type": "markdown",
      "source": [
        "### Resnet"
      ],
      "metadata": {
        "id": "tglDl4Tkhl1H"
      }
    },
    {
      "cell_type": "markdown",
      "source": [
        "Cifar10 Resnet"
      ],
      "metadata": {
        "id": "MlSxuzO5gqe_"
      }
    },
    {
      "cell_type": "code",
      "source": [
        "# Initialize the model for this run\n",
        "config['dataset_name'] = 'CIFAR10'\n",
        "config['model_name'] =  'resnet'\n",
        "model_ft, input_size = initialize_model(config['model_name'], config['dataset_name'])\n",
        "\n",
        "# Observe that all parameters are being optimized\n",
        "optimizer_ft = optim.SGD(model_ft.parameters(), lr=config['lr'], momentum=0.9, weight_decay = 0.0001, nesterov = True)\n",
        "scheduler_ft = CosineAnnealingLR(optimizer_ft, T_max = 60, eta_min = 1e-6 )\n",
        "\n",
        "# Setup the loss fxn\n",
        "criterion = nn.CrossEntropyLoss()\n",
        "\n",
        "# Train and evaluate\n",
        "model_ft = model_ft.to(device)\n",
        "\n",
        "with wandb.init(\n",
        "        config=config,\n",
        "        project='INF8225 - Projet final',  # Title of your project\n",
        "        entity = 'inf8225_ym_at', \n",
        "        group= 'resnet18_cifar10_Cutmix',  # In what group of runs do you want this run to be in?\n",
        "        save_code=True,\n",
        "    ):\n",
        "  model_ft, hist = train_model(model_ft, CIFAR10_trainloader, CIFAR10_testloader, criterion, optimizer_ft, scheduler_ft, num_epochs=config['epochs'], DAmethod = 'CutMix', datasetname = config['dataset_name'], jsd_loss = False)"
      ],
      "metadata": {
        "id": "kWyOMr-vgEQn"
      },
      "execution_count": null,
      "outputs": []
    },
    {
      "cell_type": "markdown",
      "source": [
        "Cifar100 Resnet"
      ],
      "metadata": {
        "id": "oLEqBT1ygu33"
      }
    },
    {
      "cell_type": "code",
      "source": [
        "# Initialize the model for this run\n",
        "config['dataset_name'] = 'CIFAR100'\n",
        "config['model_name'] =  'resnet'\n",
        "model_ft, input_size = initialize_model(config['model_name'], config['dataset_name'])\n",
        "\n",
        "# Observe that all parameters are being optimized\n",
        "optimizer_ft = optim.SGD(model_ft.parameters(), lr=config['lr'], momentum=0.9, weight_decay = 0.0005, nesterov = True)\n",
        "scheduler_ft = CosineAnnealingLR(optimizer_ft, T_max = 60, eta_min = 1e-6 )\n",
        "\n",
        "# Setup the loss fxn\n",
        "criterion = nn.CrossEntropyLoss()\n",
        "\n",
        "# Train and evaluate\n",
        "model_ft = model_ft.to(device)\n",
        "\n",
        "with wandb.init(\n",
        "        config=config,\n",
        "        project='INF8225 - Projet final',  # Title of your project\n",
        "        entity = 'inf8225_ym_at', \n",
        "        group= 'resnet18_cifar100_Cutmix',  # In what group of runs do you want this run to be in?\n",
        "        save_code=True,\n",
        "    ):\n",
        "  model_ft, hist = train_model(model_ft, CIFAR100_trainloader, CIFAR100_testloader, criterion, optimizer_ft, scheduler_ft, num_epochs=config['epochs'], DAmethod = 'CutMix', datasetname = config['dataset_name'], jsd_loss = False)"
      ],
      "metadata": {
        "id": "apj1_7QbgvdD"
      },
      "execution_count": null,
      "outputs": []
    },
    {
      "cell_type": "markdown",
      "source": [
        "### Densenet"
      ],
      "metadata": {
        "id": "QHHusBvWhiYw"
      }
    },
    {
      "cell_type": "markdown",
      "source": [
        "Cifar10 Densenet"
      ],
      "metadata": {
        "id": "TYXenPqjg3iA"
      }
    },
    {
      "cell_type": "code",
      "source": [
        "# Initialize the model for this run\n",
        "config['dataset_name'] = 'CIFAR10'\n",
        "config['model_name'] =  'densenet'\n",
        "model_ft, input_size = initialize_model(config['model_name'], config['dataset_name'])\n",
        "\n",
        "# Observe that all parameters are being optimized\n",
        "optimizer_ft = optim.SGD(model_ft.parameters(), lr=config['lr'], momentum=0.9, weight_decay = 0.0005, nesterov = True)\n",
        "scheduler_ft = CosineAnnealingLR(optimizer_ft, T_max = 60, eta_min = 1e-6 )\n",
        "\n",
        "# Setup the loss fxn\n",
        "criterion = nn.CrossEntropyLoss()\n",
        "\n",
        "# Train and evaluate\n",
        "model_ft = model_ft.to(device)\n",
        "\n",
        "with wandb.init(\n",
        "        config=config,\n",
        "        project='INF8225 - Projet final',  # Title of your project\n",
        "        entity = 'inf8225_ym_at', \n",
        "        group= 'densenet_cifar10_Cutmix',  # In what group of runs do you want this run to be in?\n",
        "        save_code=True,\n",
        "    ):\n",
        "  model_ft, hist = train_model(model_ft, CIFAR10_trainloader, CIFAR10_testloader, criterion, optimizer_ft, num_epochs=config['epochs'], DAmethod = 'CutMix', datasetname = config['dataset_name'], jsd_loss = False, scheduler = scheduler_ft)"
      ],
      "metadata": {
        "id": "QFwZpVLOg9kw",
        "colab": {
          "base_uri": "https://localhost:8080/",
          "height": 545
        },
        "outputId": "58d186e4-cad2-4e49-ce03-ec44075885ef"
      },
      "execution_count": 70,
      "outputs": [
        {
          "output_type": "display_data",
          "data": {
            "text/plain": [
              "<IPython.core.display.HTML object>"
            ],
            "text/html": [
              "<style>\n",
              "    table.wandb td:nth-child(1) { padding: 0 10px; text-align: right }\n",
              "    .wandb-row { display: flex; flex-direction: row; flex-wrap: wrap; width: 100% }\n",
              "    .wandb-col { display: flex; flex-direction: column; flex-basis: 100%; flex: 1; padding: 10px; }\n",
              "    </style>\n",
              "<div class=\"wandb-row\"><div class=\"wandb-col\"><h3>Run history:</h3><br/><table class=\"wandb\"><tr><td>Train - loss</td><td>▁</td></tr></table><br/></div><div class=\"wandb-col\"><h3>Run summary:</h3><br/><table class=\"wandb\"><tr><td>Train - loss</td><td>4.60659</td></tr></table><br/></div></div>"
            ]
          },
          "metadata": {}
        },
        {
          "output_type": "display_data",
          "data": {
            "text/plain": [
              "<IPython.core.display.HTML object>"
            ],
            "text/html": [
              "Synced <strong style=\"color:#cdcd00\">skilled-dawn-164</strong>: <a href=\"https://wandb.ai/inf8225_ym_at/INF8225%20-%20Projet%20final/runs/1cfkui6t\" target=\"_blank\">https://wandb.ai/inf8225_ym_at/INF8225%20-%20Projet%20final/runs/1cfkui6t</a><br/>Synced 5 W&B file(s), 0 media file(s), 0 artifact file(s) and 0 other file(s)"
            ]
          },
          "metadata": {}
        },
        {
          "output_type": "display_data",
          "data": {
            "text/plain": [
              "<IPython.core.display.HTML object>"
            ],
            "text/html": [
              "Find logs at: <code>./wandb/run-20220430_232520-1cfkui6t/logs</code>"
            ]
          },
          "metadata": {}
        },
        {
          "output_type": "error",
          "ename": "KeyboardInterrupt",
          "evalue": "ignored",
          "traceback": [
            "\u001b[0;31m---------------------------------------------------------------------------\u001b[0m",
            "\u001b[0;31mKeyboardInterrupt\u001b[0m                         Traceback (most recent call last)",
            "\u001b[0;32m<ipython-input-70-17485ea29328>\u001b[0m in \u001b[0;36m<module>\u001b[0;34m()\u001b[0m\n\u001b[1;32m     21\u001b[0m         \u001b[0msave_code\u001b[0m\u001b[0;34m=\u001b[0m\u001b[0;32mTrue\u001b[0m\u001b[0;34m,\u001b[0m\u001b[0;34m\u001b[0m\u001b[0;34m\u001b[0m\u001b[0m\n\u001b[1;32m     22\u001b[0m     ):\n\u001b[0;32m---> 23\u001b[0;31m   \u001b[0mmodel_ft\u001b[0m\u001b[0;34m,\u001b[0m \u001b[0mhist\u001b[0m \u001b[0;34m=\u001b[0m \u001b[0mtrain_model\u001b[0m\u001b[0;34m(\u001b[0m\u001b[0mmodel_ft\u001b[0m\u001b[0;34m,\u001b[0m \u001b[0mCIFAR10_trainloader\u001b[0m\u001b[0;34m,\u001b[0m \u001b[0mCIFAR10_testloader\u001b[0m\u001b[0;34m,\u001b[0m \u001b[0mcriterion\u001b[0m\u001b[0;34m,\u001b[0m \u001b[0moptimizer_ft\u001b[0m\u001b[0;34m,\u001b[0m \u001b[0mnum_epochs\u001b[0m\u001b[0;34m=\u001b[0m\u001b[0mconfig\u001b[0m\u001b[0;34m[\u001b[0m\u001b[0;34m'epochs'\u001b[0m\u001b[0;34m]\u001b[0m\u001b[0;34m,\u001b[0m \u001b[0mDAmethod\u001b[0m \u001b[0;34m=\u001b[0m \u001b[0;34m'CutMix'\u001b[0m\u001b[0;34m,\u001b[0m \u001b[0mdatasetname\u001b[0m \u001b[0;34m=\u001b[0m \u001b[0mconfig\u001b[0m\u001b[0;34m[\u001b[0m\u001b[0;34m'dataset_name'\u001b[0m\u001b[0;34m]\u001b[0m\u001b[0;34m,\u001b[0m \u001b[0mjsd_loss\u001b[0m \u001b[0;34m=\u001b[0m \u001b[0;32mFalse\u001b[0m\u001b[0;34m,\u001b[0m \u001b[0mscheduler\u001b[0m \u001b[0;34m=\u001b[0m \u001b[0mscheduler_ft\u001b[0m\u001b[0;34m)\u001b[0m\u001b[0;34m\u001b[0m\u001b[0;34m\u001b[0m\u001b[0m\n\u001b[0m",
            "\u001b[0;32m<ipython-input-44-dd1ed0f9ec59>\u001b[0m in \u001b[0;36mtrain_model\u001b[0;34m(model, trainloader, testloader, criterion, optimizer, scheduler, DAmethod, datasetname, num_epochs, jsd_loss)\u001b[0m\n\u001b[1;32m     95\u001b[0m \u001b[0;34m\u001b[0m\u001b[0m\n\u001b[1;32m     96\u001b[0m             \u001b[0mloss\u001b[0m\u001b[0;34m.\u001b[0m\u001b[0mbackward\u001b[0m\u001b[0;34m(\u001b[0m\u001b[0;34m)\u001b[0m\u001b[0;34m\u001b[0m\u001b[0;34m\u001b[0m\u001b[0m\n\u001b[0;32m---> 97\u001b[0;31m             \u001b[0moptimizer\u001b[0m\u001b[0;34m.\u001b[0m\u001b[0mstep\u001b[0m\u001b[0;34m(\u001b[0m\u001b[0;34m)\u001b[0m\u001b[0;34m\u001b[0m\u001b[0;34m\u001b[0m\u001b[0m\n\u001b[0m\u001b[1;32m     98\u001b[0m \u001b[0;34m\u001b[0m\u001b[0m\n\u001b[1;32m     99\u001b[0m \u001b[0;34m\u001b[0m\u001b[0m\n",
            "\u001b[0;32m/usr/local/lib/python3.7/dist-packages/torch/optim/lr_scheduler.py\u001b[0m in \u001b[0;36mwrapper\u001b[0;34m(*args, **kwargs)\u001b[0m\n\u001b[1;32m     63\u001b[0m                 \u001b[0minstance\u001b[0m\u001b[0;34m.\u001b[0m\u001b[0m_step_count\u001b[0m \u001b[0;34m+=\u001b[0m \u001b[0;36m1\u001b[0m\u001b[0;34m\u001b[0m\u001b[0;34m\u001b[0m\u001b[0m\n\u001b[1;32m     64\u001b[0m                 \u001b[0mwrapped\u001b[0m \u001b[0;34m=\u001b[0m \u001b[0mfunc\u001b[0m\u001b[0;34m.\u001b[0m\u001b[0m__get__\u001b[0m\u001b[0;34m(\u001b[0m\u001b[0minstance\u001b[0m\u001b[0;34m,\u001b[0m \u001b[0mcls\u001b[0m\u001b[0;34m)\u001b[0m\u001b[0;34m\u001b[0m\u001b[0;34m\u001b[0m\u001b[0m\n\u001b[0;32m---> 65\u001b[0;31m                 \u001b[0;32mreturn\u001b[0m \u001b[0mwrapped\u001b[0m\u001b[0;34m(\u001b[0m\u001b[0;34m*\u001b[0m\u001b[0margs\u001b[0m\u001b[0;34m,\u001b[0m \u001b[0;34m**\u001b[0m\u001b[0mkwargs\u001b[0m\u001b[0;34m)\u001b[0m\u001b[0;34m\u001b[0m\u001b[0;34m\u001b[0m\u001b[0m\n\u001b[0m\u001b[1;32m     66\u001b[0m \u001b[0;34m\u001b[0m\u001b[0m\n\u001b[1;32m     67\u001b[0m             \u001b[0;31m# Note that the returned function here is no longer a bound method,\u001b[0m\u001b[0;34m\u001b[0m\u001b[0;34m\u001b[0m\u001b[0;34m\u001b[0m\u001b[0m\n",
            "\u001b[0;32m/usr/local/lib/python3.7/dist-packages/torch/optim/optimizer.py\u001b[0m in \u001b[0;36mwrapper\u001b[0;34m(*args, **kwargs)\u001b[0m\n\u001b[1;32m     86\u001b[0m                 \u001b[0mprofile_name\u001b[0m \u001b[0;34m=\u001b[0m \u001b[0;34m\"Optimizer.step#{}.step\"\u001b[0m\u001b[0;34m.\u001b[0m\u001b[0mformat\u001b[0m\u001b[0;34m(\u001b[0m\u001b[0mobj\u001b[0m\u001b[0;34m.\u001b[0m\u001b[0m__class__\u001b[0m\u001b[0;34m.\u001b[0m\u001b[0m__name__\u001b[0m\u001b[0;34m)\u001b[0m\u001b[0;34m\u001b[0m\u001b[0;34m\u001b[0m\u001b[0m\n\u001b[1;32m     87\u001b[0m                 \u001b[0;32mwith\u001b[0m \u001b[0mtorch\u001b[0m\u001b[0;34m.\u001b[0m\u001b[0mautograd\u001b[0m\u001b[0;34m.\u001b[0m\u001b[0mprofiler\u001b[0m\u001b[0;34m.\u001b[0m\u001b[0mrecord_function\u001b[0m\u001b[0;34m(\u001b[0m\u001b[0mprofile_name\u001b[0m\u001b[0;34m)\u001b[0m\u001b[0;34m:\u001b[0m\u001b[0;34m\u001b[0m\u001b[0;34m\u001b[0m\u001b[0m\n\u001b[0;32m---> 88\u001b[0;31m                     \u001b[0;32mreturn\u001b[0m \u001b[0mfunc\u001b[0m\u001b[0;34m(\u001b[0m\u001b[0;34m*\u001b[0m\u001b[0margs\u001b[0m\u001b[0;34m,\u001b[0m \u001b[0;34m**\u001b[0m\u001b[0mkwargs\u001b[0m\u001b[0;34m)\u001b[0m\u001b[0;34m\u001b[0m\u001b[0;34m\u001b[0m\u001b[0m\n\u001b[0m\u001b[1;32m     89\u001b[0m             \u001b[0;32mreturn\u001b[0m \u001b[0mwrapper\u001b[0m\u001b[0;34m\u001b[0m\u001b[0;34m\u001b[0m\u001b[0m\n\u001b[1;32m     90\u001b[0m \u001b[0;34m\u001b[0m\u001b[0m\n",
            "\u001b[0;32m/usr/local/lib/python3.7/dist-packages/torch/autograd/grad_mode.py\u001b[0m in \u001b[0;36mdecorate_context\u001b[0;34m(*args, **kwargs)\u001b[0m\n\u001b[1;32m     25\u001b[0m         \u001b[0;32mdef\u001b[0m \u001b[0mdecorate_context\u001b[0m\u001b[0;34m(\u001b[0m\u001b[0;34m*\u001b[0m\u001b[0margs\u001b[0m\u001b[0;34m,\u001b[0m \u001b[0;34m**\u001b[0m\u001b[0mkwargs\u001b[0m\u001b[0;34m)\u001b[0m\u001b[0;34m:\u001b[0m\u001b[0;34m\u001b[0m\u001b[0;34m\u001b[0m\u001b[0m\n\u001b[1;32m     26\u001b[0m             \u001b[0;32mwith\u001b[0m \u001b[0mself\u001b[0m\u001b[0;34m.\u001b[0m\u001b[0mclone\u001b[0m\u001b[0;34m(\u001b[0m\u001b[0;34m)\u001b[0m\u001b[0;34m:\u001b[0m\u001b[0;34m\u001b[0m\u001b[0;34m\u001b[0m\u001b[0m\n\u001b[0;32m---> 27\u001b[0;31m                 \u001b[0;32mreturn\u001b[0m \u001b[0mfunc\u001b[0m\u001b[0;34m(\u001b[0m\u001b[0;34m*\u001b[0m\u001b[0margs\u001b[0m\u001b[0;34m,\u001b[0m \u001b[0;34m**\u001b[0m\u001b[0mkwargs\u001b[0m\u001b[0;34m)\u001b[0m\u001b[0;34m\u001b[0m\u001b[0;34m\u001b[0m\u001b[0m\n\u001b[0m\u001b[1;32m     28\u001b[0m         \u001b[0;32mreturn\u001b[0m \u001b[0mcast\u001b[0m\u001b[0;34m(\u001b[0m\u001b[0mF\u001b[0m\u001b[0;34m,\u001b[0m \u001b[0mdecorate_context\u001b[0m\u001b[0;34m)\u001b[0m\u001b[0;34m\u001b[0m\u001b[0;34m\u001b[0m\u001b[0m\n\u001b[1;32m     29\u001b[0m \u001b[0;34m\u001b[0m\u001b[0m\n",
            "\u001b[0;32m/usr/local/lib/python3.7/dist-packages/torch/optim/sgd.py\u001b[0m in \u001b[0;36mstep\u001b[0;34m(self, closure)\u001b[0m\n\u001b[1;32m    150\u001b[0m                   \u001b[0mdampening\u001b[0m\u001b[0;34m=\u001b[0m\u001b[0mdampening\u001b[0m\u001b[0;34m,\u001b[0m\u001b[0;34m\u001b[0m\u001b[0;34m\u001b[0m\u001b[0m\n\u001b[1;32m    151\u001b[0m                   \u001b[0mnesterov\u001b[0m\u001b[0;34m=\u001b[0m\u001b[0mnesterov\u001b[0m\u001b[0;34m,\u001b[0m\u001b[0;34m\u001b[0m\u001b[0;34m\u001b[0m\u001b[0m\n\u001b[0;32m--> 152\u001b[0;31m                   maximize=maximize,)\n\u001b[0m\u001b[1;32m    153\u001b[0m \u001b[0;34m\u001b[0m\u001b[0m\n\u001b[1;32m    154\u001b[0m             \u001b[0;31m# update momentum_buffers in state\u001b[0m\u001b[0;34m\u001b[0m\u001b[0;34m\u001b[0m\u001b[0;34m\u001b[0m\u001b[0m\n",
            "\u001b[0;32m/usr/local/lib/python3.7/dist-packages/torch/optim/_functional.py\u001b[0m in \u001b[0;36msgd\u001b[0;34m(params, d_p_list, momentum_buffer_list, weight_decay, momentum, lr, dampening, nesterov, maximize)\u001b[0m\n\u001b[1;32m    175\u001b[0m         \u001b[0md_p\u001b[0m \u001b[0;34m=\u001b[0m \u001b[0md_p_list\u001b[0m\u001b[0;34m[\u001b[0m\u001b[0mi\u001b[0m\u001b[0;34m]\u001b[0m\u001b[0;34m\u001b[0m\u001b[0;34m\u001b[0m\u001b[0m\n\u001b[1;32m    176\u001b[0m         \u001b[0;32mif\u001b[0m \u001b[0mweight_decay\u001b[0m \u001b[0;34m!=\u001b[0m \u001b[0;36m0\u001b[0m\u001b[0;34m:\u001b[0m\u001b[0;34m\u001b[0m\u001b[0;34m\u001b[0m\u001b[0m\n\u001b[0;32m--> 177\u001b[0;31m             \u001b[0md_p\u001b[0m \u001b[0;34m=\u001b[0m \u001b[0md_p\u001b[0m\u001b[0;34m.\u001b[0m\u001b[0madd\u001b[0m\u001b[0;34m(\u001b[0m\u001b[0mparam\u001b[0m\u001b[0;34m,\u001b[0m \u001b[0malpha\u001b[0m\u001b[0;34m=\u001b[0m\u001b[0mweight_decay\u001b[0m\u001b[0;34m)\u001b[0m\u001b[0;34m\u001b[0m\u001b[0;34m\u001b[0m\u001b[0m\n\u001b[0m\u001b[1;32m    178\u001b[0m \u001b[0;34m\u001b[0m\u001b[0m\n\u001b[1;32m    179\u001b[0m         \u001b[0;32mif\u001b[0m \u001b[0mmomentum\u001b[0m \u001b[0;34m!=\u001b[0m \u001b[0;36m0\u001b[0m\u001b[0;34m:\u001b[0m\u001b[0;34m\u001b[0m\u001b[0;34m\u001b[0m\u001b[0m\n",
            "\u001b[0;31mKeyboardInterrupt\u001b[0m: "
          ]
        }
      ]
    },
    {
      "cell_type": "markdown",
      "source": [
        "Cifar100 Densenet"
      ],
      "metadata": {
        "id": "xOZ_GlPbg5z5"
      }
    },
    {
      "cell_type": "code",
      "source": [
        "# Initialize the model for this run\n",
        "config['dataset_name'] = 'CIFAR100'\n",
        "config['model_name'] =  'densenet'\n",
        "model_ft, input_size = initialize_model(config['model_name'], config['dataset_name'])\n",
        "\n",
        "# Observe that all parameters are being optimized\n",
        "optimizer_ft = optim.SGD(model_ft.parameters(), lr=config['lr'], momentum=0.9, weight_decay = 0.0005, nesterov = True)\n",
        "scheduler_ft = CosineAnnealingLR(optimizer_ft, T_max = 60, eta_min = 1e-6 )\n",
        "\n",
        "# Setup the loss fxn\n",
        "criterion = nn.CrossEntropyLoss()\n",
        "\n",
        "# Train and evaluate\n",
        "model_ft = model_ft.to(device)\n",
        "\n",
        "with wandb.init(\n",
        "        config=config,\n",
        "        project='INF8225 - Projet final',  # Title of your project\n",
        "        entity = 'inf8225_ym_at', \n",
        "        group= 'densenet_cifar100_Cutmix',  # In what group of runs do you want this run to be in?\n",
        "        save_code=True,\n",
        "    ):\n",
        "  model_ft, hist = train_model(model_ft, CIFAR100_trainloader, CIFAR100_testloader, criterion, optimizer_ft, num_epochs=config['epochs'], DAmethod = 'CutMix', datasetname = config['dataset_name'], jsd_loss = False, scheduler = scheduler_ft)"
      ],
      "metadata": {
        "id": "2gNkOtt9hNT5"
      },
      "execution_count": null,
      "outputs": []
    },
    {
      "cell_type": "markdown",
      "source": [
        "# AugMix"
      ],
      "metadata": {
        "id": "CRsOiiz0wFX9"
      }
    },
    {
      "cell_type": "markdown",
      "source": [
        "## AugMixDataset"
      ],
      "metadata": {
        "id": "d-sZns7s-V7j"
      }
    },
    {
      "cell_type": "code",
      "source": [
        "def int_parameter(level,maxval):\n",
        "  return int(level*maxval/10)\n",
        "\n",
        "def float_parameter(level,maxval):\n",
        "  return float(level)*maxval/10.\n",
        "\n",
        "def sample_level(n):\n",
        "  return np.random.uniform(low=0.1,high=n)\n",
        "\n",
        "# Operations\n",
        "def autocontrast(pil_img, _ , IMAGE_SIZE):\n",
        "  return ImageOps.autocontrast(pil_img)\n",
        "\n",
        "def equalize(pil_img, _, IMAGE_SIZE):\n",
        "  return ImageOps.equalize(pil_img)\n",
        "\n",
        "def posterize(pil_img, level, IMAGE_SIZE):\n",
        "  level = int_parameter(sample_level(level), 4)\n",
        "  return ImageOps.posterize(pil_img, 4 - level)\n",
        "\n",
        "def rotate(pil_img, level, IMAGE_SIZE):\n",
        "  degrees = int_parameter(sample_level(level), 30)\n",
        "  if np.random.uniform() > 0.5:\n",
        "    degrees = -degrees\n",
        "  return pil_img.rotate(degrees, resample=Image.BILINEAR)\n",
        "\n",
        "def solarize(pil_img, level, IMAGE_SIZE):\n",
        "  level = int_parameter(sample_level(level), 256)\n",
        "  return ImageOps.solarize(pil_img, 256 - level)\n",
        "\n",
        "def shear_x(pil_img, level, IMAGE_SIZE):\n",
        "  level = float_parameter(sample_level(level), 0.3)\n",
        "  if np.random.uniform() > 0.5:\n",
        "    level = -level\n",
        "  return pil_img.transform((IMAGE_SIZE, IMAGE_SIZE),\n",
        "                           Image.AFFINE, (1, level, 0, 0, 1, 0),\n",
        "                           resample=Image.BILINEAR)\n",
        "\n",
        "def shear_y(pil_img, level, IMAGE_SIZE):\n",
        "  level = float_parameter(sample_level(level), 0.3)\n",
        "  if np.random.uniform() > 0.5:\n",
        "    level = -level\n",
        "  return pil_img.transform((IMAGE_SIZE, IMAGE_SIZE),\n",
        "                           Image.AFFINE, (1, 0, 0, level, 1, 0),\n",
        "                           resample=Image.BILINEAR)\n",
        "\n",
        "def translate_x(pil_img, level, IMAGE_SIZE):\n",
        "  level = int_parameter(sample_level(level), IMAGE_SIZE / 3)\n",
        "  if np.random.random() > 0.5:\n",
        "    level = -level\n",
        "  return pil_img.transform((IMAGE_SIZE, IMAGE_SIZE),\n",
        "                           Image.AFFINE, (1, 0, level, 0, 1, 0),\n",
        "                           resample=Image.BILINEAR)\n",
        "\n",
        "def translate_y(pil_img, level, IMAGE_SIZE):\n",
        "  level = int_parameter(sample_level(level), IMAGE_SIZE / 3)\n",
        "  if np.random.random() > 0.5:\n",
        "    level = -level\n",
        "  return pil_img.transform((IMAGE_SIZE, IMAGE_SIZE),\n",
        "                           Image.AFFINE, (1, 0, 0, 0, 1, level),\n",
        "                           resample=Image.BILINEAR)\n",
        "  \n",
        "# operation that overlaps with ImageNet-C's test set\n",
        "def color(pil_img, level, IMAGE_SIZE):\n",
        "    level = float_parameter(sample_level(level), 1.8) + 0.1\n",
        "    return ImageEnhance.Color(pil_img).enhance(level)\n",
        "\n",
        "def contrast(pil_img, level, IMAGE_SIZE):\n",
        "    level = float_parameter(sample_level(level), 1.8) + 0.1\n",
        "    return ImageEnhance.Contrast(pil_img).enhance(level)\n",
        "\n",
        "def brightness(pil_img, level, IMAGE_SIZE):\n",
        "    level = float_parameter(sample_level(level), 1.8) + 0.1\n",
        "    return ImageEnhance.Brightness(pil_img).enhance(level)\n",
        "\n",
        "def sharpness(pil_img, level, IMAGE_SIZE):\n",
        "    level = float_parameter(sample_level(level), 1.8) + 0.1\n",
        "    return ImageEnhance.Sharpness(pil_img).enhance(level)\n",
        "\n",
        "# augmentations list\n",
        "augmentations = [\n",
        "    autocontrast, equalize, posterize, rotate, solarize, shear_x, shear_y,\n",
        "    translate_x, translate_y\n",
        "]\n",
        "\n",
        "augmentations_all = [\n",
        "    autocontrast, equalize, posterize, rotate, solarize, shear_x, shear_y,\n",
        "    translate_x, translate_y, color, contrast, brightness, sharpness\n",
        "]\n"
      ],
      "metadata": {
        "id": "PDGcCXpd_CRV"
      },
      "execution_count": 72,
      "outputs": []
    },
    {
      "cell_type": "code",
      "source": [
        "def augmix(image, preprocess, dataset_name, mixture_width:int=3, aug_severity = 3, all_ops = True):\n",
        "  \n",
        "  if dataset_name == \"mnist\":\n",
        "    size = 28\n",
        "  else:\n",
        "    size = 32\n",
        "\n",
        "  aug_list = augmentations\n",
        "  if all_ops:\n",
        "    aug_list = augmentations_all\n",
        "  \n",
        "  ws = np.float32(np.random.dirichlet([1] * mixture_width))\n",
        "  m = np.float32(np.random.beta(1,1))\n",
        "\n",
        "  mix = torch.zeros_like(preprocess(image))\n",
        "\n",
        "  for i in range(mixture_width):\n",
        "    image_aug = image.copy()\n",
        "    depth = np.random.randint(1, 4)\n",
        "    for _ in range(depth):\n",
        "      op = np.random.choice(aug_list)\n",
        "      image_aug = op(image_aug, aug_severity, size)\n",
        "    mix += ws[i] * preprocess(image_aug)\n",
        "  \n",
        "  \n",
        "  mixed = (1-m) * preprocess(image) + m * mix\n",
        "\n",
        "  return mixed\n",
        "\n",
        "class AugMixDataset(torch.utils.data.Dataset):\n",
        "  def __init__(self,dataset,preprocess,dataset_name,all_ops=True,jsd_loss=False): #,mixture_width = 3\n",
        "    self.dataset = dataset\n",
        "    self.preprocess = preprocess\n",
        "    self.jsd_loss = jsd_loss\n",
        "    self.dataset_name = dataset_name\n",
        "    self.all_ops = all_ops\n",
        "  \n",
        "  def __getitem__(self, i):\n",
        "    x, y = self.dataset[i]\n",
        "    if self.jsd_loss:\n",
        "      im_tuple = (\n",
        "          self.preprocess(x), \n",
        "          augmix(x, self.preprocess, self.dataset_name, self.all_ops),\n",
        "          augmix(x, self.preprocess, self.dataset_name, self.all_ops),\n",
        "          )\n",
        "      return im_tuple,y\n",
        "    else:\n",
        "      return augmix(x, self.preprocess, self.dataset_name, self.all_ops), y\n",
        "  \n",
        "  def __len__(self):\n",
        "    return len(self.dataset)"
      ],
      "metadata": {
        "id": "zAW3n3bb-ZCY"
      },
      "execution_count": 73,
      "outputs": []
    },
    {
      "cell_type": "markdown",
      "source": [
        "## Preprocessing"
      ],
      "metadata": {
        "id": "Yr0pSmonwUyK"
      }
    },
    {
      "cell_type": "code",
      "source": [
        "# DataSet\n",
        "# mnist\n",
        "mnist_train_transform = transforms.Compose([\n",
        "               transforms.RandomHorizontalFlip(),\n",
        "               transforms.RandomCrop(28,padding=4),\n",
        "    ])\n",
        "mnist_preprocess = transforms.Compose([\n",
        "               Grayscale(num_output_channels=3),\n",
        "               ToTensor(),\n",
        "               Normalize([0.1307],[0.3015]),\n",
        "])\n",
        "mnist_test_transform = mnist_preprocess\n",
        "\n",
        "mnist_trainset = datasets.MNIST(root='./data/MNIST', train=True, download=True, transform = mnist_train_transform)\n",
        "mnist_testset = datasets.MNIST(root='./data/MNIST', train=False, download=True, transform = mnist_test_transform)\n",
        "\n",
        "# CIFAR-10\n",
        "CIFAR10_train_transform = transforms.Compose([\n",
        "               transforms.RandomHorizontalFlip(),\n",
        "               transforms.RandomCrop(32, padding=4),\n",
        "    ])\n",
        "CIFAR10_preprocess = transforms.Compose([\n",
        "               ToTensor(),\n",
        "               Normalize([0.4914, 0.4822, 0.4465],[0.2023, 0.1994, 0.2010]),\n",
        "])\n",
        "CIFAR10_test_transform = CIFAR10_preprocess\n",
        "\n",
        "CIFAR10_trainset = datasets.CIFAR10(root='./data/CIFAR', train=True, download=True, transform = CIFAR10_train_transform)\n",
        "CIFAR10_testset = datasets.CIFAR10(root='./data/CIFAR', train=False, download=True, transform = CIFAR10_test_transform)\n",
        "\n",
        "# CIFAR-100\n",
        "CIFAR100_train_transform = transforms.Compose([\n",
        "               transforms.RandomHorizontalFlip(),\n",
        "               transforms.RandomCrop(32, padding=4),\n",
        "    ])\n",
        "CIFAR100_preprocess = transforms.Compose([\n",
        "               ToTensor(),\n",
        "               Normalize([0.5017, 0.4866, 0.4409],[0.2009, 0.1984, 0.2023]),\n",
        "])\n",
        "CIFAR100_test_transform = CIFAR100_preprocess\n",
        "\n",
        "CIFAR100_trainset = datasets.CIFAR100(root='./data/CIFAR', train=True, download=True, transform = CIFAR100_train_transform)\n",
        "CIFAR100_testset = datasets.CIFAR100(root='./data/CIFAR', train=False, download=True, transform = CIFAR100_test_transform)"
      ],
      "metadata": {
        "id": "uYW8IcNOwUyK",
        "colab": {
          "base_uri": "https://localhost:8080/"
        },
        "outputId": "c404fc3c-5165-45c1-f1f5-bdebb9e2da01"
      },
      "execution_count": 74,
      "outputs": [
        {
          "output_type": "stream",
          "name": "stdout",
          "text": [
            "Files already downloaded and verified\n",
            "Files already downloaded and verified\n",
            "Files already downloaded and verified\n",
            "Files already downloaded and verified\n"
          ]
        }
      ]
    },
    {
      "cell_type": "markdown",
      "source": [
        "## Model training"
      ],
      "metadata": {
        "id": "rYOsXJSrwfns"
      }
    },
    {
      "cell_type": "markdown",
      "source": [
        "### Dataloader"
      ],
      "metadata": {
        "id": "lanl5P_swfns"
      }
    },
    {
      "cell_type": "code",
      "source": [
        "jsd_loss = False\n",
        "mnist_trainset = AugMixDataset(mnist_trainset, mnist_preprocess, 'mnist', jsd_loss = jsd_loss)\n",
        "CIFAR10_trainset = AugMixDataset(CIFAR10_trainset, CIFAR10_preprocess, 'cifar10', jsd_loss = jsd_loss)\n",
        "CIFAR100_trainset = AugMixDataset(CIFAR100_trainset, CIFAR100_preprocess, 'cifar100', jsd_loss = jsd_loss)"
      ],
      "metadata": {
        "id": "H1mVn2BGwfns"
      },
      "execution_count": 75,
      "outputs": []
    },
    {
      "cell_type": "code",
      "source": [
        "mnist_trainloader = DataLoader(mnist_trainset, batch_size=config['batch_size'], shuffle=True)\n",
        "mnist_testloader = DataLoader(mnist_testset, batch_size=config['batch_size'])\n",
        "CIFAR10_trainloader = DataLoader(CIFAR10_trainset, batch_size=config['batch_size'], shuffle=True)\n",
        "CIFAR10_testloader = DataLoader(CIFAR10_testset, batch_size=config['batch_size'])\n",
        "CIFAR100_trainloader = DataLoader(CIFAR100_trainset, batch_size=config['batch_size'], shuffle=True)\n",
        "CIFAR100_testloader = DataLoader(CIFAR100_testset, batch_size=config['batch_size'])"
      ],
      "metadata": {
        "id": "Eq_u3-Rgwfnt"
      },
      "execution_count": 76,
      "outputs": []
    },
    {
      "cell_type": "code",
      "source": [
        "def imshow(dataset):\n",
        "  if jsd_loss:\n",
        "    print(\"size: \" + str(dataset[0][0][0].shape))\n",
        "    if dataset in [mnist_trainset,mnist_testset]:\n",
        "      plt.figure()\n",
        "      f,axs = plt.subplots(1,10,figsize=(25,25))\n",
        "      for i in range(10):\n",
        "        axs[i].imshow(dataset[i][0][0][0],cmap = 'gray')\n",
        "        axs[i].set_title(\"label: \" + str(dataset[i][1]))\n",
        "    else:\n",
        "      plt.figure()\n",
        "      f,axs = plt.subplots(1,4,figsize=(25,25))\n",
        "      for i in range(1):\n",
        "        axs[i].imshow((np.transpose(dataset[i][0][0],(1,2,0))))\n",
        "        axs[i+1].imshow((np.transpose(dataset[i][0][0],(1,2,0)))[:,:,0])\n",
        "        axs[i+2].imshow((np.transpose(dataset[i][0][0],(1,2,0)))[:,:,1])\n",
        "        axs[i+3].imshow((np.transpose(dataset[i][0][0],(1,2,0)))[:,:,2])\n",
        "        axs[i].set_title(\"label: \" + str(dataset[i][1]))\n",
        "    plt.setp([a.get_xticklabels() for a in axs[:]], visible=False) # hide x ticks\n",
        "    plt.setp([a.get_yticklabels() for a in axs[:]], visible=False) # hide y ticks\n",
        "    plt.show()\n",
        "  else:\n",
        "    print(\"size: \" + str(dataset[0][0].shape))\n",
        "    if dataset in [mnist_trainset,mnist_testset]:\n",
        "      plt.figure()\n",
        "      f,axs = plt.subplots(1,10,figsize=(25,25))\n",
        "      for i in range(10):\n",
        "        axs[i].imshow(dataset[i][0][0],cmap = 'gray')\n",
        "        axs[i].set_title(\"label: \" + str(dataset[i][1]))\n",
        "    else:\n",
        "      plt.figure()\n",
        "      f,axs = plt.subplots(1,4,figsize=(25,25))\n",
        "      for i in range(1):\n",
        "        axs[i].imshow((np.transpose(dataset[i][0],(1,2,0))))\n",
        "        axs[i+1].imshow((np.transpose(dataset[i][0],(1,2,0)))[:,:,0])\n",
        "        axs[i+2].imshow((np.transpose(dataset[i][0],(1,2,0)))[:,:,1])\n",
        "        axs[i+3].imshow((np.transpose(dataset[i][0],(1,2,0)))[:,:,2])\n",
        "        axs[i].set_title(\"label: \" + str(dataset[i][1]))\n",
        "    plt.setp([a.get_xticklabels() for a in axs[:]], visible=False) # hide x ticks\n",
        "    plt.setp([a.get_yticklabels() for a in axs[:]], visible=False) # hide y ticks\n",
        "    plt.show()\n",
        "\n",
        "imshow(mnist_trainloader.dataset)\n",
        "imshow(CIFAR10_trainloader.dataset)\n",
        "imshow(CIFAR100_trainset)"
      ],
      "metadata": {
        "id": "BmMi8xWPwfnt",
        "colab": {
          "base_uri": "https://localhost:8080/",
          "height": 0
        },
        "outputId": "46a10c50-bf1e-45b7-d105-e00b33a0d57f"
      },
      "execution_count": 77,
      "outputs": [
        {
          "output_type": "stream",
          "name": "stdout",
          "text": [
            "size: torch.Size([3, 28, 28])\n"
          ]
        },
        {
          "output_type": "display_data",
          "data": {
            "text/plain": [
              "<Figure size 432x288 with 0 Axes>"
            ]
          },
          "metadata": {}
        },
        {
          "output_type": "display_data",
          "data": {
            "text/plain": [
              "<Figure size 1800x1800 with 10 Axes>"
            ],
            "image/png": "[encoded data removed]"
          },
          "metadata": {}
        },
        {
          "output_type": "stream",
          "name": "stderr",
          "text": [
            "Clipping input data to the valid range for imshow with RGB data ([0..1] for floats or [0..255] for integers).\n"
          ]
        },
        {
          "output_type": "stream",
          "name": "stdout",
          "text": [
            "size: torch.Size([3, 32, 32])\n"
          ]
        },
        {
          "output_type": "display_data",
          "data": {
            "text/plain": [
              "<Figure size 432x288 with 0 Axes>"
            ]
          },
          "metadata": {}
        },
        {
          "output_type": "display_data",
          "data": {
            "text/plain": [
              "<Figure size 1800x1800 with 4 Axes>"
            ],
            "image/png": "[encoded data removed]"
          },
          "metadata": {}
        },
        {
          "output_type": "stream",
          "name": "stderr",
          "text": [
            "Clipping input data to the valid range for imshow with RGB data ([0..1] for floats or [0..255] for integers).\n"
          ]
        },
        {
          "output_type": "stream",
          "name": "stdout",
          "text": [
            "size: torch.Size([3, 32, 32])\n"
          ]
        },
        {
          "output_type": "display_data",
          "data": {
            "text/plain": [
              "<Figure size 432x288 with 0 Axes>"
            ]
          },
          "metadata": {}
        },
        {
          "output_type": "display_data",
          "data": {
            "text/plain": [
              "<Figure size 1800x1800 with 4 Axes>"
            ],
            "image/png": "[encoded data removed]"
          },
          "metadata": {}
        }
      ]
    },
    {
      "cell_type": "markdown",
      "source": [
        "### ResNet18"
      ],
      "metadata": {
        "id": "N7hbNRg5wfnt"
      }
    },
    {
      "cell_type": "markdown",
      "source": [
        "#### cifar10"
      ],
      "metadata": {
        "id": "hlE1-dP9BdGU"
      }
    },
    {
      "cell_type": "code",
      "source": [
        "config['model_name'] = 'resnet'\n",
        "config['dataset_name'] = 'cifar10' # mnist cifar10 cifar100\n"
      ],
      "metadata": {
        "id": "PaNDznxsBrM7"
      },
      "execution_count": 78,
      "outputs": []
    },
    {
      "cell_type": "code",
      "source": [
        "# Initialize the model for this run\n",
        "model_ft, input_size = initialize_model(config['model_name'], config['dataset_name'])\n",
        "\n",
        "# Print the model we just instantiated\n",
        "# summary(model_ft)\n",
        "\n",
        "# Observe that all parameters are being optimized\n",
        "optimizer_ft = optim.SGD(model_ft.parameters(), lr=config['lr'], momentum=0.9, weight_decay = 0.0005, nesterov = True)\n",
        "scheduler_ft = CosineAnnealingLR(optimizer_ft, T_max = 60, eta_min = 1e-6 )\n",
        "\n",
        "# Setup the loss fxn\n",
        "criterion = nn.CrossEntropyLoss()\n",
        "\n",
        "# Train and evaluate\n",
        "\n",
        "model_ft = model_ft.to(device)\n",
        "\n",
        "with wandb.init(\n",
        "        config=config,\n",
        "        project='INF8225 - Projet final',  # Title of your project\n",
        "        entity = 'inf8225_ym_at', \n",
        "        group= 'resnet18_cifar10_AugMix',  # In what group of runs do you want this run to be in?\n",
        "        save_code=True,\n",
        "    ):\n",
        "  model_ft, hist = train_model(model_ft, CIFAR10_trainloader, CIFAR10_testloader, criterion, optimizer_ft, scheduler_ft, num_epochs=config['epochs'], DAmethod = 'AugMix', datasetname = config['dataset_name'], jsd_loss = jsd_loss)"
      ],
      "metadata": {
        "id": "rTFlStjsBZF9",
        "colab": {
          "base_uri": "https://localhost:8080/",
          "height": 739,
          "referenced_widgets": [
            "97db05c0f79546d791c82842e069c04d",
            "521e91d2c2934eadb78c08dde3547a65",
            "b28e3371c49e4233959d8dc14dcf57b0",
            "0f1ef268debd4084a9e36588c4278c17",
            "a15baede4a2b4bfdbfa62d882a34cc7a",
            "705cad22e1c2457fa9cb8ba012af8060",
            "f5025d0ab6464f46bab3081be8949f42",
            "99f003a033574534b943d1c00a0ab07e"
          ]
        },
        "outputId": "c18d0cea-cf8b-45f4-b14e-116d5ad49029"
      },
      "execution_count": 79,
      "outputs": [
        {
          "output_type": "display_data",
          "data": {
            "text/plain": [
              "<IPython.core.display.HTML object>"
            ],
            "text/html": [
              "Tracking run with wandb version 0.12.15"
            ]
          },
          "metadata": {}
        },
        {
          "output_type": "display_data",
          "data": {
            "text/plain": [
              "<IPython.core.display.HTML object>"
            ],
            "text/html": [
              "Run data is saved locally in <code>/content/wandb/run-20220430_232555-14r9xc33</code>"
            ]
          },
          "metadata": {}
        },
        {
          "output_type": "display_data",
          "data": {
            "text/plain": [
              "<IPython.core.display.HTML object>"
            ],
            "text/html": [
              "Syncing run <strong><a href=\"https://wandb.ai/inf8225_ym_at/INF8225%20-%20Projet%20final/runs/14r9xc33\" target=\"_blank\">vague-jazz-166</a></strong> to <a href=\"https://wandb.ai/inf8225_ym_at/INF8225%20-%20Projet%20final\" target=\"_blank\">Weights & Biases</a> (<a href=\"https://wandb.me/run\" target=\"_blank\">docs</a>)<br/>"
            ]
          },
          "metadata": {}
        },
        {
          "output_type": "stream",
          "name": "stdout",
          "text": [
            "Epoch 1/200\n",
            "----------\n"
          ]
        },
        {
          "output_type": "stream",
          "name": "stderr",
          "text": [
            "9it [00:02,  3.97it/s]\n"
          ]
        },
        {
          "output_type": "display_data",
          "data": {
            "text/plain": [
              "<IPython.core.display.HTML object>"
            ],
            "text/html": [
              "Waiting for W&B process to finish... <strong style=\"color:red\">(failed 1).</strong> Press Control-C to abort syncing."
            ]
          },
          "metadata": {}
        },
        {
          "output_type": "display_data",
          "data": {
            "text/plain": [
              "VBox(children=(Label(value='0.001 MB of 0.001 MB uploaded (0.000 MB deduped)\\r'), FloatProgress(value=1.0, max…"
            ],
            "application/vnd.jupyter.widget-view+json": {
              "version_major": 2,
              "version_minor": 0,
              "model_id": "97db05c0f79546d791c82842e069c04d"
            }
          },
          "metadata": {}
        },
        {
          "output_type": "display_data",
          "data": {
            "text/plain": [
              "<IPython.core.display.HTML object>"
            ],
            "text/html": [
              "<style>\n",
              "    table.wandb td:nth-child(1) { padding: 0 10px; text-align: right }\n",
              "    .wandb-row { display: flex; flex-direction: row; flex-wrap: wrap; width: 100% }\n",
              "    .wandb-col { display: flex; flex-direction: column; flex-basis: 100%; flex: 1; padding: 10px; }\n",
              "    </style>\n",
              "<div class=\"wandb-row\"><div class=\"wandb-col\"><h3>Run history:</h3><br/><table class=\"wandb\"><tr><td>Train - loss</td><td>▁</td></tr></table><br/></div><div class=\"wandb-col\"><h3>Run summary:</h3><br/><table class=\"wandb\"><tr><td>Train - loss</td><td>2.44779</td></tr></table><br/></div></div>"
            ]
          },
          "metadata": {}
        },
        {
          "output_type": "display_data",
          "data": {
            "text/plain": [
              "<IPython.core.display.HTML object>"
            ],
            "text/html": [
              "Synced <strong style=\"color:#cdcd00\">vague-jazz-166</strong>: <a href=\"https://wandb.ai/inf8225_ym_at/INF8225%20-%20Projet%20final/runs/14r9xc33\" target=\"_blank\">https://wandb.ai/inf8225_ym_at/INF8225%20-%20Projet%20final/runs/14r9xc33</a><br/>Synced 5 W&B file(s), 0 media file(s), 0 artifact file(s) and 0 other file(s)"
            ]
          },
          "metadata": {}
        },
        {
          "output_type": "display_data",
          "data": {
            "text/plain": [
              "<IPython.core.display.HTML object>"
            ],
            "text/html": [
              "Find logs at: <code>./wandb/run-20220430_232555-14r9xc33/logs</code>"
            ]
          },
          "metadata": {}
        },
        {
          "output_type": "error",
          "ename": "KeyboardInterrupt",
          "evalue": "ignored",
          "traceback": [
            "\u001b[0;31m---------------------------------------------------------------------------\u001b[0m",
            "\u001b[0;31mKeyboardInterrupt\u001b[0m                         Traceback (most recent call last)",
            "\u001b[0;32m<ipython-input-79-07b5cf3e341f>\u001b[0m in \u001b[0;36m<module>\u001b[0;34m()\u001b[0m\n\u001b[1;32m     23\u001b[0m         \u001b[0msave_code\u001b[0m\u001b[0;34m=\u001b[0m\u001b[0;32mTrue\u001b[0m\u001b[0;34m,\u001b[0m\u001b[0;34m\u001b[0m\u001b[0;34m\u001b[0m\u001b[0m\n\u001b[1;32m     24\u001b[0m     ):\n\u001b[0;32m---> 25\u001b[0;31m   \u001b[0mmodel_ft\u001b[0m\u001b[0;34m,\u001b[0m \u001b[0mhist\u001b[0m \u001b[0;34m=\u001b[0m \u001b[0mtrain_model\u001b[0m\u001b[0;34m(\u001b[0m\u001b[0mmodel_ft\u001b[0m\u001b[0;34m,\u001b[0m \u001b[0mCIFAR10_trainloader\u001b[0m\u001b[0;34m,\u001b[0m \u001b[0mCIFAR10_testloader\u001b[0m\u001b[0;34m,\u001b[0m \u001b[0mcriterion\u001b[0m\u001b[0;34m,\u001b[0m \u001b[0moptimizer_ft\u001b[0m\u001b[0;34m,\u001b[0m \u001b[0mscheduler_ft\u001b[0m\u001b[0;34m,\u001b[0m \u001b[0mnum_epochs\u001b[0m\u001b[0;34m=\u001b[0m\u001b[0mconfig\u001b[0m\u001b[0;34m[\u001b[0m\u001b[0;34m'epochs'\u001b[0m\u001b[0;34m]\u001b[0m\u001b[0;34m,\u001b[0m \u001b[0mDAmethod\u001b[0m \u001b[0;34m=\u001b[0m \u001b[0;34m'AugMix'\u001b[0m\u001b[0;34m,\u001b[0m \u001b[0mdatasetname\u001b[0m \u001b[0;34m=\u001b[0m \u001b[0mconfig\u001b[0m\u001b[0;34m[\u001b[0m\u001b[0;34m'dataset_name'\u001b[0m\u001b[0;34m]\u001b[0m\u001b[0;34m,\u001b[0m \u001b[0mjsd_loss\u001b[0m \u001b[0;34m=\u001b[0m \u001b[0mjsd_loss\u001b[0m\u001b[0;34m)\u001b[0m\u001b[0;34m\u001b[0m\u001b[0;34m\u001b[0m\u001b[0m\n\u001b[0m",
            "\u001b[0;32m<ipython-input-44-dd1ed0f9ec59>\u001b[0m in \u001b[0;36mtrain_model\u001b[0;34m(model, trainloader, testloader, criterion, optimizer, scheduler, DAmethod, datasetname, num_epochs, jsd_loss)\u001b[0m\n\u001b[1;32m     47\u001b[0m           \u001b[0mrunning_corrects\u001b[0m \u001b[0;34m=\u001b[0m \u001b[0;36m0\u001b[0m\u001b[0;34m\u001b[0m\u001b[0;34m\u001b[0m\u001b[0m\n\u001b[1;32m     48\u001b[0m \u001b[0;34m\u001b[0m\u001b[0m\n\u001b[0;32m---> 49\u001b[0;31m           \u001b[0;32mfor\u001b[0m \u001b[0mbatch_idx\u001b[0m\u001b[0;34m,\u001b[0m\u001b[0;34m(\u001b[0m\u001b[0minputs\u001b[0m\u001b[0;34m,\u001b[0m \u001b[0mlabels\u001b[0m\u001b[0;34m)\u001b[0m \u001b[0;32min\u001b[0m \u001b[0mtqdm\u001b[0m\u001b[0;34m(\u001b[0m\u001b[0menumerate\u001b[0m\u001b[0;34m(\u001b[0m\u001b[0mtrainloader\u001b[0m\u001b[0;34m)\u001b[0m\u001b[0;34m)\u001b[0m\u001b[0;34m:\u001b[0m \u001b[0;31m# for i, (inputs, labels) in enumerate(trainloader):\u001b[0m\u001b[0;34m\u001b[0m\u001b[0;34m\u001b[0m\u001b[0m\n\u001b[0m\u001b[1;32m     50\u001b[0m             \u001b[0moptimizer\u001b[0m\u001b[0;34m.\u001b[0m\u001b[0mzero_grad\u001b[0m\u001b[0;34m(\u001b[0m\u001b[0;34m)\u001b[0m\u001b[0;34m\u001b[0m\u001b[0;34m\u001b[0m\u001b[0m\n\u001b[1;32m     51\u001b[0m \u001b[0;34m\u001b[0m\u001b[0m\n",
            "\u001b[0;32m/usr/local/lib/python3.7/dist-packages/tqdm/std.py\u001b[0m in \u001b[0;36m__iter__\u001b[0;34m(self)\u001b[0m\n\u001b[1;32m   1193\u001b[0m \u001b[0;34m\u001b[0m\u001b[0m\n\u001b[1;32m   1194\u001b[0m         \u001b[0;32mtry\u001b[0m\u001b[0;34m:\u001b[0m\u001b[0;34m\u001b[0m\u001b[0;34m\u001b[0m\u001b[0m\n\u001b[0;32m-> 1195\u001b[0;31m             \u001b[0;32mfor\u001b[0m \u001b[0mobj\u001b[0m \u001b[0;32min\u001b[0m \u001b[0miterable\u001b[0m\u001b[0;34m:\u001b[0m\u001b[0;34m\u001b[0m\u001b[0;34m\u001b[0m\u001b[0m\n\u001b[0m\u001b[1;32m   1196\u001b[0m                 \u001b[0;32myield\u001b[0m \u001b[0mobj\u001b[0m\u001b[0;34m\u001b[0m\u001b[0;34m\u001b[0m\u001b[0m\n\u001b[1;32m   1197\u001b[0m                 \u001b[0;31m# Update and possibly print the progressbar.\u001b[0m\u001b[0;34m\u001b[0m\u001b[0;34m\u001b[0m\u001b[0;34m\u001b[0m\u001b[0m\n",
            "\u001b[0;32m/usr/local/lib/python3.7/dist-packages/torch/utils/data/dataloader.py\u001b[0m in \u001b[0;36m__next__\u001b[0;34m(self)\u001b[0m\n\u001b[1;32m    528\u001b[0m             \u001b[0;32mif\u001b[0m \u001b[0mself\u001b[0m\u001b[0;34m.\u001b[0m\u001b[0m_sampler_iter\u001b[0m \u001b[0;32mis\u001b[0m \u001b[0;32mNone\u001b[0m\u001b[0;34m:\u001b[0m\u001b[0;34m\u001b[0m\u001b[0;34m\u001b[0m\u001b[0m\n\u001b[1;32m    529\u001b[0m                 \u001b[0mself\u001b[0m\u001b[0;34m.\u001b[0m\u001b[0m_reset\u001b[0m\u001b[0;34m(\u001b[0m\u001b[0;34m)\u001b[0m\u001b[0;34m\u001b[0m\u001b[0;34m\u001b[0m\u001b[0m\n\u001b[0;32m--> 530\u001b[0;31m             \u001b[0mdata\u001b[0m \u001b[0;34m=\u001b[0m \u001b[0mself\u001b[0m\u001b[0;34m.\u001b[0m\u001b[0m_next_data\u001b[0m\u001b[0;34m(\u001b[0m\u001b[0;34m)\u001b[0m\u001b[0;34m\u001b[0m\u001b[0;34m\u001b[0m\u001b[0m\n\u001b[0m\u001b[1;32m    531\u001b[0m             \u001b[0mself\u001b[0m\u001b[0;34m.\u001b[0m\u001b[0m_num_yielded\u001b[0m \u001b[0;34m+=\u001b[0m \u001b[0;36m1\u001b[0m\u001b[0;34m\u001b[0m\u001b[0;34m\u001b[0m\u001b[0m\n\u001b[1;32m    532\u001b[0m             \u001b[0;32mif\u001b[0m \u001b[0mself\u001b[0m\u001b[0;34m.\u001b[0m\u001b[0m_dataset_kind\u001b[0m \u001b[0;34m==\u001b[0m \u001b[0m_DatasetKind\u001b[0m\u001b[0;34m.\u001b[0m\u001b[0mIterable\u001b[0m \u001b[0;32mand\u001b[0m\u001b[0;31m \u001b[0m\u001b[0;31m\\\u001b[0m\u001b[0;34m\u001b[0m\u001b[0;34m\u001b[0m\u001b[0m\n",
            "\u001b[0;32m/usr/local/lib/python3.7/dist-packages/torch/utils/data/dataloader.py\u001b[0m in \u001b[0;36m_next_data\u001b[0;34m(self)\u001b[0m\n\u001b[1;32m    568\u001b[0m     \u001b[0;32mdef\u001b[0m \u001b[0m_next_data\u001b[0m\u001b[0;34m(\u001b[0m\u001b[0mself\u001b[0m\u001b[0;34m)\u001b[0m\u001b[0;34m:\u001b[0m\u001b[0;34m\u001b[0m\u001b[0;34m\u001b[0m\u001b[0m\n\u001b[1;32m    569\u001b[0m         \u001b[0mindex\u001b[0m \u001b[0;34m=\u001b[0m \u001b[0mself\u001b[0m\u001b[0;34m.\u001b[0m\u001b[0m_next_index\u001b[0m\u001b[0;34m(\u001b[0m\u001b[0;34m)\u001b[0m  \u001b[0;31m# may raise StopIteration\u001b[0m\u001b[0;34m\u001b[0m\u001b[0;34m\u001b[0m\u001b[0m\n\u001b[0;32m--> 570\u001b[0;31m         \u001b[0mdata\u001b[0m \u001b[0;34m=\u001b[0m \u001b[0mself\u001b[0m\u001b[0;34m.\u001b[0m\u001b[0m_dataset_fetcher\u001b[0m\u001b[0;34m.\u001b[0m\u001b[0mfetch\u001b[0m\u001b[0;34m(\u001b[0m\u001b[0mindex\u001b[0m\u001b[0;34m)\u001b[0m  \u001b[0;31m# may raise StopIteration\u001b[0m\u001b[0;34m\u001b[0m\u001b[0;34m\u001b[0m\u001b[0m\n\u001b[0m\u001b[1;32m    571\u001b[0m         \u001b[0;32mif\u001b[0m \u001b[0mself\u001b[0m\u001b[0;34m.\u001b[0m\u001b[0m_pin_memory\u001b[0m\u001b[0;34m:\u001b[0m\u001b[0;34m\u001b[0m\u001b[0;34m\u001b[0m\u001b[0m\n\u001b[1;32m    572\u001b[0m             \u001b[0mdata\u001b[0m \u001b[0;34m=\u001b[0m \u001b[0m_utils\u001b[0m\u001b[0;34m.\u001b[0m\u001b[0mpin_memory\u001b[0m\u001b[0;34m.\u001b[0m\u001b[0mpin_memory\u001b[0m\u001b[0;34m(\u001b[0m\u001b[0mdata\u001b[0m\u001b[0;34m)\u001b[0m\u001b[0;34m\u001b[0m\u001b[0;34m\u001b[0m\u001b[0m\n",
            "\u001b[0;32m/usr/local/lib/python3.7/dist-packages/torch/utils/data/_utils/fetch.py\u001b[0m in \u001b[0;36mfetch\u001b[0;34m(self, possibly_batched_index)\u001b[0m\n\u001b[1;32m     47\u001b[0m     \u001b[0;32mdef\u001b[0m \u001b[0mfetch\u001b[0m\u001b[0;34m(\u001b[0m\u001b[0mself\u001b[0m\u001b[0;34m,\u001b[0m \u001b[0mpossibly_batched_index\u001b[0m\u001b[0;34m)\u001b[0m\u001b[0;34m:\u001b[0m\u001b[0;34m\u001b[0m\u001b[0;34m\u001b[0m\u001b[0m\n\u001b[1;32m     48\u001b[0m         \u001b[0;32mif\u001b[0m \u001b[0mself\u001b[0m\u001b[0;34m.\u001b[0m\u001b[0mauto_collation\u001b[0m\u001b[0;34m:\u001b[0m\u001b[0;34m\u001b[0m\u001b[0;34m\u001b[0m\u001b[0m\n\u001b[0;32m---> 49\u001b[0;31m             \u001b[0mdata\u001b[0m \u001b[0;34m=\u001b[0m \u001b[0;34m[\u001b[0m\u001b[0mself\u001b[0m\u001b[0;34m.\u001b[0m\u001b[0mdataset\u001b[0m\u001b[0;34m[\u001b[0m\u001b[0midx\u001b[0m\u001b[0;34m]\u001b[0m \u001b[0;32mfor\u001b[0m \u001b[0midx\u001b[0m \u001b[0;32min\u001b[0m \u001b[0mpossibly_batched_index\u001b[0m\u001b[0;34m]\u001b[0m\u001b[0;34m\u001b[0m\u001b[0;34m\u001b[0m\u001b[0m\n\u001b[0m\u001b[1;32m     50\u001b[0m         \u001b[0;32melse\u001b[0m\u001b[0;34m:\u001b[0m\u001b[0;34m\u001b[0m\u001b[0;34m\u001b[0m\u001b[0m\n\u001b[1;32m     51\u001b[0m             \u001b[0mdata\u001b[0m \u001b[0;34m=\u001b[0m \u001b[0mself\u001b[0m\u001b[0;34m.\u001b[0m\u001b[0mdataset\u001b[0m\u001b[0;34m[\u001b[0m\u001b[0mpossibly_batched_index\u001b[0m\u001b[0;34m]\u001b[0m\u001b[0;34m\u001b[0m\u001b[0;34m\u001b[0m\u001b[0m\n",
            "\u001b[0;32m/usr/local/lib/python3.7/dist-packages/torch/utils/data/_utils/fetch.py\u001b[0m in \u001b[0;36m<listcomp>\u001b[0;34m(.0)\u001b[0m\n\u001b[1;32m     47\u001b[0m     \u001b[0;32mdef\u001b[0m \u001b[0mfetch\u001b[0m\u001b[0;34m(\u001b[0m\u001b[0mself\u001b[0m\u001b[0;34m,\u001b[0m \u001b[0mpossibly_batched_index\u001b[0m\u001b[0;34m)\u001b[0m\u001b[0;34m:\u001b[0m\u001b[0;34m\u001b[0m\u001b[0;34m\u001b[0m\u001b[0m\n\u001b[1;32m     48\u001b[0m         \u001b[0;32mif\u001b[0m \u001b[0mself\u001b[0m\u001b[0;34m.\u001b[0m\u001b[0mauto_collation\u001b[0m\u001b[0;34m:\u001b[0m\u001b[0;34m\u001b[0m\u001b[0;34m\u001b[0m\u001b[0m\n\u001b[0;32m---> 49\u001b[0;31m             \u001b[0mdata\u001b[0m \u001b[0;34m=\u001b[0m \u001b[0;34m[\u001b[0m\u001b[0mself\u001b[0m\u001b[0;34m.\u001b[0m\u001b[0mdataset\u001b[0m\u001b[0;34m[\u001b[0m\u001b[0midx\u001b[0m\u001b[0;34m]\u001b[0m \u001b[0;32mfor\u001b[0m \u001b[0midx\u001b[0m \u001b[0;32min\u001b[0m \u001b[0mpossibly_batched_index\u001b[0m\u001b[0;34m]\u001b[0m\u001b[0;34m\u001b[0m\u001b[0;34m\u001b[0m\u001b[0m\n\u001b[0m\u001b[1;32m     50\u001b[0m         \u001b[0;32melse\u001b[0m\u001b[0;34m:\u001b[0m\u001b[0;34m\u001b[0m\u001b[0;34m\u001b[0m\u001b[0m\n\u001b[1;32m     51\u001b[0m             \u001b[0mdata\u001b[0m \u001b[0;34m=\u001b[0m \u001b[0mself\u001b[0m\u001b[0;34m.\u001b[0m\u001b[0mdataset\u001b[0m\u001b[0;34m[\u001b[0m\u001b[0mpossibly_batched_index\u001b[0m\u001b[0;34m]\u001b[0m\u001b[0;34m\u001b[0m\u001b[0;34m\u001b[0m\u001b[0m\n",
            "\u001b[0;32m<ipython-input-73-591dcc7ce75b>\u001b[0m in \u001b[0;36m__getitem__\u001b[0;34m(self, i)\u001b[0m\n\u001b[1;32m     46\u001b[0m       \u001b[0;32mreturn\u001b[0m \u001b[0mim_tuple\u001b[0m\u001b[0;34m,\u001b[0m\u001b[0my\u001b[0m\u001b[0;34m\u001b[0m\u001b[0;34m\u001b[0m\u001b[0m\n\u001b[1;32m     47\u001b[0m     \u001b[0;32melse\u001b[0m\u001b[0;34m:\u001b[0m\u001b[0;34m\u001b[0m\u001b[0;34m\u001b[0m\u001b[0m\n\u001b[0;32m---> 48\u001b[0;31m       \u001b[0;32mreturn\u001b[0m \u001b[0maugmix\u001b[0m\u001b[0;34m(\u001b[0m\u001b[0mx\u001b[0m\u001b[0;34m,\u001b[0m \u001b[0mself\u001b[0m\u001b[0;34m.\u001b[0m\u001b[0mpreprocess\u001b[0m\u001b[0;34m,\u001b[0m \u001b[0mself\u001b[0m\u001b[0;34m.\u001b[0m\u001b[0mdataset_name\u001b[0m\u001b[0;34m,\u001b[0m \u001b[0mself\u001b[0m\u001b[0;34m.\u001b[0m\u001b[0mall_ops\u001b[0m\u001b[0;34m)\u001b[0m\u001b[0;34m,\u001b[0m \u001b[0my\u001b[0m\u001b[0;34m\u001b[0m\u001b[0;34m\u001b[0m\u001b[0m\n\u001b[0m\u001b[1;32m     49\u001b[0m \u001b[0;34m\u001b[0m\u001b[0m\n\u001b[1;32m     50\u001b[0m   \u001b[0;32mdef\u001b[0m \u001b[0m__len__\u001b[0m\u001b[0;34m(\u001b[0m\u001b[0mself\u001b[0m\u001b[0;34m)\u001b[0m\u001b[0;34m:\u001b[0m\u001b[0;34m\u001b[0m\u001b[0;34m\u001b[0m\u001b[0m\n",
            "\u001b[0;32m<ipython-input-73-591dcc7ce75b>\u001b[0m in \u001b[0;36maugmix\u001b[0;34m(image, preprocess, dataset_name, mixture_width, aug_severity, all_ops)\u001b[0m\n\u001b[1;32m     10\u001b[0m     \u001b[0maug_list\u001b[0m \u001b[0;34m=\u001b[0m \u001b[0maugmentations_all\u001b[0m\u001b[0;34m\u001b[0m\u001b[0;34m\u001b[0m\u001b[0m\n\u001b[1;32m     11\u001b[0m \u001b[0;34m\u001b[0m\u001b[0m\n\u001b[0;32m---> 12\u001b[0;31m   \u001b[0mws\u001b[0m \u001b[0;34m=\u001b[0m \u001b[0mnp\u001b[0m\u001b[0;34m.\u001b[0m\u001b[0mfloat32\u001b[0m\u001b[0;34m(\u001b[0m\u001b[0mnp\u001b[0m\u001b[0;34m.\u001b[0m\u001b[0mrandom\u001b[0m\u001b[0;34m.\u001b[0m\u001b[0mdirichlet\u001b[0m\u001b[0;34m(\u001b[0m\u001b[0;34m[\u001b[0m\u001b[0;36m1\u001b[0m\u001b[0;34m]\u001b[0m \u001b[0;34m*\u001b[0m \u001b[0mmixture_width\u001b[0m\u001b[0;34m)\u001b[0m\u001b[0;34m)\u001b[0m\u001b[0;34m\u001b[0m\u001b[0;34m\u001b[0m\u001b[0m\n\u001b[0m\u001b[1;32m     13\u001b[0m   \u001b[0mm\u001b[0m \u001b[0;34m=\u001b[0m \u001b[0mnp\u001b[0m\u001b[0;34m.\u001b[0m\u001b[0mfloat32\u001b[0m\u001b[0;34m(\u001b[0m\u001b[0mnp\u001b[0m\u001b[0;34m.\u001b[0m\u001b[0mrandom\u001b[0m\u001b[0;34m.\u001b[0m\u001b[0mbeta\u001b[0m\u001b[0;34m(\u001b[0m\u001b[0;36m1\u001b[0m\u001b[0;34m,\u001b[0m\u001b[0;36m1\u001b[0m\u001b[0;34m)\u001b[0m\u001b[0;34m)\u001b[0m\u001b[0;34m\u001b[0m\u001b[0;34m\u001b[0m\u001b[0m\n\u001b[1;32m     14\u001b[0m \u001b[0;34m\u001b[0m\u001b[0m\n",
            "\u001b[0;32mmtrand.pyx\u001b[0m in \u001b[0;36mnumpy.random.mtrand.RandomState.dirichlet\u001b[0;34m()\u001b[0m\n",
            "\u001b[0;32m<__array_function__ internals>\u001b[0m in \u001b[0;36many\u001b[0;34m(*args, **kwargs)\u001b[0m\n",
            "\u001b[0;31mKeyboardInterrupt\u001b[0m: "
          ]
        }
      ]
    },
    {
      "cell_type": "markdown",
      "source": [
        "#### cifar100"
      ],
      "metadata": {
        "id": "BtrnOLznBehT"
      }
    },
    {
      "cell_type": "code",
      "source": [
        "config['model_name'] = 'resnet'\n",
        "config['dataset_name'] = 'cifar100'"
      ],
      "metadata": {
        "id": "gjJ7KvT7BsVa"
      },
      "execution_count": 80,
      "outputs": []
    },
    {
      "cell_type": "code",
      "source": [
        "# Initialize the model for this run\n",
        "model_ft, input_size = initialize_model(config['model_name'], config['dataset_name'])\n",
        "\n",
        "# Print the model we just instantiated\n",
        "# summary(model_ft)\n",
        "\n",
        "# Observe that all parameters are being optimized\n",
        "optimizer_ft = optim.SGD(model_ft.parameters(), lr=config['lr'], momentum=0.9, weight_decay = 0.0005, nesterov = True)\n",
        "scheduler_ft = CosineAnnealingLR(optimizer_ft, T_max = 60, eta_min = 1e-6 )\n",
        "\n",
        "# Setup the loss fxn\n",
        "criterion = nn.CrossEntropyLoss()\n",
        "\n",
        "# Train and evaluate\n",
        "\n",
        "model_ft = model_ft.to(device)\n",
        "\n",
        "with wandb.init(\n",
        "        config=config,\n",
        "        project='INF8225 - Projet final',  # Title of your project\n",
        "        entity = 'inf8225_ym_at', \n",
        "        group= 'resnet18_cifar100_AugMix',  # In what group of runs do you want this run to be in?\n",
        "        save_code=True,\n",
        "    ):\n",
        "  model_ft, hist = train_model(model_ft, CIFAR100_trainloader, CIFAR100_testloader, criterion, optimizer_ft, scheduler_ft, num_epochs=config['epochs'], DAmethod = 'AugMix', datasetname = config['dataset_name'], jsd_loss = jsd_loss)"
      ],
      "metadata": {
        "id": "fVRTBxZ4BZQZ",
        "colab": {
          "base_uri": "https://localhost:8080/",
          "height": 521
        },
        "outputId": "89271073-5975-43ee-c486-154057668e16"
      },
      "execution_count": 81,
      "outputs": [
        {
          "output_type": "display_data",
          "data": {
            "text/plain": [
              "<IPython.core.display.HTML object>"
            ],
            "text/html": [
              "<style>\n",
              "    table.wandb td:nth-child(1) { padding: 0 10px; text-align: right }\n",
              "    .wandb-row { display: flex; flex-direction: row; flex-wrap: wrap; width: 100% }\n",
              "    .wandb-col { display: flex; flex-direction: column; flex-basis: 100%; flex: 1; padding: 10px; }\n",
              "    </style>\n",
              "<div class=\"wandb-row\"><div class=\"wandb-col\"><h3>Run history:</h3><br/><table class=\"wandb\"><tr><td>Train - loss</td><td>▁</td></tr></table><br/></div><div class=\"wandb-col\"><h3>Run summary:</h3><br/><table class=\"wandb\"><tr><td>Train - loss</td><td>4.78419</td></tr></table><br/></div></div>"
            ]
          },
          "metadata": {}
        },
        {
          "output_type": "display_data",
          "data": {
            "text/plain": [
              "<IPython.core.display.HTML object>"
            ],
            "text/html": [
              "Synced <strong style=\"color:#cdcd00\">jumping-yogurt-167</strong>: <a href=\"https://wandb.ai/inf8225_ym_at/INF8225%20-%20Projet%20final/runs/1ufhck76\" target=\"_blank\">https://wandb.ai/inf8225_ym_at/INF8225%20-%20Projet%20final/runs/1ufhck76</a><br/>Synced 5 W&B file(s), 0 media file(s), 0 artifact file(s) and 0 other file(s)"
            ]
          },
          "metadata": {}
        },
        {
          "output_type": "display_data",
          "data": {
            "text/plain": [
              "<IPython.core.display.HTML object>"
            ],
            "text/html": [
              "Find logs at: <code>./wandb/run-20220430_232607-1ufhck76/logs</code>"
            ]
          },
          "metadata": {}
        },
        {
          "output_type": "error",
          "ename": "KeyboardInterrupt",
          "evalue": "ignored",
          "traceback": [
            "\u001b[0;31m---------------------------------------------------------------------------\u001b[0m",
            "\u001b[0;31mKeyboardInterrupt\u001b[0m                         Traceback (most recent call last)",
            "\u001b[0;32m<ipython-input-81-306c40f4c747>\u001b[0m in \u001b[0;36m<module>\u001b[0;34m()\u001b[0m\n\u001b[1;32m     23\u001b[0m         \u001b[0msave_code\u001b[0m\u001b[0;34m=\u001b[0m\u001b[0;32mTrue\u001b[0m\u001b[0;34m,\u001b[0m\u001b[0;34m\u001b[0m\u001b[0;34m\u001b[0m\u001b[0m\n\u001b[1;32m     24\u001b[0m     ):\n\u001b[0;32m---> 25\u001b[0;31m   \u001b[0mmodel_ft\u001b[0m\u001b[0;34m,\u001b[0m \u001b[0mhist\u001b[0m \u001b[0;34m=\u001b[0m \u001b[0mtrain_model\u001b[0m\u001b[0;34m(\u001b[0m\u001b[0mmodel_ft\u001b[0m\u001b[0;34m,\u001b[0m \u001b[0mCIFAR100_trainloader\u001b[0m\u001b[0;34m,\u001b[0m \u001b[0mCIFAR100_testloader\u001b[0m\u001b[0;34m,\u001b[0m \u001b[0mcriterion\u001b[0m\u001b[0;34m,\u001b[0m \u001b[0moptimizer_ft\u001b[0m\u001b[0;34m,\u001b[0m \u001b[0mscheduler_ft\u001b[0m\u001b[0;34m,\u001b[0m \u001b[0mnum_epochs\u001b[0m\u001b[0;34m=\u001b[0m\u001b[0mconfig\u001b[0m\u001b[0;34m[\u001b[0m\u001b[0;34m'epochs'\u001b[0m\u001b[0;34m]\u001b[0m\u001b[0;34m,\u001b[0m \u001b[0mDAmethod\u001b[0m \u001b[0;34m=\u001b[0m \u001b[0;34m'AugMix'\u001b[0m\u001b[0;34m,\u001b[0m \u001b[0mdatasetname\u001b[0m \u001b[0;34m=\u001b[0m \u001b[0mconfig\u001b[0m\u001b[0;34m[\u001b[0m\u001b[0;34m'dataset_name'\u001b[0m\u001b[0;34m]\u001b[0m\u001b[0;34m,\u001b[0m \u001b[0mjsd_loss\u001b[0m \u001b[0;34m=\u001b[0m \u001b[0mjsd_loss\u001b[0m\u001b[0;34m)\u001b[0m\u001b[0;34m\u001b[0m\u001b[0;34m\u001b[0m\u001b[0m\n\u001b[0m",
            "\u001b[0;32m<ipython-input-44-dd1ed0f9ec59>\u001b[0m in \u001b[0;36mtrain_model\u001b[0;34m(model, trainloader, testloader, criterion, optimizer, scheduler, DAmethod, datasetname, num_epochs, jsd_loss)\u001b[0m\n\u001b[1;32m    115\u001b[0m               \u001b[0mrunning_loss\u001b[0m \u001b[0;34m+=\u001b[0m \u001b[0mloss_ema\u001b[0m \u001b[0;34m*\u001b[0m \u001b[0minputs\u001b[0m\u001b[0;34m[\u001b[0m\u001b[0;36m0\u001b[0m\u001b[0;34m]\u001b[0m\u001b[0;34m.\u001b[0m\u001b[0msize\u001b[0m\u001b[0;34m(\u001b[0m\u001b[0;36m0\u001b[0m\u001b[0;34m)\u001b[0m\u001b[0;34m\u001b[0m\u001b[0;34m\u001b[0m\u001b[0m\n\u001b[1;32m    116\u001b[0m             \u001b[0;32melse\u001b[0m\u001b[0;34m:\u001b[0m\u001b[0;34m\u001b[0m\u001b[0;34m\u001b[0m\u001b[0m\n\u001b[0;32m--> 117\u001b[0;31m               \u001b[0mrunning_loss\u001b[0m \u001b[0;34m+=\u001b[0m \u001b[0mloss\u001b[0m\u001b[0;34m.\u001b[0m\u001b[0mitem\u001b[0m\u001b[0;34m(\u001b[0m\u001b[0;34m)\u001b[0m \u001b[0;34m*\u001b[0m \u001b[0minputs\u001b[0m\u001b[0;34m.\u001b[0m\u001b[0msize\u001b[0m\u001b[0;34m(\u001b[0m\u001b[0;36m0\u001b[0m\u001b[0;34m)\u001b[0m\u001b[0;34m\u001b[0m\u001b[0;34m\u001b[0m\u001b[0m\n\u001b[0m\u001b[1;32m    118\u001b[0m \u001b[0;34m\u001b[0m\u001b[0m\n\u001b[1;32m    119\u001b[0m             \u001b[0mrunning_corrects\u001b[0m \u001b[0;34m+=\u001b[0m \u001b[0mtorch\u001b[0m\u001b[0;34m.\u001b[0m\u001b[0msum\u001b[0m\u001b[0;34m(\u001b[0m\u001b[0mpreds\u001b[0m \u001b[0;34m==\u001b[0m \u001b[0mlabels\u001b[0m\u001b[0;34m.\u001b[0m\u001b[0mdata\u001b[0m\u001b[0;34m)\u001b[0m\u001b[0;34m\u001b[0m\u001b[0;34m\u001b[0m\u001b[0m\n",
            "\u001b[0;31mKeyboardInterrupt\u001b[0m: "
          ]
        }
      ]
    },
    {
      "cell_type": "markdown",
      "source": [
        "### DenseNet121"
      ],
      "metadata": {
        "id": "-88EYCdedWW9"
      }
    },
    {
      "cell_type": "markdown",
      "source": [
        "#### cifar10"
      ],
      "metadata": {
        "id": "wsjRmHetdWW-"
      }
    },
    {
      "cell_type": "code",
      "source": [
        "config['model_name'] = 'densenet'\n",
        "config['dataset_name'] = 'cifar10' # mnist cifar10 cifar100\n"
      ],
      "metadata": {
        "id": "3uTut_3jdWW-"
      },
      "execution_count": null,
      "outputs": []
    },
    {
      "cell_type": "code",
      "source": [
        "# Initialize the model for this run\n",
        "model_ft, input_size = initialize_model(config['model_name'], config['dataset_name'])\n",
        "\n",
        "# Print the model we just instantiated\n",
        "# summary(model_ft)\n",
        "\n",
        "# Observe that all parameters are being optimized\n",
        "optimizer_ft = optim.SGD(model_ft.parameters(), lr=config['lr'], momentum=0.9, weight_decay = 0.0005, nesterov = True)\n",
        "scheduler_ft = CosineAnnealingLR(optimizer_ft, T_max = 60, eta_min = 1e-6)\n",
        "\n",
        "# Setup the loss fxn\n",
        "criterion = nn.CrossEntropyLoss()\n",
        "\n",
        "# Train and evaluate\n",
        "\n",
        "model_ft = model_ft.to(device)\n",
        "\n",
        "with wandb.init(\n",
        "        config=config,\n",
        "        project='INF8225 - Projet final',  # Title of your project\n",
        "        entity = 'inf8225_ym_at', \n",
        "        group= 'densenet121_cifar10_AugMix',  # In what group of runs do you want this run to be in?\n",
        "        save_code=True,\n",
        "    ):\n",
        "  model_ft, hist = train_model(model_ft, CIFAR10_trainloader, CIFAR10_testloader, criterion, optimizer_ft, scheduler_ft, num_epochs=config['epochs'], DAmethod = 'Baseline', datasetname = config['dataset_name'], jsd_loss = jsd_loss)"
      ],
      "metadata": {
        "colab": {
          "base_uri": "https://localhost:8080/",
          "height": 1000,
          "referenced_widgets": [
            "e641a3850518426d9316f303b3acb4f1",
            "9a6fd597b08a42608280e845d825a040",
            "8df0f98740354989b1da91656aa889be",
            "66b3448b157c4859a41019a2b51bf033",
            "3385990f9114450c98663d3168b87aab",
            "587b6662c6f04305ab3c8d231f2c4c10",
            "e3cb8c49e00f49178cc4d9869504b4b4",
            "4049011220e04d9eb4050de7bfc88ef5"
          ]
        },
        "outputId": "4ac528a3-cfe7-4663-ce9c-c41c5632cf23",
        "id": "NMEKiu3_dWW-"
      },
      "execution_count": null,
      "outputs": [
        {
          "data": {
            "text/html": [
              "Tracking run with wandb version 0.12.15"
            ],
            "text/plain": [
              "<IPython.core.display.HTML object>"
            ]
          },
          "metadata": {},
          "output_type": "display_data"
        },
        {
          "data": {
            "text/html": [
              "Run data is saved locally in <code>/content/wandb/run-20220426_210657-y05p7m1h</code>"
            ],
            "text/plain": [
              "<IPython.core.display.HTML object>"
            ]
          },
          "metadata": {},
          "output_type": "display_data"
        },
        {
          "data": {
            "text/html": [
              "Syncing run <strong><a href=\"https://wandb.ai/inf8225_ym_at/INF8225%20-%20Projet%20final/runs/y05p7m1h\" target=\"_blank\">rare-plasma-126</a></strong> to <a href=\"https://wandb.ai/inf8225_ym_at/INF8225%20-%20Projet%20final\" target=\"_blank\">Weights & Biases</a> (<a href=\"https://wandb.me/run\" target=\"_blank\">docs</a>)<br/>"
            ],
            "text/plain": [
              "<IPython.core.display.HTML object>"
            ]
          },
          "metadata": {},
          "output_type": "display_data"
        },
        {
          "metadata": {
            "tags": null
          },
          "name": "stdout",
          "output_type": "stream",
          "text": [
            "Epoch 1/200\n",
            "----------\n"
          ]
        },
        {
          "metadata": {
            "tags": null
          },
          "name": "stderr",
          "output_type": "stream",
          "text": [
            "391it [02:42,  2.40it/s]\n"
          ]
        },
        {
          "metadata": {
            "tags": null
          },
          "name": "stdout",
          "output_type": "stream",
          "text": [
            "train Loss: 1.8055 Acc: 0.3434\n",
            "valid Loss: 1.4611 Acc: 0.4785\n",
            "Saving model...\n",
            "------------------------------\n",
            "\n",
            "Epoch 2/200\n",
            "----------\n"
          ]
        },
        {
          "metadata": {
            "tags": null
          },
          "name": "stderr",
          "output_type": "stream",
          "text": [
            "391it [02:43,  2.38it/s]\n"
          ]
        },
        {
          "metadata": {
            "tags": null
          },
          "name": "stdout",
          "output_type": "stream",
          "text": [
            "train Loss: 1.3234 Acc: 0.5243\n",
            "valid Loss: 1.0968 Acc: 0.6029\n",
            "Saving model...\n",
            "------------------------------\n",
            "\n",
            "Epoch 3/200\n",
            "----------\n"
          ]
        },
        {
          "metadata": {
            "tags": null
          },
          "name": "stderr",
          "output_type": "stream",
          "text": [
            "391it [02:43,  2.39it/s]\n"
          ]
        },
        {
          "metadata": {
            "tags": null
          },
          "name": "stdout",
          "output_type": "stream",
          "text": [
            "train Loss: 1.0261 Acc: 0.6339\n",
            "valid Loss: 0.9314 Acc: 0.6729\n",
            "Saving model...\n",
            "------------------------------\n",
            "\n",
            "Epoch 4/200\n",
            "----------\n"
          ]
        },
        {
          "metadata": {
            "tags": null
          },
          "name": "stderr",
          "output_type": "stream",
          "text": [
            "391it [02:43,  2.39it/s]\n"
          ]
        },
        {
          "metadata": {
            "tags": null
          },
          "name": "stdout",
          "output_type": "stream",
          "text": [
            "train Loss: 0.8389 Acc: 0.7033\n",
            "valid Loss: 0.8187 Acc: 0.7189\n",
            "Saving model...\n",
            "------------------------------\n",
            "\n",
            "Epoch 5/200\n",
            "----------\n"
          ]
        },
        {
          "metadata": {
            "tags": null
          },
          "name": "stderr",
          "output_type": "stream",
          "text": [
            "391it [02:43,  2.40it/s]\n"
          ]
        },
        {
          "metadata": {
            "tags": null
          },
          "name": "stdout",
          "output_type": "stream",
          "text": [
            "train Loss: 0.7085 Acc: 0.7532\n",
            "valid Loss: 0.6830 Acc: 0.7658\n",
            "Saving model...\n",
            "------------------------------\n",
            "\n",
            "Epoch 6/200\n",
            "----------\n"
          ]
        },
        {
          "metadata": {
            "tags": null
          },
          "name": "stderr",
          "output_type": "stream",
          "text": [
            "391it [02:43,  2.39it/s]\n"
          ]
        },
        {
          "metadata": {
            "tags": null
          },
          "name": "stdout",
          "output_type": "stream",
          "text": [
            "train Loss: 0.6366 Acc: 0.7808\n",
            "valid Loss: 0.6783 Acc: 0.7676\n",
            "Saving model...\n",
            "------------------------------\n",
            "\n",
            "Epoch 7/200\n",
            "----------\n"
          ]
        },
        {
          "metadata": {
            "tags": null
          },
          "name": "stderr",
          "output_type": "stream",
          "text": [
            "391it [02:43,  2.39it/s]\n"
          ]
        },
        {
          "metadata": {
            "tags": null
          },
          "name": "stdout",
          "output_type": "stream",
          "text": [
            "train Loss: 0.5805 Acc: 0.7997\n",
            "valid Loss: 0.5281 Acc: 0.8212\n",
            "Saving model...\n",
            "------------------------------\n",
            "\n",
            "Epoch 8/200\n",
            "----------\n"
          ]
        },
        {
          "metadata": {
            "tags": null
          },
          "name": "stderr",
          "output_type": "stream",
          "text": [
            "391it [02:43,  2.39it/s]\n"
          ]
        },
        {
          "metadata": {
            "tags": null
          },
          "name": "stdout",
          "output_type": "stream",
          "text": [
            "train Loss: 0.5519 Acc: 0.8118\n",
            "valid Loss: 0.5798 Acc: 0.7994\n",
            "------------------------------\n",
            "\n",
            "Epoch 9/200\n",
            "----------\n"
          ]
        },
        {
          "metadata": {
            "tags": null
          },
          "name": "stderr",
          "output_type": "stream",
          "text": [
            "391it [02:43,  2.39it/s]\n"
          ]
        },
        {
          "metadata": {
            "tags": null
          },
          "name": "stdout",
          "output_type": "stream",
          "text": [
            "train Loss: 0.5245 Acc: 0.8209\n",
            "valid Loss: 0.5172 Acc: 0.8236\n",
            "Saving model...\n",
            "------------------------------\n",
            "\n",
            "Epoch 10/200\n",
            "----------\n"
          ]
        },
        {
          "metadata": {
            "tags": null
          },
          "name": "stderr",
          "output_type": "stream",
          "text": [
            "391it [02:43,  2.39it/s]\n"
          ]
        },
        {
          "metadata": {
            "tags": null
          },
          "name": "stdout",
          "output_type": "stream",
          "text": [
            "train Loss: 0.5050 Acc: 0.8263\n",
            "valid Loss: 0.5164 Acc: 0.8239\n",
            "Saving model...\n",
            "------------------------------\n",
            "\n",
            "Epoch 11/200\n",
            "----------\n"
          ]
        },
        {
          "metadata": {
            "tags": null
          },
          "name": "stderr",
          "output_type": "stream",
          "text": [
            "391it [02:44,  2.38it/s]\n"
          ]
        },
        {
          "metadata": {
            "tags": null
          },
          "name": "stdout",
          "output_type": "stream",
          "text": [
            "train Loss: 0.4891 Acc: 0.8306\n",
            "valid Loss: 0.5033 Acc: 0.8313\n",
            "Saving model...\n",
            "------------------------------\n",
            "\n",
            "Epoch 12/200\n",
            "----------\n"
          ]
        },
        {
          "metadata": {
            "tags": null
          },
          "name": "stderr",
          "output_type": "stream",
          "text": [
            "391it [02:44,  2.38it/s]\n"
          ]
        },
        {
          "metadata": {
            "tags": null
          },
          "name": "stdout",
          "output_type": "stream",
          "text": [
            "train Loss: 0.4706 Acc: 0.8384\n",
            "valid Loss: 0.4563 Acc: 0.8441\n",
            "Saving model...\n",
            "------------------------------\n",
            "\n",
            "Epoch 13/200\n",
            "----------\n"
          ]
        },
        {
          "metadata": {
            "tags": null
          },
          "name": "stderr",
          "output_type": "stream",
          "text": [
            "391it [02:45,  2.37it/s]\n"
          ]
        },
        {
          "metadata": {
            "tags": null
          },
          "name": "stdout",
          "output_type": "stream",
          "text": [
            "train Loss: 0.4586 Acc: 0.8427\n",
            "valid Loss: 0.4241 Acc: 0.8527\n",
            "Saving model...\n",
            "------------------------------\n",
            "\n",
            "Epoch 14/200\n",
            "----------\n"
          ]
        },
        {
          "metadata": {
            "tags": null
          },
          "name": "stderr",
          "output_type": "stream",
          "text": [
            "391it [02:43,  2.39it/s]\n"
          ]
        },
        {
          "metadata": {
            "tags": null
          },
          "name": "stdout",
          "output_type": "stream",
          "text": [
            "train Loss: 0.4506 Acc: 0.8452\n",
            "valid Loss: 0.4893 Acc: 0.8348\n",
            "------------------------------\n",
            "\n",
            "Epoch 15/200\n",
            "----------\n"
          ]
        },
        {
          "metadata": {
            "tags": null
          },
          "name": "stderr",
          "output_type": "stream",
          "text": [
            "391it [02:43,  2.40it/s]\n"
          ]
        },
        {
          "metadata": {
            "tags": null
          },
          "name": "stdout",
          "output_type": "stream",
          "text": [
            "train Loss: 0.4390 Acc: 0.8500\n",
            "valid Loss: 0.5174 Acc: 0.8233\n",
            "------------------------------\n",
            "\n",
            "Epoch 16/200\n",
            "----------\n"
          ]
        },
        {
          "metadata": {
            "tags": null
          },
          "name": "stderr",
          "output_type": "stream",
          "text": [
            "391it [02:43,  2.39it/s]\n"
          ]
        },
        {
          "metadata": {
            "tags": null
          },
          "name": "stdout",
          "output_type": "stream",
          "text": [
            "train Loss: 0.4313 Acc: 0.8527\n",
            "valid Loss: 0.4494 Acc: 0.8494\n",
            "------------------------------\n",
            "\n",
            "Epoch 17/200\n",
            "----------\n"
          ]
        },
        {
          "metadata": {
            "tags": null
          },
          "name": "stderr",
          "output_type": "stream",
          "text": [
            "391it [02:42,  2.40it/s]\n"
          ]
        },
        {
          "metadata": {
            "tags": null
          },
          "name": "stdout",
          "output_type": "stream",
          "text": [
            "train Loss: 0.4215 Acc: 0.8564\n",
            "valid Loss: 0.4151 Acc: 0.8613\n",
            "Saving model...\n",
            "------------------------------\n",
            "\n",
            "Epoch 18/200\n",
            "----------\n"
          ]
        },
        {
          "metadata": {
            "tags": null
          },
          "name": "stderr",
          "output_type": "stream",
          "text": [
            "391it [02:44,  2.38it/s]\n"
          ]
        },
        {
          "metadata": {
            "tags": null
          },
          "name": "stdout",
          "output_type": "stream",
          "text": [
            "train Loss: 0.4129 Acc: 0.8590\n",
            "valid Loss: 0.4192 Acc: 0.8573\n",
            "------------------------------\n",
            "\n",
            "Epoch 19/200\n",
            "----------\n"
          ]
        },
        {
          "metadata": {
            "tags": null
          },
          "name": "stderr",
          "output_type": "stream",
          "text": [
            "391it [02:43,  2.39it/s]\n"
          ]
        },
        {
          "metadata": {
            "tags": null
          },
          "name": "stdout",
          "output_type": "stream",
          "text": [
            "train Loss: 0.4001 Acc: 0.8632\n",
            "valid Loss: 0.5181 Acc: 0.8337\n",
            "------------------------------\n",
            "\n",
            "Epoch 20/200\n",
            "----------\n"
          ]
        },
        {
          "metadata": {
            "tags": null
          },
          "name": "stderr",
          "output_type": "stream",
          "text": [
            "391it [02:43,  2.38it/s]\n"
          ]
        },
        {
          "metadata": {
            "tags": null
          },
          "name": "stdout",
          "output_type": "stream",
          "text": [
            "train Loss: 0.3899 Acc: 0.8654\n",
            "valid Loss: 0.4929 Acc: 0.8364\n",
            "------------------------------\n",
            "\n",
            "Epoch 21/200\n",
            "----------\n"
          ]
        },
        {
          "metadata": {
            "tags": null
          },
          "name": "stderr",
          "output_type": "stream",
          "text": [
            "391it [02:44,  2.38it/s]\n"
          ]
        },
        {
          "metadata": {
            "tags": null
          },
          "name": "stdout",
          "output_type": "stream",
          "text": [
            "train Loss: 0.3845 Acc: 0.8679\n",
            "valid Loss: 0.4852 Acc: 0.8414\n",
            "------------------------------\n",
            "\n",
            "Epoch 22/200\n",
            "----------\n"
          ]
        },
        {
          "metadata": {
            "tags": null
          },
          "name": "stderr",
          "output_type": "stream",
          "text": [
            "391it [02:43,  2.39it/s]\n"
          ]
        },
        {
          "metadata": {
            "tags": null
          },
          "name": "stdout",
          "output_type": "stream",
          "text": [
            "train Loss: 0.3708 Acc: 0.8739\n",
            "valid Loss: 0.4201 Acc: 0.8569\n",
            "------------------------------\n",
            "\n",
            "Epoch 23/200\n",
            "----------\n"
          ]
        },
        {
          "metadata": {
            "tags": null
          },
          "name": "stderr",
          "output_type": "stream",
          "text": [
            "391it [02:43,  2.38it/s]\n"
          ]
        },
        {
          "metadata": {
            "tags": null
          },
          "name": "stdout",
          "output_type": "stream",
          "text": [
            "train Loss: 0.3664 Acc: 0.8739\n",
            "valid Loss: 0.4882 Acc: 0.8326\n",
            "------------------------------\n",
            "\n",
            "Epoch 24/200\n",
            "----------\n"
          ]
        },
        {
          "metadata": {
            "tags": null
          },
          "name": "stderr",
          "output_type": "stream",
          "text": [
            "391it [02:43,  2.39it/s]\n"
          ]
        },
        {
          "metadata": {
            "tags": null
          },
          "name": "stdout",
          "output_type": "stream",
          "text": [
            "train Loss: 0.3581 Acc: 0.8773\n",
            "valid Loss: 0.3666 Acc: 0.8782\n",
            "Saving model...\n",
            "------------------------------\n",
            "\n",
            "Epoch 25/200\n",
            "----------\n"
          ]
        },
        {
          "metadata": {
            "tags": null
          },
          "name": "stderr",
          "output_type": "stream",
          "text": [
            "391it [02:44,  2.38it/s]\n"
          ]
        },
        {
          "metadata": {
            "tags": null
          },
          "name": "stdout",
          "output_type": "stream",
          "text": [
            "train Loss: 0.3470 Acc: 0.8796\n",
            "valid Loss: 0.3684 Acc: 0.8769\n",
            "------------------------------\n",
            "\n",
            "Epoch 26/200\n",
            "----------\n"
          ]
        },
        {
          "metadata": {
            "tags": null
          },
          "name": "stderr",
          "output_type": "stream",
          "text": [
            "391it [02:43,  2.39it/s]\n"
          ]
        },
        {
          "metadata": {
            "tags": null
          },
          "name": "stdout",
          "output_type": "stream",
          "text": [
            "train Loss: 0.3372 Acc: 0.8843\n",
            "valid Loss: 0.3590 Acc: 0.8749\n",
            "------------------------------\n",
            "\n",
            "Epoch 27/200\n",
            "----------\n"
          ]
        },
        {
          "metadata": {
            "tags": null
          },
          "name": "stderr",
          "output_type": "stream",
          "text": [
            "391it [02:43,  2.39it/s]\n"
          ]
        },
        {
          "metadata": {
            "tags": null
          },
          "name": "stdout",
          "output_type": "stream",
          "text": [
            "train Loss: 0.3307 Acc: 0.8861\n",
            "valid Loss: 0.3979 Acc: 0.8673\n",
            "------------------------------\n",
            "\n",
            "Epoch 28/200\n",
            "----------\n"
          ]
        },
        {
          "metadata": {
            "tags": null
          },
          "name": "stderr",
          "output_type": "stream",
          "text": [
            "391it [02:43,  2.39it/s]\n"
          ]
        },
        {
          "metadata": {
            "tags": null
          },
          "name": "stdout",
          "output_type": "stream",
          "text": [
            "train Loss: 0.3217 Acc: 0.8898\n",
            "valid Loss: 0.3220 Acc: 0.8946\n",
            "Saving model...\n",
            "------------------------------\n",
            "\n",
            "Epoch 29/200\n",
            "----------\n"
          ]
        },
        {
          "metadata": {
            "tags": null
          },
          "name": "stderr",
          "output_type": "stream",
          "text": [
            "391it [02:44,  2.38it/s]\n"
          ]
        },
        {
          "metadata": {
            "tags": null
          },
          "name": "stdout",
          "output_type": "stream",
          "text": [
            "train Loss: 0.3129 Acc: 0.8928\n",
            "valid Loss: 0.3452 Acc: 0.8829\n",
            "------------------------------\n",
            "\n",
            "Epoch 30/200\n",
            "----------\n"
          ]
        },
        {
          "metadata": {
            "tags": null
          },
          "name": "stderr",
          "output_type": "stream",
          "text": [
            "391it [02:43,  2.39it/s]\n"
          ]
        },
        {
          "metadata": {
            "tags": null
          },
          "name": "stdout",
          "output_type": "stream",
          "text": [
            "train Loss: 0.3010 Acc: 0.8967\n",
            "valid Loss: 0.3271 Acc: 0.8920\n",
            "------------------------------\n",
            "\n",
            "Epoch 31/200\n",
            "----------\n"
          ]
        },
        {
          "metadata": {
            "tags": null
          },
          "name": "stderr",
          "output_type": "stream",
          "text": [
            "391it [02:43,  2.39it/s]\n"
          ]
        },
        {
          "metadata": {
            "tags": null
          },
          "name": "stdout",
          "output_type": "stream",
          "text": [
            "train Loss: 0.2883 Acc: 0.9012\n",
            "valid Loss: 0.3152 Acc: 0.8923\n",
            "------------------------------\n",
            "\n",
            "Epoch 32/200\n",
            "----------\n"
          ]
        },
        {
          "metadata": {
            "tags": null
          },
          "name": "stderr",
          "output_type": "stream",
          "text": [
            "391it [02:43,  2.38it/s]\n"
          ]
        },
        {
          "metadata": {
            "tags": null
          },
          "name": "stdout",
          "output_type": "stream",
          "text": [
            "train Loss: 0.2824 Acc: 0.9032\n",
            "valid Loss: 0.3545 Acc: 0.8779\n",
            "------------------------------\n",
            "\n",
            "Epoch 33/200\n",
            "----------\n"
          ]
        },
        {
          "metadata": {
            "tags": null
          },
          "name": "stderr",
          "output_type": "stream",
          "text": [
            "391it [02:43,  2.39it/s]\n"
          ]
        },
        {
          "metadata": {
            "tags": null
          },
          "name": "stdout",
          "output_type": "stream",
          "text": [
            "train Loss: 0.2710 Acc: 0.9074\n",
            "valid Loss: 0.2994 Acc: 0.9003\n",
            "Saving model...\n",
            "------------------------------\n",
            "\n",
            "Epoch 34/200\n",
            "----------\n"
          ]
        },
        {
          "metadata": {
            "tags": null
          },
          "name": "stderr",
          "output_type": "stream",
          "text": [
            "391it [02:44,  2.38it/s]\n"
          ]
        },
        {
          "metadata": {
            "tags": null
          },
          "name": "stdout",
          "output_type": "stream",
          "text": [
            "train Loss: 0.2644 Acc: 0.9094\n",
            "valid Loss: 0.2752 Acc: 0.9086\n",
            "Saving model...\n",
            "------------------------------\n",
            "\n",
            "Epoch 35/200\n",
            "----------\n"
          ]
        },
        {
          "metadata": {
            "tags": null
          },
          "name": "stderr",
          "output_type": "stream",
          "text": [
            "391it [02:43,  2.39it/s]\n"
          ]
        },
        {
          "metadata": {
            "tags": null
          },
          "name": "stdout",
          "output_type": "stream",
          "text": [
            "train Loss: 0.2493 Acc: 0.9140\n",
            "valid Loss: 0.3332 Acc: 0.8891\n",
            "------------------------------\n",
            "\n",
            "Epoch 36/200\n",
            "----------\n"
          ]
        },
        {
          "metadata": {
            "tags": null
          },
          "name": "stderr",
          "output_type": "stream",
          "text": [
            "391it [02:43,  2.40it/s]\n"
          ]
        },
        {
          "metadata": {
            "tags": null
          },
          "name": "stdout",
          "output_type": "stream",
          "text": [
            "train Loss: 0.2407 Acc: 0.9165\n",
            "valid Loss: 0.2740 Acc: 0.9076\n",
            "------------------------------\n",
            "\n",
            "Epoch 37/200\n",
            "----------\n"
          ]
        },
        {
          "metadata": {
            "tags": null
          },
          "name": "stderr",
          "output_type": "stream",
          "text": [
            "391it [02:42,  2.40it/s]\n"
          ]
        },
        {
          "metadata": {
            "tags": null
          },
          "name": "stdout",
          "output_type": "stream",
          "text": [
            "train Loss: 0.2296 Acc: 0.9212\n",
            "valid Loss: 0.2901 Acc: 0.9039\n",
            "------------------------------\n",
            "\n",
            "Epoch 38/200\n",
            "----------\n"
          ]
        },
        {
          "metadata": {
            "tags": null
          },
          "name": "stderr",
          "output_type": "stream",
          "text": [
            "391it [02:43,  2.39it/s]\n"
          ]
        },
        {
          "metadata": {
            "tags": null
          },
          "name": "stdout",
          "output_type": "stream",
          "text": [
            "train Loss: 0.2212 Acc: 0.9233\n",
            "valid Loss: 0.2530 Acc: 0.9137\n",
            "Saving model...\n",
            "------------------------------\n",
            "\n",
            "Epoch 39/200\n",
            "----------\n"
          ]
        },
        {
          "metadata": {
            "tags": null
          },
          "name": "stderr",
          "output_type": "stream",
          "text": [
            "391it [02:44,  2.38it/s]\n"
          ]
        },
        {
          "metadata": {
            "tags": null
          },
          "name": "stdout",
          "output_type": "stream",
          "text": [
            "train Loss: 0.2085 Acc: 0.9283\n",
            "valid Loss: 0.2767 Acc: 0.9065\n",
            "------------------------------\n",
            "\n",
            "Epoch 40/200\n",
            "----------\n"
          ]
        },
        {
          "metadata": {
            "tags": null
          },
          "name": "stderr",
          "output_type": "stream",
          "text": [
            "391it [02:43,  2.40it/s]\n"
          ]
        },
        {
          "metadata": {
            "tags": null
          },
          "name": "stdout",
          "output_type": "stream",
          "text": [
            "train Loss: 0.1948 Acc: 0.9339\n",
            "valid Loss: 0.2440 Acc: 0.9177\n",
            "Saving model...\n",
            "------------------------------\n",
            "\n",
            "Epoch 41/200\n",
            "----------\n"
          ]
        },
        {
          "metadata": {
            "tags": null
          },
          "name": "stderr",
          "output_type": "stream",
          "text": [
            "391it [02:43,  2.38it/s]\n"
          ]
        },
        {
          "metadata": {
            "tags": null
          },
          "name": "stdout",
          "output_type": "stream",
          "text": [
            "train Loss: 0.1853 Acc: 0.9355\n",
            "valid Loss: 0.2457 Acc: 0.9180\n",
            "Saving model...\n",
            "------------------------------\n",
            "\n",
            "Epoch 42/200\n",
            "----------\n"
          ]
        },
        {
          "metadata": {
            "tags": null
          },
          "name": "stderr",
          "output_type": "stream",
          "text": [
            "391it [02:44,  2.38it/s]\n"
          ]
        },
        {
          "metadata": {
            "tags": null
          },
          "name": "stdout",
          "output_type": "stream",
          "text": [
            "train Loss: 0.1733 Acc: 0.9410\n",
            "valid Loss: 0.2213 Acc: 0.9259\n",
            "Saving model...\n",
            "------------------------------\n",
            "\n",
            "Epoch 43/200\n",
            "----------\n"
          ]
        },
        {
          "metadata": {
            "tags": null
          },
          "name": "stderr",
          "output_type": "stream",
          "text": [
            "391it [02:44,  2.38it/s]\n"
          ]
        },
        {
          "metadata": {
            "tags": null
          },
          "name": "stdout",
          "output_type": "stream",
          "text": [
            "train Loss: 0.1617 Acc: 0.9448\n",
            "valid Loss: 0.2280 Acc: 0.9283\n",
            "Saving model...\n",
            "------------------------------\n",
            "\n",
            "Epoch 44/200\n",
            "----------\n"
          ]
        },
        {
          "metadata": {
            "tags": null
          },
          "name": "stderr",
          "output_type": "stream",
          "text": [
            "391it [02:44,  2.37it/s]\n"
          ]
        },
        {
          "metadata": {
            "tags": null
          },
          "name": "stdout",
          "output_type": "stream",
          "text": [
            "train Loss: 0.1496 Acc: 0.9484\n",
            "valid Loss: 0.2092 Acc: 0.9269\n",
            "------------------------------\n",
            "\n",
            "Epoch 45/200\n",
            "----------\n"
          ]
        },
        {
          "metadata": {
            "tags": null
          },
          "name": "stderr",
          "output_type": "stream",
          "text": [
            "391it [02:43,  2.39it/s]\n"
          ]
        },
        {
          "metadata": {
            "tags": null
          },
          "name": "stdout",
          "output_type": "stream",
          "text": [
            "train Loss: 0.1349 Acc: 0.9537\n",
            "valid Loss: 0.2084 Acc: 0.9319\n",
            "Saving model...\n",
            "------------------------------\n",
            "\n",
            "Epoch 46/200\n",
            "----------\n"
          ]
        },
        {
          "metadata": {
            "tags": null
          },
          "name": "stderr",
          "output_type": "stream",
          "text": [
            "391it [02:44,  2.38it/s]\n"
          ]
        },
        {
          "metadata": {
            "tags": null
          },
          "name": "stdout",
          "output_type": "stream",
          "text": [
            "train Loss: 0.1220 Acc: 0.9593\n",
            "valid Loss: 0.2028 Acc: 0.9345\n",
            "Saving model...\n",
            "------------------------------\n",
            "\n",
            "Epoch 47/200\n",
            "----------\n"
          ]
        },
        {
          "metadata": {
            "tags": null
          },
          "name": "stderr",
          "output_type": "stream",
          "text": [
            "391it [02:44,  2.38it/s]\n"
          ]
        },
        {
          "metadata": {
            "tags": null
          },
          "name": "stdout",
          "output_type": "stream",
          "text": [
            "train Loss: 0.1160 Acc: 0.9599\n",
            "valid Loss: 0.2044 Acc: 0.9359\n",
            "Saving model...\n",
            "------------------------------\n",
            "\n",
            "Epoch 48/200\n",
            "----------\n"
          ]
        },
        {
          "metadata": {
            "tags": null
          },
          "name": "stderr",
          "output_type": "stream",
          "text": [
            "391it [02:44,  2.38it/s]\n"
          ]
        },
        {
          "metadata": {
            "tags": null
          },
          "name": "stdout",
          "output_type": "stream",
          "text": [
            "train Loss: 0.0978 Acc: 0.9682\n",
            "valid Loss: 0.1822 Acc: 0.9399\n",
            "Saving model...\n",
            "------------------------------\n",
            "\n",
            "Epoch 49/200\n",
            "----------\n"
          ]
        },
        {
          "metadata": {
            "tags": null
          },
          "name": "stderr",
          "output_type": "stream",
          "text": [
            "391it [02:44,  2.37it/s]\n"
          ]
        },
        {
          "metadata": {
            "tags": null
          },
          "name": "stdout",
          "output_type": "stream",
          "text": [
            "train Loss: 0.0870 Acc: 0.9710\n",
            "valid Loss: 0.1914 Acc: 0.9398\n",
            "------------------------------\n",
            "\n",
            "Epoch 50/200\n",
            "----------\n"
          ]
        },
        {
          "metadata": {
            "tags": null
          },
          "name": "stderr",
          "output_type": "stream",
          "text": [
            "391it [02:44,  2.38it/s]\n"
          ]
        },
        {
          "metadata": {
            "tags": null
          },
          "name": "stdout",
          "output_type": "stream",
          "text": [
            "train Loss: 0.0790 Acc: 0.9737\n",
            "valid Loss: 0.1839 Acc: 0.9409\n",
            "Saving model...\n",
            "------------------------------\n",
            "\n",
            "Epoch 51/200\n",
            "----------\n"
          ]
        },
        {
          "metadata": {
            "tags": null
          },
          "name": "stderr",
          "output_type": "stream",
          "text": [
            "391it [02:44,  2.37it/s]\n"
          ]
        },
        {
          "metadata": {
            "tags": null
          },
          "name": "stdout",
          "output_type": "stream",
          "text": [
            "train Loss: 0.0701 Acc: 0.9765\n",
            "valid Loss: 0.1765 Acc: 0.9446\n",
            "Saving model...\n",
            "------------------------------\n",
            "\n",
            "Epoch 52/200\n",
            "----------\n"
          ]
        },
        {
          "metadata": {
            "tags": null
          },
          "name": "stderr",
          "output_type": "stream",
          "text": [
            "391it [02:45,  2.36it/s]\n"
          ]
        },
        {
          "metadata": {
            "tags": null
          },
          "name": "stdout",
          "output_type": "stream",
          "text": [
            "train Loss: 0.0587 Acc: 0.9809\n",
            "valid Loss: 0.1717 Acc: 0.9465\n",
            "Saving model...\n",
            "------------------------------\n",
            "\n",
            "Epoch 53/200\n",
            "----------\n"
          ]
        },
        {
          "metadata": {
            "tags": null
          },
          "name": "stderr",
          "output_type": "stream",
          "text": [
            "391it [02:44,  2.37it/s]\n"
          ]
        },
        {
          "metadata": {
            "tags": null
          },
          "name": "stdout",
          "output_type": "stream",
          "text": [
            "train Loss: 0.0541 Acc: 0.9825\n",
            "valid Loss: 0.1713 Acc: 0.9484\n",
            "Saving model...\n",
            "------------------------------\n",
            "\n",
            "Epoch 54/200\n",
            "----------\n"
          ]
        },
        {
          "metadata": {
            "tags": null
          },
          "name": "stderr",
          "output_type": "stream",
          "text": [
            "391it [02:44,  2.37it/s]\n"
          ]
        },
        {
          "metadata": {
            "tags": null
          },
          "name": "stdout",
          "output_type": "stream",
          "text": [
            "train Loss: 0.0463 Acc: 0.9854\n",
            "valid Loss: 0.1672 Acc: 0.9493\n",
            "Saving model...\n",
            "------------------------------\n",
            "\n",
            "Epoch 55/200\n",
            "----------\n"
          ]
        },
        {
          "metadata": {
            "tags": null
          },
          "name": "stderr",
          "output_type": "stream",
          "text": [
            "391it [02:45,  2.37it/s]\n"
          ]
        },
        {
          "metadata": {
            "tags": null
          },
          "name": "stdout",
          "output_type": "stream",
          "text": [
            "train Loss: 0.0405 Acc: 0.9878\n",
            "valid Loss: 0.1622 Acc: 0.9515\n",
            "Saving model...\n",
            "------------------------------\n",
            "\n",
            "Epoch 56/200\n",
            "----------\n"
          ]
        },
        {
          "metadata": {
            "tags": null
          },
          "name": "stderr",
          "output_type": "stream",
          "text": [
            "391it [02:45,  2.37it/s]\n"
          ]
        },
        {
          "metadata": {
            "tags": null
          },
          "name": "stdout",
          "output_type": "stream",
          "text": [
            "train Loss: 0.0384 Acc: 0.9887\n",
            "valid Loss: 0.1583 Acc: 0.9538\n",
            "Saving model...\n",
            "------------------------------\n",
            "\n",
            "Epoch 57/200\n",
            "----------\n"
          ]
        },
        {
          "metadata": {
            "tags": null
          },
          "name": "stderr",
          "output_type": "stream",
          "text": [
            "391it [02:45,  2.37it/s]\n"
          ]
        },
        {
          "metadata": {
            "tags": null
          },
          "name": "stdout",
          "output_type": "stream",
          "text": [
            "train Loss: 0.0334 Acc: 0.9900\n",
            "valid Loss: 0.1580 Acc: 0.9535\n",
            "------------------------------\n",
            "\n",
            "Epoch 58/200\n",
            "----------\n"
          ]
        },
        {
          "metadata": {
            "tags": null
          },
          "name": "stderr",
          "output_type": "stream",
          "text": [
            "391it [02:44,  2.38it/s]\n"
          ]
        },
        {
          "metadata": {
            "tags": null
          },
          "name": "stdout",
          "output_type": "stream",
          "text": [
            "train Loss: 0.0347 Acc: 0.9892\n",
            "valid Loss: 0.1561 Acc: 0.9538\n",
            "------------------------------\n",
            "\n",
            "Epoch 59/200\n",
            "----------\n"
          ]
        },
        {
          "metadata": {
            "tags": null
          },
          "name": "stderr",
          "output_type": "stream",
          "text": [
            "391it [02:44,  2.38it/s]\n"
          ]
        },
        {
          "metadata": {
            "tags": null
          },
          "name": "stdout",
          "output_type": "stream",
          "text": [
            "train Loss: 0.0317 Acc: 0.9904\n",
            "valid Loss: 0.1572 Acc: 0.9541\n",
            "Saving model...\n",
            "------------------------------\n",
            "\n",
            "Epoch 60/200\n",
            "----------\n"
          ]
        },
        {
          "metadata": {
            "tags": null
          },
          "name": "stderr",
          "output_type": "stream",
          "text": [
            "391it [02:45,  2.36it/s]\n"
          ]
        },
        {
          "metadata": {
            "tags": null
          },
          "name": "stdout",
          "output_type": "stream",
          "text": [
            "train Loss: 0.0306 Acc: 0.9909\n",
            "valid Loss: 0.1544 Acc: 0.9551\n",
            "Saving model...\n",
            "------------------------------\n",
            "\n",
            "Epoch 61/200\n",
            "----------\n"
          ]
        },
        {
          "metadata": {
            "tags": null
          },
          "name": "stderr",
          "output_type": "stream",
          "text": [
            "391it [02:45,  2.37it/s]\n"
          ]
        },
        {
          "metadata": {
            "tags": null
          },
          "name": "stdout",
          "output_type": "stream",
          "text": [
            "train Loss: 0.0309 Acc: 0.9911\n",
            "valid Loss: 0.1549 Acc: 0.9548\n",
            "------------------------------\n",
            "\n",
            "Epoch 62/200\n",
            "----------\n"
          ]
        },
        {
          "metadata": {
            "tags": null
          },
          "name": "stderr",
          "output_type": "stream",
          "text": [
            "391it [02:44,  2.37it/s]\n"
          ]
        },
        {
          "metadata": {
            "tags": null
          },
          "name": "stdout",
          "output_type": "stream",
          "text": [
            "train Loss: 0.0307 Acc: 0.9907\n",
            "valid Loss: 0.1565 Acc: 0.9547\n",
            "------------------------------\n",
            "\n",
            "Epoch 63/200\n",
            "----------\n"
          ]
        },
        {
          "metadata": {
            "tags": null
          },
          "name": "stderr",
          "output_type": "stream",
          "text": [
            "391it [02:44,  2.37it/s]\n"
          ]
        },
        {
          "metadata": {
            "tags": null
          },
          "name": "stdout",
          "output_type": "stream",
          "text": [
            "train Loss: 0.0284 Acc: 0.9916\n",
            "valid Loss: 0.1549 Acc: 0.9554\n",
            "Saving model...\n",
            "------------------------------\n",
            "\n",
            "Epoch 64/200\n",
            "----------\n"
          ]
        },
        {
          "metadata": {
            "tags": null
          },
          "name": "stderr",
          "output_type": "stream",
          "text": [
            "391it [02:45,  2.37it/s]\n"
          ]
        },
        {
          "metadata": {
            "tags": null
          },
          "name": "stdout",
          "output_type": "stream",
          "text": [
            "train Loss: 0.0310 Acc: 0.9906\n",
            "valid Loss: 0.1567 Acc: 0.9550\n",
            "------------------------------\n",
            "\n",
            "Epoch 65/200\n",
            "----------\n"
          ]
        },
        {
          "metadata": {
            "tags": null
          },
          "name": "stderr",
          "output_type": "stream",
          "text": [
            "391it [02:44,  2.37it/s]\n"
          ]
        },
        {
          "metadata": {
            "tags": null
          },
          "name": "stdout",
          "output_type": "stream",
          "text": [
            "train Loss: 0.0310 Acc: 0.9907\n",
            "valid Loss: 0.1572 Acc: 0.9543\n",
            "------------------------------\n",
            "\n",
            "Epoch 66/200\n",
            "----------\n"
          ]
        },
        {
          "metadata": {
            "tags": null
          },
          "name": "stderr",
          "output_type": "stream",
          "text": [
            "391it [02:44,  2.38it/s]\n"
          ]
        },
        {
          "metadata": {
            "tags": null
          },
          "name": "stdout",
          "output_type": "stream",
          "text": [
            "train Loss: 0.0326 Acc: 0.9903\n",
            "valid Loss: 0.1619 Acc: 0.9522\n",
            "------------------------------\n",
            "\n",
            "Epoch 67/200\n",
            "----------\n"
          ]
        },
        {
          "metadata": {
            "tags": null
          },
          "name": "stderr",
          "output_type": "stream",
          "text": [
            "391it [02:44,  2.38it/s]\n"
          ]
        },
        {
          "metadata": {
            "tags": null
          },
          "name": "stdout",
          "output_type": "stream",
          "text": [
            "train Loss: 0.0339 Acc: 0.9901\n",
            "valid Loss: 0.1678 Acc: 0.9510\n",
            "------------------------------\n",
            "\n",
            "Epoch 68/200\n",
            "----------\n"
          ]
        },
        {
          "metadata": {
            "tags": null
          },
          "name": "stderr",
          "output_type": "stream",
          "text": [
            "391it [02:44,  2.38it/s]\n"
          ]
        },
        {
          "metadata": {
            "tags": null
          },
          "name": "stdout",
          "output_type": "stream",
          "text": [
            "train Loss: 0.0377 Acc: 0.9883\n",
            "valid Loss: 0.1680 Acc: 0.9516\n",
            "------------------------------\n",
            "\n",
            "Epoch 69/200\n",
            "----------\n"
          ]
        },
        {
          "metadata": {
            "tags": null
          },
          "name": "stderr",
          "output_type": "stream",
          "text": [
            "391it [02:43,  2.39it/s]\n"
          ]
        },
        {
          "metadata": {
            "tags": null
          },
          "name": "stdout",
          "output_type": "stream",
          "text": [
            "train Loss: 0.0445 Acc: 0.9855\n",
            "valid Loss: 0.1661 Acc: 0.9506\n",
            "------------------------------\n",
            "\n",
            "Epoch 70/200\n",
            "----------\n"
          ]
        },
        {
          "metadata": {
            "tags": null
          },
          "name": "stderr",
          "output_type": "stream",
          "text": [
            "391it [02:44,  2.38it/s]\n"
          ]
        },
        {
          "metadata": {
            "tags": null
          },
          "name": "stdout",
          "output_type": "stream",
          "text": [
            "train Loss: 0.0497 Acc: 0.9841\n",
            "valid Loss: 0.1818 Acc: 0.9475\n",
            "------------------------------\n",
            "\n",
            "Epoch 71/200\n",
            "----------\n"
          ]
        },
        {
          "metadata": {
            "tags": null
          },
          "name": "stderr",
          "output_type": "stream",
          "text": [
            "391it [02:44,  2.38it/s]\n"
          ]
        },
        {
          "metadata": {
            "tags": null
          },
          "name": "stdout",
          "output_type": "stream",
          "text": [
            "train Loss: 0.0594 Acc: 0.9811\n",
            "valid Loss: 0.1782 Acc: 0.9470\n",
            "------------------------------\n",
            "\n",
            "Epoch 72/200\n",
            "----------\n"
          ]
        },
        {
          "metadata": {
            "tags": null
          },
          "name": "stderr",
          "output_type": "stream",
          "text": [
            "391it [02:44,  2.37it/s]\n"
          ]
        },
        {
          "metadata": {
            "tags": null
          },
          "name": "stdout",
          "output_type": "stream",
          "text": [
            "train Loss: 0.0736 Acc: 0.9761\n",
            "valid Loss: 0.1971 Acc: 0.9399\n",
            "------------------------------\n",
            "\n",
            "Epoch 73/200\n",
            "----------\n"
          ]
        },
        {
          "metadata": {
            "tags": null
          },
          "name": "stderr",
          "output_type": "stream",
          "text": [
            "391it [02:44,  2.38it/s]\n"
          ]
        },
        {
          "metadata": {
            "tags": null
          },
          "name": "stdout",
          "output_type": "stream",
          "text": [
            "train Loss: 0.0909 Acc: 0.9696\n",
            "valid Loss: 0.2090 Acc: 0.9330\n",
            "------------------------------\n",
            "\n",
            "Epoch 74/200\n",
            "----------\n"
          ]
        },
        {
          "metadata": {
            "tags": null
          },
          "name": "stderr",
          "output_type": "stream",
          "text": [
            "391it [02:45,  2.37it/s]\n"
          ]
        },
        {
          "metadata": {
            "tags": null
          },
          "name": "stdout",
          "output_type": "stream",
          "text": [
            "train Loss: 0.1095 Acc: 0.9635\n",
            "valid Loss: 0.2261 Acc: 0.9327\n",
            "------------------------------\n",
            "\n",
            "Epoch 75/200\n",
            "----------\n"
          ]
        },
        {
          "metadata": {
            "tags": null
          },
          "name": "stderr",
          "output_type": "stream",
          "text": [
            "391it [02:44,  2.37it/s]\n"
          ]
        },
        {
          "metadata": {
            "tags": null
          },
          "name": "stdout",
          "output_type": "stream",
          "text": [
            "train Loss: 0.1262 Acc: 0.9566\n",
            "valid Loss: 0.2339 Acc: 0.9266\n",
            "------------------------------\n",
            "\n",
            "Epoch 76/200\n",
            "----------\n"
          ]
        },
        {
          "metadata": {
            "tags": null
          },
          "name": "stderr",
          "output_type": "stream",
          "text": [
            "391it [02:45,  2.36it/s]\n"
          ]
        },
        {
          "metadata": {
            "tags": null
          },
          "name": "stdout",
          "output_type": "stream",
          "text": [
            "train Loss: 0.1459 Acc: 0.9502\n",
            "valid Loss: 0.2760 Acc: 0.9139\n",
            "------------------------------\n",
            "\n",
            "Epoch 77/200\n",
            "----------\n"
          ]
        },
        {
          "metadata": {
            "tags": null
          },
          "name": "stderr",
          "output_type": "stream",
          "text": [
            "391it [02:45,  2.37it/s]\n"
          ]
        },
        {
          "metadata": {
            "tags": null
          },
          "name": "stdout",
          "output_type": "stream",
          "text": [
            "train Loss: 0.1647 Acc: 0.9425\n",
            "valid Loss: 0.2477 Acc: 0.9239\n",
            "------------------------------\n",
            "\n",
            "Epoch 78/200\n",
            "----------\n"
          ]
        },
        {
          "metadata": {
            "tags": null
          },
          "name": "stderr",
          "output_type": "stream",
          "text": [
            "391it [02:44,  2.38it/s]\n"
          ]
        },
        {
          "metadata": {
            "tags": null
          },
          "name": "stdout",
          "output_type": "stream",
          "text": [
            "train Loss: 0.1745 Acc: 0.9400\n",
            "valid Loss: 0.3081 Acc: 0.9066\n",
            "------------------------------\n",
            "\n",
            "Epoch 79/200\n",
            "----------\n"
          ]
        },
        {
          "metadata": {
            "tags": null
          },
          "name": "stderr",
          "output_type": "stream",
          "text": [
            "391it [02:44,  2.37it/s]\n"
          ]
        },
        {
          "metadata": {
            "tags": null
          },
          "name": "stdout",
          "output_type": "stream",
          "text": [
            "train Loss: 0.1882 Acc: 0.9352\n",
            "valid Loss: 0.2669 Acc: 0.9102\n",
            "------------------------------\n",
            "\n",
            "Epoch 80/200\n",
            "----------\n"
          ]
        },
        {
          "metadata": {
            "tags": null
          },
          "name": "stderr",
          "output_type": "stream",
          "text": [
            "391it [02:43,  2.39it/s]\n"
          ]
        },
        {
          "metadata": {
            "tags": null
          },
          "name": "stdout",
          "output_type": "stream",
          "text": [
            "train Loss: 0.2056 Acc: 0.9287\n",
            "valid Loss: 0.2551 Acc: 0.9175\n",
            "------------------------------\n",
            "\n",
            "Epoch 81/200\n",
            "----------\n"
          ]
        },
        {
          "metadata": {
            "tags": null
          },
          "name": "stderr",
          "output_type": "stream",
          "text": [
            "391it [02:44,  2.38it/s]\n"
          ]
        },
        {
          "metadata": {
            "tags": null
          },
          "name": "stdout",
          "output_type": "stream",
          "text": [
            "train Loss: 0.2110 Acc: 0.9267\n",
            "valid Loss: 0.2809 Acc: 0.9082\n",
            "------------------------------\n",
            "\n",
            "Epoch 82/200\n",
            "----------\n"
          ]
        },
        {
          "metadata": {
            "tags": null
          },
          "name": "stderr",
          "output_type": "stream",
          "text": [
            "391it [02:43,  2.39it/s]\n"
          ]
        },
        {
          "metadata": {
            "tags": null
          },
          "name": "stdout",
          "output_type": "stream",
          "text": [
            "train Loss: 0.2141 Acc: 0.9256\n",
            "valid Loss: 0.3034 Acc: 0.8999\n",
            "------------------------------\n",
            "\n",
            "Epoch 83/200\n",
            "----------\n"
          ]
        },
        {
          "metadata": {
            "tags": null
          },
          "name": "stderr",
          "output_type": "stream",
          "text": [
            "391it [02:43,  2.39it/s]\n"
          ]
        },
        {
          "metadata": {
            "tags": null
          },
          "name": "stdout",
          "output_type": "stream",
          "text": [
            "train Loss: 0.2241 Acc: 0.9224\n",
            "valid Loss: 0.3036 Acc: 0.9005\n",
            "------------------------------\n",
            "\n",
            "Epoch 84/200\n",
            "----------\n"
          ]
        },
        {
          "metadata": {
            "tags": null
          },
          "name": "stderr",
          "output_type": "stream",
          "text": [
            "391it [02:44,  2.38it/s]\n"
          ]
        },
        {
          "metadata": {
            "tags": null
          },
          "name": "stdout",
          "output_type": "stream",
          "text": [
            "train Loss: 0.2330 Acc: 0.9194\n",
            "valid Loss: 0.2986 Acc: 0.9002\n",
            "------------------------------\n",
            "\n",
            "Epoch 85/200\n",
            "----------\n"
          ]
        },
        {
          "metadata": {
            "tags": null
          },
          "name": "stderr",
          "output_type": "stream",
          "text": [
            "391it [02:44,  2.38it/s]\n"
          ]
        },
        {
          "metadata": {
            "tags": null
          },
          "name": "stdout",
          "output_type": "stream",
          "text": [
            "train Loss: 0.2379 Acc: 0.9183\n",
            "valid Loss: 0.3268 Acc: 0.8926\n",
            "------------------------------\n",
            "\n",
            "Epoch 86/200\n",
            "----------\n"
          ]
        },
        {
          "metadata": {
            "tags": null
          },
          "name": "stderr",
          "output_type": "stream",
          "text": [
            "391it [02:44,  2.38it/s]\n"
          ]
        },
        {
          "metadata": {
            "tags": null
          },
          "name": "stdout",
          "output_type": "stream",
          "text": [
            "train Loss: 0.2441 Acc: 0.9151\n",
            "valid Loss: 0.3025 Acc: 0.9032\n",
            "------------------------------\n",
            "\n",
            "Epoch 87/200\n",
            "----------\n"
          ]
        },
        {
          "metadata": {
            "tags": null
          },
          "name": "stderr",
          "output_type": "stream",
          "text": [
            "391it [02:44,  2.38it/s]\n"
          ]
        },
        {
          "metadata": {
            "tags": null
          },
          "name": "stdout",
          "output_type": "stream",
          "text": [
            "train Loss: 0.2417 Acc: 0.9179\n",
            "valid Loss: 0.3134 Acc: 0.8947\n",
            "------------------------------\n",
            "\n",
            "Epoch 88/200\n",
            "----------\n"
          ]
        },
        {
          "metadata": {
            "tags": null
          },
          "name": "stderr",
          "output_type": "stream",
          "text": [
            "391it [02:44,  2.38it/s]\n"
          ]
        },
        {
          "metadata": {
            "tags": null
          },
          "name": "stdout",
          "output_type": "stream",
          "text": [
            "train Loss: 0.2558 Acc: 0.9129\n",
            "valid Loss: 0.2792 Acc: 0.9075\n",
            "------------------------------\n",
            "\n",
            "Epoch 89/200\n",
            "----------\n"
          ]
        },
        {
          "metadata": {
            "tags": null
          },
          "name": "stderr",
          "output_type": "stream",
          "text": [
            "391it [02:43,  2.39it/s]\n"
          ]
        },
        {
          "metadata": {
            "tags": null
          },
          "name": "stdout",
          "output_type": "stream",
          "text": [
            "train Loss: 0.2555 Acc: 0.9133\n",
            "valid Loss: 0.3477 Acc: 0.8866\n",
            "------------------------------\n",
            "\n",
            "Epoch 90/200\n",
            "----------\n"
          ]
        },
        {
          "metadata": {
            "tags": null
          },
          "name": "stderr",
          "output_type": "stream",
          "text": [
            "391it [02:44,  2.38it/s]\n"
          ]
        },
        {
          "metadata": {
            "tags": null
          },
          "name": "stdout",
          "output_type": "stream",
          "text": [
            "train Loss: 0.2673 Acc: 0.9072\n",
            "valid Loss: 0.3343 Acc: 0.8849\n",
            "------------------------------\n",
            "\n",
            "Epoch 91/200\n",
            "----------\n"
          ]
        },
        {
          "metadata": {
            "tags": null
          },
          "name": "stderr",
          "output_type": "stream",
          "text": [
            "391it [02:44,  2.38it/s]\n"
          ]
        },
        {
          "metadata": {
            "tags": null
          },
          "name": "stdout",
          "output_type": "stream",
          "text": [
            "train Loss: 0.2682 Acc: 0.9068\n",
            "valid Loss: 0.2822 Acc: 0.9023\n",
            "------------------------------\n",
            "\n",
            "Epoch 92/200\n",
            "----------\n"
          ]
        },
        {
          "metadata": {
            "tags": null
          },
          "name": "stderr",
          "output_type": "stream",
          "text": [
            "391it [02:43,  2.39it/s]\n"
          ]
        },
        {
          "metadata": {
            "tags": null
          },
          "name": "stdout",
          "output_type": "stream",
          "text": [
            "train Loss: 0.2787 Acc: 0.9038\n",
            "valid Loss: 0.3667 Acc: 0.8802\n",
            "------------------------------\n",
            "\n",
            "Epoch 93/200\n",
            "----------\n"
          ]
        },
        {
          "metadata": {
            "tags": null
          },
          "name": "stderr",
          "output_type": "stream",
          "text": [
            "391it [02:43,  2.39it/s]\n"
          ]
        },
        {
          "metadata": {
            "tags": null
          },
          "name": "stdout",
          "output_type": "stream",
          "text": [
            "train Loss: 0.2774 Acc: 0.9041\n",
            "valid Loss: 0.3830 Acc: 0.8756\n",
            "------------------------------\n",
            "\n",
            "Epoch 94/200\n",
            "----------\n"
          ]
        },
        {
          "metadata": {
            "tags": null
          },
          "name": "stderr",
          "output_type": "stream",
          "text": [
            "391it [02:43,  2.40it/s]\n"
          ]
        },
        {
          "metadata": {
            "tags": null
          },
          "name": "stdout",
          "output_type": "stream",
          "text": [
            "train Loss: 0.2857 Acc: 0.9017\n",
            "valid Loss: 0.3894 Acc: 0.8758\n",
            "------------------------------\n",
            "\n",
            "Epoch 95/200\n",
            "----------\n"
          ]
        },
        {
          "metadata": {
            "tags": null
          },
          "name": "stderr",
          "output_type": "stream",
          "text": [
            "391it [02:42,  2.40it/s]\n"
          ]
        },
        {
          "metadata": {
            "tags": null
          },
          "name": "stdout",
          "output_type": "stream",
          "text": [
            "train Loss: 0.2900 Acc: 0.9002\n",
            "valid Loss: 0.3400 Acc: 0.8860\n",
            "------------------------------\n",
            "\n",
            "Epoch 96/200\n",
            "----------\n"
          ]
        },
        {
          "metadata": {
            "tags": null
          },
          "name": "stderr",
          "output_type": "stream",
          "text": [
            "391it [02:42,  2.40it/s]\n"
          ]
        },
        {
          "metadata": {
            "tags": null
          },
          "name": "stdout",
          "output_type": "stream",
          "text": [
            "train Loss: 0.2907 Acc: 0.9001\n",
            "valid Loss: 0.3905 Acc: 0.8751\n",
            "------------------------------\n",
            "\n",
            "Epoch 97/200\n",
            "----------\n"
          ]
        },
        {
          "metadata": {
            "tags": null
          },
          "name": "stderr",
          "output_type": "stream",
          "text": [
            "391it [02:42,  2.40it/s]\n"
          ]
        },
        {
          "metadata": {
            "tags": null
          },
          "name": "stdout",
          "output_type": "stream",
          "text": [
            "train Loss: 0.2999 Acc: 0.8976\n",
            "valid Loss: 0.3451 Acc: 0.8848\n",
            "------------------------------\n",
            "\n",
            "Epoch 98/200\n",
            "----------\n"
          ]
        },
        {
          "metadata": {
            "tags": null
          },
          "name": "stderr",
          "output_type": "stream",
          "text": [
            "391it [02:42,  2.40it/s]\n"
          ]
        },
        {
          "metadata": {
            "tags": null
          },
          "name": "stdout",
          "output_type": "stream",
          "text": [
            "train Loss: 0.3065 Acc: 0.8951\n",
            "valid Loss: 0.3239 Acc: 0.8899\n",
            "------------------------------\n",
            "\n",
            "Epoch 99/200\n",
            "----------\n"
          ]
        },
        {
          "metadata": {
            "tags": null
          },
          "name": "stderr",
          "output_type": "stream",
          "text": [
            "391it [02:43,  2.39it/s]\n"
          ]
        },
        {
          "metadata": {
            "tags": null
          },
          "name": "stdout",
          "output_type": "stream",
          "text": [
            "train Loss: 0.3054 Acc: 0.8951\n",
            "valid Loss: 0.3697 Acc: 0.8789\n",
            "------------------------------\n",
            "\n",
            "Epoch 100/200\n",
            "----------\n"
          ]
        },
        {
          "metadata": {
            "tags": null
          },
          "name": "stderr",
          "output_type": "stream",
          "text": [
            "391it [02:43,  2.39it/s]\n"
          ]
        },
        {
          "metadata": {
            "tags": null
          },
          "name": "stdout",
          "output_type": "stream",
          "text": [
            "train Loss: 0.3110 Acc: 0.8926\n",
            "valid Loss: 0.3690 Acc: 0.8733\n",
            "------------------------------\n",
            "\n",
            "Epoch 101/200\n",
            "----------\n"
          ]
        },
        {
          "metadata": {
            "tags": null
          },
          "name": "stderr",
          "output_type": "stream",
          "text": [
            "391it [02:44,  2.38it/s]\n"
          ]
        },
        {
          "metadata": {
            "tags": null
          },
          "name": "stdout",
          "output_type": "stream",
          "text": [
            "train Loss: 0.3189 Acc: 0.8906\n",
            "valid Loss: 0.3828 Acc: 0.8718\n",
            "------------------------------\n",
            "\n",
            "Epoch 102/200\n",
            "----------\n"
          ]
        },
        {
          "metadata": {
            "tags": null
          },
          "name": "stderr",
          "output_type": "stream",
          "text": [
            "391it [02:44,  2.37it/s]\n"
          ]
        },
        {
          "metadata": {
            "tags": null
          },
          "name": "stdout",
          "output_type": "stream",
          "text": [
            "train Loss: 0.3189 Acc: 0.8905\n",
            "valid Loss: 0.4474 Acc: 0.8454\n",
            "------------------------------\n",
            "\n",
            "Epoch 103/200\n",
            "----------\n"
          ]
        },
        {
          "metadata": {
            "tags": null
          },
          "name": "stderr",
          "output_type": "stream",
          "text": [
            "391it [02:44,  2.37it/s]\n"
          ]
        },
        {
          "metadata": {
            "tags": null
          },
          "name": "stdout",
          "output_type": "stream",
          "text": [
            "train Loss: 0.3208 Acc: 0.8907\n",
            "valid Loss: 0.5014 Acc: 0.8442\n",
            "------------------------------\n",
            "\n",
            "Epoch 104/200\n",
            "----------\n"
          ]
        },
        {
          "metadata": {
            "tags": null
          },
          "name": "stderr",
          "output_type": "stream",
          "text": [
            "391it [02:44,  2.37it/s]\n"
          ]
        },
        {
          "metadata": {
            "tags": null
          },
          "name": "stdout",
          "output_type": "stream",
          "text": [
            "train Loss: 0.3274 Acc: 0.8881\n",
            "valid Loss: 0.3950 Acc: 0.8643\n",
            "------------------------------\n",
            "\n",
            "Epoch 105/200\n",
            "----------\n"
          ]
        },
        {
          "metadata": {
            "tags": null
          },
          "name": "stderr",
          "output_type": "stream",
          "text": [
            "391it [02:44,  2.37it/s]\n"
          ]
        },
        {
          "metadata": {
            "tags": null
          },
          "name": "stdout",
          "output_type": "stream",
          "text": [
            "train Loss: 0.3301 Acc: 0.8862\n",
            "valid Loss: 0.3901 Acc: 0.8735\n",
            "------------------------------\n",
            "\n",
            "Epoch 106/200\n",
            "----------\n"
          ]
        },
        {
          "metadata": {
            "tags": null
          },
          "name": "stderr",
          "output_type": "stream",
          "text": [
            "391it [02:45,  2.37it/s]\n"
          ]
        },
        {
          "metadata": {
            "tags": null
          },
          "name": "stdout",
          "output_type": "stream",
          "text": [
            "train Loss: 0.3416 Acc: 0.8836\n",
            "valid Loss: 0.5864 Acc: 0.8221\n",
            "------------------------------\n",
            "\n",
            "Epoch 107/200\n",
            "----------\n"
          ]
        },
        {
          "metadata": {
            "tags": null
          },
          "name": "stderr",
          "output_type": "stream",
          "text": [
            "391it [02:44,  2.37it/s]\n"
          ]
        },
        {
          "metadata": {
            "tags": null
          },
          "name": "stdout",
          "output_type": "stream",
          "text": [
            "train Loss: 0.3353 Acc: 0.8845\n",
            "valid Loss: 0.3515 Acc: 0.8783\n",
            "------------------------------\n",
            "\n",
            "Epoch 108/200\n",
            "----------\n"
          ]
        },
        {
          "metadata": {
            "tags": null
          },
          "name": "stderr",
          "output_type": "stream",
          "text": [
            "391it [02:44,  2.38it/s]\n"
          ]
        },
        {
          "metadata": {
            "tags": null
          },
          "name": "stdout",
          "output_type": "stream",
          "text": [
            "train Loss: 0.3405 Acc: 0.8813\n",
            "valid Loss: 0.4471 Acc: 0.8493\n",
            "------------------------------\n",
            "\n",
            "Epoch 109/200\n",
            "----------\n"
          ]
        },
        {
          "metadata": {
            "tags": null
          },
          "name": "stderr",
          "output_type": "stream",
          "text": [
            "391it [02:44,  2.38it/s]\n"
          ]
        },
        {
          "metadata": {
            "tags": null
          },
          "name": "stdout",
          "output_type": "stream",
          "text": [
            "train Loss: 0.3466 Acc: 0.8819\n",
            "valid Loss: 0.5077 Acc: 0.8383\n",
            "------------------------------\n",
            "\n",
            "Epoch 110/200\n",
            "----------\n"
          ]
        },
        {
          "metadata": {
            "tags": null
          },
          "name": "stderr",
          "output_type": "stream",
          "text": [
            "391it [02:44,  2.38it/s]\n"
          ]
        },
        {
          "metadata": {
            "tags": null
          },
          "name": "stdout",
          "output_type": "stream",
          "text": [
            "train Loss: 0.3455 Acc: 0.8809\n",
            "valid Loss: 0.5420 Acc: 0.8274\n",
            "------------------------------\n",
            "\n",
            "Epoch 111/200\n",
            "----------\n"
          ]
        },
        {
          "metadata": {
            "tags": null
          },
          "name": "stderr",
          "output_type": "stream",
          "text": [
            "391it [02:44,  2.38it/s]\n"
          ]
        },
        {
          "metadata": {
            "tags": null
          },
          "name": "stdout",
          "output_type": "stream",
          "text": [
            "train Loss: 0.3452 Acc: 0.8836\n",
            "valid Loss: 0.3575 Acc: 0.8806\n",
            "------------------------------\n",
            "\n",
            "Epoch 112/200\n",
            "----------\n"
          ]
        },
        {
          "metadata": {
            "tags": null
          },
          "name": "stderr",
          "output_type": "stream",
          "text": [
            "391it [02:44,  2.38it/s]\n"
          ]
        },
        {
          "metadata": {
            "tags": null
          },
          "name": "stdout",
          "output_type": "stream",
          "text": [
            "train Loss: 0.3499 Acc: 0.8794\n",
            "valid Loss: 0.4011 Acc: 0.8652\n",
            "------------------------------\n",
            "\n",
            "Epoch 113/200\n",
            "----------\n"
          ]
        },
        {
          "metadata": {
            "tags": null
          },
          "name": "stderr",
          "output_type": "stream",
          "text": [
            "391it [02:44,  2.38it/s]\n"
          ]
        },
        {
          "metadata": {
            "tags": null
          },
          "name": "stdout",
          "output_type": "stream",
          "text": [
            "train Loss: 0.3530 Acc: 0.8791\n",
            "valid Loss: 0.4404 Acc: 0.8550\n",
            "------------------------------\n",
            "\n",
            "Epoch 114/200\n",
            "----------\n"
          ]
        },
        {
          "metadata": {
            "tags": null
          },
          "name": "stderr",
          "output_type": "stream",
          "text": [
            "391it [02:44,  2.38it/s]\n"
          ]
        },
        {
          "metadata": {
            "tags": null
          },
          "name": "stdout",
          "output_type": "stream",
          "text": [
            "train Loss: 0.3517 Acc: 0.8790\n",
            "valid Loss: 0.4210 Acc: 0.8616\n",
            "------------------------------\n",
            "\n",
            "Epoch 115/200\n",
            "----------\n"
          ]
        },
        {
          "metadata": {
            "tags": null
          },
          "name": "stderr",
          "output_type": "stream",
          "text": [
            "391it [02:44,  2.38it/s]\n"
          ]
        },
        {
          "metadata": {
            "tags": null
          },
          "name": "stdout",
          "output_type": "stream",
          "text": [
            "train Loss: 0.3537 Acc: 0.8777\n",
            "valid Loss: 0.3728 Acc: 0.8670\n",
            "------------------------------\n",
            "\n",
            "Epoch 116/200\n",
            "----------\n"
          ]
        },
        {
          "metadata": {
            "tags": null
          },
          "name": "stderr",
          "output_type": "stream",
          "text": [
            "391it [02:44,  2.38it/s]\n"
          ]
        },
        {
          "metadata": {
            "tags": null
          },
          "name": "stdout",
          "output_type": "stream",
          "text": [
            "train Loss: 0.3584 Acc: 0.8771\n",
            "valid Loss: 0.4858 Acc: 0.8415\n",
            "------------------------------\n",
            "\n",
            "Epoch 117/200\n",
            "----------\n"
          ]
        },
        {
          "metadata": {
            "tags": null
          },
          "name": "stderr",
          "output_type": "stream",
          "text": [
            "391it [02:44,  2.38it/s]\n"
          ]
        },
        {
          "metadata": {
            "tags": null
          },
          "name": "stdout",
          "output_type": "stream",
          "text": [
            "train Loss: 0.3572 Acc: 0.8768\n",
            "valid Loss: 0.3971 Acc: 0.8632\n",
            "------------------------------\n",
            "\n",
            "Epoch 118/200\n",
            "----------\n"
          ]
        },
        {
          "metadata": {
            "tags": null
          },
          "name": "stderr",
          "output_type": "stream",
          "text": [
            "391it [02:44,  2.38it/s]\n"
          ]
        },
        {
          "metadata": {
            "tags": null
          },
          "name": "stdout",
          "output_type": "stream",
          "text": [
            "train Loss: 0.3570 Acc: 0.8782\n",
            "valid Loss: 0.3850 Acc: 0.8709\n",
            "------------------------------\n",
            "\n",
            "Epoch 119/200\n",
            "----------\n"
          ]
        },
        {
          "metadata": {
            "tags": null
          },
          "name": "stderr",
          "output_type": "stream",
          "text": [
            "391it [02:44,  2.38it/s]\n"
          ]
        },
        {
          "metadata": {
            "tags": null
          },
          "name": "stdout",
          "output_type": "stream",
          "text": [
            "train Loss: 0.3573 Acc: 0.8786\n",
            "valid Loss: 0.3673 Acc: 0.8759\n",
            "------------------------------\n",
            "\n",
            "Epoch 120/200\n",
            "----------\n"
          ]
        },
        {
          "metadata": {
            "tags": null
          },
          "name": "stderr",
          "output_type": "stream",
          "text": [
            "391it [02:43,  2.39it/s]\n"
          ]
        },
        {
          "metadata": {
            "tags": null
          },
          "name": "stdout",
          "output_type": "stream",
          "text": [
            "train Loss: 0.3595 Acc: 0.8765\n",
            "valid Loss: 0.4056 Acc: 0.8644\n",
            "------------------------------\n",
            "\n",
            "Epoch 121/200\n",
            "----------\n"
          ]
        },
        {
          "metadata": {
            "tags": null
          },
          "name": "stderr",
          "output_type": "stream",
          "text": [
            "391it [02:43,  2.39it/s]\n"
          ]
        },
        {
          "metadata": {
            "tags": null
          },
          "name": "stdout",
          "output_type": "stream",
          "text": [
            "train Loss: 0.3605 Acc: 0.8764\n",
            "valid Loss: 0.4459 Acc: 0.8548\n",
            "------------------------------\n",
            "\n",
            "Epoch 122/200\n",
            "----------\n"
          ]
        },
        {
          "metadata": {
            "tags": null
          },
          "name": "stderr",
          "output_type": "stream",
          "text": [
            "391it [02:43,  2.39it/s]\n"
          ]
        },
        {
          "metadata": {
            "tags": null
          },
          "name": "stdout",
          "output_type": "stream",
          "text": [
            "train Loss: 0.3570 Acc: 0.8772\n",
            "valid Loss: 0.4223 Acc: 0.8560\n",
            "------------------------------\n",
            "\n",
            "Epoch 123/200\n",
            "----------\n"
          ]
        },
        {
          "metadata": {
            "tags": null
          },
          "name": "stderr",
          "output_type": "stream",
          "text": [
            "391it [02:42,  2.40it/s]\n"
          ]
        },
        {
          "metadata": {
            "tags": null
          },
          "name": "stdout",
          "output_type": "stream",
          "text": [
            "train Loss: 0.3588 Acc: 0.8768\n",
            "valid Loss: 0.3915 Acc: 0.8699\n",
            "------------------------------\n",
            "\n",
            "Epoch 124/200\n",
            "----------\n"
          ]
        },
        {
          "metadata": {
            "tags": null
          },
          "name": "stderr",
          "output_type": "stream",
          "text": [
            "391it [02:43,  2.40it/s]\n"
          ]
        },
        {
          "metadata": {
            "tags": null
          },
          "name": "stdout",
          "output_type": "stream",
          "text": [
            "train Loss: 0.3625 Acc: 0.8750\n",
            "valid Loss: 0.4217 Acc: 0.8607\n",
            "------------------------------\n",
            "\n",
            "Epoch 125/200\n",
            "----------\n"
          ]
        },
        {
          "metadata": {
            "tags": null
          },
          "name": "stderr",
          "output_type": "stream",
          "text": [
            "391it [02:43,  2.40it/s]\n"
          ]
        },
        {
          "metadata": {
            "tags": null
          },
          "name": "stdout",
          "output_type": "stream",
          "text": [
            "train Loss: 0.3559 Acc: 0.8800\n",
            "valid Loss: 0.4422 Acc: 0.8530\n",
            "------------------------------\n",
            "\n",
            "Epoch 126/200\n",
            "----------\n"
          ]
        },
        {
          "metadata": {
            "tags": null
          },
          "name": "stderr",
          "output_type": "stream",
          "text": [
            "391it [02:43,  2.39it/s]\n"
          ]
        },
        {
          "metadata": {
            "tags": null
          },
          "name": "stdout",
          "output_type": "stream",
          "text": [
            "train Loss: 0.3660 Acc: 0.8762\n",
            "valid Loss: 0.3553 Acc: 0.8781\n",
            "------------------------------\n",
            "\n",
            "Epoch 127/200\n",
            "----------\n"
          ]
        },
        {
          "metadata": {
            "tags": null
          },
          "name": "stderr",
          "output_type": "stream",
          "text": [
            "391it [02:43,  2.39it/s]\n"
          ]
        },
        {
          "metadata": {
            "tags": null
          },
          "name": "stdout",
          "output_type": "stream",
          "text": [
            "train Loss: 0.3523 Acc: 0.8790\n",
            "valid Loss: 0.4437 Acc: 0.8513\n",
            "------------------------------\n",
            "\n",
            "Epoch 128/200\n",
            "----------\n"
          ]
        },
        {
          "metadata": {
            "tags": null
          },
          "name": "stderr",
          "output_type": "stream",
          "text": [
            "391it [02:43,  2.39it/s]\n"
          ]
        },
        {
          "metadata": {
            "tags": null
          },
          "name": "stdout",
          "output_type": "stream",
          "text": [
            "train Loss: 0.3543 Acc: 0.8802\n",
            "valid Loss: 0.3644 Acc: 0.8757\n",
            "------------------------------\n",
            "\n",
            "Epoch 129/200\n",
            "----------\n"
          ]
        },
        {
          "metadata": {
            "tags": null
          },
          "name": "stderr",
          "output_type": "stream",
          "text": [
            "391it [02:42,  2.40it/s]\n"
          ]
        },
        {
          "metadata": {
            "tags": null
          },
          "name": "stdout",
          "output_type": "stream",
          "text": [
            "train Loss: 0.3561 Acc: 0.8784\n",
            "valid Loss: 0.4293 Acc: 0.8524\n",
            "------------------------------\n",
            "\n",
            "Epoch 130/200\n",
            "----------\n"
          ]
        },
        {
          "metadata": {
            "tags": null
          },
          "name": "stderr",
          "output_type": "stream",
          "text": [
            "391it [02:43,  2.39it/s]\n"
          ]
        },
        {
          "metadata": {
            "tags": null
          },
          "name": "stdout",
          "output_type": "stream",
          "text": [
            "train Loss: 0.3463 Acc: 0.8814\n",
            "valid Loss: 0.3982 Acc: 0.8707\n",
            "------------------------------\n",
            "\n",
            "Epoch 131/200\n",
            "----------\n"
          ]
        },
        {
          "metadata": {
            "tags": null
          },
          "name": "stderr",
          "output_type": "stream",
          "text": [
            "391it [02:44,  2.38it/s]\n"
          ]
        },
        {
          "metadata": {
            "tags": null
          },
          "name": "stdout",
          "output_type": "stream",
          "text": [
            "train Loss: 0.3435 Acc: 0.8822\n",
            "valid Loss: 0.3973 Acc: 0.8654\n",
            "------------------------------\n",
            "\n",
            "Epoch 132/200\n",
            "----------\n"
          ]
        },
        {
          "metadata": {
            "tags": null
          },
          "name": "stderr",
          "output_type": "stream",
          "text": [
            "391it [02:42,  2.40it/s]\n"
          ]
        },
        {
          "metadata": {
            "tags": null
          },
          "name": "stdout",
          "output_type": "stream",
          "text": [
            "train Loss: 0.3421 Acc: 0.8826\n",
            "valid Loss: 0.3861 Acc: 0.8669\n",
            "------------------------------\n",
            "\n",
            "Epoch 133/200\n",
            "----------\n"
          ]
        },
        {
          "metadata": {
            "tags": null
          },
          "name": "stderr",
          "output_type": "stream",
          "text": [
            "391it [02:43,  2.39it/s]\n"
          ]
        },
        {
          "metadata": {
            "tags": null
          },
          "name": "stdout",
          "output_type": "stream",
          "text": [
            "train Loss: 0.3409 Acc: 0.8838\n",
            "valid Loss: 0.3768 Acc: 0.8640\n",
            "------------------------------\n",
            "\n",
            "Epoch 134/200\n",
            "----------\n"
          ]
        },
        {
          "metadata": {
            "tags": null
          },
          "name": "stderr",
          "output_type": "stream",
          "text": [
            "391it [02:43,  2.40it/s]\n"
          ]
        },
        {
          "metadata": {
            "tags": null
          },
          "name": "stdout",
          "output_type": "stream",
          "text": [
            "train Loss: 0.3354 Acc: 0.8841\n",
            "valid Loss: 0.4042 Acc: 0.8640\n",
            "------------------------------\n",
            "\n",
            "Epoch 135/200\n",
            "----------\n"
          ]
        },
        {
          "metadata": {
            "tags": null
          },
          "name": "stderr",
          "output_type": "stream",
          "text": [
            "391it [02:43,  2.40it/s]\n"
          ]
        },
        {
          "metadata": {
            "tags": null
          },
          "name": "stdout",
          "output_type": "stream",
          "text": [
            "train Loss: 0.3317 Acc: 0.8868\n",
            "valid Loss: 0.4943 Acc: 0.8385\n",
            "------------------------------\n",
            "\n",
            "Epoch 136/200\n",
            "----------\n"
          ]
        },
        {
          "metadata": {
            "tags": null
          },
          "name": "stderr",
          "output_type": "stream",
          "text": [
            "391it [02:43,  2.39it/s]\n"
          ]
        },
        {
          "metadata": {
            "tags": null
          },
          "name": "stdout",
          "output_type": "stream",
          "text": [
            "train Loss: 0.3320 Acc: 0.8851\n",
            "valid Loss: 0.3866 Acc: 0.8705\n",
            "------------------------------\n",
            "\n",
            "Epoch 137/200\n",
            "----------\n"
          ]
        },
        {
          "metadata": {
            "tags": null
          },
          "name": "stderr",
          "output_type": "stream",
          "text": [
            "391it [02:43,  2.40it/s]\n"
          ]
        },
        {
          "metadata": {
            "tags": null
          },
          "name": "stdout",
          "output_type": "stream",
          "text": [
            "train Loss: 0.3254 Acc: 0.8871\n",
            "valid Loss: 0.3413 Acc: 0.8841\n",
            "------------------------------\n",
            "\n",
            "Epoch 138/200\n",
            "----------\n"
          ]
        },
        {
          "metadata": {
            "tags": null
          },
          "name": "stderr",
          "output_type": "stream",
          "text": [
            "391it [02:43,  2.40it/s]\n"
          ]
        },
        {
          "metadata": {
            "tags": null
          },
          "name": "stdout",
          "output_type": "stream",
          "text": [
            "train Loss: 0.3229 Acc: 0.8906\n",
            "valid Loss: 0.3328 Acc: 0.8863\n",
            "------------------------------\n",
            "\n",
            "Epoch 139/200\n",
            "----------\n"
          ]
        },
        {
          "metadata": {
            "tags": null
          },
          "name": "stderr",
          "output_type": "stream",
          "text": [
            "391it [02:43,  2.40it/s]\n"
          ]
        },
        {
          "metadata": {
            "tags": null
          },
          "name": "stdout",
          "output_type": "stream",
          "text": [
            "train Loss: 0.3164 Acc: 0.8921\n",
            "valid Loss: 0.3726 Acc: 0.8783\n",
            "------------------------------\n",
            "\n",
            "Epoch 140/200\n",
            "----------\n"
          ]
        },
        {
          "metadata": {
            "tags": null
          },
          "name": "stderr",
          "output_type": "stream",
          "text": [
            "391it [02:44,  2.38it/s]\n"
          ]
        },
        {
          "metadata": {
            "tags": null
          },
          "name": "stdout",
          "output_type": "stream",
          "text": [
            "train Loss: 0.3101 Acc: 0.8938\n",
            "valid Loss: 0.6173 Acc: 0.8112\n",
            "------------------------------\n",
            "\n",
            "Epoch 141/200\n",
            "----------\n"
          ]
        },
        {
          "metadata": {
            "tags": null
          },
          "name": "stderr",
          "output_type": "stream",
          "text": [
            "391it [02:43,  2.39it/s]\n"
          ]
        },
        {
          "metadata": {
            "tags": null
          },
          "name": "stdout",
          "output_type": "stream",
          "text": [
            "train Loss: 0.3121 Acc: 0.8932\n",
            "valid Loss: 0.3600 Acc: 0.8779\n",
            "------------------------------\n",
            "\n",
            "Epoch 142/200\n",
            "----------\n"
          ]
        },
        {
          "metadata": {
            "tags": null
          },
          "name": "stderr",
          "output_type": "stream",
          "text": [
            "391it [02:42,  2.40it/s]\n"
          ]
        },
        {
          "metadata": {
            "tags": null
          },
          "name": "stdout",
          "output_type": "stream",
          "text": [
            "train Loss: 0.3018 Acc: 0.8967\n",
            "valid Loss: 0.4244 Acc: 0.8629\n",
            "------------------------------\n",
            "\n",
            "Epoch 143/200\n",
            "----------\n"
          ]
        },
        {
          "metadata": {
            "tags": null
          },
          "name": "stderr",
          "output_type": "stream",
          "text": [
            "391it [02:43,  2.40it/s]\n"
          ]
        },
        {
          "metadata": {
            "tags": null
          },
          "name": "stdout",
          "output_type": "stream",
          "text": [
            "train Loss: 0.2971 Acc: 0.8982\n",
            "valid Loss: 0.3295 Acc: 0.8911\n",
            "------------------------------\n",
            "\n",
            "Epoch 144/200\n",
            "----------\n"
          ]
        },
        {
          "metadata": {
            "tags": null
          },
          "name": "stderr",
          "output_type": "stream",
          "text": [
            "391it [02:42,  2.40it/s]\n"
          ]
        },
        {
          "metadata": {
            "tags": null
          },
          "name": "stdout",
          "output_type": "stream",
          "text": [
            "train Loss: 0.2920 Acc: 0.8995\n",
            "valid Loss: 0.3598 Acc: 0.8810\n",
            "------------------------------\n",
            "\n",
            "Epoch 145/200\n",
            "----------\n"
          ]
        },
        {
          "metadata": {
            "tags": null
          },
          "name": "stderr",
          "output_type": "stream",
          "text": [
            "391it [02:43,  2.40it/s]\n"
          ]
        },
        {
          "metadata": {
            "tags": null
          },
          "name": "stdout",
          "output_type": "stream",
          "text": [
            "train Loss: 0.2870 Acc: 0.9008\n",
            "valid Loss: 0.3702 Acc: 0.8755\n",
            "------------------------------\n",
            "\n",
            "Epoch 146/200\n",
            "----------\n"
          ]
        },
        {
          "metadata": {
            "tags": null
          },
          "name": "stderr",
          "output_type": "stream",
          "text": [
            "391it [02:42,  2.40it/s]\n"
          ]
        },
        {
          "metadata": {
            "tags": null
          },
          "name": "stdout",
          "output_type": "stream",
          "text": [
            "train Loss: 0.2750 Acc: 0.9068\n",
            "valid Loss: 0.4345 Acc: 0.8613\n",
            "------------------------------\n",
            "\n",
            "Epoch 147/200\n",
            "----------\n"
          ]
        },
        {
          "metadata": {
            "tags": null
          },
          "name": "stderr",
          "output_type": "stream",
          "text": [
            "391it [02:43,  2.39it/s]\n"
          ]
        },
        {
          "metadata": {
            "tags": null
          },
          "name": "stdout",
          "output_type": "stream",
          "text": [
            "train Loss: 0.2752 Acc: 0.9055\n",
            "valid Loss: 0.3295 Acc: 0.8875\n",
            "------------------------------\n",
            "\n",
            "Epoch 148/200\n",
            "----------\n"
          ]
        },
        {
          "metadata": {
            "tags": null
          },
          "name": "stderr",
          "output_type": "stream",
          "text": [
            "391it [02:44,  2.38it/s]\n"
          ]
        },
        {
          "metadata": {
            "tags": null
          },
          "name": "stdout",
          "output_type": "stream",
          "text": [
            "train Loss: 0.2674 Acc: 0.9084\n",
            "valid Loss: 0.3258 Acc: 0.8903\n",
            "------------------------------\n",
            "\n",
            "Epoch 149/200\n",
            "----------\n"
          ]
        },
        {
          "metadata": {
            "tags": null
          },
          "name": "stderr",
          "output_type": "stream",
          "text": [
            "391it [02:44,  2.38it/s]\n"
          ]
        },
        {
          "metadata": {
            "tags": null
          },
          "name": "stdout",
          "output_type": "stream",
          "text": [
            "train Loss: 0.2556 Acc: 0.9123\n",
            "valid Loss: 0.3438 Acc: 0.8830\n",
            "------------------------------\n",
            "\n",
            "Epoch 150/200\n",
            "----------\n"
          ]
        },
        {
          "metadata": {
            "tags": null
          },
          "name": "stderr",
          "output_type": "stream",
          "text": [
            "391it [02:44,  2.38it/s]\n"
          ]
        },
        {
          "metadata": {
            "tags": null
          },
          "name": "stdout",
          "output_type": "stream",
          "text": [
            "train Loss: 0.2544 Acc: 0.9131\n",
            "valid Loss: 0.3366 Acc: 0.8871\n",
            "------------------------------\n",
            "\n",
            "Epoch 151/200\n",
            "----------\n"
          ]
        },
        {
          "metadata": {
            "tags": null
          },
          "name": "stderr",
          "output_type": "stream",
          "text": [
            "391it [02:43,  2.39it/s]\n"
          ]
        },
        {
          "metadata": {
            "tags": null
          },
          "name": "stdout",
          "output_type": "stream",
          "text": [
            "train Loss: 0.2445 Acc: 0.9158\n",
            "valid Loss: 0.2806 Acc: 0.9055\n",
            "------------------------------\n",
            "\n",
            "Epoch 152/200\n",
            "----------\n"
          ]
        },
        {
          "metadata": {
            "tags": null
          },
          "name": "stderr",
          "output_type": "stream",
          "text": [
            "391it [02:43,  2.39it/s]\n"
          ]
        },
        {
          "metadata": {
            "tags": null
          },
          "name": "stdout",
          "output_type": "stream",
          "text": [
            "train Loss: 0.2325 Acc: 0.9203\n",
            "valid Loss: 0.3058 Acc: 0.9003\n",
            "------------------------------\n",
            "\n",
            "Epoch 153/200\n",
            "----------\n"
          ]
        },
        {
          "metadata": {
            "tags": null
          },
          "name": "stderr",
          "output_type": "stream",
          "text": [
            "391it [02:44,  2.38it/s]\n"
          ]
        },
        {
          "metadata": {
            "tags": null
          },
          "name": "stdout",
          "output_type": "stream",
          "text": [
            "train Loss: 0.2278 Acc: 0.9212\n",
            "valid Loss: 0.2847 Acc: 0.9061\n",
            "------------------------------\n",
            "\n",
            "Epoch 154/200\n",
            "----------\n"
          ]
        },
        {
          "metadata": {
            "tags": null
          },
          "name": "stderr",
          "output_type": "stream",
          "text": [
            "391it [02:49,  2.31it/s]\n"
          ]
        },
        {
          "metadata": {
            "tags": null
          },
          "name": "stdout",
          "output_type": "stream",
          "text": [
            "train Loss: 0.2181 Acc: 0.9246\n",
            "valid Loss: 0.3610 Acc: 0.8865\n",
            "------------------------------\n",
            "\n",
            "Epoch 155/200\n",
            "----------\n"
          ]
        },
        {
          "metadata": {
            "tags": null
          },
          "name": "stderr",
          "output_type": "stream",
          "text": [
            "391it [02:46,  2.35it/s]\n"
          ]
        },
        {
          "metadata": {
            "tags": null
          },
          "name": "stdout",
          "output_type": "stream",
          "text": [
            "train Loss: 0.2063 Acc: 0.9285\n",
            "valid Loss: 0.2619 Acc: 0.9110\n",
            "------------------------------\n",
            "\n",
            "Epoch 156/200\n",
            "----------\n"
          ]
        },
        {
          "metadata": {
            "tags": null
          },
          "name": "stderr",
          "output_type": "stream",
          "text": [
            "391it [02:58,  2.19it/s]\n"
          ]
        },
        {
          "metadata": {
            "tags": null
          },
          "name": "stdout",
          "output_type": "stream",
          "text": [
            "train Loss: 0.1986 Acc: 0.9314\n",
            "valid Loss: 0.2414 Acc: 0.9192\n",
            "------------------------------\n",
            "\n",
            "Epoch 157/200\n",
            "----------\n"
          ]
        },
        {
          "metadata": {
            "tags": null
          },
          "name": "stderr",
          "output_type": "stream",
          "text": [
            "391it [02:58,  2.19it/s]\n"
          ]
        },
        {
          "metadata": {
            "tags": null
          },
          "name": "stdout",
          "output_type": "stream",
          "text": [
            "train Loss: 0.1904 Acc: 0.9353\n",
            "valid Loss: 0.2362 Acc: 0.9235\n",
            "------------------------------\n",
            "\n",
            "Epoch 158/200\n",
            "----------\n"
          ]
        },
        {
          "metadata": {
            "tags": null
          },
          "name": "stderr",
          "output_type": "stream",
          "text": [
            "391it [02:58,  2.19it/s]\n"
          ]
        },
        {
          "metadata": {
            "tags": null
          },
          "name": "stdout",
          "output_type": "stream",
          "text": [
            "train Loss: 0.1772 Acc: 0.9383\n",
            "valid Loss: 0.2557 Acc: 0.9147\n",
            "------------------------------\n",
            "\n",
            "Epoch 159/200\n",
            "----------\n"
          ]
        },
        {
          "metadata": {
            "tags": null
          },
          "name": "stderr",
          "output_type": "stream",
          "text": [
            "391it [02:58,  2.20it/s]\n"
          ]
        },
        {
          "metadata": {
            "tags": null
          },
          "name": "stdout",
          "output_type": "stream",
          "text": [
            "train Loss: 0.1755 Acc: 0.9405\n",
            "valid Loss: 0.2587 Acc: 0.9157\n",
            "------------------------------\n",
            "\n",
            "Epoch 160/200\n",
            "----------\n"
          ]
        },
        {
          "metadata": {
            "tags": null
          },
          "name": "stderr",
          "output_type": "stream",
          "text": [
            "391it [02:58,  2.20it/s]\n"
          ]
        },
        {
          "metadata": {
            "tags": null
          },
          "name": "stdout",
          "output_type": "stream",
          "text": [
            "train Loss: 0.1581 Acc: 0.9473\n",
            "valid Loss: 0.2369 Acc: 0.9211\n",
            "------------------------------\n",
            "\n",
            "Epoch 161/200\n",
            "----------\n"
          ]
        },
        {
          "metadata": {
            "tags": null
          },
          "name": "stderr",
          "output_type": "stream",
          "text": [
            "391it [02:46,  2.34it/s]\n"
          ]
        },
        {
          "metadata": {
            "tags": null
          },
          "name": "stdout",
          "output_type": "stream",
          "text": [
            "train Loss: 0.1543 Acc: 0.9465\n",
            "valid Loss: 0.2215 Acc: 0.9283\n",
            "------------------------------\n",
            "\n",
            "Epoch 162/200\n",
            "----------\n"
          ]
        },
        {
          "metadata": {
            "tags": null
          },
          "name": "stderr",
          "output_type": "stream",
          "text": [
            "391it [02:45,  2.37it/s]\n"
          ]
        },
        {
          "metadata": {
            "tags": null
          },
          "name": "stdout",
          "output_type": "stream",
          "text": [
            "train Loss: 0.1405 Acc: 0.9522\n",
            "valid Loss: 0.2085 Acc: 0.9311\n",
            "------------------------------\n",
            "\n",
            "Epoch 163/200\n",
            "----------\n"
          ]
        },
        {
          "metadata": {
            "tags": null
          },
          "name": "stderr",
          "output_type": "stream",
          "text": [
            "391it [02:43,  2.39it/s]\n"
          ]
        },
        {
          "metadata": {
            "tags": null
          },
          "name": "stdout",
          "output_type": "stream",
          "text": [
            "train Loss: 0.1312 Acc: 0.9555\n",
            "valid Loss: 0.2001 Acc: 0.9343\n",
            "------------------------------\n",
            "\n",
            "Epoch 164/200\n",
            "----------\n"
          ]
        },
        {
          "metadata": {
            "tags": null
          },
          "name": "stderr",
          "output_type": "stream",
          "text": [
            "391it [02:43,  2.39it/s]\n"
          ]
        },
        {
          "metadata": {
            "tags": null
          },
          "name": "stdout",
          "output_type": "stream",
          "text": [
            "train Loss: 0.1228 Acc: 0.9591\n",
            "valid Loss: 0.2105 Acc: 0.9328\n",
            "------------------------------\n",
            "\n",
            "Epoch 165/200\n",
            "----------\n"
          ]
        },
        {
          "metadata": {
            "tags": null
          },
          "name": "stderr",
          "output_type": "stream",
          "text": [
            "391it [02:43,  2.39it/s]\n"
          ]
        },
        {
          "metadata": {
            "tags": null
          },
          "name": "stdout",
          "output_type": "stream",
          "text": [
            "train Loss: 0.1080 Acc: 0.9636\n",
            "valid Loss: 0.2051 Acc: 0.9360\n",
            "------------------------------\n",
            "\n",
            "Epoch 166/200\n",
            "----------\n"
          ]
        },
        {
          "metadata": {
            "tags": null
          },
          "name": "stderr",
          "output_type": "stream",
          "text": [
            "391it [02:43,  2.39it/s]\n"
          ]
        },
        {
          "metadata": {
            "tags": null
          },
          "name": "stdout",
          "output_type": "stream",
          "text": [
            "train Loss: 0.0986 Acc: 0.9671\n",
            "valid Loss: 0.1923 Acc: 0.9363\n",
            "------------------------------\n",
            "\n",
            "Epoch 167/200\n",
            "----------\n"
          ]
        },
        {
          "metadata": {
            "tags": null
          },
          "name": "stderr",
          "output_type": "stream",
          "text": [
            "391it [02:43,  2.40it/s]\n"
          ]
        },
        {
          "metadata": {
            "tags": null
          },
          "name": "stdout",
          "output_type": "stream",
          "text": [
            "train Loss: 0.0881 Acc: 0.9706\n",
            "valid Loss: 0.1788 Acc: 0.9440\n",
            "------------------------------\n",
            "\n",
            "Epoch 168/200\n",
            "----------\n"
          ]
        },
        {
          "metadata": {
            "tags": null
          },
          "name": "stderr",
          "output_type": "stream",
          "text": [
            "391it [02:42,  2.40it/s]\n"
          ]
        },
        {
          "metadata": {
            "tags": null
          },
          "name": "stdout",
          "output_type": "stream",
          "text": [
            "train Loss: 0.0807 Acc: 0.9734\n",
            "valid Loss: 0.1645 Acc: 0.9455\n",
            "------------------------------\n",
            "\n",
            "Epoch 169/200\n",
            "----------\n"
          ]
        },
        {
          "metadata": {
            "tags": null
          },
          "name": "stderr",
          "output_type": "stream",
          "text": [
            "391it [02:43,  2.40it/s]\n"
          ]
        },
        {
          "metadata": {
            "tags": null
          },
          "name": "stdout",
          "output_type": "stream",
          "text": [
            "train Loss: 0.0696 Acc: 0.9772\n",
            "valid Loss: 0.1788 Acc: 0.9416\n",
            "------------------------------\n",
            "\n",
            "Epoch 170/200\n",
            "----------\n"
          ]
        },
        {
          "metadata": {
            "tags": null
          },
          "name": "stderr",
          "output_type": "stream",
          "text": [
            "391it [02:43,  2.40it/s]\n"
          ]
        },
        {
          "metadata": {
            "tags": null
          },
          "name": "stdout",
          "output_type": "stream",
          "text": [
            "train Loss: 0.0618 Acc: 0.9798\n",
            "valid Loss: 0.1514 Acc: 0.9519\n",
            "------------------------------\n",
            "\n",
            "Epoch 171/200\n",
            "----------\n"
          ]
        },
        {
          "metadata": {
            "tags": null
          },
          "name": "stderr",
          "output_type": "stream",
          "text": [
            "391it [02:43,  2.39it/s]\n"
          ]
        },
        {
          "metadata": {
            "tags": null
          },
          "name": "stdout",
          "output_type": "stream",
          "text": [
            "train Loss: 0.0564 Acc: 0.9816\n",
            "valid Loss: 0.1476 Acc: 0.9541\n",
            "------------------------------\n",
            "\n",
            "Epoch 172/200\n",
            "----------\n"
          ]
        },
        {
          "metadata": {
            "tags": null
          },
          "name": "stderr",
          "output_type": "stream",
          "text": [
            "391it [02:43,  2.40it/s]\n"
          ]
        },
        {
          "metadata": {
            "tags": null
          },
          "name": "stdout",
          "output_type": "stream",
          "text": [
            "train Loss: 0.0474 Acc: 0.9844\n",
            "valid Loss: 0.1572 Acc: 0.9498\n",
            "------------------------------\n",
            "\n",
            "Epoch 173/200\n",
            "----------\n"
          ]
        },
        {
          "metadata": {
            "tags": null
          },
          "name": "stderr",
          "output_type": "stream",
          "text": [
            "391it [02:43,  2.39it/s]\n"
          ]
        },
        {
          "metadata": {
            "tags": null
          },
          "name": "stdout",
          "output_type": "stream",
          "text": [
            "train Loss: 0.0409 Acc: 0.9871\n",
            "valid Loss: 0.1519 Acc: 0.9521\n",
            "------------------------------\n",
            "\n",
            "Epoch 174/200\n",
            "----------\n"
          ]
        },
        {
          "metadata": {
            "tags": null
          },
          "name": "stderr",
          "output_type": "stream",
          "text": [
            "391it [02:42,  2.40it/s]\n"
          ]
        },
        {
          "metadata": {
            "tags": null
          },
          "name": "stdout",
          "output_type": "stream",
          "text": [
            "train Loss: 0.0367 Acc: 0.9884\n",
            "valid Loss: 0.1468 Acc: 0.9549\n",
            "------------------------------\n",
            "\n",
            "Epoch 175/200\n",
            "----------\n"
          ]
        },
        {
          "metadata": {
            "tags": null
          },
          "name": "stderr",
          "output_type": "stream",
          "text": [
            "391it [02:43,  2.40it/s]\n"
          ]
        },
        {
          "metadata": {
            "tags": null
          },
          "name": "stdout",
          "output_type": "stream",
          "text": [
            "train Loss: 0.0295 Acc: 0.9916\n",
            "valid Loss: 0.1440 Acc: 0.9569\n",
            "Saving model...\n",
            "------------------------------\n",
            "\n",
            "Epoch 176/200\n",
            "----------\n"
          ]
        },
        {
          "metadata": {
            "tags": null
          },
          "name": "stderr",
          "output_type": "stream",
          "text": [
            "391it [02:43,  2.39it/s]\n"
          ]
        },
        {
          "metadata": {
            "tags": null
          },
          "name": "stdout",
          "output_type": "stream",
          "text": [
            "train Loss: 0.0313 Acc: 0.9910\n",
            "valid Loss: 0.1418 Acc: 0.9576\n",
            "Saving model...\n",
            "------------------------------\n",
            "\n",
            "Epoch 177/200\n",
            "----------\n"
          ]
        },
        {
          "metadata": {
            "tags": null
          },
          "name": "stderr",
          "output_type": "stream",
          "text": [
            "391it [02:44,  2.38it/s]\n"
          ]
        },
        {
          "metadata": {
            "tags": null
          },
          "name": "stdout",
          "output_type": "stream",
          "text": [
            "train Loss: 0.0294 Acc: 0.9907\n",
            "valid Loss: 0.1397 Acc: 0.9578\n",
            "Saving model...\n",
            "------------------------------\n",
            "\n",
            "Epoch 178/200\n",
            "----------\n"
          ]
        },
        {
          "metadata": {
            "tags": null
          },
          "name": "stderr",
          "output_type": "stream",
          "text": [
            "391it [02:43,  2.39it/s]\n"
          ]
        },
        {
          "metadata": {
            "tags": null
          },
          "name": "stdout",
          "output_type": "stream",
          "text": [
            "train Loss: 0.0274 Acc: 0.9919\n",
            "valid Loss: 0.1381 Acc: 0.9585\n",
            "Saving model...\n",
            "------------------------------\n",
            "\n",
            "Epoch 179/200\n",
            "----------\n"
          ]
        },
        {
          "output_type": "stream",
          "name": "stderr",
          "text": [
            "391it [02:44,  2.38it/s]\n"
          ]
        },
        {
          "output_type": "stream",
          "name": "stdout",
          "text": [
            "train Loss: 0.0273 Acc: 0.9916\n",
            "valid Loss: 0.1383 Acc: 0.9589\n",
            "Saving model...\n",
            "------------------------------\n",
            "\n",
            "Epoch 180/200\n",
            "----------\n"
          ]
        },
        {
          "output_type": "stream",
          "name": "stderr",
          "text": [
            "391it [02:44,  2.37it/s]\n"
          ]
        },
        {
          "output_type": "stream",
          "name": "stdout",
          "text": [
            "train Loss: 0.0287 Acc: 0.9913\n",
            "valid Loss: 0.1375 Acc: 0.9586\n",
            "------------------------------\n",
            "\n",
            "Epoch 181/200\n",
            "----------\n"
          ]
        },
        {
          "output_type": "stream",
          "name": "stderr",
          "text": [
            "391it [02:43,  2.39it/s]\n"
          ]
        },
        {
          "output_type": "stream",
          "name": "stdout",
          "text": [
            "train Loss: 0.0270 Acc: 0.9919\n",
            "valid Loss: 0.1385 Acc: 0.9580\n",
            "------------------------------\n",
            "\n",
            "Epoch 182/200\n",
            "----------\n"
          ]
        },
        {
          "output_type": "stream",
          "name": "stderr",
          "text": [
            "391it [02:43,  2.39it/s]\n"
          ]
        },
        {
          "output_type": "stream",
          "name": "stdout",
          "text": [
            "train Loss: 0.0256 Acc: 0.9928\n",
            "valid Loss: 0.1381 Acc: 0.9580\n",
            "------------------------------\n",
            "\n",
            "Epoch 183/200\n",
            "----------\n"
          ]
        },
        {
          "output_type": "stream",
          "name": "stderr",
          "text": [
            "391it [02:44,  2.38it/s]\n"
          ]
        },
        {
          "output_type": "stream",
          "name": "stdout",
          "text": [
            "train Loss: 0.0258 Acc: 0.9929\n",
            "valid Loss: 0.1391 Acc: 0.9576\n",
            "------------------------------\n",
            "\n",
            "Epoch 184/200\n",
            "----------\n"
          ]
        },
        {
          "output_type": "stream",
          "name": "stderr",
          "text": [
            "391it [02:43,  2.39it/s]\n"
          ]
        },
        {
          "output_type": "stream",
          "name": "stdout",
          "text": [
            "train Loss: 0.0269 Acc: 0.9922\n",
            "valid Loss: 0.1383 Acc: 0.9577\n",
            "------------------------------\n",
            "\n",
            "Epoch 185/200\n",
            "----------\n"
          ]
        },
        {
          "output_type": "stream",
          "name": "stderr",
          "text": [
            "391it [02:44,  2.38it/s]\n"
          ]
        },
        {
          "output_type": "stream",
          "name": "stdout",
          "text": [
            "train Loss: 0.0268 Acc: 0.9922\n",
            "valid Loss: 0.1396 Acc: 0.9584\n",
            "------------------------------\n",
            "\n",
            "Epoch 186/200\n",
            "----------\n"
          ]
        },
        {
          "output_type": "stream",
          "name": "stderr",
          "text": [
            "391it [02:44,  2.37it/s]\n"
          ]
        },
        {
          "output_type": "stream",
          "name": "stdout",
          "text": [
            "train Loss: 0.0274 Acc: 0.9918\n",
            "valid Loss: 0.1424 Acc: 0.9580\n",
            "------------------------------\n",
            "\n",
            "Epoch 187/200\n",
            "----------\n"
          ]
        },
        {
          "output_type": "stream",
          "name": "stderr",
          "text": [
            "391it [02:45,  2.37it/s]\n"
          ]
        },
        {
          "output_type": "stream",
          "name": "stdout",
          "text": [
            "train Loss: 0.0281 Acc: 0.9917\n",
            "valid Loss: 0.1478 Acc: 0.9559\n",
            "------------------------------\n",
            "\n",
            "Epoch 188/200\n",
            "----------\n"
          ]
        },
        {
          "output_type": "stream",
          "name": "stderr",
          "text": [
            "391it [02:45,  2.37it/s]\n"
          ]
        },
        {
          "output_type": "stream",
          "name": "stdout",
          "text": [
            "train Loss: 0.0297 Acc: 0.9912\n",
            "valid Loss: 0.1489 Acc: 0.9560\n",
            "------------------------------\n",
            "\n",
            "Epoch 189/200\n",
            "----------\n"
          ]
        },
        {
          "output_type": "stream",
          "name": "stderr",
          "text": [
            "391it [02:45,  2.36it/s]\n"
          ]
        },
        {
          "output_type": "stream",
          "name": "stdout",
          "text": [
            "train Loss: 0.0330 Acc: 0.9897\n",
            "valid Loss: 0.1437 Acc: 0.9569\n",
            "------------------------------\n",
            "\n",
            "Epoch 190/200\n",
            "----------\n"
          ]
        },
        {
          "output_type": "stream",
          "name": "stderr",
          "text": [
            "391it [02:45,  2.37it/s]\n"
          ]
        },
        {
          "output_type": "stream",
          "name": "stdout",
          "text": [
            "train Loss: 0.0392 Acc: 0.9877\n",
            "valid Loss: 0.1552 Acc: 0.9522\n",
            "------------------------------\n",
            "\n",
            "Epoch 191/200\n",
            "----------\n"
          ]
        },
        {
          "output_type": "stream",
          "name": "stderr",
          "text": [
            "391it [02:45,  2.37it/s]\n"
          ]
        },
        {
          "output_type": "stream",
          "name": "stdout",
          "text": [
            "train Loss: 0.0458 Acc: 0.9853\n",
            "valid Loss: 0.1673 Acc: 0.9494\n",
            "------------------------------\n",
            "\n",
            "Epoch 192/200\n",
            "----------\n"
          ]
        },
        {
          "output_type": "stream",
          "name": "stderr",
          "text": [
            "391it [02:44,  2.37it/s]\n"
          ]
        },
        {
          "output_type": "stream",
          "name": "stdout",
          "text": [
            "train Loss: 0.0582 Acc: 0.9816\n",
            "valid Loss: 0.1898 Acc: 0.9424\n",
            "------------------------------\n",
            "\n",
            "Epoch 193/200\n",
            "----------\n"
          ]
        },
        {
          "output_type": "stream",
          "name": "stderr",
          "text": [
            "391it [02:45,  2.37it/s]\n"
          ]
        },
        {
          "output_type": "stream",
          "name": "stdout",
          "text": [
            "train Loss: 0.0725 Acc: 0.9756\n",
            "valid Loss: 0.1871 Acc: 0.9440\n",
            "------------------------------\n",
            "\n",
            "Epoch 194/200\n",
            "----------\n"
          ]
        },
        {
          "output_type": "stream",
          "name": "stderr",
          "text": [
            "391it [02:44,  2.37it/s]\n"
          ]
        },
        {
          "output_type": "stream",
          "name": "stdout",
          "text": [
            "train Loss: 0.0883 Acc: 0.9706\n",
            "valid Loss: 0.2190 Acc: 0.9335\n",
            "------------------------------\n",
            "\n",
            "Epoch 195/200\n",
            "----------\n"
          ]
        },
        {
          "output_type": "stream",
          "name": "stderr",
          "text": [
            "391it [02:45,  2.37it/s]\n"
          ]
        },
        {
          "output_type": "stream",
          "name": "stdout",
          "text": [
            "train Loss: 0.1050 Acc: 0.9651\n",
            "valid Loss: 0.2155 Acc: 0.9322\n",
            "------------------------------\n",
            "\n",
            "Epoch 196/200\n",
            "----------\n"
          ]
        },
        {
          "output_type": "stream",
          "name": "stderr",
          "text": [
            "391it [02:44,  2.37it/s]\n"
          ]
        },
        {
          "output_type": "stream",
          "name": "stdout",
          "text": [
            "train Loss: 0.1293 Acc: 0.9561\n",
            "valid Loss: 0.2130 Acc: 0.9330\n",
            "------------------------------\n",
            "\n",
            "Epoch 197/200\n",
            "----------\n"
          ]
        },
        {
          "output_type": "stream",
          "name": "stderr",
          "text": [
            "391it [02:45,  2.36it/s]\n"
          ]
        },
        {
          "output_type": "stream",
          "name": "stdout",
          "text": [
            "train Loss: 0.1404 Acc: 0.9517\n",
            "valid Loss: 0.2632 Acc: 0.9165\n",
            "------------------------------\n",
            "\n",
            "Epoch 198/200\n",
            "----------\n"
          ]
        },
        {
          "output_type": "stream",
          "name": "stderr",
          "text": [
            "391it [02:45,  2.36it/s]\n"
          ]
        },
        {
          "output_type": "stream",
          "name": "stdout",
          "text": [
            "train Loss: 0.1532 Acc: 0.9480\n",
            "valid Loss: 0.2714 Acc: 0.9153\n",
            "------------------------------\n",
            "\n",
            "Epoch 199/200\n",
            "----------\n"
          ]
        },
        {
          "output_type": "stream",
          "name": "stderr",
          "text": [
            "391it [02:45,  2.37it/s]\n"
          ]
        },
        {
          "output_type": "stream",
          "name": "stdout",
          "text": [
            "train Loss: 0.1720 Acc: 0.9417\n",
            "valid Loss: 0.2567 Acc: 0.9146\n",
            "------------------------------\n",
            "\n",
            "Epoch 200/200\n",
            "----------\n"
          ]
        },
        {
          "output_type": "stream",
          "name": "stderr",
          "text": [
            "391it [02:44,  2.38it/s]\n"
          ]
        },
        {
          "output_type": "stream",
          "name": "stdout",
          "text": [
            "train Loss: 0.1750 Acc: 0.9407\n",
            "valid Loss: 0.2727 Acc: 0.9142\n",
            "------------------------------\n",
            "\n",
            "Best model saved.\n",
            "Training complete in 578m 19s\n",
            "Best val Acc: 0.958900\n"
          ]
        },
        {
          "output_type": "display_data",
          "data": {
            "text/plain": [
              "<IPython.core.display.HTML object>"
            ],
            "text/html": [
              "Waiting for W&B process to finish... <strong style=\"color:green\">(success).</strong>"
            ]
          },
          "metadata": {}
        },
        {
          "output_type": "display_data",
          "data": {
            "text/plain": [
              "VBox(children=(Label(value='0.001 MB of 0.001 MB uploaded (0.000 MB deduped)\\r'), FloatProgress(value=1.0, max…"
            ],
            "application/vnd.jupyter.widget-view+json": {
              "version_major": 2,
              "version_minor": 0,
              "model_id": "e641a3850518426d9316f303b3acb4f1"
            }
          },
          "metadata": {}
        },
        {
          "output_type": "display_data",
          "data": {
            "text/plain": [
              "<IPython.core.display.HTML object>"
            ],
            "text/html": [
              "<style>\n",
              "    table.wandb td:nth-child(1) { padding: 0 10px; text-align: right }\n",
              "    .wandb-row { display: flex; flex-direction: row; flex-wrap: wrap; width: 100% }\n",
              "    .wandb-col { display: flex; flex-direction: column; flex-basis: 100%; flex: 1; padding: 10px; }\n",
              "    </style>\n",
              "<div class=\"wandb-row\"><div class=\"wandb-col\"><h3>Run history:</h3><br/><table class=\"wandb\"><tr><td>Train - acc</td><td>▁▅▆▆▆▆▇▇▇██████▇▇▇▇▇▆▆▆▆▆▆▆▆▇▇▇▇███████▇</td></tr><tr><td>Train - loss</td><td>█▄▄▄▃▃▃▃▂▂▁▁▁▁▁▂▂▃▂▃▃▃▃▄▃▃▄▃▃▂▂▂▁▁▁▁▁▁▂▁</td></tr><tr><td>Valid - acc</td><td>▁▄▆▆▆▆▆▇▇██████▇▇▇▆▇▆▆▆▆▆▆▆▇▆▇▇▇▇██████▇</td></tr><tr><td>Valid - loss</td><td>█▅▃▃▃▃▃▂▂▁▁▁▁▁▁▂▂▂▃▂▃▃▃▃▃▃▃▂▃▂▃▂▂▁▁▁▁▁▂▂</td></tr></table><br/></div><div class=\"wandb-col\"><h3>Run summary:</h3><br/><table class=\"wandb\"><tr><td>Train - acc</td><td>0.9407</td></tr><tr><td>Train - loss</td><td>0.06109</td></tr><tr><td>Valid - acc</td><td>0.9142</td></tr><tr><td>Valid - loss</td><td>0.27268</td></tr></table><br/></div></div>"
            ]
          },
          "metadata": {}
        },
        {
          "output_type": "display_data",
          "data": {
            "text/plain": [
              "<IPython.core.display.HTML object>"
            ],
            "text/html": [
              "Synced <strong style=\"color:#cdcd00\">rare-plasma-126</strong>: <a href=\"https://wandb.ai/inf8225_ym_at/INF8225%20-%20Projet%20final/runs/y05p7m1h\" target=\"_blank\">https://wandb.ai/inf8225_ym_at/INF8225%20-%20Projet%20final/runs/y05p7m1h</a><br/>Synced 5 W&B file(s), 0 media file(s), 0 artifact file(s) and 1 other file(s)"
            ]
          },
          "metadata": {}
        },
        {
          "output_type": "display_data",
          "data": {
            "text/plain": [
              "<IPython.core.display.HTML object>"
            ],
            "text/html": [
              "Find logs at: <code>./wandb/run-20220426_210657-y05p7m1h/logs</code>"
            ]
          },
          "metadata": {}
        }
      ]
    },
    {
      "cell_type": "markdown",
      "source": [
        "#### cifar100"
      ],
      "metadata": {
        "id": "8omF1PoLdWW_"
      }
    },
    {
      "cell_type": "code",
      "source": [
        "config['model_name'] = 'densenet'\n",
        "config['dataset_name'] = 'cifar100' # mnist cifar10 cifar100\n"
      ],
      "metadata": {
        "id": "_n4qoB_RdWW_"
      },
      "execution_count": null,
      "outputs": []
    },
    {
      "cell_type": "code",
      "source": [
        "# Initialize the model for this run\n",
        "model_ft, input_size = initialize_model(config['model_name'], config['dataset_name'])\n",
        "\n",
        "# Print the model we just instantiated\n",
        "# summary(model_ft)\n",
        "\n",
        "# Observe that all parameters are being optimized\n",
        "optimizer_ft = optim.SGD(model_ft.parameters(), lr=config['lr'], momentum=0.9, weight_decay = 0.0005, nesterov = True)\n",
        "scheduler_ft = CosineAnnealingLR(optimizer_ft, T_max = 60, eta_min = 1e-6 )\n",
        "\n",
        "# Setup the loss fxn\n",
        "criterion = nn.CrossEntropyLoss()\n",
        "\n",
        "# Train and evaluate\n",
        "model_ft = model_ft.to(device)\n",
        "\n",
        "with wandb.init(\n",
        "        config=config,\n",
        "        project='INF8225 - Projet final',  # Title of your project\n",
        "        entity = 'inf8225_ym_at', \n",
        "        group= 'densenet121_cifar100_AugMix',  # In what group of runs do you want this run to be in?\n",
        "        save_code=True,\n",
        "    ):\n",
        "  model_ft, hist = train_model(model_ft, CIFAR100_trainloader, CIFAR100_testloader, criterion, optimizer_ft, scheduler_ft, num_epochs=config['epochs'], DAmethod = 'Baseline', datasetname = config['dataset_name'], jsd_loss = jsd_loss)"
      ],
      "metadata": {
        "colab": {
          "base_uri": "https://localhost:8080/",
          "height": 1000,
          "referenced_widgets": [
            "d46425de3c6c406db7d595c182f860c9",
            "13c303113f8d403ea31f0f47f68285d4",
            "cd22940e047043cb8bea0ec9058bd8b6",
            "b3caeb878a5f45eeb05558dd5642d383",
            "f5bd85058bfd481099f9af9107b9f22c",
            "37b6a38e35614e1abebee65f9fbc0728",
            "ea5284b8ac8746ee82d9649d06f7f7a9",
            "ba25924f1d2d4a00bff2b56bc4a73104"
          ]
        },
        "id": "BSEO-705dWW_",
        "outputId": "730797ce-dc51-4adc-c76b-4ecbfdc0c3d8"
      },
      "execution_count": null,
      "outputs": [
        {
          "output_type": "display_data",
          "data": {
            "text/plain": [
              "<IPython.core.display.HTML object>"
            ],
            "text/html": [
              "Tracking run with wandb version 0.12.15"
            ]
          },
          "metadata": {}
        },
        {
          "output_type": "display_data",
          "data": {
            "text/plain": [
              "<IPython.core.display.HTML object>"
            ],
            "text/html": [
              "Run data is saved locally in <code>/content/wandb/run-20220427_064604-31xzf3xt</code>"
            ]
          },
          "metadata": {}
        },
        {
          "output_type": "display_data",
          "data": {
            "text/plain": [
              "<IPython.core.display.HTML object>"
            ],
            "text/html": [
              "Syncing run <strong><a href=\"https://wandb.ai/inf8225_ym_at/INF8225%20-%20Projet%20final/runs/31xzf3xt\" target=\"_blank\">woven-brook-127</a></strong> to <a href=\"https://wandb.ai/inf8225_ym_at/INF8225%20-%20Projet%20final\" target=\"_blank\">Weights & Biases</a> (<a href=\"https://wandb.me/run\" target=\"_blank\">docs</a>)<br/>"
            ]
          },
          "metadata": {}
        },
        {
          "output_type": "stream",
          "name": "stdout",
          "text": [
            "Epoch 1/200\n",
            "----------\n"
          ]
        },
        {
          "output_type": "stream",
          "name": "stderr",
          "text": [
            "391it [02:43,  2.39it/s]\n"
          ]
        },
        {
          "output_type": "stream",
          "name": "stdout",
          "text": [
            "train Loss: 3.9552 Acc: 0.0942\n",
            "valid Loss: 3.4223 Acc: 0.1742\n",
            "Saving model...\n",
            "------------------------------\n",
            "\n",
            "Epoch 2/200\n",
            "----------\n"
          ]
        },
        {
          "output_type": "stream",
          "name": "stderr",
          "text": [
            "391it [02:44,  2.38it/s]\n"
          ]
        },
        {
          "output_type": "stream",
          "name": "stdout",
          "text": [
            "train Loss: 3.1953 Acc: 0.2127\n",
            "valid Loss: 2.8311 Acc: 0.2759\n",
            "Saving model...\n",
            "------------------------------\n",
            "\n",
            "Epoch 3/200\n",
            "----------\n"
          ]
        },
        {
          "output_type": "stream",
          "name": "stderr",
          "text": [
            "391it [02:44,  2.38it/s]\n"
          ]
        },
        {
          "output_type": "stream",
          "name": "stdout",
          "text": [
            "train Loss: 2.5711 Acc: 0.3304\n",
            "valid Loss: 2.7228 Acc: 0.3108\n",
            "Saving model...\n",
            "------------------------------\n",
            "\n",
            "Epoch 4/200\n",
            "----------\n"
          ]
        },
        {
          "output_type": "stream",
          "name": "stderr",
          "text": [
            "391it [02:44,  2.37it/s]\n"
          ]
        },
        {
          "output_type": "stream",
          "name": "stdout",
          "text": [
            "train Loss: 2.2370 Acc: 0.4029\n",
            "valid Loss: 2.0857 Acc: 0.4332\n",
            "Saving model...\n",
            "------------------------------\n",
            "\n",
            "Epoch 5/200\n",
            "----------\n"
          ]
        },
        {
          "output_type": "stream",
          "name": "stderr",
          "text": [
            "391it [02:44,  2.37it/s]\n"
          ]
        },
        {
          "output_type": "stream",
          "name": "stdout",
          "text": [
            "train Loss: 2.0204 Acc: 0.4533\n",
            "valid Loss: 1.9384 Acc: 0.4754\n",
            "Saving model...\n",
            "------------------------------\n",
            "\n",
            "Epoch 6/200\n",
            "----------\n"
          ]
        },
        {
          "output_type": "stream",
          "name": "stderr",
          "text": [
            "391it [02:45,  2.37it/s]\n"
          ]
        },
        {
          "output_type": "stream",
          "name": "stdout",
          "text": [
            "train Loss: 1.8819 Acc: 0.4819\n",
            "valid Loss: 1.9183 Acc: 0.4784\n",
            "Saving model...\n",
            "------------------------------\n",
            "\n",
            "Epoch 7/200\n",
            "----------\n"
          ]
        },
        {
          "output_type": "stream",
          "name": "stderr",
          "text": [
            "391it [02:45,  2.37it/s]\n"
          ]
        },
        {
          "output_type": "stream",
          "name": "stdout",
          "text": [
            "train Loss: 1.7449 Acc: 0.5208\n",
            "valid Loss: 1.8188 Acc: 0.5056\n",
            "Saving model...\n",
            "------------------------------\n",
            "\n",
            "Epoch 8/200\n",
            "----------\n"
          ]
        },
        {
          "output_type": "stream",
          "name": "stderr",
          "text": [
            "391it [02:44,  2.37it/s]\n"
          ]
        },
        {
          "output_type": "stream",
          "name": "stdout",
          "text": [
            "train Loss: 1.6591 Acc: 0.5385\n",
            "valid Loss: 1.7332 Acc: 0.5303\n",
            "Saving model...\n",
            "------------------------------\n",
            "\n",
            "Epoch 9/200\n",
            "----------\n"
          ]
        },
        {
          "output_type": "stream",
          "name": "stderr",
          "text": [
            "391it [02:43,  2.39it/s]\n"
          ]
        },
        {
          "output_type": "stream",
          "name": "stdout",
          "text": [
            "train Loss: 1.5871 Acc: 0.5568\n",
            "valid Loss: 1.5930 Acc: 0.5532\n",
            "Saving model...\n",
            "------------------------------\n",
            "\n",
            "Epoch 10/200\n",
            "----------\n"
          ]
        },
        {
          "output_type": "stream",
          "name": "stderr",
          "text": [
            "391it [02:43,  2.39it/s]\n"
          ]
        },
        {
          "output_type": "stream",
          "name": "stdout",
          "text": [
            "train Loss: 1.5294 Acc: 0.5710\n",
            "valid Loss: 1.6061 Acc: 0.5587\n",
            "Saving model...\n",
            "------------------------------\n",
            "\n",
            "Epoch 11/200\n",
            "----------\n"
          ]
        },
        {
          "output_type": "stream",
          "name": "stderr",
          "text": [
            "391it [02:43,  2.39it/s]\n"
          ]
        },
        {
          "output_type": "stream",
          "name": "stdout",
          "text": [
            "train Loss: 1.4796 Acc: 0.5828\n",
            "valid Loss: 1.8039 Acc: 0.5189\n",
            "------------------------------\n",
            "\n",
            "Epoch 12/200\n",
            "----------\n"
          ]
        },
        {
          "output_type": "stream",
          "name": "stderr",
          "text": [
            "391it [02:43,  2.39it/s]\n"
          ]
        },
        {
          "output_type": "stream",
          "name": "stdout",
          "text": [
            "train Loss: 1.4375 Acc: 0.5925\n",
            "valid Loss: 1.7034 Acc: 0.5478\n",
            "------------------------------\n",
            "\n",
            "Epoch 13/200\n",
            "----------\n"
          ]
        },
        {
          "output_type": "stream",
          "name": "stderr",
          "text": [
            "391it [02:43,  2.40it/s]\n"
          ]
        },
        {
          "output_type": "stream",
          "name": "stdout",
          "text": [
            "train Loss: 1.3928 Acc: 0.6067\n",
            "valid Loss: 1.5852 Acc: 0.5562\n",
            "------------------------------\n",
            "\n",
            "Epoch 14/200\n",
            "----------\n"
          ]
        },
        {
          "output_type": "stream",
          "name": "stderr",
          "text": [
            "391it [02:43,  2.39it/s]\n"
          ]
        },
        {
          "output_type": "stream",
          "name": "stdout",
          "text": [
            "train Loss: 1.3731 Acc: 0.6097\n",
            "valid Loss: 1.6965 Acc: 0.5398\n",
            "------------------------------\n",
            "\n",
            "Epoch 15/200\n",
            "----------\n"
          ]
        },
        {
          "output_type": "stream",
          "name": "stderr",
          "text": [
            "391it [02:43,  2.40it/s]\n"
          ]
        },
        {
          "output_type": "stream",
          "name": "stdout",
          "text": [
            "train Loss: 1.3405 Acc: 0.6218\n",
            "valid Loss: 1.5310 Acc: 0.5730\n",
            "Saving model...\n",
            "------------------------------\n",
            "\n",
            "Epoch 16/200\n",
            "----------\n"
          ]
        },
        {
          "output_type": "stream",
          "name": "stderr",
          "text": [
            "391it [02:43,  2.39it/s]\n"
          ]
        },
        {
          "output_type": "stream",
          "name": "stdout",
          "text": [
            "train Loss: 1.3170 Acc: 0.6230\n",
            "valid Loss: 1.5170 Acc: 0.5866\n",
            "Saving model...\n",
            "------------------------------\n",
            "\n",
            "Epoch 17/200\n",
            "----------\n"
          ]
        },
        {
          "output_type": "stream",
          "name": "stderr",
          "text": [
            "391it [02:43,  2.39it/s]\n"
          ]
        },
        {
          "output_type": "stream",
          "name": "stdout",
          "text": [
            "train Loss: 1.2786 Acc: 0.6335\n",
            "valid Loss: 1.4895 Acc: 0.5843\n",
            "------------------------------\n",
            "\n",
            "Epoch 18/200\n",
            "----------\n"
          ]
        },
        {
          "output_type": "stream",
          "name": "stderr",
          "text": [
            "391it [02:43,  2.39it/s]\n"
          ]
        },
        {
          "output_type": "stream",
          "name": "stdout",
          "text": [
            "train Loss: 1.2684 Acc: 0.6353\n",
            "valid Loss: 1.4559 Acc: 0.6032\n",
            "Saving model...\n",
            "------------------------------\n",
            "\n",
            "Epoch 19/200\n",
            "----------\n"
          ]
        },
        {
          "output_type": "stream",
          "name": "stderr",
          "text": [
            "391it [02:43,  2.39it/s]\n"
          ]
        },
        {
          "output_type": "stream",
          "name": "stdout",
          "text": [
            "train Loss: 1.2254 Acc: 0.6468\n",
            "valid Loss: 1.4790 Acc: 0.5899\n",
            "------------------------------\n",
            "\n",
            "Epoch 20/200\n",
            "----------\n"
          ]
        },
        {
          "output_type": "stream",
          "name": "stderr",
          "text": [
            "391it [02:43,  2.39it/s]\n"
          ]
        },
        {
          "output_type": "stream",
          "name": "stdout",
          "text": [
            "train Loss: 1.2023 Acc: 0.6546\n",
            "valid Loss: 1.5850 Acc: 0.5788\n",
            "------------------------------\n",
            "\n",
            "Epoch 21/200\n",
            "----------\n"
          ]
        },
        {
          "output_type": "stream",
          "name": "stderr",
          "text": [
            "391it [02:43,  2.39it/s]\n"
          ]
        },
        {
          "output_type": "stream",
          "name": "stdout",
          "text": [
            "train Loss: 1.1785 Acc: 0.6609\n",
            "valid Loss: 1.3521 Acc: 0.6252\n",
            "Saving model...\n",
            "------------------------------\n",
            "\n",
            "Epoch 22/200\n",
            "----------\n"
          ]
        },
        {
          "output_type": "stream",
          "name": "stderr",
          "text": [
            "391it [02:43,  2.39it/s]\n"
          ]
        },
        {
          "output_type": "stream",
          "name": "stdout",
          "text": [
            "train Loss: 1.1457 Acc: 0.6699\n",
            "valid Loss: 1.3479 Acc: 0.6262\n",
            "Saving model...\n",
            "------------------------------\n",
            "\n",
            "Epoch 23/200\n",
            "----------\n"
          ]
        },
        {
          "output_type": "stream",
          "name": "stderr",
          "text": [
            "391it [02:44,  2.38it/s]\n"
          ]
        },
        {
          "output_type": "stream",
          "name": "stdout",
          "text": [
            "train Loss: 1.1258 Acc: 0.6761\n",
            "valid Loss: 1.3116 Acc: 0.6336\n",
            "Saving model...\n",
            "------------------------------\n",
            "\n",
            "Epoch 24/200\n",
            "----------\n"
          ]
        },
        {
          "output_type": "stream",
          "name": "stderr",
          "text": [
            "391it [02:44,  2.38it/s]\n"
          ]
        },
        {
          "output_type": "stream",
          "name": "stdout",
          "text": [
            "train Loss: 1.0991 Acc: 0.6816\n",
            "valid Loss: 1.3694 Acc: 0.6257\n",
            "------------------------------\n",
            "\n",
            "Epoch 25/200\n",
            "----------\n"
          ]
        },
        {
          "output_type": "stream",
          "name": "stderr",
          "text": [
            "391it [02:43,  2.39it/s]\n"
          ]
        },
        {
          "output_type": "stream",
          "name": "stdout",
          "text": [
            "train Loss: 1.0713 Acc: 0.6874\n",
            "valid Loss: 1.2857 Acc: 0.6386\n",
            "Saving model...\n",
            "------------------------------\n",
            "\n",
            "Epoch 26/200\n",
            "----------\n"
          ]
        },
        {
          "output_type": "stream",
          "name": "stderr",
          "text": [
            "391it [02:44,  2.38it/s]\n"
          ]
        },
        {
          "output_type": "stream",
          "name": "stdout",
          "text": [
            "train Loss: 1.0501 Acc: 0.6953\n",
            "valid Loss: 1.2816 Acc: 0.6433\n",
            "Saving model...\n",
            "------------------------------\n",
            "\n",
            "Epoch 27/200\n",
            "----------\n"
          ]
        },
        {
          "output_type": "stream",
          "name": "stderr",
          "text": [
            "391it [02:44,  2.38it/s]\n"
          ]
        },
        {
          "output_type": "stream",
          "name": "stdout",
          "text": [
            "train Loss: 1.0202 Acc: 0.7024\n",
            "valid Loss: 1.2882 Acc: 0.6431\n",
            "------------------------------\n",
            "\n",
            "Epoch 28/200\n",
            "----------\n"
          ]
        },
        {
          "output_type": "stream",
          "name": "stderr",
          "text": [
            "391it [02:43,  2.39it/s]\n"
          ]
        },
        {
          "output_type": "stream",
          "name": "stdout",
          "text": [
            "train Loss: 0.9980 Acc: 0.7073\n",
            "valid Loss: 1.2912 Acc: 0.6430\n",
            "------------------------------\n",
            "\n",
            "Epoch 29/200\n",
            "----------\n"
          ]
        },
        {
          "output_type": "stream",
          "name": "stderr",
          "text": [
            "391it [02:43,  2.40it/s]\n"
          ]
        },
        {
          "output_type": "stream",
          "name": "stdout",
          "text": [
            "train Loss: 0.9605 Acc: 0.7196\n",
            "valid Loss: 1.3120 Acc: 0.6473\n",
            "Saving model...\n",
            "------------------------------\n",
            "\n",
            "Epoch 30/200\n",
            "----------\n"
          ]
        },
        {
          "output_type": "stream",
          "name": "stderr",
          "text": [
            "391it [02:44,  2.38it/s]\n"
          ]
        },
        {
          "output_type": "stream",
          "name": "stdout",
          "text": [
            "train Loss: 0.9275 Acc: 0.7281\n",
            "valid Loss: 1.1926 Acc: 0.6672\n",
            "Saving model...\n",
            "------------------------------\n",
            "\n",
            "Epoch 31/200\n",
            "----------\n"
          ]
        },
        {
          "output_type": "stream",
          "name": "stderr",
          "text": [
            "391it [02:43,  2.39it/s]\n"
          ]
        },
        {
          "output_type": "stream",
          "name": "stdout",
          "text": [
            "train Loss: 0.9045 Acc: 0.7348\n",
            "valid Loss: 1.2814 Acc: 0.6523\n",
            "------------------------------\n",
            "\n",
            "Epoch 32/200\n",
            "----------\n"
          ]
        },
        {
          "output_type": "stream",
          "name": "stderr",
          "text": [
            "391it [02:43,  2.40it/s]\n"
          ]
        },
        {
          "output_type": "stream",
          "name": "stdout",
          "text": [
            "train Loss: 0.8777 Acc: 0.7405\n",
            "valid Loss: 1.1566 Acc: 0.6814\n",
            "Saving model...\n",
            "------------------------------\n",
            "\n",
            "Epoch 33/200\n",
            "----------\n"
          ]
        },
        {
          "output_type": "stream",
          "name": "stderr",
          "text": [
            "391it [02:44,  2.38it/s]\n"
          ]
        },
        {
          "output_type": "stream",
          "name": "stdout",
          "text": [
            "train Loss: 0.8443 Acc: 0.7509\n",
            "valid Loss: 1.1854 Acc: 0.6757\n",
            "------------------------------\n",
            "\n",
            "Epoch 34/200\n",
            "----------\n"
          ]
        },
        {
          "output_type": "stream",
          "name": "stderr",
          "text": [
            "391it [02:44,  2.38it/s]\n"
          ]
        },
        {
          "output_type": "stream",
          "name": "stdout",
          "text": [
            "train Loss: 0.8101 Acc: 0.7596\n",
            "valid Loss: 1.1579 Acc: 0.6826\n",
            "Saving model...\n",
            "------------------------------\n",
            "\n",
            "Epoch 35/200\n",
            "----------\n"
          ]
        },
        {
          "output_type": "stream",
          "name": "stderr",
          "text": [
            "391it [02:44,  2.37it/s]\n"
          ]
        },
        {
          "output_type": "stream",
          "name": "stdout",
          "text": [
            "train Loss: 0.7727 Acc: 0.7702\n",
            "valid Loss: 1.1064 Acc: 0.6912\n",
            "Saving model...\n",
            "------------------------------\n",
            "\n",
            "Epoch 36/200\n",
            "----------\n"
          ]
        },
        {
          "output_type": "stream",
          "name": "stderr",
          "text": [
            "391it [02:44,  2.37it/s]\n"
          ]
        },
        {
          "output_type": "stream",
          "name": "stdout",
          "text": [
            "train Loss: 0.7503 Acc: 0.7759\n",
            "valid Loss: 1.1043 Acc: 0.6920\n",
            "Saving model...\n",
            "------------------------------\n",
            "\n",
            "Epoch 37/200\n",
            "----------\n"
          ]
        },
        {
          "output_type": "stream",
          "name": "stderr",
          "text": [
            "391it [02:44,  2.37it/s]\n"
          ]
        },
        {
          "output_type": "stream",
          "name": "stdout",
          "text": [
            "train Loss: 0.7007 Acc: 0.7912\n",
            "valid Loss: 1.1218 Acc: 0.6935\n",
            "Saving model...\n",
            "------------------------------\n",
            "\n",
            "Epoch 38/200\n",
            "----------\n"
          ]
        },
        {
          "output_type": "stream",
          "name": "stderr",
          "text": [
            "391it [02:44,  2.37it/s]\n"
          ]
        },
        {
          "output_type": "stream",
          "name": "stdout",
          "text": [
            "train Loss: 0.6638 Acc: 0.7985\n",
            "valid Loss: 1.1148 Acc: 0.6972\n",
            "Saving model...\n",
            "------------------------------\n",
            "\n",
            "Epoch 39/200\n",
            "----------\n"
          ]
        },
        {
          "output_type": "stream",
          "name": "stderr",
          "text": [
            "391it [02:45,  2.37it/s]\n"
          ]
        },
        {
          "output_type": "stream",
          "name": "stdout",
          "text": [
            "train Loss: 0.6369 Acc: 0.8077\n",
            "valid Loss: 1.0434 Acc: 0.7100\n",
            "Saving model...\n",
            "------------------------------\n",
            "\n",
            "Epoch 40/200\n",
            "----------\n"
          ]
        },
        {
          "output_type": "stream",
          "name": "stderr",
          "text": [
            "391it [02:45,  2.37it/s]\n"
          ]
        },
        {
          "output_type": "stream",
          "name": "stdout",
          "text": [
            "train Loss: 0.5913 Acc: 0.8240\n",
            "valid Loss: 1.0433 Acc: 0.7113\n",
            "Saving model...\n",
            "------------------------------\n",
            "\n",
            "Epoch 41/200\n",
            "----------\n"
          ]
        },
        {
          "output_type": "stream",
          "name": "stderr",
          "text": [
            "391it [02:45,  2.37it/s]\n"
          ]
        },
        {
          "output_type": "stream",
          "name": "stdout",
          "text": [
            "train Loss: 0.5561 Acc: 0.8344\n",
            "valid Loss: 0.9886 Acc: 0.7286\n",
            "Saving model...\n",
            "------------------------------\n",
            "\n",
            "Epoch 42/200\n",
            "----------\n"
          ]
        },
        {
          "output_type": "stream",
          "name": "stderr",
          "text": [
            "391it [02:46,  2.35it/s]\n"
          ]
        },
        {
          "output_type": "stream",
          "name": "stdout",
          "text": [
            "train Loss: 0.5119 Acc: 0.8450\n",
            "valid Loss: 1.0297 Acc: 0.7250\n",
            "------------------------------\n",
            "\n",
            "Epoch 43/200\n",
            "----------\n"
          ]
        },
        {
          "output_type": "stream",
          "name": "stderr",
          "text": [
            "391it [02:44,  2.37it/s]\n"
          ]
        },
        {
          "output_type": "stream",
          "name": "stdout",
          "text": [
            "train Loss: 0.4765 Acc: 0.8583\n",
            "valid Loss: 0.9461 Acc: 0.7394\n",
            "Saving model...\n",
            "------------------------------\n",
            "\n",
            "Epoch 44/200\n",
            "----------\n"
          ]
        },
        {
          "output_type": "stream",
          "name": "stderr",
          "text": [
            "391it [02:44,  2.37it/s]\n"
          ]
        },
        {
          "output_type": "stream",
          "name": "stdout",
          "text": [
            "train Loss: 0.4273 Acc: 0.8716\n",
            "valid Loss: 0.9741 Acc: 0.7344\n",
            "------------------------------\n",
            "\n",
            "Epoch 45/200\n",
            "----------\n"
          ]
        },
        {
          "output_type": "stream",
          "name": "stderr",
          "text": [
            "391it [02:44,  2.38it/s]\n"
          ]
        },
        {
          "output_type": "stream",
          "name": "stdout",
          "text": [
            "train Loss: 0.3935 Acc: 0.8818\n",
            "valid Loss: 0.9416 Acc: 0.7416\n",
            "Saving model...\n",
            "------------------------------\n",
            "\n",
            "Epoch 46/200\n",
            "----------\n"
          ]
        },
        {
          "output_type": "stream",
          "name": "stderr",
          "text": [
            "391it [02:45,  2.37it/s]\n"
          ]
        },
        {
          "output_type": "stream",
          "name": "stdout",
          "text": [
            "train Loss: 0.3454 Acc: 0.8971\n",
            "valid Loss: 0.9241 Acc: 0.7487\n",
            "Saving model...\n",
            "------------------------------\n",
            "\n",
            "Epoch 47/200\n",
            "----------\n"
          ]
        },
        {
          "output_type": "stream",
          "name": "stderr",
          "text": [
            "391it [02:45,  2.36it/s]\n"
          ]
        },
        {
          "output_type": "stream",
          "name": "stdout",
          "text": [
            "train Loss: 0.3064 Acc: 0.9099\n",
            "valid Loss: 0.8965 Acc: 0.7559\n",
            "Saving model...\n",
            "------------------------------\n",
            "\n",
            "Epoch 48/200\n",
            "----------\n"
          ]
        },
        {
          "output_type": "stream",
          "name": "stderr",
          "text": [
            "391it [02:45,  2.36it/s]\n"
          ]
        },
        {
          "output_type": "stream",
          "name": "stdout",
          "text": [
            "train Loss: 0.2642 Acc: 0.9236\n",
            "valid Loss: 0.9254 Acc: 0.7573\n",
            "Saving model...\n",
            "------------------------------\n",
            "\n",
            "Epoch 49/200\n",
            "----------\n"
          ]
        },
        {
          "output_type": "stream",
          "name": "stderr",
          "text": [
            "391it [02:45,  2.36it/s]\n"
          ]
        },
        {
          "output_type": "stream",
          "name": "stdout",
          "text": [
            "train Loss: 0.2342 Acc: 0.9327\n",
            "valid Loss: 0.8771 Acc: 0.7651\n",
            "Saving model...\n",
            "------------------------------\n",
            "\n",
            "Epoch 50/200\n",
            "----------\n"
          ]
        },
        {
          "output_type": "stream",
          "name": "stderr",
          "text": [
            "391it [02:44,  2.37it/s]\n"
          ]
        },
        {
          "output_type": "stream",
          "name": "stdout",
          "text": [
            "train Loss: 0.1987 Acc: 0.9455\n",
            "valid Loss: 0.8403 Acc: 0.7750\n",
            "Saving model...\n",
            "------------------------------\n",
            "\n",
            "Epoch 51/200\n",
            "----------\n"
          ]
        },
        {
          "output_type": "stream",
          "name": "stderr",
          "text": [
            "391it [02:44,  2.37it/s]\n"
          ]
        },
        {
          "output_type": "stream",
          "name": "stdout",
          "text": [
            "train Loss: 0.1771 Acc: 0.9521\n",
            "valid Loss: 0.8600 Acc: 0.7751\n",
            "Saving model...\n",
            "------------------------------\n",
            "\n",
            "Epoch 52/200\n",
            "----------\n"
          ]
        },
        {
          "output_type": "stream",
          "name": "stderr",
          "text": [
            "391it [02:45,  2.37it/s]\n"
          ]
        },
        {
          "output_type": "stream",
          "name": "stdout",
          "text": [
            "train Loss: 0.1531 Acc: 0.9595\n",
            "valid Loss: 0.8279 Acc: 0.7778\n",
            "Saving model...\n",
            "------------------------------\n",
            "\n",
            "Epoch 53/200\n",
            "----------\n"
          ]
        },
        {
          "output_type": "stream",
          "name": "stderr",
          "text": [
            "391it [02:43,  2.39it/s]\n"
          ]
        },
        {
          "output_type": "stream",
          "name": "stdout",
          "text": [
            "train Loss: 0.1398 Acc: 0.9640\n",
            "valid Loss: 0.8301 Acc: 0.7810\n",
            "Saving model...\n",
            "------------------------------\n",
            "\n",
            "Epoch 54/200\n",
            "----------\n"
          ]
        },
        {
          "output_type": "stream",
          "name": "stderr",
          "text": [
            "391it [02:43,  2.40it/s]\n"
          ]
        },
        {
          "output_type": "stream",
          "name": "stdout",
          "text": [
            "train Loss: 0.1176 Acc: 0.9711\n",
            "valid Loss: 0.8146 Acc: 0.7830\n",
            "Saving model...\n",
            "------------------------------\n",
            "\n",
            "Epoch 55/200\n",
            "----------\n"
          ]
        },
        {
          "output_type": "stream",
          "name": "stderr",
          "text": [
            "391it [02:43,  2.39it/s]\n"
          ]
        },
        {
          "output_type": "stream",
          "name": "stdout",
          "text": [
            "train Loss: 0.1068 Acc: 0.9738\n",
            "valid Loss: 0.8155 Acc: 0.7838\n",
            "Saving model...\n",
            "------------------------------\n",
            "\n",
            "Epoch 56/200\n",
            "----------\n"
          ]
        },
        {
          "output_type": "stream",
          "name": "stderr",
          "text": [
            "391it [02:43,  2.39it/s]\n"
          ]
        },
        {
          "output_type": "stream",
          "name": "stdout",
          "text": [
            "train Loss: 0.1013 Acc: 0.9742\n",
            "valid Loss: 0.8120 Acc: 0.7872\n",
            "Saving model...\n",
            "------------------------------\n",
            "\n",
            "Epoch 57/200\n",
            "----------\n"
          ]
        },
        {
          "output_type": "stream",
          "name": "stderr",
          "text": [
            "391it [02:43,  2.39it/s]\n"
          ]
        },
        {
          "output_type": "stream",
          "name": "stdout",
          "text": [
            "train Loss: 0.0929 Acc: 0.9782\n",
            "valid Loss: 0.8072 Acc: 0.7870\n",
            "------------------------------\n",
            "\n",
            "Epoch 58/200\n",
            "----------\n"
          ]
        },
        {
          "output_type": "stream",
          "name": "stderr",
          "text": [
            "391it [02:43,  2.39it/s]\n"
          ]
        },
        {
          "output_type": "stream",
          "name": "stdout",
          "text": [
            "train Loss: 0.0892 Acc: 0.9788\n",
            "valid Loss: 0.8037 Acc: 0.7887\n",
            "Saving model...\n",
            "------------------------------\n",
            "\n",
            "Epoch 59/200\n",
            "----------\n"
          ]
        },
        {
          "output_type": "stream",
          "name": "stderr",
          "text": [
            "391it [02:43,  2.39it/s]\n"
          ]
        },
        {
          "output_type": "stream",
          "name": "stdout",
          "text": [
            "train Loss: 0.0844 Acc: 0.9808\n",
            "valid Loss: 0.8031 Acc: 0.7895\n",
            "Saving model...\n",
            "------------------------------\n",
            "\n",
            "Epoch 60/200\n",
            "----------\n"
          ]
        },
        {
          "output_type": "stream",
          "name": "stderr",
          "text": [
            "391it [02:43,  2.39it/s]\n"
          ]
        },
        {
          "output_type": "stream",
          "name": "stdout",
          "text": [
            "train Loss: 0.0822 Acc: 0.9814\n",
            "valid Loss: 0.8031 Acc: 0.7882\n",
            "------------------------------\n",
            "\n",
            "Epoch 61/200\n",
            "----------\n"
          ]
        },
        {
          "output_type": "stream",
          "name": "stderr",
          "text": [
            "391it [02:43,  2.40it/s]\n"
          ]
        },
        {
          "output_type": "stream",
          "name": "stdout",
          "text": [
            "train Loss: 0.0832 Acc: 0.9801\n",
            "valid Loss: 0.8001 Acc: 0.7884\n",
            "------------------------------\n",
            "\n",
            "Epoch 62/200\n",
            "----------\n"
          ]
        },
        {
          "output_type": "stream",
          "name": "stderr",
          "text": [
            "391it [02:43,  2.40it/s]\n"
          ]
        },
        {
          "output_type": "stream",
          "name": "stdout",
          "text": [
            "train Loss: 0.0856 Acc: 0.9803\n",
            "valid Loss: 0.8032 Acc: 0.7874\n",
            "------------------------------\n",
            "\n",
            "Epoch 63/200\n",
            "----------\n"
          ]
        },
        {
          "output_type": "stream",
          "name": "stderr",
          "text": [
            "391it [02:43,  2.40it/s]\n"
          ]
        },
        {
          "output_type": "stream",
          "name": "stdout",
          "text": [
            "train Loss: 0.0846 Acc: 0.9804\n",
            "valid Loss: 0.8045 Acc: 0.7885\n",
            "------------------------------\n",
            "\n",
            "Epoch 64/200\n",
            "----------\n"
          ]
        },
        {
          "output_type": "stream",
          "name": "stderr",
          "text": [
            "391it [02:42,  2.40it/s]\n"
          ]
        },
        {
          "output_type": "stream",
          "name": "stdout",
          "text": [
            "train Loss: 0.0849 Acc: 0.9802\n",
            "valid Loss: 0.8010 Acc: 0.7889\n",
            "------------------------------\n",
            "\n",
            "Epoch 65/200\n",
            "----------\n"
          ]
        },
        {
          "output_type": "stream",
          "name": "stderr",
          "text": [
            "391it [02:42,  2.40it/s]\n"
          ]
        },
        {
          "output_type": "stream",
          "name": "stdout",
          "text": [
            "train Loss: 0.0846 Acc: 0.9806\n",
            "valid Loss: 0.8042 Acc: 0.7914\n",
            "Saving model...\n",
            "------------------------------\n",
            "\n",
            "Epoch 66/200\n",
            "----------\n"
          ]
        },
        {
          "output_type": "stream",
          "name": "stderr",
          "text": [
            "391it [02:44,  2.38it/s]\n"
          ]
        },
        {
          "output_type": "stream",
          "name": "stdout",
          "text": [
            "train Loss: 0.0895 Acc: 0.9775\n",
            "valid Loss: 0.8091 Acc: 0.7868\n",
            "------------------------------\n",
            "\n",
            "Epoch 67/200\n",
            "----------\n"
          ]
        },
        {
          "output_type": "stream",
          "name": "stderr",
          "text": [
            "391it [02:43,  2.39it/s]\n"
          ]
        },
        {
          "output_type": "stream",
          "name": "stdout",
          "text": [
            "train Loss: 0.0898 Acc: 0.9785\n",
            "valid Loss: 0.8131 Acc: 0.7856\n",
            "------------------------------\n",
            "\n",
            "Epoch 68/200\n",
            "----------\n"
          ]
        },
        {
          "output_type": "stream",
          "name": "stderr",
          "text": [
            "391it [02:43,  2.40it/s]\n"
          ]
        },
        {
          "output_type": "stream",
          "name": "stdout",
          "text": [
            "train Loss: 0.0946 Acc: 0.9771\n",
            "valid Loss: 0.8373 Acc: 0.7803\n",
            "------------------------------\n",
            "\n",
            "Epoch 69/200\n",
            "----------\n"
          ]
        },
        {
          "output_type": "stream",
          "name": "stderr",
          "text": [
            "391it [02:43,  2.40it/s]\n"
          ]
        },
        {
          "output_type": "stream",
          "name": "stdout",
          "text": [
            "train Loss: 0.1024 Acc: 0.9743\n",
            "valid Loss: 0.8497 Acc: 0.7797\n",
            "------------------------------\n",
            "\n",
            "Epoch 70/200\n",
            "----------\n"
          ]
        },
        {
          "output_type": "stream",
          "name": "stderr",
          "text": [
            "391it [02:43,  2.39it/s]\n"
          ]
        },
        {
          "output_type": "stream",
          "name": "stdout",
          "text": [
            "train Loss: 0.1211 Acc: 0.9690\n",
            "valid Loss: 0.8813 Acc: 0.7742\n",
            "------------------------------\n",
            "\n",
            "Epoch 71/200\n",
            "----------\n"
          ]
        },
        {
          "output_type": "stream",
          "name": "stderr",
          "text": [
            "391it [02:43,  2.39it/s]\n"
          ]
        },
        {
          "output_type": "stream",
          "name": "stdout",
          "text": [
            "train Loss: 0.1484 Acc: 0.9607\n",
            "valid Loss: 0.9456 Acc: 0.7614\n",
            "------------------------------\n",
            "\n",
            "Epoch 72/200\n",
            "----------\n"
          ]
        },
        {
          "output_type": "stream",
          "name": "stderr",
          "text": [
            "391it [02:43,  2.40it/s]\n"
          ]
        },
        {
          "output_type": "stream",
          "name": "stdout",
          "text": [
            "train Loss: 0.1779 Acc: 0.9512\n",
            "valid Loss: 0.9573 Acc: 0.7572\n",
            "------------------------------\n",
            "\n",
            "Epoch 73/200\n",
            "----------\n"
          ]
        },
        {
          "output_type": "stream",
          "name": "stderr",
          "text": [
            "391it [02:42,  2.40it/s]\n"
          ]
        },
        {
          "output_type": "stream",
          "name": "stdout",
          "text": [
            "train Loss: 0.2246 Acc: 0.9359\n",
            "valid Loss: 0.9753 Acc: 0.7483\n",
            "------------------------------\n",
            "\n",
            "Epoch 74/200\n",
            "----------\n"
          ]
        },
        {
          "output_type": "stream",
          "name": "stderr",
          "text": [
            "391it [02:43,  2.39it/s]\n"
          ]
        },
        {
          "output_type": "stream",
          "name": "stdout",
          "text": [
            "train Loss: 0.2836 Acc: 0.9187\n",
            "valid Loss: 1.0237 Acc: 0.7349\n",
            "------------------------------\n",
            "\n",
            "Epoch 75/200\n",
            "----------\n"
          ]
        },
        {
          "output_type": "stream",
          "name": "stderr",
          "text": [
            "391it [02:43,  2.39it/s]\n"
          ]
        },
        {
          "output_type": "stream",
          "name": "stdout",
          "text": [
            "train Loss: 0.3480 Acc: 0.8951\n",
            "valid Loss: 1.0508 Acc: 0.7286\n",
            "------------------------------\n",
            "\n",
            "Epoch 76/200\n",
            "----------\n"
          ]
        },
        {
          "output_type": "stream",
          "name": "stderr",
          "text": [
            "391it [02:43,  2.39it/s]\n"
          ]
        },
        {
          "output_type": "stream",
          "name": "stdout",
          "text": [
            "train Loss: 0.4165 Acc: 0.8746\n",
            "valid Loss: 1.0290 Acc: 0.7261\n",
            "------------------------------\n",
            "\n",
            "Epoch 77/200\n",
            "----------\n"
          ]
        },
        {
          "output_type": "stream",
          "name": "stderr",
          "text": [
            "391it [02:43,  2.39it/s]\n"
          ]
        },
        {
          "output_type": "stream",
          "name": "stdout",
          "text": [
            "train Loss: 0.4662 Acc: 0.8611\n",
            "valid Loss: 1.1470 Acc: 0.7024\n",
            "------------------------------\n",
            "\n",
            "Epoch 78/200\n",
            "----------\n"
          ]
        },
        {
          "output_type": "stream",
          "name": "stderr",
          "text": [
            "391it [02:43,  2.39it/s]\n"
          ]
        },
        {
          "output_type": "stream",
          "name": "stdout",
          "text": [
            "train Loss: 0.5245 Acc: 0.8405\n",
            "valid Loss: 1.0960 Acc: 0.7121\n",
            "------------------------------\n",
            "\n",
            "Epoch 79/200\n",
            "----------\n"
          ]
        },
        {
          "output_type": "stream",
          "name": "stderr",
          "text": [
            "391it [02:43,  2.40it/s]\n"
          ]
        },
        {
          "output_type": "stream",
          "name": "stdout",
          "text": [
            "train Loss: 0.5551 Acc: 0.8316\n",
            "valid Loss: 1.1241 Acc: 0.7019\n",
            "------------------------------\n",
            "\n",
            "Epoch 80/200\n",
            "----------\n"
          ]
        },
        {
          "output_type": "stream",
          "name": "stderr",
          "text": [
            "391it [02:42,  2.40it/s]\n"
          ]
        },
        {
          "output_type": "stream",
          "name": "stdout",
          "text": [
            "train Loss: 0.5925 Acc: 0.8206\n",
            "valid Loss: 1.1594 Acc: 0.6883\n",
            "------------------------------\n",
            "\n",
            "Epoch 81/200\n",
            "----------\n"
          ]
        },
        {
          "output_type": "stream",
          "name": "stderr",
          "text": [
            "391it [02:43,  2.40it/s]\n"
          ]
        },
        {
          "output_type": "stream",
          "name": "stdout",
          "text": [
            "train Loss: 0.6184 Acc: 0.8133\n",
            "valid Loss: 1.2166 Acc: 0.6851\n",
            "------------------------------\n",
            "\n",
            "Epoch 82/200\n",
            "----------\n"
          ]
        },
        {
          "output_type": "stream",
          "name": "stderr",
          "text": [
            "391it [02:43,  2.40it/s]\n"
          ]
        },
        {
          "output_type": "stream",
          "name": "stdout",
          "text": [
            "train Loss: 0.6420 Acc: 0.8060\n",
            "valid Loss: 1.1716 Acc: 0.6930\n",
            "------------------------------\n",
            "\n",
            "Epoch 83/200\n",
            "----------\n"
          ]
        },
        {
          "output_type": "stream",
          "name": "stderr",
          "text": [
            "391it [02:43,  2.39it/s]\n"
          ]
        },
        {
          "output_type": "stream",
          "name": "stdout",
          "text": [
            "train Loss: 0.6652 Acc: 0.8005\n",
            "valid Loss: 1.2176 Acc: 0.6755\n",
            "------------------------------\n",
            "\n",
            "Epoch 84/200\n",
            "----------\n"
          ]
        },
        {
          "output_type": "stream",
          "name": "stderr",
          "text": [
            "391it [02:43,  2.40it/s]\n"
          ]
        },
        {
          "output_type": "stream",
          "name": "stdout",
          "text": [
            "train Loss: 0.6709 Acc: 0.7989\n",
            "valid Loss: 1.1531 Acc: 0.6904\n",
            "------------------------------\n",
            "\n",
            "Epoch 85/200\n",
            "----------\n"
          ]
        },
        {
          "output_type": "stream",
          "name": "stderr",
          "text": [
            "391it [02:42,  2.40it/s]\n"
          ]
        },
        {
          "output_type": "stream",
          "name": "stdout",
          "text": [
            "train Loss: 0.7044 Acc: 0.7869\n",
            "valid Loss: 1.1482 Acc: 0.6850\n",
            "------------------------------\n",
            "\n",
            "Epoch 86/200\n",
            "----------\n"
          ]
        },
        {
          "output_type": "stream",
          "name": "stderr",
          "text": [
            "391it [02:43,  2.40it/s]\n"
          ]
        },
        {
          "output_type": "stream",
          "name": "stdout",
          "text": [
            "train Loss: 0.7172 Acc: 0.7847\n",
            "valid Loss: 1.1126 Acc: 0.6918\n",
            "------------------------------\n",
            "\n",
            "Epoch 87/200\n",
            "----------\n"
          ]
        },
        {
          "output_type": "stream",
          "name": "stderr",
          "text": [
            "391it [02:43,  2.40it/s]\n"
          ]
        },
        {
          "output_type": "stream",
          "name": "stdout",
          "text": [
            "train Loss: 0.7291 Acc: 0.7821\n",
            "valid Loss: 1.1676 Acc: 0.6822\n",
            "------------------------------\n",
            "\n",
            "Epoch 88/200\n",
            "----------\n"
          ]
        },
        {
          "output_type": "stream",
          "name": "stderr",
          "text": [
            "391it [02:43,  2.39it/s]\n"
          ]
        },
        {
          "output_type": "stream",
          "name": "stdout",
          "text": [
            "train Loss: 0.7519 Acc: 0.7743\n",
            "valid Loss: 1.3205 Acc: 0.6539\n",
            "------------------------------\n",
            "\n",
            "Epoch 89/200\n",
            "----------\n"
          ]
        },
        {
          "output_type": "stream",
          "name": "stderr",
          "text": [
            "391it [02:43,  2.39it/s]\n"
          ]
        },
        {
          "output_type": "stream",
          "name": "stdout",
          "text": [
            "train Loss: 0.7741 Acc: 0.7683\n",
            "valid Loss: 1.2940 Acc: 0.6570\n",
            "------------------------------\n",
            "\n",
            "Epoch 90/200\n",
            "----------\n"
          ]
        },
        {
          "output_type": "stream",
          "name": "stderr",
          "text": [
            "391it [02:43,  2.39it/s]\n"
          ]
        },
        {
          "output_type": "stream",
          "name": "stdout",
          "text": [
            "train Loss: 0.7842 Acc: 0.7668\n",
            "valid Loss: 1.3656 Acc: 0.6402\n",
            "------------------------------\n",
            "\n",
            "Epoch 91/200\n",
            "----------\n"
          ]
        },
        {
          "output_type": "stream",
          "name": "stderr",
          "text": [
            "391it [02:43,  2.39it/s]\n"
          ]
        },
        {
          "output_type": "stream",
          "name": "stdout",
          "text": [
            "train Loss: 0.8007 Acc: 0.7628\n",
            "valid Loss: 1.1781 Acc: 0.6831\n",
            "------------------------------\n",
            "\n",
            "Epoch 92/200\n",
            "----------\n"
          ]
        },
        {
          "output_type": "stream",
          "name": "stderr",
          "text": [
            "391it [02:44,  2.38it/s]\n"
          ]
        },
        {
          "output_type": "stream",
          "name": "stdout",
          "text": [
            "train Loss: 0.8223 Acc: 0.7540\n",
            "valid Loss: 1.2354 Acc: 0.6681\n",
            "------------------------------\n",
            "\n",
            "Epoch 93/200\n",
            "----------\n"
          ]
        },
        {
          "output_type": "stream",
          "name": "stderr",
          "text": [
            "391it [02:43,  2.39it/s]\n"
          ]
        },
        {
          "output_type": "stream",
          "name": "stdout",
          "text": [
            "train Loss: 0.8434 Acc: 0.7512\n",
            "valid Loss: 1.3603 Acc: 0.6368\n",
            "------------------------------\n",
            "\n",
            "Epoch 94/200\n",
            "----------\n"
          ]
        },
        {
          "output_type": "stream",
          "name": "stderr",
          "text": [
            "391it [02:44,  2.38it/s]\n"
          ]
        },
        {
          "output_type": "stream",
          "name": "stdout",
          "text": [
            "train Loss: 0.8615 Acc: 0.7422\n",
            "valid Loss: 1.2596 Acc: 0.6564\n",
            "------------------------------\n",
            "\n",
            "Epoch 95/200\n",
            "----------\n"
          ]
        },
        {
          "output_type": "stream",
          "name": "stderr",
          "text": [
            "391it [02:43,  2.39it/s]\n"
          ]
        },
        {
          "output_type": "stream",
          "name": "stdout",
          "text": [
            "train Loss: 0.8687 Acc: 0.7416\n",
            "valid Loss: 1.3076 Acc: 0.6587\n",
            "------------------------------\n",
            "\n",
            "Epoch 96/200\n",
            "----------\n"
          ]
        },
        {
          "output_type": "stream",
          "name": "stderr",
          "text": [
            "391it [02:44,  2.38it/s]\n"
          ]
        },
        {
          "output_type": "stream",
          "name": "stdout",
          "text": [
            "train Loss: 0.8886 Acc: 0.7367\n",
            "valid Loss: 1.2936 Acc: 0.6503\n",
            "------------------------------\n",
            "\n",
            "Epoch 97/200\n",
            "----------\n"
          ]
        },
        {
          "output_type": "stream",
          "name": "stderr",
          "text": [
            "391it [02:44,  2.37it/s]\n"
          ]
        },
        {
          "output_type": "stream",
          "name": "stdout",
          "text": [
            "train Loss: 0.9096 Acc: 0.7299\n",
            "valid Loss: 1.2869 Acc: 0.6513\n",
            "------------------------------\n",
            "\n",
            "Epoch 98/200\n",
            "----------\n"
          ]
        },
        {
          "output_type": "stream",
          "name": "stderr",
          "text": [
            "391it [02:45,  2.37it/s]\n"
          ]
        },
        {
          "output_type": "stream",
          "name": "stdout",
          "text": [
            "train Loss: 0.9215 Acc: 0.7274\n",
            "valid Loss: 1.3262 Acc: 0.6531\n",
            "------------------------------\n",
            "\n",
            "Epoch 99/200\n",
            "----------\n"
          ]
        },
        {
          "output_type": "stream",
          "name": "stderr",
          "text": [
            "391it [02:46,  2.36it/s]\n"
          ]
        },
        {
          "output_type": "stream",
          "name": "stdout",
          "text": [
            "train Loss: 0.9269 Acc: 0.7277\n",
            "valid Loss: 1.2985 Acc: 0.6464\n",
            "------------------------------\n",
            "\n",
            "Epoch 100/200\n",
            "----------\n"
          ]
        },
        {
          "output_type": "stream",
          "name": "stderr",
          "text": [
            "391it [02:45,  2.36it/s]\n"
          ]
        },
        {
          "output_type": "stream",
          "name": "stdout",
          "text": [
            "train Loss: 0.9462 Acc: 0.7226\n",
            "valid Loss: 1.4215 Acc: 0.6204\n",
            "------------------------------\n",
            "\n",
            "Epoch 101/200\n",
            "----------\n"
          ]
        },
        {
          "output_type": "stream",
          "name": "stderr",
          "text": [
            "391it [02:45,  2.36it/s]\n"
          ]
        },
        {
          "output_type": "stream",
          "name": "stdout",
          "text": [
            "train Loss: 0.9599 Acc: 0.7176\n",
            "valid Loss: 1.3483 Acc: 0.6369\n",
            "------------------------------\n",
            "\n",
            "Epoch 102/200\n",
            "----------\n"
          ]
        },
        {
          "output_type": "stream",
          "name": "stderr",
          "text": [
            "391it [02:45,  2.37it/s]\n"
          ]
        },
        {
          "output_type": "stream",
          "name": "stdout",
          "text": [
            "train Loss: 0.9838 Acc: 0.7106\n",
            "valid Loss: 1.5556 Acc: 0.5936\n",
            "------------------------------\n",
            "\n",
            "Epoch 103/200\n",
            "----------\n"
          ]
        },
        {
          "output_type": "stream",
          "name": "stderr",
          "text": [
            "391it [02:44,  2.38it/s]\n"
          ]
        },
        {
          "output_type": "stream",
          "name": "stdout",
          "text": [
            "train Loss: 0.9921 Acc: 0.7117\n",
            "valid Loss: 1.4928 Acc: 0.6097\n",
            "------------------------------\n",
            "\n",
            "Epoch 104/200\n",
            "----------\n"
          ]
        },
        {
          "output_type": "stream",
          "name": "stderr",
          "text": [
            "391it [02:45,  2.37it/s]\n"
          ]
        },
        {
          "output_type": "stream",
          "name": "stdout",
          "text": [
            "train Loss: 0.9968 Acc: 0.7108\n",
            "valid Loss: 1.2823 Acc: 0.6463\n",
            "------------------------------\n",
            "\n",
            "Epoch 105/200\n",
            "----------\n"
          ]
        },
        {
          "output_type": "stream",
          "name": "stderr",
          "text": [
            "391it [02:45,  2.37it/s]\n"
          ]
        },
        {
          "output_type": "stream",
          "name": "stdout",
          "text": [
            "train Loss: 1.0253 Acc: 0.7015\n",
            "valid Loss: 1.3164 Acc: 0.6340\n",
            "------------------------------\n",
            "\n",
            "Epoch 106/200\n",
            "----------\n"
          ]
        },
        {
          "output_type": "stream",
          "name": "stderr",
          "text": [
            "391it [02:45,  2.37it/s]\n"
          ]
        },
        {
          "output_type": "stream",
          "name": "stdout",
          "text": [
            "train Loss: 1.0249 Acc: 0.7005\n",
            "valid Loss: 1.4418 Acc: 0.6206\n",
            "------------------------------\n",
            "\n",
            "Epoch 107/200\n",
            "----------\n"
          ]
        },
        {
          "output_type": "stream",
          "name": "stderr",
          "text": [
            "391it [02:45,  2.36it/s]\n"
          ]
        },
        {
          "output_type": "stream",
          "name": "stdout",
          "text": [
            "train Loss: 1.0396 Acc: 0.6965\n",
            "valid Loss: 1.4795 Acc: 0.6072\n",
            "------------------------------\n",
            "\n",
            "Epoch 108/200\n",
            "----------\n"
          ]
        },
        {
          "output_type": "stream",
          "name": "stderr",
          "text": [
            "391it [02:45,  2.36it/s]\n"
          ]
        },
        {
          "output_type": "stream",
          "name": "stdout",
          "text": [
            "train Loss: 1.0498 Acc: 0.6966\n",
            "valid Loss: 1.3775 Acc: 0.6226\n",
            "------------------------------\n",
            "\n",
            "Epoch 109/200\n",
            "----------\n"
          ]
        },
        {
          "output_type": "stream",
          "name": "stderr",
          "text": [
            "391it [02:45,  2.36it/s]\n"
          ]
        },
        {
          "output_type": "stream",
          "name": "stdout",
          "text": [
            "train Loss: 1.0550 Acc: 0.6926\n",
            "valid Loss: 1.3993 Acc: 0.6243\n",
            "------------------------------\n",
            "\n",
            "Epoch 110/200\n",
            "----------\n"
          ]
        },
        {
          "output_type": "stream",
          "name": "stderr",
          "text": [
            "391it [02:46,  2.35it/s]\n"
          ]
        },
        {
          "output_type": "stream",
          "name": "stdout",
          "text": [
            "train Loss: 1.0725 Acc: 0.6889\n",
            "valid Loss: 1.5392 Acc: 0.6080\n",
            "------------------------------\n",
            "\n",
            "Epoch 111/200\n",
            "----------\n"
          ]
        },
        {
          "output_type": "stream",
          "name": "stderr",
          "text": [
            "391it [02:46,  2.35it/s]\n"
          ]
        },
        {
          "output_type": "stream",
          "name": "stdout",
          "text": [
            "train Loss: 1.0755 Acc: 0.6875\n",
            "valid Loss: 1.4436 Acc: 0.6162\n",
            "------------------------------\n",
            "\n",
            "Epoch 112/200\n",
            "----------\n"
          ]
        },
        {
          "output_type": "stream",
          "name": "stderr",
          "text": [
            "391it [02:45,  2.36it/s]\n"
          ]
        },
        {
          "output_type": "stream",
          "name": "stdout",
          "text": [
            "train Loss: 1.0892 Acc: 0.6837\n",
            "valid Loss: 1.5374 Acc: 0.5870\n",
            "------------------------------\n",
            "\n",
            "Epoch 113/200\n",
            "----------\n"
          ]
        },
        {
          "output_type": "stream",
          "name": "stderr",
          "text": [
            "391it [02:45,  2.36it/s]\n"
          ]
        },
        {
          "output_type": "stream",
          "name": "stdout",
          "text": [
            "train Loss: 1.0868 Acc: 0.6875\n",
            "valid Loss: 1.4779 Acc: 0.6112\n",
            "------------------------------\n",
            "\n",
            "Epoch 114/200\n",
            "----------\n"
          ]
        },
        {
          "output_type": "stream",
          "name": "stderr",
          "text": [
            "391it [02:46,  2.34it/s]\n"
          ]
        },
        {
          "output_type": "stream",
          "name": "stdout",
          "text": [
            "train Loss: 1.0963 Acc: 0.6837\n",
            "valid Loss: 1.3225 Acc: 0.6348\n",
            "------------------------------\n",
            "\n",
            "Epoch 115/200\n",
            "----------\n"
          ]
        },
        {
          "output_type": "stream",
          "name": "stderr",
          "text": [
            "391it [02:46,  2.34it/s]\n"
          ]
        },
        {
          "output_type": "stream",
          "name": "stdout",
          "text": [
            "train Loss: 1.0974 Acc: 0.6835\n",
            "valid Loss: 1.5375 Acc: 0.5944\n",
            "------------------------------\n",
            "\n",
            "Epoch 116/200\n",
            "----------\n"
          ]
        },
        {
          "output_type": "stream",
          "name": "stderr",
          "text": [
            "391it [02:46,  2.34it/s]\n"
          ]
        },
        {
          "output_type": "stream",
          "name": "stdout",
          "text": [
            "train Loss: 1.1056 Acc: 0.6780\n",
            "valid Loss: 1.3281 Acc: 0.6340\n",
            "------------------------------\n",
            "\n",
            "Epoch 117/200\n",
            "----------\n"
          ]
        },
        {
          "output_type": "stream",
          "name": "stderr",
          "text": [
            "391it [02:47,  2.34it/s]\n"
          ]
        },
        {
          "output_type": "stream",
          "name": "stdout",
          "text": [
            "train Loss: 1.1030 Acc: 0.6815\n",
            "valid Loss: 1.3869 Acc: 0.6260\n",
            "------------------------------\n",
            "\n",
            "Epoch 118/200\n",
            "----------\n"
          ]
        },
        {
          "output_type": "stream",
          "name": "stderr",
          "text": [
            "391it [02:47,  2.34it/s]\n"
          ]
        },
        {
          "output_type": "stream",
          "name": "stdout",
          "text": [
            "train Loss: 1.1034 Acc: 0.6809\n",
            "valid Loss: 1.6597 Acc: 0.5692\n",
            "------------------------------\n",
            "\n",
            "Epoch 119/200\n",
            "----------\n"
          ]
        },
        {
          "output_type": "stream",
          "name": "stderr",
          "text": [
            "391it [02:46,  2.35it/s]\n"
          ]
        },
        {
          "output_type": "stream",
          "name": "stdout",
          "text": [
            "train Loss: 1.1077 Acc: 0.6793\n",
            "valid Loss: 1.4150 Acc: 0.6129\n",
            "------------------------------\n",
            "\n",
            "Epoch 120/200\n",
            "----------\n"
          ]
        },
        {
          "output_type": "stream",
          "name": "stderr",
          "text": [
            "391it [02:45,  2.36it/s]\n"
          ]
        },
        {
          "output_type": "stream",
          "name": "stdout",
          "text": [
            "train Loss: 1.1058 Acc: 0.6790\n",
            "valid Loss: 1.3966 Acc: 0.6246\n",
            "------------------------------\n",
            "\n",
            "Epoch 121/200\n",
            "----------\n"
          ]
        },
        {
          "output_type": "stream",
          "name": "stderr",
          "text": [
            "391it [02:46,  2.35it/s]\n"
          ]
        },
        {
          "output_type": "stream",
          "name": "stdout",
          "text": [
            "train Loss: 1.1110 Acc: 0.6805\n",
            "valid Loss: 1.5238 Acc: 0.5970\n",
            "------------------------------\n",
            "\n",
            "Epoch 122/200\n",
            "----------\n"
          ]
        },
        {
          "output_type": "stream",
          "name": "stderr",
          "text": [
            "391it [02:46,  2.34it/s]\n"
          ]
        },
        {
          "output_type": "stream",
          "name": "stdout",
          "text": [
            "train Loss: 1.1103 Acc: 0.6830\n",
            "valid Loss: 1.3990 Acc: 0.6179\n",
            "------------------------------\n",
            "\n",
            "Epoch 123/200\n",
            "----------\n"
          ]
        },
        {
          "output_type": "stream",
          "name": "stderr",
          "text": [
            "391it [02:47,  2.34it/s]\n"
          ]
        },
        {
          "output_type": "stream",
          "name": "stdout",
          "text": [
            "train Loss: 1.1150 Acc: 0.6793\n",
            "valid Loss: 1.6122 Acc: 0.5806\n",
            "------------------------------\n",
            "\n",
            "Epoch 124/200\n",
            "----------\n"
          ]
        },
        {
          "output_type": "stream",
          "name": "stderr",
          "text": [
            "391it [02:47,  2.34it/s]\n"
          ]
        },
        {
          "output_type": "stream",
          "name": "stdout",
          "text": [
            "train Loss: 1.1138 Acc: 0.6777\n",
            "valid Loss: 1.5907 Acc: 0.5837\n",
            "------------------------------\n",
            "\n",
            "Epoch 125/200\n",
            "----------\n"
          ]
        },
        {
          "output_type": "stream",
          "name": "stderr",
          "text": [
            "391it [02:47,  2.34it/s]\n"
          ]
        },
        {
          "output_type": "stream",
          "name": "stdout",
          "text": [
            "train Loss: 1.0910 Acc: 0.6845\n",
            "valid Loss: 1.5304 Acc: 0.5934\n",
            "------------------------------\n",
            "\n",
            "Epoch 126/200\n",
            "----------\n"
          ]
        },
        {
          "output_type": "stream",
          "name": "stderr",
          "text": [
            "391it [02:46,  2.34it/s]\n"
          ]
        },
        {
          "output_type": "stream",
          "name": "stdout",
          "text": [
            "train Loss: 1.1125 Acc: 0.6790\n",
            "valid Loss: 1.2895 Acc: 0.6388\n",
            "------------------------------\n",
            "\n",
            "Epoch 127/200\n",
            "----------\n"
          ]
        },
        {
          "output_type": "stream",
          "name": "stderr",
          "text": [
            "391it [02:46,  2.34it/s]\n"
          ]
        },
        {
          "output_type": "stream",
          "name": "stdout",
          "text": [
            "train Loss: 1.0976 Acc: 0.6823\n",
            "valid Loss: 1.4529 Acc: 0.6182\n",
            "------------------------------\n",
            "\n",
            "Epoch 128/200\n",
            "----------\n"
          ]
        },
        {
          "output_type": "stream",
          "name": "stderr",
          "text": [
            "391it [02:49,  2.31it/s]\n"
          ]
        },
        {
          "output_type": "stream",
          "name": "stdout",
          "text": [
            "train Loss: 1.0867 Acc: 0.6863\n",
            "valid Loss: 1.5328 Acc: 0.5947\n",
            "------------------------------\n",
            "\n",
            "Epoch 129/200\n",
            "----------\n"
          ]
        },
        {
          "output_type": "stream",
          "name": "stderr",
          "text": [
            "391it [02:46,  2.34it/s]\n"
          ]
        },
        {
          "output_type": "stream",
          "name": "stdout",
          "text": [
            "train Loss: 1.0913 Acc: 0.6845\n",
            "valid Loss: 1.3509 Acc: 0.6371\n",
            "------------------------------\n",
            "\n",
            "Epoch 130/200\n",
            "----------\n"
          ]
        },
        {
          "output_type": "stream",
          "name": "stderr",
          "text": [
            "391it [02:47,  2.33it/s]\n"
          ]
        },
        {
          "output_type": "stream",
          "name": "stdout",
          "text": [
            "train Loss: 1.0757 Acc: 0.6902\n",
            "valid Loss: 1.4388 Acc: 0.6119\n",
            "------------------------------\n",
            "\n",
            "Epoch 131/200\n",
            "----------\n"
          ]
        },
        {
          "output_type": "stream",
          "name": "stderr",
          "text": [
            "391it [02:48,  2.32it/s]\n"
          ]
        },
        {
          "output_type": "stream",
          "name": "stdout",
          "text": [
            "train Loss: 1.0717 Acc: 0.6919\n",
            "valid Loss: 1.3776 Acc: 0.6267\n",
            "------------------------------\n",
            "\n",
            "Epoch 132/200\n",
            "----------\n"
          ]
        },
        {
          "output_type": "stream",
          "name": "stderr",
          "text": [
            "391it [02:49,  2.31it/s]\n"
          ]
        },
        {
          "output_type": "stream",
          "name": "stdout",
          "text": [
            "train Loss: 1.0609 Acc: 0.6922\n",
            "valid Loss: 1.3680 Acc: 0.6264\n",
            "------------------------------\n",
            "\n",
            "Epoch 133/200\n",
            "----------\n"
          ]
        },
        {
          "output_type": "stream",
          "name": "stderr",
          "text": [
            "391it [02:49,  2.31it/s]\n"
          ]
        },
        {
          "output_type": "stream",
          "name": "stdout",
          "text": [
            "train Loss: 1.0654 Acc: 0.6916\n",
            "valid Loss: 1.2705 Acc: 0.6472\n",
            "------------------------------\n",
            "\n",
            "Epoch 134/200\n",
            "----------\n"
          ]
        },
        {
          "output_type": "stream",
          "name": "stderr",
          "text": [
            "391it [02:49,  2.31it/s]\n"
          ]
        },
        {
          "output_type": "stream",
          "name": "stdout",
          "text": [
            "train Loss: 1.0424 Acc: 0.6976\n",
            "valid Loss: 1.3526 Acc: 0.6333\n",
            "------------------------------\n",
            "\n",
            "Epoch 135/200\n",
            "----------\n"
          ]
        },
        {
          "output_type": "stream",
          "name": "stderr",
          "text": [
            "391it [02:50,  2.29it/s]\n"
          ]
        },
        {
          "output_type": "stream",
          "name": "stdout",
          "text": [
            "train Loss: 1.0430 Acc: 0.6991\n",
            "valid Loss: 1.2894 Acc: 0.6458\n",
            "------------------------------\n",
            "\n",
            "Epoch 136/200\n",
            "----------\n"
          ]
        },
        {
          "output_type": "stream",
          "name": "stderr",
          "text": [
            "391it [02:49,  2.31it/s]\n"
          ]
        },
        {
          "output_type": "stream",
          "name": "stdout",
          "text": [
            "train Loss: 1.0183 Acc: 0.7025\n",
            "valid Loss: 1.3380 Acc: 0.6355\n",
            "------------------------------\n",
            "\n",
            "Epoch 137/200\n",
            "----------\n"
          ]
        },
        {
          "output_type": "stream",
          "name": "stderr",
          "text": [
            "391it [02:48,  2.32it/s]\n"
          ]
        },
        {
          "output_type": "stream",
          "name": "stdout",
          "text": [
            "train Loss: 1.0127 Acc: 0.7072\n",
            "valid Loss: 1.3820 Acc: 0.6312\n",
            "------------------------------\n",
            "\n",
            "Epoch 138/200\n",
            "----------\n"
          ]
        },
        {
          "output_type": "stream",
          "name": "stderr",
          "text": [
            "391it [02:47,  2.33it/s]\n"
          ]
        },
        {
          "output_type": "stream",
          "name": "stdout",
          "text": [
            "train Loss: 1.0019 Acc: 0.7084\n",
            "valid Loss: 1.4129 Acc: 0.6351\n",
            "------------------------------\n",
            "\n",
            "Epoch 139/200\n",
            "----------\n"
          ]
        },
        {
          "output_type": "stream",
          "name": "stderr",
          "text": [
            "391it [02:48,  2.32it/s]\n"
          ]
        },
        {
          "output_type": "stream",
          "name": "stdout",
          "text": [
            "train Loss: 0.9861 Acc: 0.7102\n",
            "valid Loss: 1.2394 Acc: 0.6570\n",
            "------------------------------\n",
            "\n",
            "Epoch 140/200\n",
            "----------\n"
          ]
        },
        {
          "output_type": "stream",
          "name": "stderr",
          "text": [
            "391it [02:48,  2.32it/s]\n"
          ]
        },
        {
          "output_type": "stream",
          "name": "stdout",
          "text": [
            "train Loss: 0.9666 Acc: 0.7184\n",
            "valid Loss: 1.3700 Acc: 0.6282\n",
            "------------------------------\n",
            "\n",
            "Epoch 141/200\n",
            "----------\n"
          ]
        },
        {
          "output_type": "stream",
          "name": "stderr",
          "text": [
            "391it [02:47,  2.33it/s]\n"
          ]
        },
        {
          "output_type": "stream",
          "name": "stdout",
          "text": [
            "train Loss: 0.9465 Acc: 0.7235\n",
            "valid Loss: 1.3538 Acc: 0.6370\n",
            "------------------------------\n",
            "\n",
            "Epoch 142/200\n",
            "----------\n"
          ]
        },
        {
          "output_type": "stream",
          "name": "stderr",
          "text": [
            "391it [02:48,  2.33it/s]\n"
          ]
        },
        {
          "output_type": "stream",
          "name": "stdout",
          "text": [
            "train Loss: 0.9379 Acc: 0.7262\n",
            "valid Loss: 1.2752 Acc: 0.6541\n",
            "------------------------------\n",
            "\n",
            "Epoch 143/200\n",
            "----------\n"
          ]
        },
        {
          "output_type": "stream",
          "name": "stderr",
          "text": [
            "391it [02:47,  2.33it/s]\n"
          ]
        },
        {
          "output_type": "stream",
          "name": "stdout",
          "text": [
            "train Loss: 0.9166 Acc: 0.7318\n",
            "valid Loss: 1.1946 Acc: 0.6701\n",
            "------------------------------\n",
            "\n",
            "Epoch 144/200\n",
            "----------\n"
          ]
        },
        {
          "output_type": "stream",
          "name": "stderr",
          "text": [
            "391it [02:47,  2.34it/s]\n"
          ]
        },
        {
          "output_type": "stream",
          "name": "stdout",
          "text": [
            "train Loss: 0.9003 Acc: 0.7379\n",
            "valid Loss: 1.3196 Acc: 0.6466\n",
            "------------------------------\n",
            "\n",
            "Epoch 145/200\n",
            "----------\n"
          ]
        },
        {
          "output_type": "stream",
          "name": "stderr",
          "text": [
            "391it [02:48,  2.33it/s]\n"
          ]
        },
        {
          "output_type": "stream",
          "name": "stdout",
          "text": [
            "train Loss: 0.8837 Acc: 0.7399\n",
            "valid Loss: 1.2248 Acc: 0.6639\n",
            "------------------------------\n",
            "\n",
            "Epoch 146/200\n",
            "----------\n"
          ]
        },
        {
          "output_type": "stream",
          "name": "stderr",
          "text": [
            "391it [02:48,  2.32it/s]\n"
          ]
        },
        {
          "output_type": "stream",
          "name": "stdout",
          "text": [
            "train Loss: 0.8644 Acc: 0.7463\n",
            "valid Loss: 1.1131 Acc: 0.6859\n",
            "------------------------------\n",
            "\n",
            "Epoch 147/200\n",
            "----------\n"
          ]
        },
        {
          "output_type": "stream",
          "name": "stderr",
          "text": [
            "391it [02:47,  2.33it/s]\n"
          ]
        },
        {
          "output_type": "stream",
          "name": "stdout",
          "text": [
            "train Loss: 0.8433 Acc: 0.7503\n",
            "valid Loss: 1.1268 Acc: 0.6805\n",
            "------------------------------\n",
            "\n",
            "Epoch 148/200\n",
            "----------\n"
          ]
        },
        {
          "output_type": "stream",
          "name": "stderr",
          "text": [
            "391it [02:48,  2.32it/s]\n"
          ]
        },
        {
          "output_type": "stream",
          "name": "stdout",
          "text": [
            "train Loss: 0.8114 Acc: 0.7603\n",
            "valid Loss: 1.2155 Acc: 0.6617\n",
            "------------------------------\n",
            "\n",
            "Epoch 149/200\n",
            "----------\n"
          ]
        },
        {
          "output_type": "stream",
          "name": "stderr",
          "text": [
            "391it [02:47,  2.34it/s]\n"
          ]
        },
        {
          "output_type": "stream",
          "name": "stdout",
          "text": [
            "train Loss: 0.7968 Acc: 0.7641\n",
            "valid Loss: 1.1991 Acc: 0.6784\n",
            "------------------------------\n",
            "\n",
            "Epoch 150/200\n",
            "----------\n"
          ]
        },
        {
          "output_type": "stream",
          "name": "stderr",
          "text": [
            "391it [02:46,  2.35it/s]\n"
          ]
        },
        {
          "output_type": "stream",
          "name": "stdout",
          "text": [
            "train Loss: 0.7738 Acc: 0.7684\n",
            "valid Loss: 1.2769 Acc: 0.6554\n",
            "------------------------------\n",
            "\n",
            "Epoch 151/200\n",
            "----------\n"
          ]
        },
        {
          "output_type": "stream",
          "name": "stderr",
          "text": [
            "391it [02:48,  2.33it/s]\n"
          ]
        },
        {
          "output_type": "stream",
          "name": "stdout",
          "text": [
            "train Loss: 0.7447 Acc: 0.7791\n",
            "valid Loss: 1.1828 Acc: 0.6858\n",
            "------------------------------\n",
            "\n",
            "Epoch 152/200\n",
            "----------\n"
          ]
        },
        {
          "output_type": "stream",
          "name": "stderr",
          "text": [
            "391it [02:46,  2.35it/s]\n"
          ]
        },
        {
          "output_type": "stream",
          "name": "stdout",
          "text": [
            "train Loss: 0.7195 Acc: 0.7847\n",
            "valid Loss: 1.1419 Acc: 0.6870\n",
            "------------------------------\n",
            "\n",
            "Epoch 153/200\n",
            "----------\n"
          ]
        },
        {
          "output_type": "stream",
          "name": "stderr",
          "text": [
            "391it [02:46,  2.35it/s]\n"
          ]
        },
        {
          "output_type": "stream",
          "name": "stdout",
          "text": [
            "train Loss: 0.6910 Acc: 0.7940\n",
            "valid Loss: 1.0501 Acc: 0.7081\n",
            "------------------------------\n",
            "\n",
            "Epoch 154/200\n",
            "----------\n"
          ]
        },
        {
          "output_type": "stream",
          "name": "stderr",
          "text": [
            "391it [02:45,  2.36it/s]\n"
          ]
        },
        {
          "output_type": "stream",
          "name": "stdout",
          "text": [
            "train Loss: 0.6631 Acc: 0.8001\n",
            "valid Loss: 1.0948 Acc: 0.6970\n",
            "------------------------------\n",
            "\n",
            "Epoch 155/200\n",
            "----------\n"
          ]
        },
        {
          "output_type": "stream",
          "name": "stderr",
          "text": [
            "391it [02:46,  2.35it/s]\n"
          ]
        },
        {
          "output_type": "stream",
          "name": "stdout",
          "text": [
            "train Loss: 0.6290 Acc: 0.8105\n",
            "valid Loss: 1.0740 Acc: 0.7088\n",
            "------------------------------\n",
            "\n",
            "Epoch 156/200\n",
            "----------\n"
          ]
        },
        {
          "output_type": "stream",
          "name": "stderr",
          "text": [
            "391it [02:47,  2.34it/s]\n"
          ]
        },
        {
          "output_type": "stream",
          "name": "stdout",
          "text": [
            "train Loss: 0.5987 Acc: 0.8185\n",
            "valid Loss: 1.0375 Acc: 0.7214\n",
            "------------------------------\n",
            "\n",
            "Epoch 157/200\n",
            "----------\n"
          ]
        },
        {
          "output_type": "stream",
          "name": "stderr",
          "text": [
            "391it [02:47,  2.34it/s]\n"
          ]
        },
        {
          "output_type": "stream",
          "name": "stdout",
          "text": [
            "train Loss: 0.5710 Acc: 0.8282\n",
            "valid Loss: 1.0985 Acc: 0.7005\n",
            "------------------------------\n",
            "\n",
            "Epoch 158/200\n",
            "----------\n"
          ]
        },
        {
          "output_type": "stream",
          "name": "stderr",
          "text": [
            "391it [02:47,  2.33it/s]\n"
          ]
        },
        {
          "output_type": "stream",
          "name": "stdout",
          "text": [
            "train Loss: 0.5380 Acc: 0.8390\n",
            "valid Loss: 0.9715 Acc: 0.7357\n",
            "------------------------------\n",
            "\n",
            "Epoch 159/200\n",
            "----------\n"
          ]
        },
        {
          "output_type": "stream",
          "name": "stderr",
          "text": [
            "391it [02:48,  2.32it/s]\n"
          ]
        },
        {
          "output_type": "stream",
          "name": "stdout",
          "text": [
            "train Loss: 0.4984 Acc: 0.8494\n",
            "valid Loss: 1.0210 Acc: 0.7243\n",
            "------------------------------\n",
            "\n",
            "Epoch 160/200\n",
            "----------\n"
          ]
        },
        {
          "output_type": "stream",
          "name": "stderr",
          "text": [
            "391it [02:50,  2.29it/s]\n"
          ]
        },
        {
          "output_type": "stream",
          "name": "stdout",
          "text": [
            "train Loss: 0.4706 Acc: 0.8591\n",
            "valid Loss: 0.9933 Acc: 0.7330\n",
            "------------------------------\n",
            "\n",
            "Epoch 161/200\n",
            "----------\n"
          ]
        },
        {
          "output_type": "stream",
          "name": "stderr",
          "text": [
            "391it [02:48,  2.32it/s]\n"
          ]
        },
        {
          "output_type": "stream",
          "name": "stdout",
          "text": [
            "train Loss: 0.4374 Acc: 0.8671\n",
            "valid Loss: 1.0054 Acc: 0.7299\n",
            "------------------------------\n",
            "\n",
            "Epoch 162/200\n",
            "----------\n"
          ]
        },
        {
          "output_type": "stream",
          "name": "stderr",
          "text": [
            "391it [02:48,  2.32it/s]\n"
          ]
        },
        {
          "output_type": "stream",
          "name": "stdout",
          "text": [
            "train Loss: 0.3937 Acc: 0.8824\n",
            "valid Loss: 0.9027 Acc: 0.7513\n",
            "------------------------------\n",
            "\n",
            "Epoch 163/200\n",
            "----------\n"
          ]
        },
        {
          "output_type": "stream",
          "name": "stderr",
          "text": [
            "391it [02:49,  2.31it/s]\n"
          ]
        },
        {
          "output_type": "stream",
          "name": "stdout",
          "text": [
            "train Loss: 0.3684 Acc: 0.8899\n",
            "valid Loss: 0.9079 Acc: 0.7531\n",
            "------------------------------\n",
            "\n",
            "Epoch 164/200\n",
            "----------\n"
          ]
        },
        {
          "output_type": "stream",
          "name": "stderr",
          "text": [
            "391it [02:47,  2.33it/s]\n"
          ]
        },
        {
          "output_type": "stream",
          "name": "stdout",
          "text": [
            "train Loss: 0.3274 Acc: 0.9019\n",
            "valid Loss: 0.9283 Acc: 0.7550\n",
            "------------------------------\n",
            "\n",
            "Epoch 165/200\n",
            "----------\n"
          ]
        },
        {
          "output_type": "stream",
          "name": "stderr",
          "text": [
            "391it [02:46,  2.35it/s]\n"
          ]
        },
        {
          "output_type": "stream",
          "name": "stdout",
          "text": [
            "train Loss: 0.2911 Acc: 0.9153\n",
            "valid Loss: 0.8375 Acc: 0.7714\n",
            "------------------------------\n",
            "\n",
            "Epoch 166/200\n",
            "----------\n"
          ]
        },
        {
          "output_type": "stream",
          "name": "stderr",
          "text": [
            "391it [02:46,  2.35it/s]\n"
          ]
        },
        {
          "output_type": "stream",
          "name": "stdout",
          "text": [
            "train Loss: 0.2535 Acc: 0.9268\n",
            "valid Loss: 0.8728 Acc: 0.7663\n",
            "------------------------------\n",
            "\n",
            "Epoch 167/200\n",
            "----------\n"
          ]
        },
        {
          "output_type": "stream",
          "name": "stderr",
          "text": [
            "391it [02:46,  2.35it/s]\n"
          ]
        },
        {
          "output_type": "stream",
          "name": "stdout",
          "text": [
            "train Loss: 0.2304 Acc: 0.9346\n",
            "valid Loss: 0.8356 Acc: 0.7743\n",
            "------------------------------\n",
            "\n",
            "Epoch 168/200\n",
            "----------\n"
          ]
        },
        {
          "output_type": "stream",
          "name": "stderr",
          "text": [
            "391it [02:47,  2.34it/s]\n"
          ]
        },
        {
          "output_type": "stream",
          "name": "stdout",
          "text": [
            "train Loss: 0.2007 Acc: 0.9443\n",
            "valid Loss: 0.8448 Acc: 0.7759\n",
            "------------------------------\n",
            "\n",
            "Epoch 169/200\n",
            "----------\n"
          ]
        },
        {
          "output_type": "stream",
          "name": "stderr",
          "text": [
            "391it [02:47,  2.33it/s]\n"
          ]
        },
        {
          "output_type": "stream",
          "name": "stdout",
          "text": [
            "train Loss: 0.1779 Acc: 0.9504\n",
            "valid Loss: 0.8128 Acc: 0.7885\n",
            "------------------------------\n",
            "\n",
            "Epoch 170/200\n",
            "----------\n"
          ]
        },
        {
          "output_type": "stream",
          "name": "stderr",
          "text": [
            "391it [02:48,  2.32it/s]\n"
          ]
        },
        {
          "output_type": "stream",
          "name": "stdout",
          "text": [
            "train Loss: 0.1536 Acc: 0.9596\n",
            "valid Loss: 0.8067 Acc: 0.7788\n",
            "------------------------------\n",
            "\n",
            "Epoch 171/200\n",
            "----------\n"
          ]
        },
        {
          "output_type": "stream",
          "name": "stderr",
          "text": [
            "391it [02:48,  2.33it/s]\n"
          ]
        },
        {
          "output_type": "stream",
          "name": "stdout",
          "text": [
            "train Loss: 0.1356 Acc: 0.9650\n",
            "valid Loss: 0.7778 Acc: 0.7884\n",
            "------------------------------\n",
            "\n",
            "Epoch 172/200\n",
            "----------\n"
          ]
        },
        {
          "output_type": "stream",
          "name": "stderr",
          "text": [
            "391it [02:48,  2.32it/s]\n"
          ]
        },
        {
          "output_type": "stream",
          "name": "stdout",
          "text": [
            "train Loss: 0.1184 Acc: 0.9699\n",
            "valid Loss: 0.7671 Acc: 0.7994\n",
            "Saving model...\n",
            "------------------------------\n",
            "\n",
            "Epoch 173/200\n",
            "----------\n"
          ]
        },
        {
          "output_type": "stream",
          "name": "stderr",
          "text": [
            "391it [02:49,  2.30it/s]\n"
          ]
        },
        {
          "output_type": "stream",
          "name": "stdout",
          "text": [
            "train Loss: 0.1057 Acc: 0.9740\n",
            "valid Loss: 0.7741 Acc: 0.7948\n",
            "------------------------------\n",
            "\n",
            "Epoch 174/200\n",
            "----------\n"
          ]
        },
        {
          "output_type": "stream",
          "name": "stderr",
          "text": [
            "391it [02:49,  2.31it/s]\n"
          ]
        },
        {
          "output_type": "stream",
          "name": "stdout",
          "text": [
            "train Loss: 0.0974 Acc: 0.9768\n",
            "valid Loss: 0.7536 Acc: 0.8009\n",
            "Saving model...\n",
            "------------------------------\n",
            "\n",
            "Epoch 175/200\n",
            "----------\n"
          ]
        },
        {
          "output_type": "stream",
          "name": "stderr",
          "text": [
            "391it [02:50,  2.30it/s]\n"
          ]
        },
        {
          "output_type": "stream",
          "name": "stdout",
          "text": [
            "train Loss: 0.0892 Acc: 0.9792\n",
            "valid Loss: 0.7398 Acc: 0.8018\n",
            "Saving model...\n",
            "------------------------------\n",
            "\n",
            "Epoch 176/200\n",
            "----------\n"
          ]
        },
        {
          "output_type": "stream",
          "name": "stderr",
          "text": [
            "391it [02:50,  2.30it/s]\n"
          ]
        },
        {
          "output_type": "stream",
          "name": "stdout",
          "text": [
            "train Loss: 0.0811 Acc: 0.9814\n",
            "valid Loss: 0.7348 Acc: 0.8025\n",
            "Saving model...\n",
            "------------------------------\n",
            "\n",
            "Epoch 177/200\n",
            "----------\n"
          ]
        },
        {
          "output_type": "stream",
          "name": "stderr",
          "text": [
            "391it [02:49,  2.30it/s]\n"
          ]
        },
        {
          "output_type": "stream",
          "name": "stdout",
          "text": [
            "train Loss: 0.0772 Acc: 0.9819\n",
            "valid Loss: 0.7424 Acc: 0.7999\n",
            "------------------------------\n",
            "\n",
            "Epoch 178/200\n",
            "----------\n"
          ]
        },
        {
          "output_type": "stream",
          "name": "stderr",
          "text": [
            "391it [02:48,  2.31it/s]\n"
          ]
        },
        {
          "output_type": "stream",
          "name": "stdout",
          "text": [
            "train Loss: 0.0752 Acc: 0.9833\n",
            "valid Loss: 0.7393 Acc: 0.8049\n",
            "Saving model...\n",
            "------------------------------\n",
            "\n",
            "Epoch 179/200\n",
            "----------\n"
          ]
        },
        {
          "output_type": "stream",
          "name": "stderr",
          "text": [
            "391it [02:48,  2.31it/s]\n"
          ]
        },
        {
          "output_type": "stream",
          "name": "stdout",
          "text": [
            "train Loss: 0.0744 Acc: 0.9831\n",
            "valid Loss: 0.7350 Acc: 0.8038\n",
            "------------------------------\n",
            "\n",
            "Epoch 180/200\n",
            "----------\n"
          ]
        },
        {
          "output_type": "stream",
          "name": "stderr",
          "text": [
            "391it [02:47,  2.33it/s]\n"
          ]
        },
        {
          "output_type": "stream",
          "name": "stdout",
          "text": [
            "train Loss: 0.0731 Acc: 0.9839\n",
            "valid Loss: 0.7369 Acc: 0.8043\n",
            "------------------------------\n",
            "\n",
            "Epoch 181/200\n",
            "----------\n"
          ]
        },
        {
          "output_type": "stream",
          "name": "stderr",
          "text": [
            "391it [02:48,  2.33it/s]\n"
          ]
        },
        {
          "output_type": "stream",
          "name": "stdout",
          "text": [
            "train Loss: 0.0712 Acc: 0.9839\n",
            "valid Loss: 0.7357 Acc: 0.8052\n",
            "Saving model...\n",
            "------------------------------\n",
            "\n",
            "Epoch 182/200\n",
            "----------\n"
          ]
        },
        {
          "output_type": "stream",
          "name": "stderr",
          "text": [
            "391it [02:48,  2.33it/s]\n"
          ]
        },
        {
          "output_type": "stream",
          "name": "stdout",
          "text": [
            "train Loss: 0.0736 Acc: 0.9828\n",
            "valid Loss: 0.7344 Acc: 0.8059\n",
            "Saving model...\n",
            "------------------------------\n",
            "\n",
            "Epoch 183/200\n",
            "----------\n"
          ]
        },
        {
          "output_type": "stream",
          "name": "stderr",
          "text": [
            "391it [02:48,  2.32it/s]\n"
          ]
        },
        {
          "output_type": "stream",
          "name": "stdout",
          "text": [
            "train Loss: 0.0711 Acc: 0.9839\n",
            "valid Loss: 0.7338 Acc: 0.8046\n",
            "------------------------------\n",
            "\n",
            "Epoch 184/200\n",
            "----------\n"
          ]
        },
        {
          "output_type": "stream",
          "name": "stderr",
          "text": [
            "391it [02:48,  2.32it/s]\n"
          ]
        },
        {
          "output_type": "stream",
          "name": "stdout",
          "text": [
            "train Loss: 0.0717 Acc: 0.9846\n",
            "valid Loss: 0.7334 Acc: 0.8026\n",
            "------------------------------\n",
            "\n",
            "Epoch 185/200\n",
            "----------\n"
          ]
        },
        {
          "output_type": "stream",
          "name": "stderr",
          "text": [
            "391it [02:48,  2.32it/s]\n"
          ]
        },
        {
          "output_type": "stream",
          "name": "stdout",
          "text": [
            "train Loss: 0.0740 Acc: 0.9827\n",
            "valid Loss: 0.7312 Acc: 0.8046\n",
            "------------------------------\n",
            "\n",
            "Epoch 186/200\n",
            "----------\n"
          ]
        },
        {
          "output_type": "stream",
          "name": "stderr",
          "text": [
            "391it [02:49,  2.31it/s]\n"
          ]
        },
        {
          "output_type": "stream",
          "name": "stdout",
          "text": [
            "train Loss: 0.0776 Acc: 0.9818\n",
            "valid Loss: 0.7386 Acc: 0.8020\n",
            "------------------------------\n",
            "\n",
            "Epoch 187/200\n",
            "----------\n"
          ]
        },
        {
          "output_type": "stream",
          "name": "stderr",
          "text": [
            "391it [02:49,  2.30it/s]\n"
          ]
        },
        {
          "output_type": "stream",
          "name": "stdout",
          "text": [
            "train Loss: 0.0748 Acc: 0.9830\n",
            "valid Loss: 0.7393 Acc: 0.8047\n",
            "------------------------------\n",
            "\n",
            "Epoch 188/200\n",
            "----------\n"
          ]
        },
        {
          "output_type": "stream",
          "name": "stderr",
          "text": [
            "391it [02:49,  2.30it/s]\n"
          ]
        },
        {
          "output_type": "stream",
          "name": "stdout",
          "text": [
            "train Loss: 0.0818 Acc: 0.9812\n",
            "valid Loss: 0.7467 Acc: 0.8016\n",
            "------------------------------\n",
            "\n",
            "Epoch 189/200\n",
            "----------\n"
          ]
        },
        {
          "output_type": "stream",
          "name": "stderr",
          "text": [
            "391it [02:49,  2.30it/s]\n"
          ]
        },
        {
          "output_type": "stream",
          "name": "stdout",
          "text": [
            "train Loss: 0.0845 Acc: 0.9801\n",
            "valid Loss: 0.7584 Acc: 0.7997\n",
            "------------------------------\n",
            "\n",
            "Epoch 190/200\n",
            "----------\n"
          ]
        },
        {
          "output_type": "stream",
          "name": "stderr",
          "text": [
            "391it [02:49,  2.31it/s]\n"
          ]
        },
        {
          "output_type": "stream",
          "name": "stdout",
          "text": [
            "train Loss: 0.0929 Acc: 0.9777\n",
            "valid Loss: 0.7779 Acc: 0.7951\n",
            "------------------------------\n",
            "\n",
            "Epoch 191/200\n",
            "----------\n"
          ]
        },
        {
          "output_type": "stream",
          "name": "stderr",
          "text": [
            "391it [02:50,  2.29it/s]\n"
          ]
        },
        {
          "output_type": "stream",
          "name": "stdout",
          "text": [
            "train Loss: 0.1074 Acc: 0.9745\n",
            "valid Loss: 0.7960 Acc: 0.7873\n",
            "------------------------------\n",
            "\n",
            "Epoch 192/200\n",
            "----------\n"
          ]
        },
        {
          "output_type": "stream",
          "name": "stderr",
          "text": [
            "391it [02:50,  2.30it/s]\n"
          ]
        },
        {
          "output_type": "stream",
          "name": "stdout",
          "text": [
            "train Loss: 0.1319 Acc: 0.9651\n",
            "valid Loss: 0.8298 Acc: 0.7830\n",
            "------------------------------\n",
            "\n",
            "Epoch 193/200\n",
            "----------\n"
          ]
        },
        {
          "output_type": "stream",
          "name": "stderr",
          "text": [
            "391it [02:49,  2.30it/s]\n"
          ]
        },
        {
          "output_type": "stream",
          "name": "stdout",
          "text": [
            "train Loss: 0.1663 Acc: 0.9541\n",
            "valid Loss: 0.8765 Acc: 0.7708\n",
            "------------------------------\n",
            "\n",
            "Epoch 194/200\n",
            "----------\n"
          ]
        },
        {
          "output_type": "stream",
          "name": "stderr",
          "text": [
            "391it [02:49,  2.30it/s]\n"
          ]
        },
        {
          "output_type": "stream",
          "name": "stdout",
          "text": [
            "train Loss: 0.2089 Acc: 0.9412\n",
            "valid Loss: 0.9565 Acc: 0.7548\n",
            "------------------------------\n",
            "\n",
            "Epoch 195/200\n",
            "----------\n"
          ]
        },
        {
          "output_type": "stream",
          "name": "stderr",
          "text": [
            "391it [02:49,  2.30it/s]\n"
          ]
        },
        {
          "output_type": "stream",
          "name": "stdout",
          "text": [
            "train Loss: 0.2767 Acc: 0.9194\n",
            "valid Loss: 1.0039 Acc: 0.7389\n",
            "------------------------------\n",
            "\n",
            "Epoch 196/200\n",
            "----------\n"
          ]
        },
        {
          "output_type": "stream",
          "name": "stderr",
          "text": [
            "391it [02:49,  2.31it/s]\n"
          ]
        },
        {
          "output_type": "stream",
          "name": "stdout",
          "text": [
            "train Loss: 0.3333 Acc: 0.9016\n",
            "valid Loss: 0.9531 Acc: 0.7445\n",
            "------------------------------\n",
            "\n",
            "Epoch 197/200\n",
            "----------\n"
          ]
        },
        {
          "output_type": "stream",
          "name": "stderr",
          "text": [
            "391it [02:49,  2.31it/s]\n"
          ]
        },
        {
          "output_type": "stream",
          "name": "stdout",
          "text": [
            "train Loss: 0.3900 Acc: 0.8825\n",
            "valid Loss: 1.0720 Acc: 0.7232\n",
            "------------------------------\n",
            "\n",
            "Epoch 198/200\n",
            "----------\n"
          ]
        },
        {
          "output_type": "stream",
          "name": "stderr",
          "text": [
            "391it [02:49,  2.31it/s]\n"
          ]
        },
        {
          "output_type": "stream",
          "name": "stdout",
          "text": [
            "train Loss: 0.4539 Acc: 0.8635\n",
            "valid Loss: 1.0213 Acc: 0.7283\n",
            "------------------------------\n",
            "\n",
            "Epoch 199/200\n",
            "----------\n"
          ]
        },
        {
          "output_type": "stream",
          "name": "stderr",
          "text": [
            "391it [02:48,  2.32it/s]\n"
          ]
        },
        {
          "output_type": "stream",
          "name": "stdout",
          "text": [
            "train Loss: 0.4977 Acc: 0.8496\n",
            "valid Loss: 1.1204 Acc: 0.7050\n",
            "------------------------------\n",
            "\n",
            "Epoch 200/200\n",
            "----------\n"
          ]
        },
        {
          "output_type": "stream",
          "name": "stderr",
          "text": [
            "391it [02:49,  2.31it/s]\n"
          ]
        },
        {
          "output_type": "stream",
          "name": "stdout",
          "text": [
            "train Loss: 0.5251 Acc: 0.8418\n",
            "valid Loss: 1.1393 Acc: 0.6958\n",
            "------------------------------\n",
            "\n",
            "Best model saved.\n",
            "Training complete in 584m 12s\n",
            "Best val Acc: 0.805900\n"
          ]
        },
        {
          "output_type": "display_data",
          "data": {
            "text/plain": [
              "<IPython.core.display.HTML object>"
            ],
            "text/html": [
              "Waiting for W&B process to finish... <strong style=\"color:green\">(success).</strong>"
            ]
          },
          "metadata": {}
        },
        {
          "output_type": "display_data",
          "data": {
            "text/plain": [
              "VBox(children=(Label(value='0.535 MB of 0.535 MB uploaded (0.000 MB deduped)\\r'), FloatProgress(value=1.0, max…"
            ],
            "application/vnd.jupyter.widget-view+json": {
              "version_major": 2,
              "version_minor": 0,
              "model_id": "d46425de3c6c406db7d595c182f860c9"
            }
          },
          "metadata": {}
        },
        {
          "output_type": "display_data",
          "data": {
            "text/plain": [
              "<IPython.core.display.HTML object>"
            ],
            "text/html": [
              "<style>\n",
              "    table.wandb td:nth-child(1) { padding: 0 10px; text-align: right }\n",
              "    .wandb-row { display: flex; flex-direction: row; flex-wrap: wrap; width: 100% }\n",
              "    .wandb-col { display: flex; flex-direction: column; flex-basis: 100%; flex: 1; padding: 10px; }\n",
              "    </style>\n",
              "<div class=\"wandb-row\"><div class=\"wandb-col\"><h3>Run history:</h3><br/><table class=\"wandb\"><tr><td>Train - acc</td><td>▁▃▄▅▅▅▆▆▇▇█████▇▆▆▆▆▆▅▅▅▅▅▅▅▆▆▆▇▇██████▇</td></tr><tr><td>Train - loss</td><td>█▅▄▄▄▄▃▂▂▂▁▁▁▁▁▂▃▂▃▃▃▃▃▃▃▄▃▃▃▃▃▂▂▁▁▁▁▁▁▂</td></tr><tr><td>Valid - acc</td><td>▁▄▅▅▆▆▆▇▇▇████▇▇▇▆▆▆▅▆▅▅▆▅▆▆▆▆▇▇▇█████▇▇</td></tr><tr><td>Valid - loss</td><td>█▅▄▄▃▃▂▂▂▂▁▁▁▁▂▂▂▃▃▃▄▃▄▄▃▄▃▃▃▃▂▂▂▁▁▁▁▁▂▂</td></tr></table><br/></div><div class=\"wandb-col\"><h3>Run summary:</h3><br/><table class=\"wandb\"><tr><td>Train - acc</td><td>0.84182</td></tr><tr><td>Train - loss</td><td>0.53406</td></tr><tr><td>Valid - acc</td><td>0.6958</td></tr><tr><td>Valid - loss</td><td>1.13934</td></tr></table><br/></div></div>"
            ]
          },
          "metadata": {}
        },
        {
          "output_type": "display_data",
          "data": {
            "text/plain": [
              "<IPython.core.display.HTML object>"
            ],
            "text/html": [
              "Synced <strong style=\"color:#cdcd00\">woven-brook-127</strong>: <a href=\"https://wandb.ai/inf8225_ym_at/INF8225%20-%20Projet%20final/runs/31xzf3xt\" target=\"_blank\">https://wandb.ai/inf8225_ym_at/INF8225%20-%20Projet%20final/runs/31xzf3xt</a><br/>Synced 5 W&B file(s), 0 media file(s), 2 artifact file(s) and 1 other file(s)"
            ]
          },
          "metadata": {}
        },
        {
          "output_type": "display_data",
          "data": {
            "text/plain": [
              "<IPython.core.display.HTML object>"
            ],
            "text/html": [
              "Find logs at: <code>./wandb/run-20220427_064604-31xzf3xt/logs</code>"
            ]
          },
          "metadata": {}
        }
      ]
    },
    {
      "cell_type": "markdown",
      "source": [
        "#Manifold\n"
      ],
      "metadata": {
        "id": "7G0SRpKISqWX"
      }
    },
    {
      "cell_type": "markdown",
      "source": [
        "##Drive"
      ],
      "metadata": {
        "id": "s2BNv9xb4eFT"
      }
    },
    {
      "cell_type": "code",
      "source": [
        "drive.mount('/content/gdrive')\n",
        "'''\n",
        "Update the FILE PATH before running the code!!!!!!!!!!!!!!!!!!!!!!!!!!!\n",
        "'''\n",
        "\n",
        "PATH_data = \"/content/gdrive/MyDrive/INF8225/Projet final/Dataset//\"\n",
        "PATH_model = \"/content/gdrive/MyDrive/INF8225/Projet final/model//\"\n",
        "PATH_model_ManifoldMixUp = \"/content/gdrive/MyDrive/Projet final/Model/ManifoldMixUp//\""
      ],
      "metadata": {
        "colab": {
          "base_uri": "https://localhost:8080/"
        },
        "id": "utWCngo84eM3",
        "outputId": "02574fae-2d8a-4578-f64f-209b0d31b9e1"
      },
      "execution_count": null,
      "outputs": [
        {
          "output_type": "stream",
          "name": "stdout",
          "text": [
            "Mounted at /content/gdrive\n"
          ]
        }
      ]
    },
    {
      "cell_type": "markdown",
      "source": [
        "## Load MNIST & CIFAR-10 DATASET"
      ],
      "metadata": {
        "id": "oK1oLtondrOl"
      }
    },
    {
      "cell_type": "code",
      "execution_count": 82,
      "metadata": {
        "id": "gbOhGXJ4nveF",
        "colab": {
          "base_uri": "https://localhost:8080/"
        },
        "outputId": "48f13453-8bef-4aae-9005-7092573b666a"
      },
      "outputs": [
        {
          "output_type": "stream",
          "name": "stdout",
          "text": [
            "Files already downloaded and verified\n",
            "Files already downloaded and verified\n",
            "Files already downloaded and verified\n",
            "Files already downloaded and verified\n"
          ]
        }
      ],
      "source": [
        "# DataSet\n",
        "# mnist\n",
        "mnist_train_transform = transforms.Compose([\n",
        "               ToTensor(),\n",
        "               Normalize([0.1307],[0.3015])\n",
        "    ])\n",
        "mnist_preprocess = transforms.Compose([\n",
        "               Grayscale(num_output_channels=3),\n",
        "               ToTensor(),\n",
        "               Normalize([0.1307],[0.3015])\n",
        "])\n",
        "mnist_test_transform = mnist_preprocess\n",
        "\n",
        "mnist_trainset = datasets.MNIST(root='./data/MNIST', train=True, download=True, transform = mnist_train_transform)\n",
        "mnist_testset = datasets.MNIST(root='./data/MNIST', train=False, download=True, transform = mnist_test_transform)\n",
        "\n",
        "# # # CIFAR-10\n",
        "CIFAR10_train_transform = transforms.Compose([\n",
        "               ToTensor(),\n",
        "               Normalize([0.4914, 0.4822, 0.4465],[0.2023, 0.1994, 0.2010]),\n",
        "               transforms.RandomCrop(32, padding=4),\n",
        "               transforms.RandomHorizontalFlip()\n",
        "               \n",
        "\n",
        "              \n",
        "    ])\n",
        "CIFAR10_preprocess = transforms.Compose([\n",
        "               ToTensor(),\n",
        "               Normalize([0.4914, 0.4822, 0.4465],[0.2023, 0.1994, 0.2010]),\n",
        "               transforms.RandomCrop(32, padding=4),\n",
        "               transforms.RandomHorizontalFlip()\n",
        "])\n",
        "CIFAR10_test_transform = CIFAR10_preprocess\n",
        "\n",
        "CIFAR10_trainset = datasets.CIFAR10(root='./data/CIFAR', train=True, download=True, transform = CIFAR10_train_transform)\n",
        "CIFAR10_testset = datasets.CIFAR10(root='./data/CIFAR', train=False, download=True, transform = CIFAR10_test_transform)\n",
        "\n",
        "\n",
        "# CIFAR-100\n",
        "CIFAR100_train_transform = transforms.Compose([\n",
        "               ToTensor(),\n",
        "               Normalize([0.5017, 0.4866, 0.4409],[0.2009, 0.1984, 0.2023]),\n",
        "               transforms.RandomCrop(32, padding=4),\n",
        "               transforms.RandomHorizontalFlip()\n",
        "    ])\n",
        "CIFAR100_preprocess = transforms.Compose([\n",
        "               ToTensor(),\n",
        "               Normalize([0.5017, 0.4866, 0.4409],[0.2009, 0.1984, 0.2023]),\n",
        "               transforms.RandomCrop(32, padding=4),\n",
        "               transforms.RandomHorizontalFlip()\n",
        "])\n",
        "CIFAR100_test_transform = CIFAR10_preprocess\n",
        "CIFAR100_trainset = datasets.CIFAR100(root='./data/CIFAR', train=True, download=True, transform = CIFAR100_train_transform)\n",
        "CIFAR100_testset = datasets.CIFAR100(root='./data/CIFAR', train=False, download=True, transform = CIFAR100_test_transform)"
      ]
    },
    {
      "cell_type": "markdown",
      "source": [
        "##DataLoader"
      ],
      "metadata": {
        "id": "idjk6xNjELMH"
      }
    },
    {
      "cell_type": "code",
      "source": [
        "mnist_trainloader = DataLoader(mnist_trainset, batch_size=config['batch_size'], shuffle=True)\n",
        "mnist_testloader = DataLoader(mnist_testset, batch_size=config['batch_size'])\n",
        "CIFAR10_trainloader = DataLoader(CIFAR10_trainset, batch_size=config['batch_size'], shuffle=True)\n",
        "CIFAR10_testloader = DataLoader(CIFAR10_testset, batch_size=config['batch_size'])\n",
        "CIFAR100_trainloader = DataLoader(CIFAR100_trainset, batch_size=config['batch_size'], shuffle=True)\n",
        "CIFAR100_testloader = DataLoader(CIFAR100_testset, batch_size=config['batch_size'])"
      ],
      "metadata": {
        "id": "APYUySmvEM2p"
      },
      "execution_count": 83,
      "outputs": []
    },
    {
      "cell_type": "markdown",
      "source": [
        "## Generate Random Lambda "
      ],
      "metadata": {
        "id": "zdEMYByd8Uq6"
      }
    },
    {
      "cell_type": "code",
      "source": [
        "def mixup_data(alpha=1.0):\n",
        "    if alpha > 0.:\n",
        "        lam = np.random.beta(alpha, alpha)\n",
        "    else:\n",
        "        lam = 1.\n",
        "    return lam"
      ],
      "metadata": {
        "id": "PWJUOpBw8rMp"
      },
      "execution_count": 84,
      "outputs": []
    },
    {
      "cell_type": "markdown",
      "source": [
        "## RESNET-18 with Manifold Mixup"
      ],
      "metadata": {
        "id": "4436YG3QiHVb"
      }
    },
    {
      "cell_type": "code",
      "source": [
        "import torch\n",
        "import torch.nn as nn\n",
        "import torch.nn.functional as F\n",
        "\n",
        "\n",
        "class BasicBlock(nn.Module):\n",
        "    expansion = 1\n",
        "\n",
        "    def __init__(self, in_planes, planes, stride=1):\n",
        "        super(BasicBlock, self).__init__()\n",
        "        self.conv1 = nn.Conv2d(\n",
        "            in_planes, planes, kernel_size=3, stride=stride, padding=1, bias=False)\n",
        "        self.bn1 = nn.BatchNorm2d(planes)\n",
        "        self.conv2 = nn.Conv2d(planes, planes, kernel_size=3,\n",
        "                               stride=1, padding=1, bias=False)\n",
        "        self.bn2 = nn.BatchNorm2d(planes)\n",
        "\n",
        "        self.shortcut = nn.Sequential()\n",
        "        if stride != 1 or in_planes != self.expansion*planes:\n",
        "            self.shortcut = nn.Sequential(\n",
        "                nn.Conv2d(in_planes, self.expansion*planes,\n",
        "                          kernel_size=1, stride=stride, bias=False),\n",
        "                nn.BatchNorm2d(self.expansion*planes)\n",
        "            )\n",
        "\n",
        "    def forward(self, x):\n",
        "        out = F.relu(self.bn1(self.conv1(x)))\n",
        "        out = self.bn2(self.conv2(out))\n",
        "        out += self.shortcut(x)\n",
        "        out = F.relu(out)\n",
        "        return out\n",
        "\n",
        "\n",
        "class Bottleneck(nn.Module):\n",
        "    expansion = 4\n",
        "\n",
        "    def __init__(self, in_planes, planes, stride=1):\n",
        "        super(Bottleneck, self).__init__()\n",
        "        self.conv1 = nn.Conv2d(in_planes, planes, kernel_size=1, bias=False)\n",
        "        self.bn1 = nn.BatchNorm2d(planes)\n",
        "        self.conv2 = nn.Conv2d(planes, planes, kernel_size=3,\n",
        "                               stride=stride, padding=1, bias=False)\n",
        "        self.bn2 = nn.BatchNorm2d(planes)\n",
        "        self.conv3 = nn.Conv2d(planes, self.expansion *\n",
        "                               planes, kernel_size=1, bias=False)\n",
        "        self.bn3 = nn.BatchNorm2d(self.expansion*planes)\n",
        "\n",
        "        self.shortcut = nn.Sequential()\n",
        "        if stride != 1 or in_planes != self.expansion*planes:\n",
        "            self.shortcut = nn.Sequential(\n",
        "                nn.Conv2d(in_planes, self.expansion*planes,\n",
        "                          kernel_size=1, stride=stride, bias=False),\n",
        "                nn.BatchNorm2d(self.expansion*planes)\n",
        "            )\n",
        "\n",
        "    def forward(self, x):\n",
        "        out = F.relu(self.bn1(self.conv1(x)))\n",
        "        out = F.relu(self.bn2(self.conv2(out)))\n",
        "        out = self.bn3(self.conv3(out))\n",
        "        out += self.shortcut(x)\n",
        "        out = F.relu(out)\n",
        "        return out\n",
        "\n",
        "\n",
        "class ResNet(nn.Module):\n",
        "    def __init__(self, block, num_blocks, num_classes=10):\n",
        "        super(ResNet, self).__init__()\n",
        "        self.in_planes = 64\n",
        "\n",
        "        self.conv1 = nn.Conv2d(3, 64, kernel_size=3,\n",
        "                               stride=1, padding=1, bias=False)\n",
        "        self.bn1 = nn.BatchNorm2d(64)\n",
        "        self.layer1 = self._make_layer(block, 64, num_blocks[0], stride=1)\n",
        "        self.layer2 = self._make_layer(block, 128, num_blocks[1], stride=2)\n",
        "        self.layer3 = self._make_layer(block, 256, num_blocks[2], stride=2)\n",
        "        self.layer4 = self._make_layer(block, 512, num_blocks[3], stride=2)\n",
        "        self.num_classes = num_classes\n",
        "        self.fc = nn.Linear(512*block.expansion, self.num_classes)\n",
        "\n",
        "    def manifold_mixup(self, out, target, lam):\n",
        "        shuffled_idx = np.random.permutation(out.size(0)) \n",
        "        out = out * lam + out[shuffled_idx] * (1-lam)\n",
        "        target_shuffled = target[shuffled_idx]\n",
        "        target = target * lam + target_shuffled * (1 -lam)\n",
        "        return out, target\n",
        "\n",
        "    def to_one_hot(self, y, num_classes):\n",
        "            y_onehot = torch.cuda.FloatTensor(len(y), num_classes).zero_().scatter_(1,y.view(-1,1),1)\n",
        "            return y_onehot\n",
        "\n",
        "    def _make_layer(self, block, planes, num_blocks, stride):\n",
        "        strides = [stride] + [1]*(num_blocks-1)\n",
        "        layers = []\n",
        "        for stride in strides:\n",
        "            layers.append(block(self.in_planes, planes, stride))\n",
        "            self.in_planes = planes * block.expansion\n",
        "        return nn.Sequential(*layers)\n",
        "\n",
        "    def forward(self, x, lam = None, target = None, num_classes = None):\n",
        "\n",
        "        if num_classes == 10 : \n",
        "          mixed_layer = np.random.randint(0,3)\n",
        "        else : \n",
        "          mixed_layer = np.random.randint(0,4)\n",
        "\n",
        "        if lam is not None and target is not None:\n",
        "            target_reweighted = self.to_one_hot(target, num_classes)\n",
        "        \n",
        "        if lam is not None and mixed_layer == 0:\n",
        "          x, mixed_target = self.manifold_mixup(x, target_reweighted, lam)\n",
        "\n",
        "\n",
        "        out = F.relu(self.bn1(self.conv1(x)))\n",
        "        out = self.layer1(out)\n",
        "\n",
        "        if(lam is not None and mixed_layer == 1):\n",
        "          out, mixed_target = self.manifold_mixup(out, target_reweighted, lam)         \n",
        "\n",
        "\n",
        "        out = self.layer2(out)\n",
        "\n",
        "        if(lam is not None and mixed_layer == 2):\n",
        "          out, mixed_target = self.manifold_mixup(out, target_reweighted, lam)        \n",
        "\n",
        "        out = self.layer3(out)\n",
        "        if(lam is not None and mixed_layer == 3):\n",
        "          out, mixed_target = self.manifold_mixup(out, target_reweighted, lam)\n",
        "\n",
        "        out = self.layer4(out)\n",
        "        out = F.avg_pool2d(out, 4)\n",
        "        out = out.view(out.size(0), -1)\n",
        "        out = self.fc(out)\n",
        "        if lam is not None :\n",
        "          return out, mixed_target\n",
        "        else : \n",
        "          return out\n",
        "\n",
        "\n",
        "def ManifoldResNet18(num_classes):\n",
        "    return ResNet(BasicBlock, [2, 2, 2, 2], num_classes)"
      ],
      "metadata": {
        "id": "HoMCoaGZz104"
      },
      "execution_count": 85,
      "outputs": []
    },
    {
      "cell_type": "markdown",
      "source": [
        "## DENSENET-121 with Manifold Mixup"
      ],
      "metadata": {
        "id": "ua7r3jI7Cxxe"
      }
    },
    {
      "cell_type": "code",
      "source": [
        "import math\n",
        "\n",
        "import torch\n",
        "import torch.nn as nn\n",
        "import torch.nn.functional as F\n",
        "\n",
        "\n",
        "class Bottleneck(nn.Module):\n",
        "    def __init__(self, in_planes, growth_rate):\n",
        "        super(Bottleneck, self).__init__()\n",
        "        self.bn1 = nn.BatchNorm2d(in_planes)\n",
        "        self.conv1 = nn.Conv2d(in_planes, 4*growth_rate, kernel_size=1, bias=False)\n",
        "        self.bn2 = nn.BatchNorm2d(4*growth_rate)\n",
        "        self.conv2 = nn.Conv2d(4*growth_rate, growth_rate, kernel_size=3, padding=1, bias=False)\n",
        "\n",
        "    def forward(self, x):\n",
        "        out = self.conv1(F.relu(self.bn1(x)))\n",
        "        out = self.conv2(F.relu(self.bn2(out)))\n",
        "        out = torch.cat([out,x], 1)\n",
        "        return out\n",
        "\n",
        "\n",
        "class Transition(nn.Module):\n",
        "    def __init__(self, in_planes, out_planes):\n",
        "        super(Transition, self).__init__()\n",
        "        self.bn = nn.BatchNorm2d(in_planes)\n",
        "        self.conv = nn.Conv2d(in_planes, out_planes, kernel_size=1, bias=False)\n",
        "\n",
        "    def forward(self, x):\n",
        "        out = self.conv(F.relu(self.bn(x)))\n",
        "        out = F.avg_pool2d(out, 2)\n",
        "        return out\n",
        "\n",
        "\n",
        "class DenseNet(nn.Module):\n",
        "    def __init__(self, block, nblocks, growth_rate=12, reduction=0.5, num_classes=10):\n",
        "        super(DenseNet, self).__init__()\n",
        "        self.growth_rate = growth_rate\n",
        "\n",
        "        num_planes = 2*growth_rate\n",
        "        self.conv1 = nn.Conv2d(3, num_planes, kernel_size=3, padding=1, bias=False)\n",
        "\n",
        "        self.dense1 = self._make_dense_layers(block, num_planes, nblocks[0])\n",
        "        num_planes += nblocks[0]*growth_rate\n",
        "        out_planes = int(math.floor(num_planes*reduction))\n",
        "        self.trans1 = Transition(num_planes, out_planes)\n",
        "        num_planes = out_planes\n",
        "\n",
        "        self.dense2 = self._make_dense_layers(block, num_planes, nblocks[1])\n",
        "        num_planes += nblocks[1]*growth_rate\n",
        "        out_planes = int(math.floor(num_planes*reduction))\n",
        "        self.trans2 = Transition(num_planes, out_planes)\n",
        "        num_planes = out_planes\n",
        "\n",
        "        self.dense3 = self._make_dense_layers(block, num_planes, nblocks[2])\n",
        "        num_planes += nblocks[2]*growth_rate\n",
        "        out_planes = int(math.floor(num_planes*reduction))\n",
        "        self.trans3 = Transition(num_planes, out_planes)\n",
        "        num_planes = out_planes\n",
        "\n",
        "        self.dense4 = self._make_dense_layers(block, num_planes, nblocks[3])\n",
        "        num_planes += nblocks[3]*growth_rate\n",
        "\n",
        "        self.bn = nn.BatchNorm2d(num_planes)\n",
        "        self.linear = nn.Linear(num_planes, num_classes)\n",
        "\n",
        "    def _make_dense_layers(self, block, in_planes, nblock):\n",
        "        layers = []\n",
        "        for i in range(nblock):\n",
        "            layers.append(block(in_planes, self.growth_rate))\n",
        "            in_planes += self.growth_rate\n",
        "        return nn.Sequential(*layers)\n",
        "    \n",
        "    def manifold_mixup(self, out, target, lam):\n",
        "        shuffled_idx = np.random.permutation(out.size(0)) \n",
        "        torch.mul(out, lam)\n",
        "        out = torch.mul(out, lam) + torch.mul(out[shuffled_idx], (1-lam))\n",
        "        target_shuffled = target[shuffled_idx]\n",
        "        target = torch.mul(target, lam) + torch.mul(target_shuffled, (1 -lam))\n",
        "        return out, target\n",
        "\n",
        "    def to_one_hot(self, y, num_classes):\n",
        "        y_onehot = torch.cuda.FloatTensor(len(y), num_classes).zero_().scatter_(1,y.view(-1,1),1)\n",
        "        return y_onehot\n",
        "\n",
        "    def forward(self, x, lam = None, target = None, num_classes = None):\n",
        "        mixed_layer = np.random.randint(0,4)\n",
        "        if lam is not None and target is not None:\n",
        "            target_reweighted = self.to_one_hot(target, num_classes)\n",
        "        \n",
        "        if lam is not None and mixed_layer == 0:\n",
        "            x, target_reweighted = self.manifold_mixup(x, target_reweighted, lam)\n",
        "\n",
        "        out = self.conv1(x)\n",
        "        out = self.trans1(self.dense1(out))\n",
        "\n",
        "        if lam is not None and mixed_layer == 1:\n",
        "            out, target_reweighted = self.manifold_mixup(out, target_reweighted, lam)\n",
        "\n",
        "        out = self.trans2(self.dense2(out))\n",
        "\n",
        "        if lam is not None and mixed_layer == 2:\n",
        "            out, target_reweighted = self.manifold_mixup(out, target_reweighted, lam)\n",
        "\n",
        "        out = self.trans3(self.dense3(out))\n",
        "\n",
        "        if lam is not None and mixed_layer == 3:\n",
        "            out, target_reweighted = self.manifold_mixup(out, target_reweighted, lam)\n",
        "\n",
        "        out = self.dense4(out)\n",
        "        out = F.avg_pool2d(F.relu(self.bn(out)), 4)\n",
        "        out = out.view(out.size(0), -1)\n",
        "        out = self.linear(out)\n",
        "        if lam is not None:\n",
        "            return out, target_reweighted\n",
        "        else:\n",
        "            return out\n",
        "\n",
        "def DenseNet121(classes):\n",
        "    return DenseNet(Bottleneck, [6,12,24,16], growth_rate=32, num_classes = classes)\n",
        "\n",
        "def DenseNet169():\n",
        "    return DenseNet(Bottleneck, [6,12,32,32], growth_rate=32)\n",
        "\n",
        "def DenseNet201():\n",
        "    return DenseNet(Bottleneck, [6,12,48,32], growth_rate=32)\n",
        "\n",
        "def DenseNet161():\n",
        "    return DenseNet(Bottleneck, [6,12,36,24], growth_rate=48)\n",
        "\n",
        "def densenet_cifar(classes):\n",
        "    return DenseNet(Bottleneck, [6,12,24,16], growth_rate=12, num_classes = classes)\n",
        "\n",
        "def test():\n",
        "    net = densenet_cifar()\n",
        "    x = torch.randn(1,3,32,32)\n",
        "    y = net(x)"
      ],
      "metadata": {
        "id": "x_rxAjrPgjxw"
      },
      "execution_count": 86,
      "outputs": []
    },
    {
      "cell_type": "markdown",
      "source": [
        "##Training & Validation Method"
      ],
      "metadata": {
        "id": "kckxv6etddrb"
      }
    },
    {
      "cell_type": "code",
      "source": [
        "def train_model(model, trainloader, testloader, criterion, optimizer, scheduler, datasetname = 'CIFAR10', num_epochs=25, manifold = False, classes = 10):\n",
        "  since = time.time()\n",
        "  val_acc_history = []\n",
        "  log = True\n",
        "  savepath = PATH_model_ManifoldMixUp\n",
        "  since = time.time()\n",
        "  val_acc_history = []\n",
        "  best_model_wts = copy.deepcopy(model.state_dict())\n",
        "  best_acc = 0.0\n",
        "  earlystopping = 0.\n",
        "  loss_ema = 0.\n",
        "  device = config['device']\n",
        "  DAmethod = 'ManifoldMixUp'\n",
        "\n",
        "  for epoch in range(num_epochs):\n",
        "\n",
        "    print('Epoch {}/{}'.format(epoch+1, num_epochs))\n",
        "    print('-' * 10)\n",
        "    # Each epoch has a training and validation phase\n",
        "    for phase in ['train', 'valid']:\n",
        "      if phase == 'train':\n",
        "        model.train()  # Set model to training mode\n",
        "\n",
        "        running_loss = 0.0\n",
        "        running_corrects = 0\n",
        "\n",
        "        for inputs, labels in tqdm(trainloader): # for i, (inputs, labels) in enumerate(trainloader):\n",
        "          optimizer.zero_grad()\n",
        "          \n",
        "          lam = mixup_data(2)\n",
        "          inputs = inputs.to(device)\n",
        "          labels = labels.to(device) \n",
        "                  \n",
        "          if manifold is True : \n",
        "            outputs, mixed_labels = model(inputs, lam, labels, config['num_classes'])\n",
        "            bce_loss = torch.nn.BCELoss()\n",
        "            softmax = torch.nn.Softmax(dim=1)\n",
        "            if datasetname == \"CIFAR10\" : \n",
        "              #loss = bce_loss(softmax(outputs), mixed_labels)\n",
        "              loss = criterion(outputs, mixed_labels)\n",
        "            else : \n",
        "              loss = criterion(outputs, mixed_labels)\n",
        "\n",
        "\n",
        "          else : \n",
        "             outputs  = model(inputs)\n",
        "             loss = criterion(outputs, labels)\n",
        "\n",
        "\n",
        "          _, preds = torch.max(outputs, 1)\n",
        "          loss.backward()\n",
        "          optimizer.step()\n",
        "          train_logs = {\n",
        "                    f'Train - loss': loss.item()\n",
        "                }\n",
        "          if log == True :\n",
        "            wandb.log(train_logs)\n",
        "          running_loss += loss.item() * inputs.size(0)\n",
        "          if manifold is False :\n",
        "            running_corrects += torch.sum(preds == labels.data)\n",
        "        epoch_loss = running_loss / len(trainloader.dataset)\n",
        "        if manifold is False :\n",
        "          epoch_acc = running_corrects.double() / len(trainloader.dataset)\n",
        "          print('{} Loss: {:.4f} Acc: {:.4f}'.format(phase, epoch_loss, epoch_acc))\n",
        "          if log == True :\n",
        "            wandb.log({'Train - acc': epoch_acc})\n",
        "        else : \n",
        "          print('{} Loss: {:.4f} Acc: {}'.format(phase, epoch_loss, \"NA FOR MANIFOLD TRAINING\"))\n",
        "\n",
        "      else:\n",
        "        model.eval()   # Set model to evaluate mode\n",
        "\n",
        "        running_loss = 0.0\n",
        "        running_corrects = 0\n",
        "\n",
        "        for inputs, labels in testloader:\n",
        "          inputs = inputs.to(device)\n",
        "          labels = labels.to(device)\n",
        "          optimizer.zero_grad()\n",
        "          with torch.set_grad_enabled(False):\n",
        "            outputs = model(inputs)\n",
        "            loss = criterion(outputs, labels)\n",
        "\n",
        "            _, preds = torch.max(outputs, 1)\n",
        "            running_loss += loss.item() * inputs.size(0)\n",
        "            running_corrects += torch.sum(preds == labels.data)\n",
        "          epoch_loss = running_loss / len(testloader.dataset)\n",
        "          epoch_acc = running_corrects.double() / len(testloader.dataset)\n",
        "        \n",
        "        if log == True :\n",
        "          wandb.log({'Valid - loss': epoch_loss})\n",
        "          wandb.log({'Valid - acc': epoch_acc})\n",
        "        print('{} Loss: {:.4f} Acc: {:.4f}'.format(phase, epoch_loss, epoch_acc))\n",
        "        print('-' * 10)\n",
        "\n",
        "\n",
        "        if epoch_acc > best_acc:\n",
        "          best_acc = epoch_acc\n",
        "          best_model_wts = copy.deepcopy(model.state_dict())\n",
        "          # save_path = os.path.join(args.save, 'checkpoint.pth.tar')\n",
        "          # torch.save(checkpoint, save_path)\n",
        "          checkpoint = {\n",
        "                'epoch': epoch,\n",
        "                'trainloader': trainloader,\n",
        "                'testloader': testloader,\n",
        "                'model': model,\n",
        "                'state_dict': model.state_dict(),\n",
        "                'best_acc': best_acc,\n",
        "                'optimizer': optimizer.state_dict(),\n",
        "                'scheduler': scheduler.state_dict(),\n",
        "                }\n",
        "          earlystopping = 0\n",
        "          #checkpoint_path = savepath + '{}_{}_checkpoint.pth.tar'.format(datasetname,DAmethod)\n",
        "          print(\"Saving model...\")\n",
        "          #torch.save(checkpoint, checkpoint_path)\n",
        "        else:\n",
        "          earlystopping += 1\n",
        "\n",
        "        val_acc_history.append(epoch_acc)\n",
        "\n",
        "        scheduler.step()\n",
        "        #best_path = savepath + '{}_{}_best_model_{}.pth.tar'.format(datasetname, DAmethod, best_acc)\n",
        "       #torch.save(checkpoint, best_path)\n",
        "        #print(\"Best model saved.\")\n",
        "\n",
        "\n",
        "  time_elapsed = time.time() - since\n",
        "  print('Training complete in {:.0f}m {:.0f}s'.format(time_elapsed // 60, time_elapsed % 60))\n",
        "  print('Best val Acc: {:4f}'.format(best_acc))\n",
        "  # load best model weights\n",
        "  model.load_state_dict(best_model_wts)\n",
        "  return model, val_acc_history\n",
        "\n",
        "def set_parameter_requires_grad(model, feature_extracting):\n",
        "    if feature_extracting:\n",
        "        for param in model.parameters():\n",
        "            param.requires_grad = False\n",
        "\n",
        "def initialize_model(model_name, dataset_name, num_classes, feature_extract, use_pretrained=True):\n",
        "    # Initialize these variables which will be set in this if statement. Each of these\n",
        "    #   variables is model specific.\n",
        "    model_ft = None\n",
        "    input_size = 0\n",
        "\n",
        "    if dataset_name == \"mnist\":\n",
        "      input_size = 28\n",
        "    else:\n",
        "      input_size = 32\n",
        "\n",
        "    if model_name == \"resnet\":\n",
        "        \"\"\" \n",
        "        Resnet18\n",
        "        \"\"\"\n",
        "        model_ft = models.resnet18(pretrained=use_pretrained)\n",
        "        set_parameter_requires_grad(model_ft, feature_extract)\n",
        "        num_ftrs = model_ft.fc.in_features\n",
        "        model_ft.fc = nn.Linear(num_ftrs, num_classes)\n",
        "    elif model_name == \"densenet\":\n",
        "        \"\"\" \n",
        "        Densenet\n",
        "        \"\"\"\n",
        "        model_ft = DenseNet121(num_classes)\n",
        "        set_parameter_requires_grad(model_ft, feature_extract)\n",
        "        num_ftrs = model_ft.linear.in_features\n",
        "        model_ft.linear = nn.Linear(num_ftrs, num_classes)\n",
        "    \n",
        "    elif model_name == \"ManifoldResNet18\":\n",
        "        \"\"\" \n",
        "        Resnet18\n",
        "        \"\"\"\n",
        "        model_ft = ManifoldResNet18(num_classes)\n",
        "        set_parameter_requires_grad(model_ft, feature_extract)\n",
        "        num_ftrs = model_ft.fc.in_features\n",
        "        model_ft.fc = nn.Linear(num_ftrs, num_classes)\n",
        "    # elif model_name == \"ManifoldDenseNet\":\n",
        "    #     \"\"\" \n",
        "    #     Densenet\n",
        "    #     \"\"\"\n",
        "    #     model_ft = ManifoldDenseNet()\n",
        "    #     set_parameter_requires_grad(model_ft, feature_extract)\n",
        "    #     num_ftrs = model_ft.classifier.in_features\n",
        "    #     model_ft.classifier = nn.Linear(num_ftrs, num_classes)\n",
        "\n",
        "    return model_ft, input_size"
      ],
      "metadata": {
        "id": "k-Qd-App5tAw"
      },
      "execution_count": 93,
      "outputs": []
    },
    {
      "cell_type": "markdown",
      "source": [
        "##Params"
      ],
      "metadata": {
        "id": "RxR7pelO4qT5"
      }
    },
    {
      "cell_type": "code",
      "source": [
        "config = {\n",
        "    'model_name' : 'densenet',\n",
        "    'dataset_name' : 'CIFAR100', # mnist CIFAR10 CIFAR100\n",
        "    'batch_size' : 128,\n",
        "    'lr': 1e-1,\n",
        "    'IMAGE_SIZE' : 32, # 28 or 32\n",
        "    'epochs' : 200, #10000\n",
        "    'num_classes' : 100, # mnist: 10, cifar-10: 10, cifar-100: 100\n",
        "    'feature_extract' : False,\n",
        "    'log_every': 50,\n",
        "    'mixup_alpha' : 1,\n",
        "    'device': torch.device(\"cuda:0\" if torch.cuda.is_available() else \"cpu\"),\n",
        "    'DAmethod': 'Manifold', # Baseline MixUp ManifoldMixUp CutMix AugMix\n",
        "\n",
        "}"
      ],
      "metadata": {
        "id": "uY3uR-uH4r4j"
      },
      "execution_count": 89,
      "outputs": []
    },
    {
      "cell_type": "markdown",
      "source": [
        "##Instantiate Model"
      ],
      "metadata": {
        "id": "jCtqtaK441_L"
      }
    },
    {
      "cell_type": "code",
      "source": [
        "# Initialize the model for this run\n",
        "model_ft, input_size = initialize_model(config['model_name'], config['dataset_name'], config['num_classes'], feature_extract=False, use_pretrained=False)\n",
        "\n",
        "# Print the model we just instantiated\n",
        "summary(model_ft)"
      ],
      "metadata": {
        "id": "mhBtxHYZ42Hg",
        "colab": {
          "base_uri": "https://localhost:8080/"
        },
        "outputId": "cafae325-e7a5-447d-a3a2-cfaef2286dfd"
      },
      "execution_count": 90,
      "outputs": [
        {
          "output_type": "execute_result",
          "data": {
            "text/plain": [
              "=================================================================\n",
              "Layer (type:depth-idx)                   Param #\n",
              "=================================================================\n",
              "DenseNet                                 --\n",
              "├─Conv2d: 1-1                            1,728\n",
              "├─Sequential: 1-2                        --\n",
              "│    └─Bottleneck: 2-1                   --\n",
              "│    │    └─BatchNorm2d: 3-1             128\n",
              "│    │    └─Conv2d: 3-2                  8,192\n",
              "│    │    └─BatchNorm2d: 3-3             256\n",
              "│    │    └─Conv2d: 3-4                  36,864\n",
              "│    └─Bottleneck: 2-2                   --\n",
              "│    │    └─BatchNorm2d: 3-5             192\n",
              "│    │    └─Conv2d: 3-6                  12,288\n",
              "│    │    └─BatchNorm2d: 3-7             256\n",
              "│    │    └─Conv2d: 3-8                  36,864\n",
              "│    └─Bottleneck: 2-3                   --\n",
              "│    │    └─BatchNorm2d: 3-9             256\n",
              "│    │    └─Conv2d: 3-10                 16,384\n",
              "│    │    └─BatchNorm2d: 3-11            256\n",
              "│    │    └─Conv2d: 3-12                 36,864\n",
              "│    └─Bottleneck: 2-4                   --\n",
              "│    │    └─BatchNorm2d: 3-13            320\n",
              "│    │    └─Conv2d: 3-14                 20,480\n",
              "│    │    └─BatchNorm2d: 3-15            256\n",
              "│    │    └─Conv2d: 3-16                 36,864\n",
              "│    └─Bottleneck: 2-5                   --\n",
              "│    │    └─BatchNorm2d: 3-17            384\n",
              "│    │    └─Conv2d: 3-18                 24,576\n",
              "│    │    └─BatchNorm2d: 3-19            256\n",
              "│    │    └─Conv2d: 3-20                 36,864\n",
              "│    └─Bottleneck: 2-6                   --\n",
              "│    │    └─BatchNorm2d: 3-21            448\n",
              "│    │    └─Conv2d: 3-22                 28,672\n",
              "│    │    └─BatchNorm2d: 3-23            256\n",
              "│    │    └─Conv2d: 3-24                 36,864\n",
              "├─Transition: 1-3                        --\n",
              "│    └─BatchNorm2d: 2-7                  512\n",
              "│    └─Conv2d: 2-8                       32,768\n",
              "├─Sequential: 1-4                        --\n",
              "│    └─Bottleneck: 2-9                   --\n",
              "│    │    └─BatchNorm2d: 3-25            256\n",
              "│    │    └─Conv2d: 3-26                 16,384\n",
              "│    │    └─BatchNorm2d: 3-27            256\n",
              "│    │    └─Conv2d: 3-28                 36,864\n",
              "│    └─Bottleneck: 2-10                  --\n",
              "│    │    └─BatchNorm2d: 3-29            320\n",
              "│    │    └─Conv2d: 3-30                 20,480\n",
              "│    │    └─BatchNorm2d: 3-31            256\n",
              "│    │    └─Conv2d: 3-32                 36,864\n",
              "│    └─Bottleneck: 2-11                  --\n",
              "│    │    └─BatchNorm2d: 3-33            384\n",
              "│    │    └─Conv2d: 3-34                 24,576\n",
              "│    │    └─BatchNorm2d: 3-35            256\n",
              "│    │    └─Conv2d: 3-36                 36,864\n",
              "│    └─Bottleneck: 2-12                  --\n",
              "│    │    └─BatchNorm2d: 3-37            448\n",
              "│    │    └─Conv2d: 3-38                 28,672\n",
              "│    │    └─BatchNorm2d: 3-39            256\n",
              "│    │    └─Conv2d: 3-40                 36,864\n",
              "│    └─Bottleneck: 2-13                  --\n",
              "│    │    └─BatchNorm2d: 3-41            512\n",
              "│    │    └─Conv2d: 3-42                 32,768\n",
              "│    │    └─BatchNorm2d: 3-43            256\n",
              "│    │    └─Conv2d: 3-44                 36,864\n",
              "│    └─Bottleneck: 2-14                  --\n",
              "│    │    └─BatchNorm2d: 3-45            576\n",
              "│    │    └─Conv2d: 3-46                 36,864\n",
              "│    │    └─BatchNorm2d: 3-47            256\n",
              "│    │    └─Conv2d: 3-48                 36,864\n",
              "│    └─Bottleneck: 2-15                  --\n",
              "│    │    └─BatchNorm2d: 3-49            640\n",
              "│    │    └─Conv2d: 3-50                 40,960\n",
              "│    │    └─BatchNorm2d: 3-51            256\n",
              "│    │    └─Conv2d: 3-52                 36,864\n",
              "│    └─Bottleneck: 2-16                  --\n",
              "│    │    └─BatchNorm2d: 3-53            704\n",
              "│    │    └─Conv2d: 3-54                 45,056\n",
              "│    │    └─BatchNorm2d: 3-55            256\n",
              "│    │    └─Conv2d: 3-56                 36,864\n",
              "│    └─Bottleneck: 2-17                  --\n",
              "│    │    └─BatchNorm2d: 3-57            768\n",
              "│    │    └─Conv2d: 3-58                 49,152\n",
              "│    │    └─BatchNorm2d: 3-59            256\n",
              "│    │    └─Conv2d: 3-60                 36,864\n",
              "│    └─Bottleneck: 2-18                  --\n",
              "│    │    └─BatchNorm2d: 3-61            832\n",
              "│    │    └─Conv2d: 3-62                 53,248\n",
              "│    │    └─BatchNorm2d: 3-63            256\n",
              "│    │    └─Conv2d: 3-64                 36,864\n",
              "│    └─Bottleneck: 2-19                  --\n",
              "│    │    └─BatchNorm2d: 3-65            896\n",
              "│    │    └─Conv2d: 3-66                 57,344\n",
              "│    │    └─BatchNorm2d: 3-67            256\n",
              "│    │    └─Conv2d: 3-68                 36,864\n",
              "│    └─Bottleneck: 2-20                  --\n",
              "│    │    └─BatchNorm2d: 3-69            960\n",
              "│    │    └─Conv2d: 3-70                 61,440\n",
              "│    │    └─BatchNorm2d: 3-71            256\n",
              "│    │    └─Conv2d: 3-72                 36,864\n",
              "├─Transition: 1-5                        --\n",
              "│    └─BatchNorm2d: 2-21                 1,024\n",
              "│    └─Conv2d: 2-22                      131,072\n",
              "├─Sequential: 1-6                        --\n",
              "│    └─Bottleneck: 2-23                  --\n",
              "│    │    └─BatchNorm2d: 3-73            512\n",
              "│    │    └─Conv2d: 3-74                 32,768\n",
              "│    │    └─BatchNorm2d: 3-75            256\n",
              "│    │    └─Conv2d: 3-76                 36,864\n",
              "│    └─Bottleneck: 2-24                  --\n",
              "│    │    └─BatchNorm2d: 3-77            576\n",
              "│    │    └─Conv2d: 3-78                 36,864\n",
              "│    │    └─BatchNorm2d: 3-79            256\n",
              "│    │    └─Conv2d: 3-80                 36,864\n",
              "│    └─Bottleneck: 2-25                  --\n",
              "│    │    └─BatchNorm2d: 3-81            640\n",
              "│    │    └─Conv2d: 3-82                 40,960\n",
              "│    │    └─BatchNorm2d: 3-83            256\n",
              "│    │    └─Conv2d: 3-84                 36,864\n",
              "│    └─Bottleneck: 2-26                  --\n",
              "│    │    └─BatchNorm2d: 3-85            704\n",
              "│    │    └─Conv2d: 3-86                 45,056\n",
              "│    │    └─BatchNorm2d: 3-87            256\n",
              "│    │    └─Conv2d: 3-88                 36,864\n",
              "│    └─Bottleneck: 2-27                  --\n",
              "│    │    └─BatchNorm2d: 3-89            768\n",
              "│    │    └─Conv2d: 3-90                 49,152\n",
              "│    │    └─BatchNorm2d: 3-91            256\n",
              "│    │    └─Conv2d: 3-92                 36,864\n",
              "│    └─Bottleneck: 2-28                  --\n",
              "│    │    └─BatchNorm2d: 3-93            832\n",
              "│    │    └─Conv2d: 3-94                 53,248\n",
              "│    │    └─BatchNorm2d: 3-95            256\n",
              "│    │    └─Conv2d: 3-96                 36,864\n",
              "│    └─Bottleneck: 2-29                  --\n",
              "│    │    └─BatchNorm2d: 3-97            896\n",
              "│    │    └─Conv2d: 3-98                 57,344\n",
              "│    │    └─BatchNorm2d: 3-99            256\n",
              "│    │    └─Conv2d: 3-100                36,864\n",
              "│    └─Bottleneck: 2-30                  --\n",
              "│    │    └─BatchNorm2d: 3-101           960\n",
              "│    │    └─Conv2d: 3-102                61,440\n",
              "│    │    └─BatchNorm2d: 3-103           256\n",
              "│    │    └─Conv2d: 3-104                36,864\n",
              "│    └─Bottleneck: 2-31                  --\n",
              "│    │    └─BatchNorm2d: 3-105           1,024\n",
              "│    │    └─Conv2d: 3-106                65,536\n",
              "│    │    └─BatchNorm2d: 3-107           256\n",
              "│    │    └─Conv2d: 3-108                36,864\n",
              "│    └─Bottleneck: 2-32                  --\n",
              "│    │    └─BatchNorm2d: 3-109           1,088\n",
              "│    │    └─Conv2d: 3-110                69,632\n",
              "│    │    └─BatchNorm2d: 3-111           256\n",
              "│    │    └─Conv2d: 3-112                36,864\n",
              "│    └─Bottleneck: 2-33                  --\n",
              "│    │    └─BatchNorm2d: 3-113           1,152\n",
              "│    │    └─Conv2d: 3-114                73,728\n",
              "│    │    └─BatchNorm2d: 3-115           256\n",
              "│    │    └─Conv2d: 3-116                36,864\n",
              "│    └─Bottleneck: 2-34                  --\n",
              "│    │    └─BatchNorm2d: 3-117           1,216\n",
              "│    │    └─Conv2d: 3-118                77,824\n",
              "│    │    └─BatchNorm2d: 3-119           256\n",
              "│    │    └─Conv2d: 3-120                36,864\n",
              "│    └─Bottleneck: 2-35                  --\n",
              "│    │    └─BatchNorm2d: 3-121           1,280\n",
              "│    │    └─Conv2d: 3-122                81,920\n",
              "│    │    └─BatchNorm2d: 3-123           256\n",
              "│    │    └─Conv2d: 3-124                36,864\n",
              "│    └─Bottleneck: 2-36                  --\n",
              "│    │    └─BatchNorm2d: 3-125           1,344\n",
              "│    │    └─Conv2d: 3-126                86,016\n",
              "│    │    └─BatchNorm2d: 3-127           256\n",
              "│    │    └─Conv2d: 3-128                36,864\n",
              "│    └─Bottleneck: 2-37                  --\n",
              "│    │    └─BatchNorm2d: 3-129           1,408\n",
              "│    │    └─Conv2d: 3-130                90,112\n",
              "│    │    └─BatchNorm2d: 3-131           256\n",
              "│    │    └─Conv2d: 3-132                36,864\n",
              "│    └─Bottleneck: 2-38                  --\n",
              "│    │    └─BatchNorm2d: 3-133           1,472\n",
              "│    │    └─Conv2d: 3-134                94,208\n",
              "│    │    └─BatchNorm2d: 3-135           256\n",
              "│    │    └─Conv2d: 3-136                36,864\n",
              "│    └─Bottleneck: 2-39                  --\n",
              "│    │    └─BatchNorm2d: 3-137           1,536\n",
              "│    │    └─Conv2d: 3-138                98,304\n",
              "│    │    └─BatchNorm2d: 3-139           256\n",
              "│    │    └─Conv2d: 3-140                36,864\n",
              "│    └─Bottleneck: 2-40                  --\n",
              "│    │    └─BatchNorm2d: 3-141           1,600\n",
              "│    │    └─Conv2d: 3-142                102,400\n",
              "│    │    └─BatchNorm2d: 3-143           256\n",
              "│    │    └─Conv2d: 3-144                36,864\n",
              "│    └─Bottleneck: 2-41                  --\n",
              "│    │    └─BatchNorm2d: 3-145           1,664\n",
              "│    │    └─Conv2d: 3-146                106,496\n",
              "│    │    └─BatchNorm2d: 3-147           256\n",
              "│    │    └─Conv2d: 3-148                36,864\n",
              "│    └─Bottleneck: 2-42                  --\n",
              "│    │    └─BatchNorm2d: 3-149           1,728\n",
              "│    │    └─Conv2d: 3-150                110,592\n",
              "│    │    └─BatchNorm2d: 3-151           256\n",
              "│    │    └─Conv2d: 3-152                36,864\n",
              "│    └─Bottleneck: 2-43                  --\n",
              "│    │    └─BatchNorm2d: 3-153           1,792\n",
              "│    │    └─Conv2d: 3-154                114,688\n",
              "│    │    └─BatchNorm2d: 3-155           256\n",
              "│    │    └─Conv2d: 3-156                36,864\n",
              "│    └─Bottleneck: 2-44                  --\n",
              "│    │    └─BatchNorm2d: 3-157           1,856\n",
              "│    │    └─Conv2d: 3-158                118,784\n",
              "│    │    └─BatchNorm2d: 3-159           256\n",
              "│    │    └─Conv2d: 3-160                36,864\n",
              "│    └─Bottleneck: 2-45                  --\n",
              "│    │    └─BatchNorm2d: 3-161           1,920\n",
              "│    │    └─Conv2d: 3-162                122,880\n",
              "│    │    └─BatchNorm2d: 3-163           256\n",
              "│    │    └─Conv2d: 3-164                36,864\n",
              "│    └─Bottleneck: 2-46                  --\n",
              "│    │    └─BatchNorm2d: 3-165           1,984\n",
              "│    │    └─Conv2d: 3-166                126,976\n",
              "│    │    └─BatchNorm2d: 3-167           256\n",
              "│    │    └─Conv2d: 3-168                36,864\n",
              "├─Transition: 1-7                        --\n",
              "│    └─BatchNorm2d: 2-47                 2,048\n",
              "│    └─Conv2d: 2-48                      524,288\n",
              "├─Sequential: 1-8                        --\n",
              "│    └─Bottleneck: 2-49                  --\n",
              "│    │    └─BatchNorm2d: 3-169           1,024\n",
              "│    │    └─Conv2d: 3-170                65,536\n",
              "│    │    └─BatchNorm2d: 3-171           256\n",
              "│    │    └─Conv2d: 3-172                36,864\n",
              "│    └─Bottleneck: 2-50                  --\n",
              "│    │    └─BatchNorm2d: 3-173           1,088\n",
              "│    │    └─Conv2d: 3-174                69,632\n",
              "│    │    └─BatchNorm2d: 3-175           256\n",
              "│    │    └─Conv2d: 3-176                36,864\n",
              "│    └─Bottleneck: 2-51                  --\n",
              "│    │    └─BatchNorm2d: 3-177           1,152\n",
              "│    │    └─Conv2d: 3-178                73,728\n",
              "│    │    └─BatchNorm2d: 3-179           256\n",
              "│    │    └─Conv2d: 3-180                36,864\n",
              "│    └─Bottleneck: 2-52                  --\n",
              "│    │    └─BatchNorm2d: 3-181           1,216\n",
              "│    │    └─Conv2d: 3-182                77,824\n",
              "│    │    └─BatchNorm2d: 3-183           256\n",
              "│    │    └─Conv2d: 3-184                36,864\n",
              "│    └─Bottleneck: 2-53                  --\n",
              "│    │    └─BatchNorm2d: 3-185           1,280\n",
              "│    │    └─Conv2d: 3-186                81,920\n",
              "│    │    └─BatchNorm2d: 3-187           256\n",
              "│    │    └─Conv2d: 3-188                36,864\n",
              "│    └─Bottleneck: 2-54                  --\n",
              "│    │    └─BatchNorm2d: 3-189           1,344\n",
              "│    │    └─Conv2d: 3-190                86,016\n",
              "│    │    └─BatchNorm2d: 3-191           256\n",
              "│    │    └─Conv2d: 3-192                36,864\n",
              "│    └─Bottleneck: 2-55                  --\n",
              "│    │    └─BatchNorm2d: 3-193           1,408\n",
              "│    │    └─Conv2d: 3-194                90,112\n",
              "│    │    └─BatchNorm2d: 3-195           256\n",
              "│    │    └─Conv2d: 3-196                36,864\n",
              "│    └─Bottleneck: 2-56                  --\n",
              "│    │    └─BatchNorm2d: 3-197           1,472\n",
              "│    │    └─Conv2d: 3-198                94,208\n",
              "│    │    └─BatchNorm2d: 3-199           256\n",
              "│    │    └─Conv2d: 3-200                36,864\n",
              "│    └─Bottleneck: 2-57                  --\n",
              "│    │    └─BatchNorm2d: 3-201           1,536\n",
              "│    │    └─Conv2d: 3-202                98,304\n",
              "│    │    └─BatchNorm2d: 3-203           256\n",
              "│    │    └─Conv2d: 3-204                36,864\n",
              "│    └─Bottleneck: 2-58                  --\n",
              "│    │    └─BatchNorm2d: 3-205           1,600\n",
              "│    │    └─Conv2d: 3-206                102,400\n",
              "│    │    └─BatchNorm2d: 3-207           256\n",
              "│    │    └─Conv2d: 3-208                36,864\n",
              "│    └─Bottleneck: 2-59                  --\n",
              "│    │    └─BatchNorm2d: 3-209           1,664\n",
              "│    │    └─Conv2d: 3-210                106,496\n",
              "│    │    └─BatchNorm2d: 3-211           256\n",
              "│    │    └─Conv2d: 3-212                36,864\n",
              "│    └─Bottleneck: 2-60                  --\n",
              "│    │    └─BatchNorm2d: 3-213           1,728\n",
              "│    │    └─Conv2d: 3-214                110,592\n",
              "│    │    └─BatchNorm2d: 3-215           256\n",
              "│    │    └─Conv2d: 3-216                36,864\n",
              "│    └─Bottleneck: 2-61                  --\n",
              "│    │    └─BatchNorm2d: 3-217           1,792\n",
              "│    │    └─Conv2d: 3-218                114,688\n",
              "│    │    └─BatchNorm2d: 3-219           256\n",
              "│    │    └─Conv2d: 3-220                36,864\n",
              "│    └─Bottleneck: 2-62                  --\n",
              "│    │    └─BatchNorm2d: 3-221           1,856\n",
              "│    │    └─Conv2d: 3-222                118,784\n",
              "│    │    └─BatchNorm2d: 3-223           256\n",
              "│    │    └─Conv2d: 3-224                36,864\n",
              "│    └─Bottleneck: 2-63                  --\n",
              "│    │    └─BatchNorm2d: 3-225           1,920\n",
              "│    │    └─Conv2d: 3-226                122,880\n",
              "│    │    └─BatchNorm2d: 3-227           256\n",
              "│    │    └─Conv2d: 3-228                36,864\n",
              "│    └─Bottleneck: 2-64                  --\n",
              "│    │    └─BatchNorm2d: 3-229           1,984\n",
              "│    │    └─Conv2d: 3-230                126,976\n",
              "│    │    └─BatchNorm2d: 3-231           256\n",
              "│    │    └─Conv2d: 3-232                36,864\n",
              "├─BatchNorm2d: 1-9                       2,048\n",
              "├─Linear: 1-10                           102,500\n",
              "=================================================================\n",
              "Total params: 7,048,548\n",
              "Trainable params: 7,048,548\n",
              "Non-trainable params: 0\n",
              "================================================================="
            ]
          },
          "metadata": {},
          "execution_count": 90
        }
      ]
    },
    {
      "cell_type": "markdown",
      "source": [
        "##RUN"
      ],
      "metadata": {
        "id": "ZsVHJQhk41SO"
      }
    },
    {
      "cell_type": "code",
      "source": [
        "# Observe that all parameters are being optimized\n",
        "optimizer_ft = optim.SGD(model_ft.parameters(), lr=config['lr'], momentum=0.9, weight_decay = 0.0005, nesterov = True)\n",
        "scheduler_ft = CosineAnnealingLR(optimizer_ft, T_max = 60, eta_min = 1e-6 )\n",
        "\n",
        "# Setup the loss fxn\n",
        "criterion = nn.CrossEntropyLoss()\n",
        "\n",
        "# Train and evaluate\n",
        "model_ft = model_ft.to(device)\n",
        "# !wandb online  # online / offline to activate or deactivate WandB logging\n",
        "\n",
        "with wandb.init(\n",
        "        config=config,\n",
        "        project='INF8225 - Projet final',  # Title of your project\n",
        "        entity = 'inf8225_ym_at', \n",
        "        group= 'DenseNet_cifar100_Manifold',  # In what group of runs do you want this run to be in?\n",
        "        save_code=True,\n",
        "    ):\n",
        "\n",
        "  model_ft, hist = train_model(model_ft, CIFAR100_trainloader, CIFAR100_testloader, criterion, optimizer_ft, scheduler_ft, datasetname=config['dataset_name'], num_epochs=config['epochs'], manifold = True, classes = config['num_classes'])\n",
        "  "
      ],
      "metadata": {
        "id": "NTFeeYyT5O7X"
      },
      "execution_count": null,
      "outputs": []
    }
  ]
}